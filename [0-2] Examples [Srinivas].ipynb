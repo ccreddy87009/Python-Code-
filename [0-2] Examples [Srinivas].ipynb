{
 "cells": [
  {
   "cell_type": "markdown",
   "metadata": {},
   "source": [
    "# [Q] I want to find the area of the circle?"
   ]
  },
  {
   "cell_type": "code",
   "execution_count": 1,
   "metadata": {},
   "outputs": [],
   "source": [
    "# Step-1: input('enter radius:')\n",
    "# Step-2: float(input('enter radius:'))\n",
    "# Step-3: radius=float(input('enter radius:'))   # 10 - 10.0\n",
    "            # LHS = RHS\n",
    "# Step-4: 3.14*radius*radius\n",
    "# Step-5: area=3.14*radius*radius                # 3.13*10.0*10.0\n",
    "# Step-6: print('Area of the circle is', area)   # 314.0"
   ]
  },
  {
   "cell_type": "markdown",
   "metadata": {},
   "source": [
    "# [Q] Calculate \"perimeter\" of the circle?"
   ]
  },
  {
   "cell_type": "code",
   "execution_count": 2,
   "metadata": {},
   "outputs": [
    {
     "ename": "NameError",
     "evalue": "name 'radius' is not defined",
     "output_type": "error",
     "traceback": [
      "\u001b[1;31m---------------------------------------------------------------------------\u001b[0m",
      "\u001b[1;31mNameError\u001b[0m                                 Traceback (most recent call last)",
      "Cell \u001b[1;32mIn[2], line 2\u001b[0m\n\u001b[0;32m      1\u001b[0m pie\u001b[38;5;241m=\u001b[39m\u001b[38;5;241m3.14\u001b[39m\n\u001b[1;32m----> 2\u001b[0m perimeter \u001b[38;5;241m=\u001b[39m \u001b[38;5;241m2\u001b[39m\u001b[38;5;241m*\u001b[39mpie\u001b[38;5;241m*\u001b[39m\u001b[43mradius\u001b[49m\n\u001b[0;32m      3\u001b[0m \u001b[38;5;28mprint\u001b[39m(\u001b[38;5;124m'\u001b[39m\u001b[38;5;124mperimter of the circle is\u001b[39m\u001b[38;5;124m'\u001b[39m, permiter)\n",
      "\u001b[1;31mNameError\u001b[0m: name 'radius' is not defined"
     ]
    }
   ],
   "source": [
    "pie=3.14\n",
    "perimeter = 2*pie*radius\n",
    "print('perimter of the circle is', permiter)"
   ]
  },
  {
   "cell_type": "markdown",
   "metadata": {},
   "source": [
    "- pie=3.14\n",
    "- perimeter = 2*pie*radius\n",
    "- print('perimter of the circle is', permiter)"
   ]
  },
  {
   "cell_type": "markdown",
   "metadata": {},
   "source": [
    "# [Q] Find a number whether it is postive (or) negative?"
   ]
  },
  {
   "cell_type": "code",
   "execution_count": 3,
   "metadata": {},
   "outputs": [
    {
     "name": "stdout",
     "output_type": "stream",
     "text": [
      "negative\n",
      "end of the else\n"
     ]
    }
   ],
   "source": [
    "# input('Enter a number:')\n",
    "# int(input('Enter a number:'))\n",
    "num = int(input('Enter a number:'))\n",
    "if num>0:\n",
    "    print('positive')\n",
    "    print('end of the if')\n",
    "else:\n",
    "    print('negative')\n",
    "    print('end of the else')"
   ]
  },
  {
   "cell_type": "markdown",
   "metadata": {},
   "source": [
    "# [Q] Find a number whether it is even (or) odd?"
   ]
  },
  {
   "cell_type": "code",
   "execution_count": 5,
   "metadata": {},
   "outputs": [
    {
     "name": "stdout",
     "output_type": "stream",
     "text": [
      "Even\n",
      "program is continuing\n",
      "End of the program\n"
     ]
    }
   ],
   "source": [
    "num=int(input('enter a number:'))\n",
    "# num%2=0\n",
    "if num%2==0:\n",
    "    print('Even')\n",
    "else:\n",
    "    print('odd')\n",
    "\n",
    "print('program is continuing')\n",
    "print('End of the program')"
   ]
  },
  {
   "cell_type": "markdown",
   "metadata": {},
   "source": [
    "#### you canot keep \"print\" statement in between \"if\" & \"else\""
   ]
  },
  {
   "cell_type": "code",
   "execution_count": 6,
   "metadata": {},
   "outputs": [
    {
     "ename": "SyntaxError",
     "evalue": "expected 'else' after 'if' expression (2585095135.py, line 6)",
     "output_type": "error",
     "traceback": [
      "\u001b[1;36m  Cell \u001b[1;32mIn[6], line 6\u001b[1;36m\u001b[0m\n\u001b[1;33m    print('in the middle of 'if' and else')\u001b[0m\n\u001b[1;37m          ^\u001b[0m\n\u001b[1;31mSyntaxError\u001b[0m\u001b[1;31m:\u001b[0m expected 'else' after 'if' expression\n"
     ]
    }
   ],
   "source": [
    "num=int(input('enter a number:'))\n",
    "# num%2=0\n",
    "if num%2==0:\n",
    "    print('Even')\n",
    "\n",
    "print('in the middle of 'if' and else')\n",
    "\n",
    "else:\n",
    "    print('odd')\n",
    "\n",
    "print('program is continuing')\n",
    "print('End of the program')"
   ]
  },
  {
   "cell_type": "markdown",
   "metadata": {},
   "source": [
    "# [Q] I want to check small number in given 2 numbers?\n",
    "### 1-condition"
   ]
  },
  {
   "cell_type": "code",
   "execution_count": 7,
   "metadata": {},
   "outputs": [
    {
     "name": "stdout",
     "output_type": "stream",
     "text": [
      "small number is: 10\n"
     ]
    }
   ],
   "source": [
    "n1=int(input('enter a number:'))\n",
    "n2=int(input('enter a number:'))\n",
    "\n",
    "if n1<n2:\n",
    "    print('small number is:', n1)\n",
    "else:\n",
    "    print('small number is:', n2)"
   ]
  },
  {
   "cell_type": "markdown",
   "metadata": {},
   "source": [
    "## [or]"
   ]
  },
  {
   "cell_type": "code",
   "execution_count": 8,
   "metadata": {},
   "outputs": [
    {
     "name": "stdout",
     "output_type": "stream",
     "text": [
      "small number is: 10\n"
     ]
    }
   ],
   "source": [
    "n1=int(input('enter a number:'))\n",
    "n2=int(input('enter a number:'))\n",
    "\n",
    "if n1>n2:\n",
    "    print('small number is:', n2)\n",
    "else:\n",
    "    print('small number is:', n1)"
   ]
  },
  {
   "cell_type": "markdown",
   "metadata": {},
   "source": [
    "# [Q] I want to check whether given number is positive even (or) not?\n",
    "### 2 conditions"
   ]
  },
  {
   "cell_type": "code",
   "execution_count": 9,
   "metadata": {},
   "outputs": [
    {
     "name": "stdout",
     "output_type": "stream",
     "text": [
      "positive even\n"
     ]
    }
   ],
   "source": [
    "num=int(input('Enter a number:'))\n",
    "\n",
    "if num>0 and num%2==0:\n",
    "    print('positive even')\n",
    "else:\n",
    "    print('negative/odd/zero')"
   ]
  },
  {
   "cell_type": "markdown",
   "metadata": {},
   "source": [
    "# [Q] I want to print a message like \"chiru\" if the given number is divisible by 2 and can be divisible by 3 or 7 otherwise it has to print \"pawan kalyan\"?\n",
    "### 3 conditions"
   ]
  },
  {
   "cell_type": "code",
   "execution_count": 11,
   "metadata": {},
   "outputs": [
    {
     "name": "stdout",
     "output_type": "stream",
     "text": [
      "Pawan kalyan\n"
     ]
    }
   ],
   "source": [
    "num=int(input('Enter a number:'))\n",
    "\n",
    "if num%2==0 and (num%3==0 or num%7==0):\n",
    "    print('chiru')\n",
    "else:\n",
    "    print('Pawan kalyan')"
   ]
  },
  {
   "cell_type": "markdown",
   "metadata": {},
   "source": [
    "# [Q] If i want to print biggest among 3 numbers?"
   ]
  },
  {
   "cell_type": "code",
   "execution_count": 16,
   "metadata": {},
   "outputs": [
    {
     "name": "stdout",
     "output_type": "stream",
     "text": [
      "n3 is biggest number\n"
     ]
    }
   ],
   "source": [
    "n1=10\n",
    "n2=12\n",
    "n3=14\n",
    "if n1>=n2 and n1>=n3:\n",
    "    print('n1 is biggest number')\n",
    "elif n2>=n1 and n2>=n3:\n",
    "    print('n2 is biggest number')\n",
    "else:\n",
    "    print('n3 is biggest number')\n"
   ]
  },
  {
   "cell_type": "markdown",
   "metadata": {},
   "source": [
    "# Membership operator\n",
    "# [Q] To find whether a person is passed (or) failed in a exam?"
   ]
  },
  {
   "cell_type": "code",
   "execution_count": 17,
   "metadata": {},
   "outputs": [
    {
     "name": "stdout",
     "output_type": "stream",
     "text": [
      "u r super man\n",
      "u r passed\n"
     ]
    }
   ],
   "source": [
    "passed=['a1', 'b1', 'c3', 'd4']\n",
    "hall_tkt=input('enter ur halticket number:') # no need convert in to integer because 'passed' is in 'string' format only\n",
    "\n",
    "if hall_tkt in passed:\n",
    "    print('u r super man')\n",
    "    print('u r passed')\n",
    "else:\n",
    "    print('u r great person')\n",
    "    print('u r failed')"
   ]
  },
  {
   "cell_type": "markdown",
   "metadata": {},
   "source": [
    "# while\n",
    "# [Q] To find the devisers of the given number?\n",
    "# Ex: 6"
   ]
  },
  {
   "cell_type": "code",
   "execution_count": 1,
   "metadata": {},
   "outputs": [
    {
     "name": "stdout",
     "output_type": "stream",
     "text": [
      "1\n",
      "2\n",
      "4\n"
     ]
    }
   ],
   "source": [
    "# 1 2 3 4 5 6\n",
    "num=int(input('Enter a number:'))\n",
    "d=1\n",
    "while d<=num:\n",
    "    if num%d==0:\n",
    "        print(d)\n",
    "    d=d+1"
   ]
  },
  {
   "cell_type": "markdown",
   "metadata": {},
   "source": [
    "# [Q] To check whether a given number is a prime number? \n",
    "# Tell me the count"
   ]
  },
  {
   "cell_type": "code",
   "execution_count": 2,
   "metadata": {},
   "outputs": [
    {
     "name": "stdout",
     "output_type": "stream",
     "text": [
      "prime\n"
     ]
    }
   ],
   "source": [
    "num=int(input('Enter a number:'))\n",
    "d=1\n",
    "cnt=0\n",
    "while d<=num:\n",
    "    if num%d==0:\n",
    "        cnt=cnt+1\n",
    "    d=d+1\n",
    "\n",
    "if cnt==2:\n",
    "    print('prime')\n",
    "else:\n",
    "    print('not a prime')"
   ]
  },
  {
   "cell_type": "markdown",
   "metadata": {},
   "source": [
    "## [or]"
   ]
  },
  {
   "cell_type": "code",
   "execution_count": 6,
   "metadata": {},
   "outputs": [
    {
     "name": "stdout",
     "output_type": "stream",
     "text": [
      "not a prime\n"
     ]
    }
   ],
   "source": [
    "num=int(input('Enter a number:'))\n",
    "if num%2==0:\n",
    "    print('not a prime')\n",
    "else:\n",
    "    d=1\n",
    "    cnt=0\n",
    "    while d<=num:\n",
    "        if num%d==0:\n",
    "            cnt=cnt+1\n",
    "        d=d+1\n",
    "\n",
    "    if cnt==2:\n",
    "        print('prime')\n",
    "    else:\n",
    "        print('not a prime')"
   ]
  },
  {
   "cell_type": "code",
   "execution_count": null,
   "metadata": {},
   "outputs": [],
   "source": []
  }
 ],
 "metadata": {
  "kernelspec": {
   "display_name": "Python 3",
   "language": "python",
   "name": "python3"
  },
  "language_info": {
   "codemirror_mode": {
    "name": "ipython",
    "version": 3
   },
   "file_extension": ".py",
   "mimetype": "text/x-python",
   "name": "python",
   "nbconvert_exporter": "python",
   "pygments_lexer": "ipython3",
   "version": "3.10.5"
  }
 },
 "nbformat": 4,
 "nbformat_minor": 2
}
