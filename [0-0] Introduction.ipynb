{
 "cells": [
  {
   "cell_type": "markdown",
   "metadata": {},
   "source": [
    "# [Q] What is Python?\n",
    "1.\tPython is the \n",
    "    - [A] general-purpose, \n",
    "    - [B] high level,\n",
    "    - [C] interpreted, \n",
    "    - [D] dynamically typed, \n",
    "    - [E] programming language, \n",
    "        - which is used to impliment any kind of program\n",
    "\n",
    "    - [A] general-purpose:\n",
    "        - Python is used to impliment any kind of program\n",
    "            - Ex: Datascience, ML, DL, AI\n",
    "        - Python will support 3 types of paradigm to write a program\n",
    "            - [i] Python scripting\n",
    "            - [ii] Procedure Oriented Programming [POP]\n",
    "            - [iii] Object Oriented Programming [OOP]\n",
    "\n",
    "    - [B] High level:\n",
    "        - After C-langauge all other langauges are \"high level langauges\" only\n",
    "        - Which is \"human readable langauge\" is called \"high level\".\n",
    "\n",
    "    - [C] Interpreted based program:\n",
    "        - Text file woun't understand by our computer\n",
    "        - Machine (or) Computer will known only \"0\" & \"1\"\n",
    "        - Python will take care about \"conversion of langauge\" in to machine understandable langauge.\n",
    "        - Conversion will done in 2 types\n",
    "            - [i] Compailer based\n",
    "                - Ex: C, C++, Java\n",
    "                - Entire program will convert one time in to machine understandable langauge in one shot and then starts executing line by line.\n",
    "            - [ii] Interpreted based\n",
    "                - Line by line converts in to the machine understandable langauge and executes.\n",
    "                - Precessor is the important part in the computer\n",
    "                - we executed everthing will be done by processor i,e program will be executed by processor\n",
    "                - Processor understandss only '0' & '1'\n",
    "                - Steps:\n",
    "                    - [1] First entire program will under gone \"Fist compailation\" check\n",
    "                        - This will done only to check the syntax and the process is called \"Pre-compailation\"\n",
    "                    - [2] 2nd this code changed from compilation to \"Intermediate byte code\". This is called \"Python vertual Machine (PVM)\" or \"Interpretor\n",
    "                        - Interpretor will take byte code line by line and converted in to '0' & '1'\n",
    "                            - Ex:101001001\n",
    "                    - [3] After completion of conversion in to 01010111 then these statement will be executed by \"Processor\"\n",
    "                    - [4] Processor will give final \"o/p\" (or) Executes it.\n",
    "    - [D] Dynamically type:\n",
    "        - Python will decided the type of the variable based on the value only.\n",
    "        - The type of the variable will be decided during run time\n",
    "\n",
    "2.\tIt is used for: \n",
    "    - Web development (server-side), \n",
    "    - Software development, \n",
    "    - Mathematics, \n",
    "    - Data science, \n",
    "    - System scripting etc..\n",
    "3.\tIt's design philosophy is to enhance code-readability with the use of indentation\n",
    "4.\tIt is dynamically typed & auto garbage-collected language\n",
    "5.\tIt works on diferent operating system\n",
    "6.\tIt runs on an interpreter system, which means each line of code can be executed as soon as its written, i.e. supports quick prototyping\n",
    "7.\tIt is a multi-paradigm programming language, which means python supports Object Oriented Programming, Procedural Programming and Structured Programming\n"
   ]
  },
  {
   "cell_type": "markdown",
   "metadata": {},
   "source": [
    "# Program requires below rules:\n",
    "1. Code readability\n",
    "    - It should be understandable to everyone.\n",
    "        - Ex: \n",
    "            - English_marks=10\n",
    "            - Maths_marks=20\n",
    "            - Total_marks=English_marks+Maths_marks\n",
    "            - print(total_marks)\n",
    "        - Ans: 30\n",
    "2. Add Comments (#)\n",
    "3. Your program should be dynamic \n",
    "    - Your prrogram should not have \"static values\"\n",
    "    - (Ex: input())\n",
    "4. Data types\n",
    "    - We should have clear idea on what type of data is processing.\n"
   ]
  },
  {
   "cell_type": "markdown",
   "metadata": {},
   "source": [
    "# 5 important rules in writing the Programming?\n",
    "1. Ur program should not contains any un-necessary checks in it.\n",
    "2. Ur program should be more perform\n",
    "    - i,e It has to take as much as less time to execute\n",
    "3. Ur program should utilize memory properly\n",
    "4. Ur program should be accurate\n",
    "5. Ur program should have as much as less no. of lines of code."
   ]
  },
  {
   "cell_type": "markdown",
   "metadata": {},
   "source": [
    "# Ref count algorithm:\n",
    "- Python will follow \"Ref count algorithm\"\n",
    "    - How many 'variables' are allocated to that 'memory location'\n",
    "- Ex: \n",
    "    - a=10 -----one seperate memory location\n",
    "    - b=20 -----one seperate memory location\n",
    "    - c=10------means it wonot allocate seperate memory location. It iwll go and sit in 'a memory location' only. Because python is following \"optimized lab allocation\"\n",
    "\n",
    "- If u 'delete' a=10 then it wonot 'delete c=10, because both are stroed in different \"address\"\n",
    "    - a=10\n",
    "    - a -add1-refcnt-1\n",
    "\n",
    "    - c=10\n",
    "    - c -add2-refcnt=2\n",
    "\n",
    "    - if u delete-a then refcnt will be \"decrease\" i,e refcnt-1 to refcnt=0\n",
    "    - Now \"garbage values\" will come and check and automatically remove the data from the block.\n",
    "\n",
    "- NOTE:\n",
    "    - 'is' ----is used to compare the 'addresses'\n",
    "    - '==' ----is used to compare the 'values'"
   ]
  },
  {
   "cell_type": "markdown",
   "metadata": {},
   "source": [
    "# Python Packages & Modules\n",
    "1.\t- \"Python Package\" is a \"folder\" & \n",
    "    - \"Module\" is a \"python file\".\n",
    "2.\tPython Package: \n",
    "    - Ex: Folder\n",
    "    - It contains single or multiple sub-folders called as sub-modules, single or multiple python files.\n",
    "3.\tPython module: \n",
    "    - Ex: python.py\n",
    "    - It contains several members like\n",
    "        - classes, \n",
    "        - functions, \n",
    "        - variables etc.\n",
    "4.\tOn installation of a package it resides in the system and only when we import it, it gets loaded in RAM to avoid wastage of RAM.\n",
    "5.\tAdvantages of using \"packages\" are \n",
    "    - It reduces coding and \n",
    "    - Increases code re-usability.\n"
   ]
  },
  {
   "cell_type": "code",
   "execution_count": 1,
   "metadata": {},
   "outputs": [
    {
     "name": "stdout",
     "output_type": "stream",
     "text": [
      "9.0\n"
     ]
    }
   ],
   "source": [
    "# Here 'math' is a module name\n",
    "# Here we are importing the specific method (sqrt) under math module\n",
    "from math import sqrt \n",
    "print(sqrt(81))"
   ]
  },
  {
   "cell_type": "code",
   "execution_count": 1,
   "metadata": {},
   "outputs": [
    {
     "name": "stdout",
     "output_type": "stream",
     "text": [
      "9.0\n"
     ]
    }
   ],
   "source": [
    "# Here we are importing the complete math module itself. \n",
    "# And to call any method, we need to use module name with it\n",
    "import math \n",
    "print(math.sqrt(81))"
   ]
  },
  {
   "cell_type": "markdown",
   "metadata": {},
   "source": [
    "# Keywords in Python\n",
    "1.\tThey are in-built and need not to be imported.\n",
    "2.\tKeywords are special reserved words in Python that have \"specific meanings\" and \"purposes\"\n",
    "3.\tThey can't be used for anything but its own defined purpose only.\n",
    "4.\tThere are 36 keywords in Python3.9\n",
    "\n",
    "\t- False,\tNone,\tTrue,\tand,\tas,\t assert,\tasync,\tpass,\traise,\n",
    "\t- await,\tbreak,\tclass,\tcontinue,\tdef,\tdel,\telif,\treturn,\ttry,\n",
    "\t- else,\texcept,\tfinally,\tfor,\tfrom,\tglobal, \tif, \twhile,\twith,\n",
    "    - import,\tin, \tis, \tlambda, \tnonlocal,\tnot,\tor, \tyield, \tpeg_parser"
   ]
  },
  {
   "cell_type": "code",
   "execution_count": 5,
   "metadata": {},
   "outputs": [
    {
     "name": "stdout",
     "output_type": "stream",
     "text": [
      "['False', 'None', 'True', 'and', 'as', 'assert', 'async', 'await', 'break', 'class', 'continue', 'def', 'del', 'elif', 'else', 'except', 'finally', 'for', 'from', 'global', 'if', 'import', 'in', 'is', 'lambda', 'nonlocal', 'not', 'or', 'pass', 'raise', 'return', 'try', 'while', 'with', 'yield']\n",
      "Total numbers of Keywords are 35\n",
      "\n",
      "Here is a list of the Python keywords.  Enter any keyword to get more help.\n",
      "\n",
      "False               class               from                or\n",
      "None                continue            global              pass\n",
      "True                def                 if                  raise\n",
      "and                 del                 import              return\n",
      "as                  elif                in                  try\n",
      "assert              else                is                  while\n",
      "async               except              lambda              with\n",
      "await               finally             nonlocal            yield\n",
      "break               for                 not                 \n",
      "\n"
     ]
    }
   ],
   "source": [
    "# One way to get Python Keywords is using 'keyword' package\n",
    "import keyword\n",
    "kw = keyword.kwlist # its an attribute and and not a function\n",
    "print(kw)\n",
    "print(f\"Total numbers of Keywords are {len(kw)}\")\n",
    "\n",
    "# [or] \n",
    "\n",
    "# Another way to get Python Keywords is by using 'help()' function and passing 'keywords' as arg.\n",
    "help(\"keywords\")\n",
    "\n",
    "# dir(module name)"
   ]
  },
  {
   "cell_type": "markdown",
   "metadata": {},
   "source": [
    "## Case sensitive\n",
    "- Python is a case sensitive language,\n",
    "- That means captial & small letters are treated differently\n"
   ]
  },
  {
   "cell_type": "code",
   "execution_count": 9,
   "metadata": {},
   "outputs": [
    {
     "name": "stdout",
     "output_type": "stream",
     "text": [
      "10\n"
     ]
    }
   ],
   "source": [
    "#None = 10 # cannot assign to None is the syntax error\n",
    "none = 10\n",
    "print(none)"
   ]
  },
  {
   "cell_type": "code",
   "execution_count": 10,
   "metadata": {},
   "outputs": [
    {
     "name": "stdout",
     "output_type": "stream",
     "text": [
      "170\n"
     ]
    }
   ],
   "source": [
    "marks1 = 80\n",
    "Marks1 = 90\n",
    "# total = marks1 + marks1\n",
    "sum1 = marks1 + Marks1\n",
    "\n",
    "print(sum1)"
   ]
  },
  {
   "cell_type": "markdown",
   "metadata": {},
   "source": [
    "# Variables/Identifiers:\n",
    "1.\tIts the name we give to identify a variable, function, class, module or other object.\n",
    "2.\tThat means, whenever we want to give an entity a name, that's called 'identifier'\n",
    "3.\tIt can start with Alphanumeric character & underscore\n",
    "4.\tIt cannot start with a Digit or Any special characters\n",
    "5.\tIt cannot be a reserved keyword"
   ]
  },
  {
   "cell_type": "code",
   "execution_count": 3,
   "metadata": {},
   "outputs": [],
   "source": [
    "# Identifiers\n",
    "_age = 10          # You can start identifier/variable name with underscore\n",
    "Age = 10           # You can start identifier/variable name with Captial Alpha letter\n",
    "age = 10           # You can start identifier/variable name with small Alpha letter\n",
    "_123age = 10       # You can start identifier/variable name with underscore followed by any al\n",
    "\n",
    "#123age = 10       # invalid syntax as it started with numeric value\n",
    "#@123age = 10       # invalid syntax as it started with special symbol"
   ]
  },
  {
   "cell_type": "markdown",
   "metadata": {},
   "source": [
    "# Variables\n",
    "1.\tDefinition: \n",
    "    - In Python, a variable is a named location used to store data in memory.\n",
    "2.\tDeclaration and Assignment: \n",
    "    - Variables are declared by writing the variable name and assigning it a value using the equals sign ( = ). \n",
    "- For example:"
   ]
  },
  {
   "cell_type": "code",
   "execution_count": 21,
   "metadata": {},
   "outputs": [],
   "source": [
    "a = 5         # 'a' is a variable name\n",
    "st = \"hello\"  # 'st' is a variable name"
   ]
  },
  {
   "cell_type": "markdown",
   "metadata": {},
   "source": [
    "# Comments\n",
    "- Definition: \n",
    "    - A comment in Python is a piece of text or your vode that is not executed. \n",
    "     - Its typically used to explain what the code is doing (or) leave notes for developers who will be reading to maintaing the code\n",
    "1.\tSingle Line Comments: #\n",
    "    - Python uses a has symbol (#) to denote a comment. \n",
    "    - Anything written after Hash will be ignored by Python interpreter\n",
    "2.\tMulti-Line Comments: \"\"\" <text content> \"\"\" [or] doc string\n",
    "    - Multi-Line strings using triple quotes(''' or \"\"\") can be used as multi-line comments, as any strings written within will be ignored by Python interpreter"
   ]
  },
  {
   "cell_type": "markdown",
   "metadata": {},
   "source": [
    "### 1.\tSingle Line Comments: "
   ]
  },
  {
   "cell_type": "code",
   "execution_count": 22,
   "metadata": {},
   "outputs": [
    {
     "name": "stdout",
     "output_type": "stream",
     "text": [
      "9\n"
     ]
    }
   ],
   "source": [
    "# Add to numbers\n",
    "a=4 # value of a is 4 \n",
    "b=5 # value of b is 5 \n",
    "c = a+b # sum is in c print(c)\n",
    "print(c)"
   ]
  },
  {
   "cell_type": "markdown",
   "metadata": {},
   "source": [
    "### 2.\tMulti-Line Comments: \n",
    "- doc_string"
   ]
  },
  {
   "cell_type": "code",
   "execution_count": 28,
   "metadata": {},
   "outputs": [
    {
     "name": "stdout",
     "output_type": "stream",
     "text": [
      "\n",
      "    Parameters:\n",
      "    a (int): First variable\n",
      "    b (int): Second variable\n",
      "    Return:\n",
      "    int: sum of variables a & b \n"
     ]
    }
   ],
   "source": [
    "def add_number(a,b):\n",
    "    \"\"\"\n",
    "    Parameters:\n",
    "    a (int): First variable\n",
    "    b (int): Second variable\n",
    "    Return:\n",
    "    int: sum of variables a & b \"\"\"\n",
    "    return a+b\n",
    "\n",
    "print(add_number.__doc__) # to print the doc string"
   ]
  },
  {
   "cell_type": "code",
   "execution_count": 29,
   "metadata": {},
   "outputs": [
    {
     "name": "stdout",
     "output_type": "stream",
     "text": [
      "Jose Marcial Portilla has a BS and MS in Mechanical Engineering from Santa Clar a University and\n",
      "years of experience as a professional instructor and trainer for Data Science, Machine Le arning and\n",
      "Python Programming. He has publications and patents in various fields such as microfluidi cs,\n",
      "materials science, and data science.\n"
     ]
    }
   ],
   "source": [
    "# Multi Line Comment: We use Triple Quotes e.g. \"\"\" <text content> \"\"\"\n",
    "text = \"\"\"Jose Marcial Portilla has a BS and MS in Mechanical Engineering from Santa Clar a University and\n",
    "years of experience as a professional instructor and trainer for Data Science, Machine Le arning and\n",
    "Python Programming. He has publications and patents in various fields such as microfluidi cs,\n",
    "materials science, and data science.\"\"\"\n",
    "\n",
    "print(text)"
   ]
  },
  {
   "cell_type": "markdown",
   "metadata": {},
   "source": [
    "### doc string (\"\"\" \"\"\"):\n",
    "- It is like \"comments\".\n",
    "- Whenever u write long lengthy codes means u r having lot of codes i,e pages and pages of codes\n",
    "- After 3 months/4 months u may never know what was the \"context\" of that particular function\n",
    "- So inorder to capture the \"Context\", there is one way by using \"doc string\""
   ]
  },
  {
   "cell_type": "code",
   "execution_count": 7,
   "metadata": {},
   "outputs": [],
   "source": [
    "# Typically place where you write the functionality/logic of what the function does.\n",
    "\n",
    "def sayhello():\n",
    "    \"\"\" Just greets the world! \"\"\"\n",
    "    print(\"hello world!\")\n",
    "    return"
   ]
  },
  {
   "cell_type": "code",
   "execution_count": 8,
   "metadata": {},
   "outputs": [
    {
     "data": {
      "text/plain": [
       "' Just greets the world! '"
      ]
     },
     "execution_count": 8,
     "metadata": {},
     "output_type": "execute_result"
    }
   ],
   "source": [
    "#  __doc__ only displays the docstring.\n",
    "# Use it as \"comments\" \n",
    "# Syntax: 'Function name.hifonhifondochifonhifon\n",
    "sayhello.__doc__"
   ]
  },
  {
   "cell_type": "markdown",
   "metadata": {},
   "source": [
    "\n",
    "# Indentation \":\"\n",
    "1.\tImportance: \n",
    "    - In Python, identation is not just for readability. \n",
    "    - Its part of the syntax and is used to indicate a block of code\n",
    "2.\tSpace Usage: \n",
    "    - Python uses identation to define the scope of loops, functions, classes, etc. \n",
    "    - Its Four Spaces or a Tab\n",
    "3.\tColon: \n",
    "    - Usually, a colon(:) at the end of a line is followed by an intended block of code.\n",
    "4.\tWithout properly indenting the Python code, you will end up seeing 'IndentationError' and the code will not get compiled.\n",
    "5.\tPython Indentation is a way of telling a Python interpreter that the group of statements belongs to a particular block of code\n",
    "- Ex:"
   ]
  },
  {
   "cell_type": "code",
   "execution_count": 30,
   "metadata": {},
   "outputs": [
    {
     "ename": "IndentationError",
     "evalue": "expected an indented block after 'if' statement on line 1 (3639309090.py, line 3)",
     "output_type": "error",
     "traceback": [
      "\u001b[1;36m  Cell \u001b[1;32mIn[30], line 3\u001b[1;36m\u001b[0m\n\u001b[1;33m    print(\"This is True\")\u001b[0m\n\u001b[1;37m    ^\u001b[0m\n\u001b[1;31mIndentationError\u001b[0m\u001b[1;31m:\u001b[0m expected an indented block after 'if' statement on line 1\n"
     ]
    }
   ],
   "source": [
    "if True:\n",
    "#print(\"This is True\") # IndentationError: expected an indented block\n",
    "print(\"This is True\")"
   ]
  },
  {
   "cell_type": "markdown",
   "metadata": {},
   "source": [
    "# Statements:-\n",
    "1.\tDefinition: \n",
    "    - A statement in Python is a logical instruction that the Python interpreter can read and execute.\n",
    "2.\tIn general, Any instruction written in the source code and executed by the Python interpreter is called a statement.\n",
    "3.\tTypes: \n",
    "- Python includes several types of statements like, \n",
    "    - __[A] Assignment statement,   Ex: a=10__\n",
    "    - __[B] Conditional statement,  Ex: if, if-else__\n",
    "    - __[C] Looping statement,      Ex: for, while__\n",
    "    - __[D] Transfer statement,     Ex: break, continue__\n",
    "    - etc\n",
    "- Ex:"
   ]
  },
  {
   "cell_type": "code",
   "execution_count": 6,
   "metadata": {},
   "outputs": [
    {
     "name": "stdout",
     "output_type": "stream",
     "text": [
      "2 is a positive number\n",
      "I am 1\n",
      "I am 2\n",
      "I am 3\n"
     ]
    }
   ],
   "source": [
    "# [A] assignment statement\n",
    "x = 2\n",
    "# [B] Conditional statement\n",
    "if x > 0:\n",
    "    print(\"{} is a positive number\".format(x))\n",
    "\n",
    "# [C] Looping Statement\n",
    "for i in range(3):\n",
    "    print(\"I am {}\".format(i+1))"
   ]
  },
  {
   "cell_type": "markdown",
   "metadata": {},
   "source": [
    "#### Multi-Line Statement\n",
    "- In Python, end of statement is identified by a newline character i.e '\\n'. But we can make a statement extend over multiple line.\n",
    "\n",
    "1.\tcontinuation character - back slash '\\'\n",
    "2.\tparanthetis ()\n",
    "3.\tbrackets []\n",
    "4.\tbraces {}\n",
    "5.\tsemi-colon \";\"\n"
   ]
  },
  {
   "cell_type": "code",
   "execution_count": 42,
   "metadata": {},
   "outputs": [
    {
     "name": "stdout",
     "output_type": "stream",
     "text": [
      "Geeks \\ for \\ Geeks\n"
     ]
    }
   ],
   "source": [
    "# continuation character.\n",
    "g = \"Geeks \\ for \\ Geeks\" \n",
    "print(g)"
   ]
  },
  {
   "cell_type": "markdown",
   "metadata": {},
   "source": [
    "# Dynamic Typing\n",
    "- Python is dynamically typed, which means that you dont have to declare the type of a variable when you create one. \n",
    "- You can change the type of data held by a variable at any time throughout the life of program\n"
   ]
  },
  {
   "cell_type": "code",
   "execution_count": 45,
   "metadata": {},
   "outputs": [
    {
     "name": "stdout",
     "output_type": "stream",
     "text": [
      "Datatype of 'a'  <class 'int'>\n"
     ]
    }
   ],
   "source": [
    "#Dynamic Typing\n",
    "a = 2 # 'a' contains integer\n",
    "print(\"Datatype of 'a' \", type(a))"
   ]
  },
  {
   "cell_type": "code",
   "execution_count": 46,
   "metadata": {},
   "outputs": [
    {
     "name": "stdout",
     "output_type": "stream",
     "text": [
      "Datatype of 'a'  <class 'str'>\n"
     ]
    }
   ],
   "source": [
    "a = 'Abhi' # now 'a' contains string and overrides previously stored integer\n",
    "print(\"Datatype of 'a' \", type(a))"
   ]
  },
  {
   "cell_type": "code",
   "execution_count": 47,
   "metadata": {},
   "outputs": [
    {
     "name": "stdout",
     "output_type": "stream",
     "text": [
      "Datatype of 'a'  <class 'float'>\n"
     ]
    }
   ],
   "source": [
    "a = 4.34 # now 'a' contains float and overrides previously stored string\n",
    "print(\"Datatype of 'a' \", type(a))"
   ]
  },
  {
   "cell_type": "markdown",
   "metadata": {},
   "source": [
    "# Standard Output & Standard Input\n",
    "\n",
    "### [A] Standard Output: \n",
    "- print() is a standard output function which displays anything passed as an argument to the function\n",
    "- print() will accept \"1 static value & 1 dynamic value\"\n",
    "    - Ex: \n",
    "        - print(\"Datatype of input data \", type(name)) \n",
    "        - print(f\"How are you, {name}\")\n"
   ]
  },
  {
   "cell_type": "markdown",
   "metadata": {},
   "source": [
    "### [B] Standard Input: \n",
    "- input() \n",
    "- It is a standard input function which accepts anything passed as an argument to the function in \"string format\"\n",
    "- If we give \"input()\" directly, it will ask u for \"number\" as \"input\" from the user.\n",
    "- If u give any number as \"input\" then it will store that number in the variable \"num\" \n",
    "- Ex: \n",
    "    - name = input(\"Enter your name \") "
   ]
  },
  {
   "cell_type": "code",
   "execution_count": 48,
   "metadata": {},
   "outputs": [
    {
     "name": "stdout",
     "output_type": "stream",
     "text": [
      "Datatype of input data  <class 'str'>\n",
      "How are you, 10\n"
     ]
    }
   ],
   "source": [
    "name = input(\"Enter your name \") \n",
    "print(\"Datatype of input data \", type(name)) \n",
    "print(f\"How are you, {name}\")"
   ]
  },
  {
   "cell_type": "code",
   "execution_count": 49,
   "metadata": {},
   "outputs": [],
   "source": [
    "num=input()"
   ]
  },
  {
   "cell_type": "code",
   "execution_count": 50,
   "metadata": {},
   "outputs": [],
   "source": [
    "num=10"
   ]
  },
  {
   "cell_type": "code",
   "execution_count": 51,
   "metadata": {},
   "outputs": [
    {
     "data": {
      "text/plain": [
       "int"
      ]
     },
     "execution_count": 51,
     "metadata": {},
     "output_type": "execute_result"
    }
   ],
   "source": [
    "type(num)"
   ]
  },
  {
   "cell_type": "code",
   "execution_count": 52,
   "metadata": {},
   "outputs": [],
   "source": [
    "num = float(num)"
   ]
  },
  {
   "cell_type": "code",
   "execution_count": 53,
   "metadata": {},
   "outputs": [
    {
     "data": {
      "text/plain": [
       "10.0"
      ]
     },
     "execution_count": 53,
     "metadata": {},
     "output_type": "execute_result"
    }
   ],
   "source": [
    "num"
   ]
  },
  {
   "cell_type": "markdown",
   "metadata": {},
   "source": [
    "## logger [or] log file [Error shown command]\n",
    "- Other than \"print\" we are having \"logger\" \n",
    "- It wont allow Kammas. \n",
    "- It will take only \"one String\"\n",
    "- It is a type of \"error showing command\"\n",
    "- It will generate a file with \".log\" \n",
    "    - Ex: Exp.log\n",
    "- This \"log file\" will tell at \n",
    "    - What time the error was captutred, \n",
    "    - From which file the error was captured, \n",
    "    - What was the function it was captured, \n",
    "    - What is the line number it is coming from.\n",
    "\n",
    "- Log levels:\n",
    "    - 5 types\n",
    "        - 1. info\n",
    "        - 2. Debug\n",
    "        - 3. Warning\n",
    "        - 4. Error\n",
    "        - 5. Critical"
   ]
  },
  {
   "cell_type": "markdown",
   "metadata": {},
   "source": [
    "## How to handle errors? \n",
    "## \"try & except\": \n",
    "- By using \"try & except\"\n",
    "- Generally whenever there is an \"error\" (type error/message error) occured in the application means then the entire application will be \"killed\" and through message as \"Error\".\n",
    "- Ex: Code contains 20 lines. In First line \"error\" comes means it won't go and execute rest of the lines. \n",
    "\n",
    "- i,e But if u use \"try & Except\" means then it will work quite oppsitly to above. In order not to \"kill\" entire application we will go for this \"try & except\".\n",
    "- Ex: Code contains 20 lines. In First line \"error\" comes also it will go and execute rest of the lines. \n",
    "\n",
    "- Your are telling the program don't kill my application but \"by pass it\" and show what the \"error\" occured and u continue the complete program.\n",
    "\n",
    "- It wont display what type of error it was. So add \"except Exception as s\""
   ]
  },
  {
   "cell_type": "code",
   "execution_count": 4,
   "metadata": {},
   "outputs": [
    {
     "name": "stdout",
     "output_type": "stream",
     "text": [
      "Error occured when comparing numbers\n"
     ]
    }
   ],
   "source": [
    "# How to handle errors\n",
    "num = input(\"input number\")\n",
    "try:\n",
    "    if num>0:\n",
    "        print(\"The number is positive\")\n",
    "except:\n",
    "    print(\"Error occured when comparing numbers\")"
   ]
  },
  {
   "cell_type": "markdown",
   "metadata": {},
   "source": [
    "### Except Exception as s:\n",
    "- It will display what type of error it was.\n",
    "- Whatever the \"exception\" will occur that exception will capture in 1 variable \"s\".\n",
    "- Exception will through \"1 string\", and i told that store that string in \"1 variable s\".\n",
    "- 's' is one variable and it may be letter/word.\n",
    "\n",
    "- NOTE:\n",
    "    - Make sure that \"Except\" block should not get any kind of further \"fails\". \n",
    "    - If \"fails\" means then our entire application will be failed."
   ]
  },
  {
   "cell_type": "code",
   "execution_count": 5,
   "metadata": {},
   "outputs": [
    {
     "name": "stdout",
     "output_type": "stream",
     "text": [
      "Error occured when comparing numbers\n",
      "Error is '>' not supported between instances of 'str' and 'int'\n",
      "hey! this is getting executed!\n"
     ]
    }
   ],
   "source": [
    "# How to handle errors\n",
    "num = input(\"input number\")\n",
    "try:\n",
    "    if num>0:\n",
    "        print(\"The number is positive\")\n",
    "except Exception as s:\n",
    "    print(\"Error occured when comparing numbers\")\n",
    "    print(f\"Error is {s}\")\n",
    "\n",
    "print(\"hey! this is getting executed!\")"
   ]
  }
 ],
 "metadata": {
  "kernelspec": {
   "display_name": "Python 3",
   "language": "python",
   "name": "python3"
  },
  "language_info": {
   "codemirror_mode": {
    "name": "ipython",
    "version": 3
   },
   "file_extension": ".py",
   "mimetype": "text/x-python",
   "name": "python",
   "nbconvert_exporter": "python",
   "pygments_lexer": "ipython3",
   "version": "3.10.5"
  }
 },
 "nbformat": 4,
 "nbformat_minor": 2
}
