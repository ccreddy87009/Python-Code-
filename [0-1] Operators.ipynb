{
 "cells": [
  {
   "cell_type": "markdown",
   "metadata": {},
   "source": [
    "# Operators:\n",
    "- Operator is a special symbol which is used to evaluate an \"Expression\"\n",
    "### [1] Arthmetic operators\n",
    "### [2] Assignment Operators (or) Compound Operators\n",
    "### [3] Comparision Operators (or) Relational Operators\n",
    "### [4] Logical Operators \n",
    "### [5] Bitwise Operators\n",
    "### [6] Membership Operators\n",
    "### [7] Identity Operators\n",
    "### [8] Special Operators (or) Ternary Operator"
   ]
  },
  {
   "cell_type": "markdown",
   "metadata": {},
   "source": [
    "## [1] Arthmetic operators:\n",
    "### Used for calculating \"Mathametical operations\"\n",
    "- +\n",
    "- -\n",
    "- *\n",
    "- /\n",
    "- //\n",
    "- %\n",
    "- **"
   ]
  },
  {
   "cell_type": "code",
   "execution_count": 1,
   "metadata": {},
   "outputs": [
    {
     "name": "stdout",
     "output_type": "stream",
     "text": [
      "a + b:  13\n",
      "a - b:  7\n",
      "a * b:  30\n",
      "a / b:  3.3333333333333335\n",
      "a // b:  3\n",
      "a % b:  1\n",
      "a ** b:  1000\n"
     ]
    }
   ],
   "source": [
    "a = 10\n",
    "b = 3\n",
    "\n",
    "print(\"a + b: \", a+b)\n",
    "print(\"a - b: \", a-b)\n",
    "print(\"a * b: \", a*b)\n",
    "print(\"a / b: \", a/b)\n",
    "print(\"a // b: \", a//b)\n",
    "print(\"a % b: \", a%b)\n",
    "print(\"a ** b: \", a**b)"
   ]
  },
  {
   "cell_type": "markdown",
   "metadata": {},
   "source": [
    "## [2] Assignment Operators (or) Compound Operators\n",
    "- Used to assign values to variables.\n",
    "\n",
    "- =\t---Assign------------------------------\tx = 5\n",
    "- +=\t---Add and assign---------------------\tx += 3 (x becomes 8)\n",
    "- -=\t---Subtract and assign---------------\tx -= 2 (x becomes 6)\n",
    "- *=\t---Multiply and assign--------------\tx *= 2 (x becomes 12)\n",
    "- /=\t---Divide and assign----------------\tx /= 3 (x becomes 4.0)\n",
    "- //=\t---Floor divide and assign----------\tx //= 2 (x becomes 2.0)\n",
    "- %=\t---Modulus and assign---------------\tx %= 2 (x becomes 0)\n",
    "- **=\t---Exponent and assign--------------\tx **= 3 (x becomes 8)"
   ]
  },
  {
   "cell_type": "code",
   "execution_count": 5,
   "metadata": {},
   "outputs": [
    {
     "ename": "SyntaxError",
     "evalue": "invalid syntax. Maybe you meant '==' or ':=' instead of '='? (1971786203.py, line 1)",
     "output_type": "error",
     "traceback": [
      "\u001b[1;36m  Cell \u001b[1;32mIn[5], line 1\u001b[1;36m\u001b[0m\n\u001b[1;33m    x=10, y=3\u001b[0m\n\u001b[1;37m    ^\u001b[0m\n\u001b[1;31mSyntaxError\u001b[0m\u001b[1;31m:\u001b[0m invalid syntax. Maybe you meant '==' or ':=' instead of '='?\n"
     ]
    }
   ],
   "source": [
    "x=10, y=3\n",
    "x = 10:  10\n",
    "x += y:  13  (x = x + y)\n",
    "x -= y:  10  (x = x - y)\n",
    "x *= y:  30  (x = x * y)\n",
    "x /= y:  10.0  (x = x / y)\n",
    "x //= y:  3.0  (x = x // y)\n",
    "x %= y:  1.0  (x = x % y)\n",
    "x **= y:  1000.0  (x = x ** y)"
   ]
  },
  {
   "cell_type": "markdown",
   "metadata": {},
   "source": [
    "## [3] Comparision Operators (or) Relational Operators:\n",
    "- Used to compare two values. Returns True or False.\n",
    "\n",
    "- ==\t---Equal to\t------------------------------------5 == 3 → False\n",
    "- !=\t---Not equal to-----------------------------\t5 != 3 → True\n",
    "- >\t---Greater than-----------------------------\t5 > 3 → True\n",
    "- <\t---Less than--------------------------------\t5 < 3 → False\n",
    "- >=\t---Greater than or equal to-----------------\t5 >= 5 → True\n",
    "- <=\t---Less than or equal to--------------------\t3 <= 5 → True"
   ]
  },
  {
   "cell_type": "code",
   "execution_count": 3,
   "metadata": {},
   "outputs": [
    {
     "data": {
      "text/plain": [
       "True"
      ]
     },
     "execution_count": 3,
     "metadata": {},
     "output_type": "execute_result"
    }
   ],
   "source": [
    "10<3\n",
    "10>3\n",
    "10==3\n",
    "10!=3"
   ]
  },
  {
   "cell_type": "markdown",
   "metadata": {},
   "source": [
    "## [4] Logical Operators:\n",
    "- Used to combine conditional statements.\n",
    "\n",
    "    - [a] and\n",
    "    - [b] or \n",
    "    - [c] not"
   ]
  },
  {
   "cell_type": "code",
   "execution_count": 2,
   "metadata": {},
   "outputs": [
    {
     "name": "stdout",
     "output_type": "stream",
     "text": [
      "AND operator\n",
      "True\n",
      "False\n",
      "False\n",
      "False\n",
      "OR operator\n",
      "True\n",
      "True\n",
      "True\n",
      "False\n",
      "NOT operator\n",
      "False\n",
      "True\n"
     ]
    }
   ],
   "source": [
    "print(\"AND operator\") \n",
    "print(True and True) \n",
    "print(True and False) \n",
    "print(False and True) \n",
    "print(False and False)\n",
    "\n",
    "print(\"OR operator\") \n",
    "print(True or True) \n",
    "print(True or False) \n",
    "print(False or True)\n",
    "print(False or False)\n",
    "\n",
    "print(\"NOT operator\") \n",
    "print(not True) \n",
    "print(not False)"
   ]
  },
  {
   "cell_type": "markdown",
   "metadata": {},
   "source": [
    "- and\t---Logical AND\t----------(5 > 3) and (3 < 7) → True\n",
    "- or\t---Logical OR\t----------(5 > 3) or (3 > 7) → True\n",
    "- not\t---Logical NOT\t-----------not(5 > 3) → False"
   ]
  },
  {
   "cell_type": "markdown",
   "metadata": {},
   "source": [
    "## [5] Bitwise Operators:\n",
    "-  &, \n",
    "- |, \n",
    "- ^, \n",
    "- >>, \n",
    "- <<\n",
    "\n",
    "- &\t---AND\t---------------------5 & 3 = 1\n",
    "- `\t---`\t---------------------OR\n",
    "- ^\t---XOR\t---------------------5 ^ 3 = 6\n",
    "- ~\t---NOT (1's complement)\t-----~5 = -6\n",
    "- << ---Left shift\t--------------5 << 1 = 10\n",
    "- >> ---Right shift\t--------------5 >> 1 = 2"
   ]
  },
  {
   "cell_type": "code",
   "execution_count": 4,
   "metadata": {},
   "outputs": [
    {
     "name": "stdout",
     "output_type": "stream",
     "text": [
      "a & b  0\n",
      "a | b  14\n",
      "a ^ b  14\n",
      "a >> 2  2\n",
      "a << 2  40\n",
      "a << 3  80\n"
     ]
    }
   ],
   "source": [
    "a = 10 # 1010\n",
    "b = 4 # 0100\n",
    "\n",
    "# Bitwise AND\n",
    "print(\"a & b \", a&b) # 1010 and 0100 --> 0000 --> 0 (apply 'and' operator bit against b it)\n",
    "# 10 = 1 0 1 0\n",
    "# 4 = 0 1 0 0 # =============\n",
    "#\t0 0 0 0 = 0\n",
    "\n",
    "# Bitwise OR\n",
    "print(\"a | b \", a|b) # 1010 or 0100 --> 1110 --> 14(apply 'or' operator bit against bi t)\n",
    "# 10 = 1 0 1 0\n",
    "# 4 = 0 1 0 0 # =============\n",
    "#\t1 1 1 0 = 14\n",
    "\n",
    "# Bitwise XOR --> compares each bit of 1st operand with the 2nd\n",
    "# If one of the bit is 1 (but not both) , the corresponding result bit is set to 1, other wise set to 0\n",
    "print(\"a ^ b \", a^b)\n",
    "# 10 = 1 0 1 0\n",
    "# 4 = 0 1 0 0 # =============\n",
    "#\t1 1 1 0 = 14\n",
    "# 10 = 1 0 1 0\n",
    "# 4 = 1 1 0 0 # =============\n",
    "#\t0 1 1 0 = 6\n",
    "\n",
    "# Bitwise Right Shift\n",
    "a = 10\n",
    "print(\"a >> 2 \", a >> 2)\n",
    "# 10 = 1010\n",
    "# >>= 0010 --> 2\n",
    "\n",
    "# Bitwise Left Shifta = 10\n",
    "print(\"a << 2 \", a << 2)\n",
    "# 10 = 1010\n",
    "# <<= 101000 --> 40 i.e 32+0+8+0+0+0\ti.e 2^5 + 2^4 + 2^3 + 2^2 + 2^1 +2^0\n",
    "a = 10\n",
    "print(\"a << 3 \", a << 3)\n",
    "# 10 =010\n",
    "# 80 = 1010000"
   ]
  },
  {
   "cell_type": "markdown",
   "metadata": {},
   "source": [
    "## [6] Membership Operators:\n",
    "- To check whether a value is there in a group of values\n",
    "- Ex: \n",
    "    - in\n",
    "    - not in"
   ]
  },
  {
   "cell_type": "code",
   "execution_count": 7,
   "metadata": {},
   "outputs": [
    {
     "name": "stdout",
     "output_type": "stream",
     "text": [
      "True\n"
     ]
    }
   ],
   "source": [
    "x=['ram',10,'sita']\n",
    "res=10 in x\n",
    "print(res)"
   ]
  },
  {
   "cell_type": "code",
   "execution_count": 8,
   "metadata": {},
   "outputs": [
    {
     "name": "stdout",
     "output_type": "stream",
     "text": [
      "False\n"
     ]
    }
   ],
   "source": [
    "x=['ram',10,'sita']\n",
    "res=20 in x\n",
    "print(res)"
   ]
  },
  {
   "cell_type": "markdown",
   "metadata": {},
   "source": [
    "## [7] Identity Operators:\n",
    "- If you want to compare the address we use \"identical Operators\"\n",
    "- Used to compare the memory location of two objects.\n",
    "- Ex:\n",
    "    - is\n",
    "    - is not\n",
    "\n",
    "\n",
    "- x is y\n",
    "- x is not y"
   ]
  },
  {
   "cell_type": "code",
   "execution_count": 19,
   "metadata": {},
   "outputs": [
    {
     "data": {
      "text/plain": [
       "2526252106256"
      ]
     },
     "execution_count": 19,
     "metadata": {},
     "output_type": "execute_result"
    }
   ],
   "source": [
    "a=10\n",
    "id(a)"
   ]
  },
  {
   "cell_type": "code",
   "execution_count": 20,
   "metadata": {},
   "outputs": [
    {
     "data": {
      "text/plain": [
       "2526252106576"
      ]
     },
     "execution_count": 20,
     "metadata": {},
     "output_type": "execute_result"
    }
   ],
   "source": [
    "a=10\n",
    "b=20\n",
    "id(a)\n",
    "id(b)"
   ]
  },
  {
   "cell_type": "code",
   "execution_count": 21,
   "metadata": {},
   "outputs": [
    {
     "data": {
      "text/plain": [
       "2526252106256"
      ]
     },
     "execution_count": 21,
     "metadata": {},
     "output_type": "execute_result"
    }
   ],
   "source": [
    "a=10\n",
    "b=20\n",
    "c=10\n",
    "id(a)\n",
    "id(b)\n",
    "id(c)"
   ]
  },
  {
   "cell_type": "markdown",
   "metadata": {},
   "source": [
    "## [8] Special Operators (or) Ternary Operator:\n",
    "- Multiple conditions at one place.\n",
    "- Ternary Operator: Shortcut for conditional expressions.\n",
    "- Ex: \n",
    "    - x = 5 if a > b else 10\n",
    "\n",
    "- Operator Overloading: \n",
    "    - Redefining the behavior of operators for custom classes."
   ]
  }
 ],
 "metadata": {
  "kernelspec": {
   "display_name": "Python 3",
   "language": "python",
   "name": "python3"
  },
  "language_info": {
   "codemirror_mode": {
    "name": "ipython",
    "version": 3
   },
   "file_extension": ".py",
   "mimetype": "text/x-python",
   "name": "python",
   "nbconvert_exporter": "python",
   "pygments_lexer": "ipython3",
   "version": "3.10.5"
  }
 },
 "nbformat": 4,
 "nbformat_minor": 2
}
