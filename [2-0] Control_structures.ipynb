{
 "cells": [
  {
   "cell_type": "markdown",
   "metadata": {},
   "source": [
    "# Before knowing about 'control structures' we will learn below concepts"
   ]
  },
  {
   "cell_type": "code",
   "execution_count": 1,
   "metadata": {},
   "outputs": [
    {
     "name": "stdout",
     "output_type": "stream",
     "text": [
      "my name is Sanjeev\n"
     ]
    }
   ],
   "source": [
    "name = 'Sanjeev'\n",
    "print(\"my name is Sanjeev\")"
   ]
  },
  {
   "cell_type": "code",
   "execution_count": 2,
   "metadata": {},
   "outputs": [
    {
     "name": "stdout",
     "output_type": "stream",
     "text": [
      "my name is Sanjeev\n"
     ]
    }
   ],
   "source": [
    "name = 'Jackson'\n",
    "print(\"my name is Sanjeev\")"
   ]
  },
  {
   "cell_type": "code",
   "execution_count": 3,
   "metadata": {},
   "outputs": [
    {
     "name": "stdout",
     "output_type": "stream",
     "text": [
      "my name is name\n"
     ]
    }
   ],
   "source": [
    "print(\"my name is name\")"
   ]
  },
  {
   "cell_type": "markdown",
   "metadata": {},
   "source": [
    "- [i] With  \"1\" variable:\n",
    "    - We want this \"name\" to be \"dynamic\" in nature. \n",
    "    - Dynamic means, Whatever the \"value\" is present in the \"variable\" that should get printed.\n",
    "    - Syntax: print ('my own written message', variable name)\n",
    "        - Ex:print(\"my name is:\", name)"
   ]
  },
  {
   "cell_type": "code",
   "execution_count": 4,
   "metadata": {},
   "outputs": [
    {
     "name": "stdout",
     "output_type": "stream",
     "text": [
      "my name is: Jackson\n"
     ]
    }
   ],
   "source": [
    "print(\"my name is:\", name)"
   ]
  },
  {
   "cell_type": "code",
   "execution_count": 5,
   "metadata": {},
   "outputs": [
    {
     "name": "stdout",
     "output_type": "stream",
     "text": [
      "my name is Jackson\n"
     ]
    }
   ],
   "source": [
    "print('my name is', name)"
   ]
  },
  {
   "cell_type": "code",
   "execution_count": 6,
   "metadata": {},
   "outputs": [
    {
     "name": "stdout",
     "output_type": "stream",
     "text": [
      "my name is Rocky\n"
     ]
    }
   ],
   "source": [
    "name = 'Rocky'\n",
    "print(\"my name is\", name)"
   ]
  },
  {
   "cell_type": "markdown",
   "metadata": {},
   "source": [
    "- [ii] With  \"2\" variables:\n",
    "    - In some cases we are having 2 variables also\n",
    "        - first name\n",
    "        - second name\n",
    "            - Ex:first_name = 'Jackson'\n",
    "            - last_name = 'VII'\n",
    "            - print(\"First name is\", first_name, \"Last Name is\", last_name)"
   ]
  },
  {
   "cell_type": "code",
   "execution_count": 7,
   "metadata": {},
   "outputs": [
    {
     "name": "stdout",
     "output_type": "stream",
     "text": [
      "First name is Jackson Last Name is VII\n"
     ]
    }
   ],
   "source": [
    "first_name = 'Jackson'\n",
    "last_name = 'VII'\n",
    "print(\"First name is\", first_name, \"Last Name is\", last_name)"
   ]
  },
  {
   "cell_type": "markdown",
   "metadata": {},
   "source": [
    "# [or]"
   ]
  },
  {
   "cell_type": "markdown",
   "metadata": {},
   "source": [
    "# Format String\n",
    "## [A] One way:\n",
    "- From tha above we understand that, Instead of using somany variables, we can go in robostic way like below\n",
    "    - We can use \"Format String\" for this\n",
    "    - Whenever if u have \"f\" in the starting of the string, it identifies that there is a \"dynamic value(variable)\" i,e inside the double codes\n",
    "    - Dynamic value(variable) will specifies in {}\n",
    "    - f --- means format string\n",
    "    - \"my name is {name}\"  = Same color (all of them are treated as single string)\n",
    "    - f\"my name is {name}\" = Different color (It identifies with in the curly braces there is a variable)\n",
    "    #### [i] With  \"1\" variable:\n",
    "    - Ex: f\"my name is {name}\""
   ]
  },
  {
   "cell_type": "code",
   "execution_count": 8,
   "metadata": {},
   "outputs": [
    {
     "data": {
      "text/plain": [
       "'my name is {name}'"
      ]
     },
     "execution_count": 8,
     "metadata": {},
     "output_type": "execute_result"
    }
   ],
   "source": [
    "\"my name is {name}\""
   ]
  },
  {
   "cell_type": "code",
   "execution_count": 10,
   "metadata": {},
   "outputs": [
    {
     "data": {
      "text/plain": [
       "'my name is Rocky'"
      ]
     },
     "execution_count": 10,
     "metadata": {},
     "output_type": "execute_result"
    }
   ],
   "source": [
    "f\"my name is {name}\""
   ]
  },
  {
   "cell_type": "markdown",
   "metadata": {},
   "source": [
    "#### [ii] With  \"2\" variables:\n",
    "- Ex: f\"First name is {first_name} and last name is {last_name}\""
   ]
  },
  {
   "cell_type": "code",
   "execution_count": 11,
   "metadata": {},
   "outputs": [
    {
     "data": {
      "text/plain": [
       "'First name is Jackson and last name is VII'"
      ]
     },
     "execution_count": 11,
     "metadata": {},
     "output_type": "execute_result"
    }
   ],
   "source": [
    "f\"First name is {first_name} and last name is {last_name}\""
   ]
  },
  {
   "cell_type": "code",
   "execution_count": 12,
   "metadata": {},
   "outputs": [
    {
     "data": {
      "text/plain": [
       "'number one is 5, number two is 10'"
      ]
     },
     "execution_count": 12,
     "metadata": {},
     "output_type": "execute_result"
    }
   ],
   "source": [
    "num1 = 5\n",
    "num2 = 10\n",
    "f\"number one is {num1}, number two is {num2}\""
   ]
  },
  {
   "cell_type": "markdown",
   "metadata": {},
   "source": [
    "## [B] Another way:\n",
    "### .format()\n",
    "- Another way is also there for using \"Format string\"\n",
    "- Instead of putting \"f\" in the starting, i will put \".format()\" in the end\n",
    "    - .format()\n",
    "\n",
    "    #### [i] With  \"1\" variable:\n",
    "    - Ex: \"first name is {}\".format(first_name)"
   ]
  },
  {
   "cell_type": "code",
   "execution_count": 14,
   "metadata": {},
   "outputs": [
    {
     "data": {
      "text/plain": [
       "'first name is Jackson'"
      ]
     },
     "execution_count": 14,
     "metadata": {},
     "output_type": "execute_result"
    }
   ],
   "source": [
    "\"first name is {}\".format(first_name)"
   ]
  },
  {
   "cell_type": "markdown",
   "metadata": {},
   "source": [
    "#### [ii] With  \"2\" variables:\n",
    "- [b] if we have \"more than one variable\" then use \"indexes\" like below\n",
    "    - First index - {0} of that \"variable\"\n",
    "    - Second index - {1} of that \"variable\"\n",
    "        - Ex: \"number one is {0}, number two is {1}\".format(num1, num2)\n",
    "        - Ex: \"First name is {0} and last name is {1}\".format(first_name, last_name)"
   ]
  },
  {
   "cell_type": "code",
   "execution_count": 17,
   "metadata": {},
   "outputs": [
    {
     "data": {
      "text/plain": [
       "'number one is 5, number two is 10'"
      ]
     },
     "execution_count": 17,
     "metadata": {},
     "output_type": "execute_result"
    }
   ],
   "source": [
    "\n",
    "\"number one is {0}, number two is {1}\".format(num1, num2)"
   ]
  },
  {
   "cell_type": "code",
   "execution_count": 18,
   "metadata": {},
   "outputs": [
    {
     "data": {
      "text/plain": [
       "'First name is Jackson and last name is VII'"
      ]
     },
     "execution_count": 18,
     "metadata": {},
     "output_type": "execute_result"
    }
   ],
   "source": [
    "\"First name is {0} and last name is {1}\".format(first_name, last_name)"
   ]
  },
  {
   "cell_type": "markdown",
   "metadata": {},
   "source": [
    "# [2] Control Structures"
   ]
  },
  {
   "cell_type": "markdown",
   "metadata": {},
   "source": [
    "- \"Control Structures\" are nothing but where u have \"conditions\" and u want to apply some part of the code to be executed.\n",
    "- For writing any program it is good to have a \"flow chart of steps\" to follow.\n",
    "- To begin with, identify if a given number is \"+ve\" or \"-ve\"\n",
    "- Fetch input from user and store it in a variable.\n",
    "- Also convert the variable to float/int while storing\n",
    "- We are having mainly below statements \n",
    "#### [i] if, \n",
    "#### [ii] if else, \n",
    "#### [iii] if-elif\n",
    "#### [iV] Nested-if\n",
    "## Loops:\n",
    "#### [V] for loop\n",
    "#### [Vi] While loop"
   ]
  },
  {
   "cell_type": "markdown",
   "metadata": {},
   "source": [
    "### [i] if:"
   ]
  },
  {
   "cell_type": "code",
   "execution_count": 24,
   "metadata": {},
   "outputs": [
    {
     "name": "stdout",
     "output_type": "stream",
     "text": [
      "10.0 is positive\n",
      "this is not part of if/elif/else\n"
     ]
    }
   ],
   "source": [
    "if num>0:\n",
    "    print(num, \"is positive\")\n",
    "print(\"this is not part of if/elif/else\")   \n",
    "# This \"print\" statement is out of the \"if\" condition\n",
    "# It will execute irrespective of \"If\" statement."
   ]
  },
  {
   "cell_type": "code",
   "execution_count": 28,
   "metadata": {},
   "outputs": [
    {
     "name": "stdout",
     "output_type": "stream",
     "text": [
      "this is not part of if/elif/else\n"
     ]
    }
   ],
   "source": [
    "num = -5\n",
    "if num>0:\n",
    "    print(num, \"is positive\")\n",
    "print(\"this is not part of if/elif/else\")"
   ]
  },
  {
   "cell_type": "markdown",
   "metadata": {},
   "source": [
    "### [ii] if-else\n",
    "- In this \"if-else\" either \n",
    "    - \"if\" statement will be executed (or)\n",
    "    - \"else\" statement will be executed\n",
    "    - But both are not executed at once."
   ]
  },
  {
   "cell_type": "code",
   "execution_count": 2,
   "metadata": {},
   "outputs": [
    {
     "name": "stdout",
     "output_type": "stream",
     "text": [
      "x: 2 is less than y: 4\n"
     ]
    }
   ],
   "source": [
    "x = 2 # x is assigned a value of 2\n",
    "y = 4 # y is assigned a value of 4\n",
    "if x < y:\n",
    "    print(f\"x: {x} is less than y: {y}\")\n",
    "else:\n",
    "    print(f\"x: {x} is greater than y: {y}\")"
   ]
  },
  {
   "cell_type": "code",
   "execution_count": 25,
   "metadata": {},
   "outputs": [
    {
     "name": "stdout",
     "output_type": "stream",
     "text": [
      "num is  10.0\n",
      "10.0 is positive\n",
      "this is not part of if/elif/else\n"
     ]
    }
   ],
   "source": [
    "print('num is ', num)\n",
    "if num>0:\n",
    "    print(num, \"is positive\")\n",
    "else:\n",
    "    print(num, \"is not positive\")\n",
    "print(\"this is not part of if/elif/else\")         # This statement is out of the \"if\" condition"
   ]
  },
  {
   "cell_type": "markdown",
   "metadata": {},
   "source": [
    "### [iii] if-elif\n",
    "- If \"if\" condition fails also it will check one more condition \"elif\" also\n",
    "\n",
    "    - 2 \"if\" conditions are there.\n",
    "    - \"if\" inside another \"if\"\n",
    "        - Both conditions are executed"
   ]
  },
  {
   "cell_type": "code",
   "execution_count": 27,
   "metadata": {},
   "outputs": [
    {
     "name": "stdout",
     "output_type": "stream",
     "text": [
      "this is positive\n",
      "this is positive\n"
     ]
    }
   ],
   "source": [
    "num1 = 10\n",
    "if num1>0:\n",
    "    print(\"this is positive\")\n",
    "if num1>5:\n",
    "    print(\"this is positive\")"
   ]
  },
  {
   "cell_type": "markdown",
   "metadata": {},
   "source": [
    "- if-elif:\n",
    "    - If \"if\" condition \"pass\" means then it stop there only\n",
    "    - It wonot enter in to the \"elif\" \n",
    "    - i,e It wonot bother about any other conditions"
   ]
  },
  {
   "cell_type": "code",
   "execution_count": 28,
   "metadata": {},
   "outputs": [
    {
     "name": "stdout",
     "output_type": "stream",
     "text": [
      "this is positive\n"
     ]
    }
   ],
   "source": [
    "if num1>0:\n",
    "    print(\"this is positive\")\n",
    "elif num1>5:\n",
    "    print(\"this is positive\")"
   ]
  },
  {
   "cell_type": "markdown",
   "metadata": {},
   "source": [
    "#### Note:\n",
    "- Its always good to write \"else\" statement at the end of the program\n",
    "- So that if u wonot execute any condition inside the program, finally we will get \"else\" statement as \"output\""
   ]
  },
  {
   "cell_type": "markdown",
   "metadata": {},
   "source": [
    "- if ---ok----------means-------------ok\n",
    "- elif--ok----------means-------------ok (it wonot go to next statement)"
   ]
  },
  {
   "cell_type": "code",
   "execution_count": 29,
   "metadata": {},
   "outputs": [
    {
     "name": "stdout",
     "output_type": "stream",
     "text": [
      "num is  10.0\n",
      "10.0 is positive\n",
      "second line in first condition\n",
      "this is not part of if/elif/else\n"
     ]
    }
   ],
   "source": [
    "print('num is ', num)\n",
    "if num>0:\n",
    "    print(num, \"is positive\")\n",
    "    print(\"second line in first condition\")\n",
    "elif num == 0:\n",
    "    print(num, \"num is zero\")\n",
    "    print(\"second line in second condition\")\n",
    "elif num<0:\n",
    "    print(num, \"is negative\")\n",
    "    print(\"second line in third condition\")\n",
    "    num = abs(num)\n",
    "    print(f\"the absolute value is {num}\")\n",
    "else:\n",
    "    print(num, \"did not satify any conditions\")\n",
    "    \n",
    "print(\"this is not part of if/elif/else\")"
   ]
  },
  {
   "cell_type": "markdown",
   "metadata": {},
   "source": [
    "### [iv] Nested - if\n",
    "- U have a conditional statement and if that conditional statement is \"True\", then it won't execute one more conditional statement.\n",
    "- If any \"conditional statement\" is \"True\" then it won't execute any other rest all \"Conditional statement\""
   ]
  },
  {
   "cell_type": "code",
   "execution_count": 30,
   "metadata": {},
   "outputs": [
    {
     "name": "stdout",
     "output_type": "stream",
     "text": [
      "num is  100\n",
      "100 is positive\n",
      "second line in first condition\n",
      "this is not part of if/elif/else\n"
     ]
    }
   ],
   "source": [
    "num = 100\n",
    "print('num is ', num)\n",
    "if num>0:\n",
    "    print(num, \"is positive\")\n",
    "    print(\"second line in first condition\")\n",
    "elif num == 0:\n",
    "    print(num, \"num is zero\")\n",
    "    print(\"second line in second condition\")\n",
    "elif num<0:\n",
    "    print(num, \"is negative\")\n",
    "    print(\"second line in third condition\")\n",
    "    num = abs(num)\n",
    "    print(f\"the absolute value is {num}\")\n",
    "elif num>50:\n",
    "    print(f\"num {num} is greater than 50\")\n",
    "\n",
    "else:\n",
    "    print(num, \"did not satify any conditions\")\n",
    "    \n",
    "print(\"this is not part of if/elif/else\")"
   ]
  },
  {
   "cell_type": "markdown",
   "metadata": {},
   "source": [
    "- Inside \"if\" condition there is one more \"if\", \"elif\", \"else\" (it will continue up to that \"if\" condition only)"
   ]
  },
  {
   "cell_type": "code",
   "execution_count": 31,
   "metadata": {},
   "outputs": [
    {
     "name": "stdout",
     "output_type": "stream",
     "text": [
      "num is  100\n",
      "100 is positive\n",
      "second line in first condition\n",
      "the number did not satisfy in nested if\n",
      "this is not part of if/elif/else\n"
     ]
    }
   ],
   "source": [
    "num = 100\n",
    "print('num is ', num)\n",
    "if num>0:\n",
    "    print(num, \"is positive\")\n",
    "    print(\"second line in first condition\")\n",
    "    if num>100:\n",
    "        print(\"the number is greater than 100\")\n",
    "    elif num<50:\n",
    "        print(\"the number is less than 50\")\n",
    "    else:\n",
    "        print(\"the number did not satisfy in nested if\")\n",
    "elif num == 0:\n",
    "    print(num, \"num is zero\")\n",
    "    print(\"second line in second condition\")\n",
    "elif num<0:\n",
    "    print(num, \"is negative\")\n",
    "    print(\"second line in third condition\")\n",
    "    num = abs(num)\n",
    "    print(f\"the absolute value is {num}\")\n",
    "elif num>50:\n",
    "    print(f\"num {num} is greater than 50\")\n",
    "else:\n",
    "    print(num, \"did not satify any conditions\")\n",
    "print(\"this is not part of if/elif/else\")"
   ]
  },
  {
   "cell_type": "markdown",
   "metadata": {},
   "source": [
    "### Loop:\n",
    "- Loops are used to execute same set of statements for \"multiple times\".\n",
    "- 2 types are \n",
    "    - [i] For loop\n",
    "    - [ii] While loop"
   ]
  },
  {
   "cell_type": "code",
   "execution_count": 1,
   "metadata": {},
   "outputs": [
    {
     "name": "stdout",
     "output_type": "stream",
     "text": [
      "Rama\n",
      "Rama\n",
      "Rama\n",
      "Rama\n",
      "Rama\n"
     ]
    }
   ],
   "source": [
    "print('Rama')\n",
    "print('Rama')\n",
    "print('Rama')\n",
    "print('Rama')\n",
    "print('Rama')"
   ]
  },
  {
   "cell_type": "markdown",
   "metadata": {},
   "source": [
    "## [or]"
   ]
  },
  {
   "cell_type": "code",
   "execution_count": 2,
   "metadata": {},
   "outputs": [
    {
     "name": "stdout",
     "output_type": "stream",
     "text": [
      "Rama\n",
      "Rama\n",
      "Rama\n",
      "Rama\n",
      "Rama\n"
     ]
    }
   ],
   "source": [
    "i=1\n",
    "while i<=5:\n",
    "    print('Rama')\n",
    "    i=i+1"
   ]
  },
  {
   "cell_type": "code",
   "execution_count": 3,
   "metadata": {},
   "outputs": [
    {
     "name": "stdout",
     "output_type": "stream",
     "text": [
      "1\n",
      "2\n",
      "3\n",
      "4\n",
      "5\n",
      "6\n",
      "7\n",
      "8\n",
      "9\n",
      "10\n"
     ]
    }
   ],
   "source": [
    "# print numbers from 1 to 10\n",
    "i=1\n",
    "while i<=10:\n",
    "    print(i)\n",
    "    i=i+1"
   ]
  },
  {
   "cell_type": "markdown",
   "metadata": {},
   "source": [
    "### [V] for loop:\n",
    "- For loops are used for sequential traversal"
   ]
  },
  {
   "cell_type": "code",
   "execution_count": 8,
   "metadata": {},
   "outputs": [
    {
     "name": "stdout",
     "output_type": "stream",
     "text": [
      "0: I enjoy coding!\n",
      "1: I enjoy coding!\n",
      "2: I enjoy coding!\n",
      "3: I enjoy coding!\n",
      "4: I enjoy coding!\n"
     ]
    }
   ],
   "source": [
    "for counter in range(5):\n",
    "    print(f\"{counter}: I enjoy coding!\")"
   ]
  },
  {
   "cell_type": "markdown",
   "metadata": {},
   "source": [
    "### [Vi] while loop\n",
    "- A while loop is used to execute a block of statements repeatedly until a given condition is satisfied.\n",
    "- And when the condition becomes false, the line immediately after the loop in the program is executed."
   ]
  },
  {
   "cell_type": "code",
   "execution_count": 7,
   "metadata": {},
   "outputs": [
    {
     "name": "stdout",
     "output_type": "stream",
     "text": [
      "0: I enjoy coding!\n",
      "1: I enjoy coding!\n",
      "2: I enjoy coding!\n",
      "3: I enjoy coding!\n",
      "4: I enjoy coding!\n",
      "While loop ended\n"
     ]
    }
   ],
   "source": [
    "counter = 0\n",
    "while counter < 5:\n",
    "    print(f\"{counter}: I enjoy coding!\")\n",
    "    counter += 1\n",
    "else: # The else clause is only executed when your while condition becomes false. If you break out of the loop, or if an exception is raised, it won’t be executed.\n",
    "    print(\"While loop ended\")"
   ]
  },
  {
   "cell_type": "markdown",
   "metadata": {},
   "source": [
    "## Usecase of \"WHILE\" and \"FOR loops\":\n",
    "- Both for loop and while loop is used to execute the statements repeatedly while the program runs.\n",
    "- The major difference between for loop and the while loop is that\n",
    "    - for loop: \n",
    "        - It is used when the number of iterations is known, \n",
    "    - while loop: \n",
    "        - whereas execution is done in the while loop until the statement in the program is proved wrong."
   ]
  },
  {
   "cell_type": "markdown",
   "metadata": {},
   "source": [
    "## \"break\" and \"continue\":\n",
    "- Break:\n",
    "    - \"Break is used to comeout of the loop\"\n",
    "    - Break statement stops the entire process of the loop\n",
    "    - Break also terminates the remaining iterations\n",
    "- Continue:\n",
    "    - \"It is used to skip the current iteration and moves to next iteration\"\n",
    "    - Continue statement only stops the current iteration of the loop\n",
    "    - Continue doesn't terminate the next iterations; it resumes with the successive iterations"
   ]
  },
  {
   "cell_type": "code",
   "execution_count": 12,
   "metadata": {},
   "outputs": [
    {
     "name": "stdout",
     "output_type": "stream",
     "text": [
      "Iteration count: 0\n",
      "Iteration count: 1\n",
      "Iteration count: 2\n",
      "Iteration count: 3\n",
      "Breaking for loop\n"
     ]
    }
   ],
   "source": [
    "# break\n",
    "\n",
    "for i in range(5):\n",
    "    print(f\"Iteration count: {i}\")\n",
    "    if i >= 3:\n",
    "        print(\"Breaking for loop\")\n",
    "        break"
   ]
  },
  {
   "cell_type": "code",
   "execution_count": 15,
   "metadata": {},
   "outputs": [
    {
     "name": "stdout",
     "output_type": "stream",
     "text": [
      "0: Some more operation...\n",
      "1: Some more operation...\n",
      "2: Some more operation...\n",
      "Continuing with next iteration\n",
      "4: Some more operation...\n"
     ]
    }
   ],
   "source": [
    "# continue\n",
    "\n",
    "for i in range(5):\n",
    "    if i == 3:\n",
    "        print(\"Continuing with next iteration\")\n",
    "        continue # skips the current iteration\n",
    "    print(f\"{i}: Some more operation...\")"
   ]
  },
  {
   "cell_type": "markdown",
   "metadata": {},
   "source": [
    "## Problem:\n",
    "- We are working in a bank. We want to check whether a person is going to taking loan (or) not?\n",
    "\"\"\"\n",
    "Checks:\n",
    "1. Check-1: Requirement should be salaried employee [The person is a \"salaried employee\" or not?]\n",
    "2. Check-2: loan that he/she is already having should not be more than 50% of income.\n",
    "3. Check-3: Private property. [If person loss the job to check whether he is having back up assets or not?]\n",
    " \"\"\""
   ]
  },
  {
   "cell_type": "code",
   "execution_count": 44,
   "metadata": {},
   "outputs": [],
   "source": [
    "# For checking above 3 conditions, i am using below 3 variables.\n",
    "# variable-1 = salaried \n",
    "# variable-2 = salary_of_person\n",
    "# variable-3 = liability_per_month\n",
    "# variable-4 = assets \n",
    "\n",
    "salaried = True                    # Check-1\n",
    "salary_of_person = 1000            # Check-2\n",
    "liability_per_month = 401          # Check-2\n",
    "assets = True                      # Check-3"
   ]
  },
  {
   "cell_type": "code",
   "execution_count": 45,
   "metadata": {},
   "outputs": [
    {
     "name": "stdout",
     "output_type": "stream",
     "text": [
      "40.1\n"
     ]
    }
   ],
   "source": [
    "liability_value = liability_per_month*100/salary_of_person\n",
    "print(liability_value)"
   ]
  },
  {
   "cell_type": "code",
   "execution_count": 46,
   "metadata": {},
   "outputs": [
    {
     "name": "stdout",
     "output_type": "stream",
     "text": [
      "Person is salaried and satisfied norms\n"
     ]
    }
   ],
   "source": [
    "# Check-1:\n",
    "if salaried:\n",
    "    print(\"Person is salaried and satisfied norms\")\n",
    "elif liability_value<=50:\n",
    "    print(\"Liability value is satisfying\")\n",
    "else:\n",
    "    print(\"all norms not met\")\n"
   ]
  },
  {
   "cell_type": "code",
   "execution_count": 47,
   "metadata": {},
   "outputs": [
    {
     "name": "stdout",
     "output_type": "stream",
     "text": [
      "salaried\n",
      "laibility satisfied\n",
      "assets available and qualified all norms\n"
     ]
    }
   ],
   "source": [
    "# From above it was observed that \"Salaried\" condition only checked but not checked \"liability\" condition.\n",
    "# For that we are using \"nested-if\"\n",
    "# Here this \"nested-if\" will check all 3 conditions like \"salaried\", \"liability\", \"assets\"\n",
    "\n",
    "if salaried:\n",
    "    print(\"salaried\")\n",
    "    if liability_value<=50:\n",
    "        print(\"laibility satisfied\")\n",
    "        if assets:\n",
    "            print(\"assets available and qualified all norms\") # final code which all conditions.\n",
    "        else:\n",
    "            print(\"condition failed at assets\")\n",
    "    else:\n",
    "        print(\"condition failed at liability\")    \n",
    "else:\n",
    "    print(\"condition failed\")"
   ]
  },
  {
   "cell_type": "markdown",
   "metadata": {},
   "source": [
    "### Repeating above Topics with some code examples."
   ]
  },
  {
   "cell_type": "code",
   "execution_count": 48,
   "metadata": {},
   "outputs": [],
   "source": [
    "# Input function takes input from user and is by default a string.\n",
    "# we convert it to required datatype. In this case we convert it to float as below.\n",
    "\n",
    "nbr=10\n",
    "nbr = float(input())"
   ]
  },
  {
   "cell_type": "code",
   "execution_count": 49,
   "metadata": {},
   "outputs": [
    {
     "name": "stdout",
     "output_type": "stream",
     "text": [
      "The input from user is : 10.0\n",
      "It's data type is :<class 'float'>\n"
     ]
    }
   ],
   "source": [
    "# print the datatype and actual value.\n",
    "# use \"format string\" to show print in legible way\n",
    "\n",
    "print(f\"The input from user is : {nbr}\\nIt's data type is :{type(nbr)}\")"
   ]
  },
  {
   "cell_type": "code",
   "execution_count": 50,
   "metadata": {},
   "outputs": [
    {
     "name": "stdout",
     "output_type": "stream",
     "text": [
      "The input from user is : 10.0\n",
      "It's data type is :<class 'float'>\n"
     ]
    }
   ],
   "source": [
    "# Formats can also be used as below\n",
    "print(\"The input from user is : {0}\\nIt's data type is :{1}\".format(nbr, type(nbr)))"
   ]
  },
  {
   "cell_type": "code",
   "execution_count": 51,
   "metadata": {},
   "outputs": [
    {
     "name": "stdout",
     "output_type": "stream",
     "text": [
      "10 is positive\n",
      "end of code\n"
     ]
    }
   ],
   "source": [
    "# if statements\n",
    "nbr=10\n",
    "if nbr > 0:\n",
    "    print(f\"{nbr} is positive\")\n",
    "print(\"end of code\")"
   ]
  },
  {
   "cell_type": "code",
   "execution_count": 52,
   "metadata": {},
   "outputs": [
    {
     "name": "stdout",
     "output_type": "stream",
     "text": [
      "end of code\n"
     ]
    }
   ],
   "source": [
    "x = -1\n",
    "if x > 0:\n",
    "    print(f\"{nbr} is positive\")\n",
    "print(\"end of code\")"
   ]
  },
  {
   "cell_type": "code",
   "execution_count": 53,
   "metadata": {},
   "outputs": [
    {
     "name": "stdout",
     "output_type": "stream",
     "text": [
      "-1 is negative\n",
      "end of code\n"
     ]
    }
   ],
   "source": [
    "x = -1\n",
    "if x > 0:\n",
    "    print(f\"{x} is positive\")\n",
    "else:\n",
    "    print(f\"{x} is negative\")\n",
    "print(\"end of code\")"
   ]
  },
  {
   "cell_type": "code",
   "execution_count": 54,
   "metadata": {},
   "outputs": [
    {
     "name": "stdout",
     "output_type": "stream",
     "text": [
      "5 is positive\n",
      "end of code\n"
     ]
    }
   ],
   "source": [
    "x = 5\n",
    "if x > 0:\n",
    "    print(f\"{x} is positive\")\n",
    "else:\n",
    "    print(f\"{x} is negative\")\n",
    "print(\"end of code\")"
   ]
  },
  {
   "cell_type": "code",
   "execution_count": 55,
   "metadata": {},
   "outputs": [
    {
     "name": "stdout",
     "output_type": "stream",
     "text": [
      "0 is negative\n",
      "end of code\n"
     ]
    }
   ],
   "source": [
    "# observe 0 is pushed to else and it shows as negative. We do not want this to happen.\n",
    "x = 0\n",
    "if x > 0:\n",
    "    print(f\"{x} is positive\")\n",
    "else:\n",
    "    print(f\"{x} is negative\")\n",
    "print(\"end of code\")"
   ]
  },
  {
   "cell_type": "code",
   "execution_count": 56,
   "metadata": {},
   "outputs": [
    {
     "name": "stdout",
     "output_type": "stream",
     "text": [
      "0 is zero\n",
      "end of code\n"
     ]
    }
   ],
   "source": [
    "# add elif logic to term 0 as 0 and not as positve or negative value\n",
    "x = 0\n",
    "if x > 0:\n",
    "    print(f\"{x} is positive\")\n",
    "elif x == 0:\n",
    "    print(f\"{x} is zero\")\n",
    "else:\n",
    "    print(f\"{x} is negative\")\n",
    "print(\"end of code\")"
   ]
  },
  {
   "cell_type": "code",
   "execution_count": 57,
   "metadata": {},
   "outputs": [
    {
     "name": "stdout",
     "output_type": "stream",
     "text": [
      "end of code\n"
     ]
    }
   ],
   "source": [
    "# what if the number was zero\n",
    "# let us try the same with new variable nbr2\n",
    "nbr2 = 0\n",
    "if nbr2 > 0:\n",
    "    print(f\"{nbr2} is positive\")\n",
    "print(\"end of code\")"
   ]
  },
  {
   "cell_type": "code",
   "execution_count": 58,
   "metadata": {},
   "outputs": [
    {
     "name": "stdout",
     "output_type": "stream",
     "text": [
      "10 is positive\n",
      "end of code\n"
     ]
    }
   ],
   "source": [
    "# as above, the lines of code within if statement executes only when the condition is satisfied.\n",
    "# the rest of the code block executes normal and hence we see \"end of code\" printed.\n",
    "# code logic should handle all scenarios. let us add more scenarios on our actual variable.\n",
    "\n",
    "if nbr > 0:\n",
    "    print(f\"{nbr} is positive\")\n",
    "elif nbr == 0:\n",
    "    print(f\"{nbr} is zero\")\n",
    "else:\n",
    "    print(f\"{nbr} is negative\")\n",
    "print(\"end of code\")"
   ]
  },
  {
   "cell_type": "code",
   "execution_count": 59,
   "metadata": {},
   "outputs": [
    {
     "name": "stdout",
     "output_type": "stream",
     "text": [
      "100.0 is positive\n",
      "end of code\n"
     ]
    }
   ],
   "source": [
    "# use the same logic to test multiple scenarios\n",
    "nbr = float(input())\n",
    "if nbr > 0:\n",
    "    print(f\"{nbr} is positive\")\n",
    "elif nbr == 0:\n",
    "    print(f\"{nbr} is zero\")\n",
    "else:\n",
    "    print(f\"{nbr} is negative\")\n",
    "print(\"end of code\")"
   ]
  },
  {
   "cell_type": "code",
   "execution_count": 60,
   "metadata": {},
   "outputs": [
    {
     "name": "stdout",
     "output_type": "stream",
     "text": [
      "100.0 is positive\n",
      "end of code\n"
     ]
    }
   ],
   "source": [
    "nbr = float(input())\n",
    "if nbr > 0:\n",
    "    print(f\"{nbr} is positive\")\n",
    "elif nbr == 0:\n",
    "    print(f\"{nbr} is zero\")\n",
    "elif nbr<0:\n",
    "    print(f\"{nbr} is negative\")\n",
    "else:\n",
    "    print(\"code did not satify any condition\")\n",
    "print(\"end of code\")"
   ]
  },
  {
   "cell_type": "markdown",
   "metadata": {},
   "source": [
    "#### Nested ifs"
   ]
  },
  {
   "cell_type": "code",
   "execution_count": 61,
   "metadata": {},
   "outputs": [],
   "source": [
    "x = input()"
   ]
  },
  {
   "cell_type": "code",
   "execution_count": 62,
   "metadata": {},
   "outputs": [
    {
     "data": {
      "text/plain": [
       "str"
      ]
     },
     "execution_count": 62,
     "metadata": {},
     "output_type": "execute_result"
    }
   ],
   "source": [
    "type(x)"
   ]
  },
  {
   "cell_type": "code",
   "execution_count": 63,
   "metadata": {},
   "outputs": [],
   "source": [
    "x = float(input())"
   ]
  },
  {
   "cell_type": "code",
   "execution_count": 64,
   "metadata": {},
   "outputs": [
    {
     "data": {
      "text/plain": [
       "float"
      ]
     },
     "execution_count": 64,
     "metadata": {},
     "output_type": "execute_result"
    }
   ],
   "source": [
    "type(x)"
   ]
  },
  {
   "cell_type": "code",
   "execution_count": 65,
   "metadata": {},
   "outputs": [
    {
     "name": "stdout",
     "output_type": "stream",
     "text": [
      "greater than zero\n",
      "value is positive\n"
     ]
    }
   ],
   "source": [
    "if x>=0:\n",
    "    print(\"greater than zero\")\n",
    "    if x==0:\n",
    "        print(\"value is zero\")\n",
    "    else:\n",
    "        print(\"value is positive\")\n",
    "else:\n",
    "    print(\"value is negative\")"
   ]
  },
  {
   "cell_type": "code",
   "execution_count": 66,
   "metadata": {},
   "outputs": [],
   "source": [
    "def get_sign(num):\n",
    "    if num>=0:\n",
    "        print(\"greater than or equal to zero\")\n",
    "        if num==0:\n",
    "            print(\"value is zero\")\n",
    "        else:\n",
    "            print(\"value is positive\")\n",
    "    else:\n",
    "        print(\"value is negative\")"
   ]
  },
  {
   "cell_type": "code",
   "execution_count": 67,
   "metadata": {},
   "outputs": [
    {
     "name": "stdout",
     "output_type": "stream",
     "text": [
      "greater than or equal to zero\n",
      "value is positive\n"
     ]
    }
   ],
   "source": [
    "get_sign(10)"
   ]
  },
  {
   "cell_type": "code",
   "execution_count": 68,
   "metadata": {},
   "outputs": [
    {
     "name": "stdout",
     "output_type": "stream",
     "text": [
      "greater than or equal to zero\n",
      "value is zero\n"
     ]
    }
   ],
   "source": [
    "get_sign(0)"
   ]
  },
  {
   "cell_type": "code",
   "execution_count": 69,
   "metadata": {},
   "outputs": [
    {
     "name": "stdout",
     "output_type": "stream",
     "text": [
      "5\n"
     ]
    }
   ],
   "source": [
    "# format string\n",
    "x = 5\n",
    "print(x)"
   ]
  },
  {
   "cell_type": "code",
   "execution_count": 70,
   "metadata": {},
   "outputs": [
    {
     "name": "stdout",
     "output_type": "stream",
     "text": [
      "variable x is: 5\n"
     ]
    }
   ],
   "source": [
    "print(\"variable x is:\", x)"
   ]
  },
  {
   "cell_type": "code",
   "execution_count": 71,
   "metadata": {},
   "outputs": [
    {
     "data": {
      "text/plain": [
       "'variable x is: {x}'"
      ]
     },
     "execution_count": 71,
     "metadata": {},
     "output_type": "execute_result"
    }
   ],
   "source": [
    "\"variable x is: {x}\""
   ]
  },
  {
   "cell_type": "code",
   "execution_count": 72,
   "metadata": {},
   "outputs": [
    {
     "data": {
      "text/plain": [
       "5"
      ]
     },
     "execution_count": 72,
     "metadata": {},
     "output_type": "execute_result"
    }
   ],
   "source": [
    "x"
   ]
  },
  {
   "cell_type": "code",
   "execution_count": 73,
   "metadata": {},
   "outputs": [
    {
     "data": {
      "text/plain": [
       "'variable x is: 5'"
      ]
     },
     "execution_count": 73,
     "metadata": {},
     "output_type": "execute_result"
    }
   ],
   "source": [
    "f\"variable x is: {x}\""
   ]
  },
  {
   "cell_type": "code",
   "execution_count": 74,
   "metadata": {},
   "outputs": [
    {
     "name": "stdout",
     "output_type": "stream",
     "text": [
      "1|2|4|5\n"
     ]
    }
   ],
   "source": [
    "print(1, 2, 4, 5, sep='|')"
   ]
  }
 ],
 "metadata": {
  "kernelspec": {
   "display_name": "Python 3",
   "language": "python",
   "name": "python3"
  },
  "language_info": {
   "codemirror_mode": {
    "name": "ipython",
    "version": 3
   },
   "file_extension": ".py",
   "mimetype": "text/x-python",
   "name": "python",
   "nbconvert_exporter": "python",
   "pygments_lexer": "ipython3",
   "version": "3.10.5"
  }
 },
 "nbformat": 4,
 "nbformat_minor": 2
}
