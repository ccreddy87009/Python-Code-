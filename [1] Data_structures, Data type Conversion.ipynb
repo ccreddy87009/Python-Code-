{
 "cells": [
  {
   "cell_type": "markdown",
   "metadata": {},
   "source": [
    "## Notes:\n",
    "- Markdown = For writing heading\n",
    "- Code = For writing code \n",
    "- -(hifon) = For writing bullet points\n",
    "- #= For writing Comment"
   ]
  },
  {
   "cell_type": "markdown",
   "metadata": {},
   "source": [
    "# Data Structures:\n",
    "- [A] Primitive Data Types [mutable]\n",
    "    - [1] Int   [Ex: 1,2,3,4,5,6 etc]\n",
    "    - [2] Float [Ex:1.2, 4.5, 6.7 etc]\n",
    "    - [3] String [''] or [\"\"]\n",
    "    - [4] Boolean [Ex: True or False]\n",
    "    - [5] Complex: [Ex: `3 + 7j`]\n",
    "- [B] Advanced Data Types ['mutable + immutable']\n",
    "    - [1] List[]\n",
    "    - [2] Tuple()\n",
    "    - [3] Sets{}\n",
    "    - [4] Dictionary {}\n",
    "\n",
    "\n",
    "## [A] Primitive Data Types:\n",
    "- These are 'immutable'\n",
    "### [1] Int   [Ex: 1,2,3,4,5,6 etc]\n",
    "- [a] type\n",
    "    - What kind of \"data type\" the variable belongs to\n",
    "- [b] isinstance\n",
    "    - It is inbuild function\n",
    "    - Which helps us understand that What kind of data type it is.\n",
    "    - Which helps us to understand whether the variable belogs to a particular data type or not. \n",
    "    - If it is belonging to that data types means then it will written as \"True\" (or) it will written as \"False\"\n",
    "### [2] Float [Ex:1.2, 4.5, 6.7 etc]\n",
    "- [a] type\n",
    "- [b] isinstance\n",
    "### [3] String [''] or [\"\"]\n",
    "### [4] Boolean [Ex: True or False]\n",
    "- It is just True (or) False\n",
    "- In context of Python, \n",
    "    - Digit 0 = False &\n",
    "    - Any other digit = True\n",
    "- Similarly any empty data structure is False.\n",
    "    - int(0) = false\n",
    "    - float(0.0) = false\n",
    "    - [] = false\n",
    "    - () = false\n",
    "    - {} = false\n",
    "### [5] Complex: [Ex: `3 + 7j`]\n",
    "- Complex data type consists of two values, the first one is the real part and the second is imaginary part. \n",
    "\n",
    "## [B] Advanced Data Types:\n",
    "- These are 'mutable + immutable'\n",
    "### [1] List[]\n",
    "- Lists are denoted by square brackets i,e []\n",
    "- lst=[int,float,str,boolean]\n",
    "- Lists are ordered elements, so they have indexs.\n",
    "    - Ex:     [1, 3.4, “Ram”, True]\n",
    "    - Indexs: [0,  1,    2,      3]\n",
    "    - Indexs: [-4, -3,   -2,    -1]\n",
    "    - i,e Indexs start with '0' [From starting end] & '-1' [From other end]\n",
    "- They are mutable and we can modify (add/remove/delete) values within them.\n",
    "    - i,e any element can be replaced within the variable.\n",
    "    - Ex: lst[0]=10\n",
    "- New set of elements can be added to lists.\n",
    "\n",
    "- If we want to findout what value is present in the index means u can use \"Silicing\"\n",
    "    - Ex: lst[0]\n",
    "\n",
    "- Common error comes in \"list\":\n",
    "    - we can use indexes that are available in the variable any beyond means it will through an \"error\"\n",
    "    - Ex: Here length of list is \"8\" and u r asking for \"10th index\" which leads to \"list index out of range\" error.\n",
    "        - i,e IndexError: list index out of range\n",
    "\n",
    "- Common list operations:\n",
    "    - [A] Append [Addition]\n",
    "        - It is used to add one element \"at a time at the end of the list\".\n",
    "        - We canot add 2 elements at a time\n",
    "\n",
    "        - If added it will through error\n",
    "            - If still u want to add means u can use \n",
    "                - \"for-loop\" (or) \n",
    "                - \"Extend\"\n",
    "        - Common error comes in \"list\":\n",
    "            - We canot assign (=) anything to \"Append\", \"Extend\", \"insert\", \"remove\", \"Pop\"\n",
    "            - if u still assigned means that variable will be loss and it will be \"none\"\n",
    "                - Ex: lst0=['a','b','c','d']\n",
    "                -     lst0 = lst0.append(5)\n",
    "                -     print(lst0)\n",
    "                -     Ans: None\n",
    "    - [B] Extend\n",
    "        - Merging two lists is done by using extend\n",
    "\n",
    "        - Common error comes in \"list\":\n",
    "            - We canot assign (=) anything to \"Append\", \"Extend\", \"insert\", \"remove\", \"Pop\"\n",
    "            - if u still assigned means that variable will be loss and it will be \"none\"\n",
    "                - Ex: lst0=['a','b','c','d']\n",
    "                -     lst0 = lst0.extend(5)\n",
    "                -     print(lst0)\n",
    "                -     Ans: None\n",
    "    - [C] Insert\n",
    "        - Insert an element using an index \"at any place\"\n",
    "            - Ex: lst1.insert(0, -1) \n",
    "                - 0=which place we have to insert (0= Zeroth index)\n",
    "                - -1=which element we have to insert\n",
    "\n",
    "    - [D] Remove\n",
    "        - We have to pass only one \"element\" at a time in (), but not \"indexes\"\n",
    "        - If element is present then it will remove (or) else it will through \"error\" message \n",
    "            - Ex: lst1.remove(-1)\n",
    "            - lst1\n",
    "\n",
    "        - Common error comes in \"list\":\n",
    "            - If element is present then it will remove (or) else it will through \"error\" message\n",
    "                - Ex: lst1.remove(-1)\n",
    "                - lst1\n",
    "                - Ans: ValueError: list.remove(x): x not in list\n",
    "        - When there are duplicates it removes only one element at a time.\n",
    "            - It wont remove all the duplicates at once\n",
    "                - Ex: lst3 = [1, 1]\n",
    "                - lst3.remove(1)\n",
    "                - lst3\n",
    "                - Ans: [1]\n",
    "        - Common error comes in \"list\":\n",
    "            - Cannot remove an element which is not present in list\n",
    "                - Ex: lst3.remove(2)\n",
    "    - [E] Pop\n",
    "        - [A] \n",
    "            - By default, Pop removes the \"last element\" from list\n",
    "            - When no value is passed inside (), it removes last index from list.\n",
    "            - Result shows which element was dropped\n",
    "        - [B] \n",
    "            - pop uses \"indexes\" iside (). \n",
    "            - Ex: lst1.pop(0)\n",
    "            - lst1\n",
    "\n",
    "        - Cannot pop an \"empty list\"\n",
    "    - [F] Slicing\n",
    "        - If i want to access \"more than 1 element\" with in a list\n",
    "            - Ex: lst1=[1,2,3,4,5]\n",
    "            -     lst1\n",
    "            -     lst1[:2]\n",
    "        \n",
    "        - If i want to access \"All elements\" with in a list\n",
    "            - Ex: lst1=[1,2,3,4,5]\n",
    "            -     lst1\n",
    "            -     lst1[:100]\n",
    "    - [G] Reverse\n",
    "        - If u want to reverse the order then we will use this function (.reverse)\n",
    "            - Ex: lst1.reverse()\n",
    "            -     lst1\n",
    "\n",
    "    - [H] Sort\n",
    "        - If u want to put values in \"sorted format\" then use this.\n",
    "            - [A] Works only for \"single data type\"\n",
    "                - Ex: lst0 =['#', '1', 'z', 'a', 'y', '$', 'b', 'c', 'd']\n",
    "                - sorted(lst0)\n",
    "            - [B] - It wonot works on \"Multiple (or) dis-similar data types\"\n",
    "                - Ex: lst0 =['#', '1', 1, 'a', 'y', True, 'b', 'c', 10.5]\n",
    "                - sorted(lst0)\n",
    "\n",
    "### [2] Tuple()\n",
    "- Tuples are denoted by paranthesis i,e ()\n",
    "- tp1=[int,float,str,boolean]\n",
    "- Tuples are ordered elements, so they have indexs.\n",
    "    - Ex:     [1, 3.4, “Ram”, True]\n",
    "    - Indexs: [0,  1,    2,      3]\n",
    "    - Indexs: [-4, -3,   -2,    -1]\n",
    "    - i,e Indexs start with '0' [From starting end] & '-1' [From other end]\n",
    "- They are non mutable and we cannot modify (add/remove/delete) values within them\n",
    "\n",
    "- Common tuple operations:\n",
    "    - [A] Append [Addition] ------XXX\n",
    "    - [B] Extend -----------------XXX\n",
    "    - [C] Insert -----------------XXX\n",
    "    - [D] Remove -----------------XXX\n",
    "    - [E] pop --------------------XXX\n",
    "    - [F] Slicing------------------OK\n",
    "        - If i want to access \"more than 1 element\" with in a list\n",
    "            - Ex: tp1=(1,2,3,4,5)\n",
    "            -     tpl\n",
    "            -     tpl[:2]\n",
    "        \n",
    "        - If i want to access \"All elements\" with in a list\n",
    "            - Ex: tp1=(1,2,3,4,5)\n",
    "            -     tpl\n",
    "            -     tpl[:100]\n",
    "\n",
    "        - Common error comes in \"tuple\":\n",
    "            - We canot assign (=) anything to \"Append\", \"Extend\", \"insert\", \"remove\", \"Pop\"\n",
    "            - if u still assigned means that variable will be loss and it will be \"none\"\n",
    "                - Ex: tpl0=['a','b','c','d']\n",
    "                -     tpl0 = tpl0.extend(5)\n",
    "                -     print(tpl0)\n",
    "                -     Ans: None ['tuple' object does not support item assignment]\n",
    "\n",
    "    - [G] Reverse------------------OK\n",
    "    - [H] Sort---------------------OK\n",
    "\n",
    "### [3] Sets {}\n",
    "- Sets are denoted by \"flower brackets/Curly braces\" i,e {} \n",
    "- Sets=[int] or Sets=[float] or Sets=[str] or Sets=[boolean]\n",
    "- Set by default will take \"unique elements\" (i,e it won't take duplicate values)\n",
    "- Sets are un-ordered elements, so they donot have indexs.\n",
    "    - Ex:     [1, 2, 2, 3, 4, 5]\n",
    "- They are non mutable and we cannot modify (add/remove/delete) values within them.\n",
    "- Common set operations:\n",
    "    - [A] Append [Addition]\n",
    "    - [B] Extend \n",
    "    - [C] Insert \n",
    "    - [D] Remove \n",
    "    - [E] pop \n",
    "    - [F] Slicing------------------XXX\n",
    "    - [G] Reverse------------------XXX\n",
    "    - [H] Sort---------------------XXX\n",
    "\n",
    "### [4] Dictionary {}\n",
    "- Dictinory are denoted by \"flower brackets/Curly braces\" i,e {} \n",
    "- Like in \"List\" & \"Tuple\" we are accessing through \"indexs\", here We can access by using \"keys\"\n",
    "    - Ex: {\"name\": \"sanjeev\"} = {\"Key\" : \"name\"}\n",
    "    - Ex: mydict[\"name\"] ------- 'variable' followed by the 'key name'     \n",
    "- They are mutable and we cannot modify (add/remove/delete) values within them.\n",
    "- Common list operations:\n",
    "    - [A] Append [Addition]\n",
    "    - [B] Extend \n",
    "    - [C] Insert \n",
    "    - [D] Remove \n",
    "    - [E] pop \n",
    "    - [F] Slicing------------------XXX\n",
    "    - [G] Reverse------------------XXX\n",
    "    - [H] Sort\n",
    "\n",
    "- Common key operations:\n",
    "    - [A] keys:\n",
    "        - Shows list of keys we will use \".keys()\"\n",
    "            - .keys()\n",
    "            - Ex: mydict.keys()\n",
    "    - [B] items:\n",
    "        - To show list of items mappings we will use \".items()\"\n",
    "        - It will give out put as list of tuples.\n",
    "    - .items()\n",
    "    mydict.items()\n",
    "    \n",
    "    - [C] values\n",
    "        - To show list of values we will use \".values()\"\n",
    "            - .values()\n",
    "            - Ex: mydict.values()"
   ]
  },
  {
   "cell_type": "markdown",
   "metadata": {},
   "source": [
    "- An overview of common data types that we come acrros in Python"
   ]
  },
  {
   "cell_type": "markdown",
   "metadata": {},
   "source": [
    "# [A] Primitive Data Types\n",
    "### [1] Int [Ex: 1,2,3,4,5,6 etc]\n",
    "### [2] Float [Ex:1.2, 4.5, 6.7 etc]"
   ]
  },
  {
   "cell_type": "markdown",
   "metadata": {},
   "source": [
    "#### Type\n",
    "- What kind of \"data type\" the variable belongs to"
   ]
  },
  {
   "cell_type": "code",
   "execution_count": 6,
   "metadata": {},
   "outputs": [
    {
     "name": "stdout",
     "output_type": "stream",
     "text": [
      "<class 'int'>\n"
     ]
    }
   ],
   "source": [
    "Age = 16\n",
    "print(type(Age))"
   ]
  },
  {
   "cell_type": "code",
   "execution_count": 7,
   "metadata": {},
   "outputs": [
    {
     "data": {
      "text/plain": [
       "int"
      ]
     },
     "execution_count": 7,
     "metadata": {},
     "output_type": "execute_result"
    }
   ],
   "source": [
    "Age = 16 \n",
    "type(Age)"
   ]
  },
  {
   "cell_type": "markdown",
   "metadata": {},
   "source": [
    "### isinstance\n",
    "- It is inbuild function\n",
    "- Which helps us understand that What kind of data type it is.\n",
    "- Which helps us to understand whether the variable belogs to a particular data type or not. \n",
    "- If it is belonging to that data types means then it will written as \"True\" (or) it will written as \"False\""
   ]
  },
  {
   "cell_type": "code",
   "execution_count": 10,
   "metadata": {},
   "outputs": [
    {
     "data": {
      "text/plain": [
       "True"
      ]
     },
     "execution_count": 10,
     "metadata": {},
     "output_type": "execute_result"
    }
   ],
   "source": [
    "isinstance(Age,int)"
   ]
  },
  {
   "cell_type": "code",
   "execution_count": 11,
   "metadata": {},
   "outputs": [
    {
     "data": {
      "text/plain": [
       "False"
      ]
     },
     "execution_count": 11,
     "metadata": {},
     "output_type": "execute_result"
    }
   ],
   "source": [
    "isinstance(Age,float)"
   ]
  },
  {
   "cell_type": "code",
   "execution_count": 12,
   "metadata": {},
   "outputs": [
    {
     "data": {
      "text/plain": [
       "False"
      ]
     },
     "execution_count": 12,
     "metadata": {},
     "output_type": "execute_result"
    }
   ],
   "source": [
    "isinstance(Age,str)"
   ]
  },
  {
   "cell_type": "code",
   "execution_count": 14,
   "metadata": {},
   "outputs": [
    {
     "data": {
      "text/plain": [
       "int"
      ]
     },
     "execution_count": 14,
     "metadata": {},
     "output_type": "execute_result"
    }
   ],
   "source": [
    "x=10\n",
    "type(x)"
   ]
  },
  {
   "cell_type": "code",
   "execution_count": 15,
   "metadata": {},
   "outputs": [
    {
     "data": {
      "text/plain": [
       "float"
      ]
     },
     "execution_count": 15,
     "metadata": {},
     "output_type": "execute_result"
    }
   ],
   "source": [
    "x = 12.5\n",
    "type(x)"
   ]
  },
  {
   "cell_type": "code",
   "execution_count": 17,
   "metadata": {},
   "outputs": [
    {
     "data": {
      "text/plain": [
       "float"
      ]
     },
     "execution_count": 17,
     "metadata": {},
     "output_type": "execute_result"
    }
   ],
   "source": [
    "y = 12.5\n",
    "type(y)\n",
    "type(y)"
   ]
  },
  {
   "cell_type": "markdown",
   "metadata": {},
   "source": [
    "### \"int\" and \"float\" can be used with operands\n",
    "### We can add only."
   ]
  },
  {
   "cell_type": "code",
   "execution_count": 18,
   "metadata": {},
   "outputs": [
    {
     "data": {
      "text/plain": [
       "25.0"
      ]
     },
     "execution_count": 18,
     "metadata": {},
     "output_type": "execute_result"
    }
   ],
   "source": [
    "x+y"
   ]
  },
  {
   "cell_type": "code",
   "execution_count": 19,
   "metadata": {},
   "outputs": [
    {
     "data": {
      "text/plain": [
       "0.0"
      ]
     },
     "execution_count": 19,
     "metadata": {},
     "output_type": "execute_result"
    }
   ],
   "source": [
    "x-y"
   ]
  },
  {
   "cell_type": "code",
   "execution_count": 20,
   "metadata": {},
   "outputs": [
    {
     "data": {
      "text/plain": [
       "1.0"
      ]
     },
     "execution_count": 20,
     "metadata": {},
     "output_type": "execute_result"
    }
   ],
   "source": [
    "x/y"
   ]
  },
  {
   "cell_type": "code",
   "execution_count": 21,
   "metadata": {},
   "outputs": [
    {
     "data": {
      "text/plain": [
       "0.0"
      ]
     },
     "execution_count": 21,
     "metadata": {},
     "output_type": "execute_result"
    }
   ],
   "source": [
    "x%y"
   ]
  },
  {
   "cell_type": "code",
   "execution_count": 22,
   "metadata": {},
   "outputs": [
    {
     "data": {
      "text/plain": [
       "float"
      ]
     },
     "execution_count": 22,
     "metadata": {},
     "output_type": "execute_result"
    }
   ],
   "source": [
    "type(x+y)"
   ]
  },
  {
   "cell_type": "markdown",
   "metadata": {},
   "source": [
    "## [3] String [''] or [\"\"]"
   ]
  },
  {
   "cell_type": "code",
   "execution_count": 53,
   "metadata": {},
   "outputs": [
    {
     "data": {
      "text/plain": [
       "'a'"
      ]
     },
     "execution_count": 53,
     "metadata": {},
     "output_type": "execute_result"
    }
   ],
   "source": [
    "x=['a','b']\n",
    "x[0]"
   ]
  },
  {
   "cell_type": "code",
   "execution_count": 54,
   "metadata": {},
   "outputs": [
    {
     "data": {
      "text/plain": [
       "'b'"
      ]
     },
     "execution_count": 54,
     "metadata": {},
     "output_type": "execute_result"
    }
   ],
   "source": [
    "x[1]"
   ]
  },
  {
   "cell_type": "code",
   "execution_count": 29,
   "metadata": {},
   "outputs": [
    {
     "data": {
      "text/plain": [
       "'a'"
      ]
     },
     "execution_count": 29,
     "metadata": {},
     "output_type": "execute_result"
    }
   ],
   "source": [
    "x = 'abc,'\n",
    "x = \"abc\"\n",
    "x[0]"
   ]
  },
  {
   "cell_type": "code",
   "execution_count": 30,
   "metadata": {},
   "outputs": [
    {
     "data": {
      "text/plain": [
       "'a'"
      ]
     },
     "execution_count": 30,
     "metadata": {},
     "output_type": "execute_result"
    }
   ],
   "source": [
    "z = 'a, b, c, d'\n",
    "z[0]"
   ]
  },
  {
   "cell_type": "code",
   "execution_count": 31,
   "metadata": {},
   "outputs": [
    {
     "data": {
      "text/plain": [
       "','"
      ]
     },
     "execution_count": 31,
     "metadata": {},
     "output_type": "execute_result"
    }
   ],
   "source": [
    "z[1]"
   ]
  },
  {
   "cell_type": "code",
   "execution_count": 32,
   "metadata": {},
   "outputs": [
    {
     "ename": "TypeError",
     "evalue": "'str' object does not support item assignment",
     "output_type": "error",
     "traceback": [
      "\u001b[1;31m---------------------------------------------------------------------------\u001b[0m",
      "\u001b[1;31mTypeError\u001b[0m                                 Traceback (most recent call last)",
      "Cell \u001b[1;32mIn[32], line 1\u001b[0m\n\u001b[1;32m----> 1\u001b[0m \u001b[43mx\u001b[49m\u001b[43m[\u001b[49m\u001b[38;5;241;43m0\u001b[39;49m\u001b[43m]\u001b[49m\u001b[38;5;241m=\u001b[39m\u001b[38;5;124m'\u001b[39m\u001b[38;5;124mz\u001b[39m\u001b[38;5;124m'\u001b[39m\n",
      "\u001b[1;31mTypeError\u001b[0m: 'str' object does not support item assignment"
     ]
    }
   ],
   "source": [
    "x[0]='z'"
   ]
  },
  {
   "cell_type": "code",
   "execution_count": 33,
   "metadata": {},
   "outputs": [
    {
     "data": {
      "text/plain": [
       "str"
      ]
     },
     "execution_count": 33,
     "metadata": {},
     "output_type": "execute_result"
    }
   ],
   "source": [
    "type(x)"
   ]
  },
  {
   "cell_type": "markdown",
   "metadata": {},
   "source": [
    "## [4] Boolean\n",
    "- It is just True (or) False\n",
    "- In context of Python, \n",
    "    - Digit 0 = False &\n",
    "    - Any other digit = True\n",
    "- Similarly any empty data structure is False.\n",
    "    - int(0) = false\n",
    "    - float(0.0) = false\n",
    "    - [] = false\n",
    "    - () = false\n",
    "    - {} = false"
   ]
  },
  {
   "cell_type": "code",
   "execution_count": 34,
   "metadata": {},
   "outputs": [
    {
     "data": {
      "text/plain": [
       "True"
      ]
     },
     "execution_count": 34,
     "metadata": {},
     "output_type": "execute_result"
    }
   ],
   "source": [
    "x = [1]\n",
    "bool(x)"
   ]
  },
  {
   "cell_type": "code",
   "execution_count": 35,
   "metadata": {},
   "outputs": [
    {
     "data": {
      "text/plain": [
       "False"
      ]
     },
     "execution_count": 35,
     "metadata": {},
     "output_type": "execute_result"
    }
   ],
   "source": [
    "x = []\n",
    "bool(x)"
   ]
  },
  {
   "cell_type": "code",
   "execution_count": 36,
   "metadata": {},
   "outputs": [
    {
     "name": "stdout",
     "output_type": "stream",
     "text": [
      "condition did not pass\n"
     ]
    }
   ],
   "source": [
    "if x:\n",
    "    print('x is not empty')\n",
    "else:\n",
    "    print(\"condition did not pass\")"
   ]
  },
  {
   "cell_type": "code",
   "execution_count": 37,
   "metadata": {},
   "outputs": [
    {
     "data": {
      "text/plain": [
       "bool"
      ]
     },
     "execution_count": 37,
     "metadata": {},
     "output_type": "execute_result"
    }
   ],
   "source": [
    "type(True)"
   ]
  },
  {
   "cell_type": "code",
   "execution_count": 38,
   "metadata": {},
   "outputs": [
    {
     "data": {
      "text/plain": [
       "bool"
      ]
     },
     "execution_count": 38,
     "metadata": {},
     "output_type": "execute_result"
    }
   ],
   "source": [
    "type(False)"
   ]
  },
  {
   "cell_type": "code",
   "execution_count": 39,
   "metadata": {},
   "outputs": [
    {
     "name": "stdout",
     "output_type": "stream",
     "text": [
      "False\n"
     ]
    },
    {
     "data": {
      "text/plain": [
       "bool"
      ]
     },
     "execution_count": 39,
     "metadata": {},
     "output_type": "execute_result"
    }
   ],
   "source": [
    "x = 0\n",
    "x = bool(x)\n",
    "print(x)\n",
    "type(x)"
   ]
  },
  {
   "cell_type": "code",
   "execution_count": 40,
   "metadata": {},
   "outputs": [
    {
     "name": "stdout",
     "output_type": "stream",
     "text": [
      "True\n"
     ]
    },
    {
     "data": {
      "text/plain": [
       "bool"
      ]
     },
     "execution_count": 40,
     "metadata": {},
     "output_type": "execute_result"
    }
   ],
   "source": [
    "x = 1\n",
    "x = bool(x)\n",
    "print(x)\n",
    "type(x)"
   ]
  },
  {
   "cell_type": "code",
   "execution_count": 41,
   "metadata": {},
   "outputs": [
    {
     "name": "stdout",
     "output_type": "stream",
     "text": [
      "True\n"
     ]
    },
    {
     "data": {
      "text/plain": [
       "bool"
      ]
     },
     "execution_count": 41,
     "metadata": {},
     "output_type": "execute_result"
    }
   ],
   "source": [
    "x = -1\n",
    "x = bool(x)\n",
    "print(x)\n",
    "type(x)"
   ]
  },
  {
   "cell_type": "code",
   "execution_count": 42,
   "metadata": {},
   "outputs": [
    {
     "name": "stdout",
     "output_type": "stream",
     "text": [
      "False\n"
     ]
    },
    {
     "data": {
      "text/plain": [
       "bool"
      ]
     },
     "execution_count": 42,
     "metadata": {},
     "output_type": "execute_result"
    }
   ],
   "source": [
    "x = []\n",
    "x = bool(x)\n",
    "print(x)\n",
    "type(x)"
   ]
  },
  {
   "cell_type": "code",
   "execution_count": 43,
   "metadata": {},
   "outputs": [
    {
     "name": "stdout",
     "output_type": "stream",
     "text": [
      "True\n"
     ]
    },
    {
     "data": {
      "text/plain": [
       "bool"
      ]
     },
     "execution_count": 43,
     "metadata": {},
     "output_type": "execute_result"
    }
   ],
   "source": [
    "x = [1]\n",
    "x = bool(x)\n",
    "print(x)\n",
    "type(x)"
   ]
  },
  {
   "cell_type": "code",
   "execution_count": 44,
   "metadata": {},
   "outputs": [
    {
     "name": "stdout",
     "output_type": "stream",
     "text": [
      "Five is greater than two!\n"
     ]
    }
   ],
   "source": [
    "if 5 > 2:\n",
    "  print(\"Five is greater than two!\")"
   ]
  },
  {
   "cell_type": "markdown",
   "metadata": {},
   "source": [
    "# [B] Advanced Data Types\n",
    "## [1] Lists []\n",
    "- Lists are denoted by square brackets i,e []\n",
    "- lst=[int,float,str,boolean]\n",
    "- Lists are ordered elements, so they have indexs.\n",
    "    - Ex:     [1, 3.4, “Ram”, True]\n",
    "    - Indexs: [0,  1,    2,      3]\n",
    "    - Indexs: [-4, -3,   -2,    -1]\n",
    "    - i,e Indexs start with '0' [From starting end] & '-1' [From other end]\n",
    "- They are mutable and we can modify (add/remove/delete) values within them.\n",
    "    - i,e any element can be replaced within the variable. \n",
    "    - Ex: lst[0]=10\n",
    "- New set of elements can be added to lists.\n",
    "\n",
    "### Mutable\n",
    "- [A] append\n",
    "- [B] extend\n",
    "- [C] insert\n",
    "- [D] remove\n",
    "- [E] pop\n",
    "- [F] slicing\n",
    "- [G] reverse\n",
    "- [H] sort\n"
   ]
  },
  {
   "cell_type": "code",
   "execution_count": 47,
   "metadata": {},
   "outputs": [],
   "source": [
    "# lst is list of numbers here\n",
    "lst=[1,2,3,4,5,6.7,'sanjeev',True]"
   ]
  },
  {
   "cell_type": "code",
   "execution_count": 48,
   "metadata": {},
   "outputs": [
    {
     "name": "stdout",
     "output_type": "stream",
     "text": [
      "<class 'list'>\n"
     ]
    }
   ],
   "source": [
    "print(type(lst))"
   ]
  },
  {
   "cell_type": "markdown",
   "metadata": {},
   "source": [
    "#### If we want to findout what value is present in the index means u can use \"Silicing\""
   ]
  },
  {
   "cell_type": "code",
   "execution_count": 49,
   "metadata": {},
   "outputs": [
    {
     "data": {
      "text/plain": [
       "1"
      ]
     },
     "execution_count": 49,
     "metadata": {},
     "output_type": "execute_result"
    }
   ],
   "source": [
    "lst[0]"
   ]
  },
  {
   "cell_type": "code",
   "execution_count": 50,
   "metadata": {},
   "outputs": [
    {
     "data": {
      "text/plain": [
       "2"
      ]
     },
     "execution_count": 50,
     "metadata": {},
     "output_type": "execute_result"
    }
   ],
   "source": [
    "lst[1]"
   ]
  },
  {
   "cell_type": "code",
   "execution_count": 51,
   "metadata": {},
   "outputs": [
    {
     "data": {
      "text/plain": [
       "[10, 2, 3, 4, 5, 6.7, 'sanjeev', True]"
      ]
     },
     "execution_count": 51,
     "metadata": {},
     "output_type": "execute_result"
    }
   ],
   "source": [
    "lst[0]=10\n",
    "lst"
   ]
  },
  {
   "cell_type": "markdown",
   "metadata": {},
   "source": [
    "#### Accessing elements within lists using index"
   ]
  },
  {
   "cell_type": "markdown",
   "metadata": {},
   "source": [
    "- In Python the indexes start from 0 rather than 1.\n",
    "- In other words, use 0 for first and 1 for second and so on.\n",
    "- i,e Indexes start with '0' [From starting end] & '-1' [From other end]\n",
    "    - Indexs: [0,  1,    2,      3]\n",
    "    - Indexs: [-4, -3,   -2,    -1]"
   ]
  },
  {
   "cell_type": "code",
   "execution_count": 59,
   "metadata": {},
   "outputs": [
    {
     "data": {
      "text/plain": [
       "10"
      ]
     },
     "execution_count": 59,
     "metadata": {},
     "output_type": "execute_result"
    }
   ],
   "source": [
    "lst[0]"
   ]
  },
  {
   "cell_type": "code",
   "execution_count": 60,
   "metadata": {},
   "outputs": [
    {
     "data": {
      "text/plain": [
       "2"
      ]
     },
     "execution_count": 60,
     "metadata": {},
     "output_type": "execute_result"
    }
   ],
   "source": [
    "lst[1]"
   ]
  },
  {
   "cell_type": "code",
   "execution_count": 61,
   "metadata": {},
   "outputs": [
    {
     "data": {
      "text/plain": [
       "True"
      ]
     },
     "execution_count": 61,
     "metadata": {},
     "output_type": "execute_result"
    }
   ],
   "source": [
    "# access the last element\n",
    "lst[-1]"
   ]
  },
  {
   "cell_type": "code",
   "execution_count": 62,
   "metadata": {},
   "outputs": [
    {
     "data": {
      "text/plain": [
       "'sanjeev'"
      ]
     },
     "execution_count": 62,
     "metadata": {},
     "output_type": "execute_result"
    }
   ],
   "source": [
    "# last but one\n",
    "lst[-2]"
   ]
  },
  {
   "cell_type": "code",
   "execution_count": 63,
   "metadata": {},
   "outputs": [
    {
     "data": {
      "text/plain": [
       "8"
      ]
     },
     "execution_count": 63,
     "metadata": {},
     "output_type": "execute_result"
    }
   ],
   "source": [
    "len(lst)"
   ]
  },
  {
   "cell_type": "markdown",
   "metadata": {},
   "source": [
    "#### Common error comes in \"list\":\n",
    "- we can use indexes that are available in the variable any beyond means it will through an \"error\"\n",
    "- Ex: Here length of list is \"8\" and u r asking for \"10th index\" which leads to \"list index out of range\" error.\n",
    "    - i,e IndexError: list index out of range"
   ]
  },
  {
   "cell_type": "code",
   "execution_count": 64,
   "metadata": {},
   "outputs": [
    {
     "ename": "IndexError",
     "evalue": "list index out of range",
     "output_type": "error",
     "traceback": [
      "\u001b[1;31m---------------------------------------------------------------------------\u001b[0m",
      "\u001b[1;31mIndexError\u001b[0m                                Traceback (most recent call last)",
      "Cell \u001b[1;32mIn[64], line 1\u001b[0m\n\u001b[1;32m----> 1\u001b[0m \u001b[43mlst\u001b[49m\u001b[43m[\u001b[49m\u001b[38;5;241;43m10\u001b[39;49m\u001b[43m]\u001b[49m\n",
      "\u001b[1;31mIndexError\u001b[0m: list index out of range"
     ]
    }
   ],
   "source": [
    "lst[10]"
   ]
  },
  {
   "cell_type": "markdown",
   "metadata": {},
   "source": [
    "### Common list operations:\n",
    "#### [A] Append [Addition]\n",
    "- It is used to add one element \"at a time at the end of the list\"."
   ]
  },
  {
   "cell_type": "code",
   "execution_count": 66,
   "metadata": {},
   "outputs": [
    {
     "data": {
      "text/plain": [
       "[10, 2, 3, 4, 5, 6.7, 'sanjeev', True]"
      ]
     },
     "execution_count": 66,
     "metadata": {},
     "output_type": "execute_result"
    }
   ],
   "source": [
    "lst"
   ]
  },
  {
   "cell_type": "code",
   "execution_count": 67,
   "metadata": {},
   "outputs": [
    {
     "name": "stdout",
     "output_type": "stream",
     "text": [
      "['a', 'b', 'c', 'd']\n"
     ]
    }
   ],
   "source": [
    "lst0 = ['a', 'b', 'c', 'd']\n",
    "print(lst0)"
   ]
  },
  {
   "cell_type": "code",
   "execution_count": 68,
   "metadata": {},
   "outputs": [
    {
     "data": {
      "text/plain": [
       "['a', 'b', 'c', 'd', 'e']"
      ]
     },
     "execution_count": 68,
     "metadata": {},
     "output_type": "execute_result"
    }
   ],
   "source": [
    "lst0 = ['a', 'b', 'c', 'd']\n",
    "lst0.append('e')\n",
    "lst0"
   ]
  },
  {
   "cell_type": "markdown",
   "metadata": {},
   "source": [
    "- We canot add 2 elements at a time\n",
    "- If added it will through error\n",
    "\n",
    "- If still u want to add means u can use \n",
    "    - \"for-loop\" (or) \n",
    "    - \"Extend\""
   ]
  },
  {
   "cell_type": "code",
   "execution_count": 69,
   "metadata": {},
   "outputs": [
    {
     "ename": "TypeError",
     "evalue": "list.append() takes exactly one argument (2 given)",
     "output_type": "error",
     "traceback": [
      "\u001b[1;31m---------------------------------------------------------------------------\u001b[0m",
      "\u001b[1;31mTypeError\u001b[0m                                 Traceback (most recent call last)",
      "Cell \u001b[1;32mIn[69], line 1\u001b[0m\n\u001b[1;32m----> 1\u001b[0m \u001b[43mlst0\u001b[49m\u001b[38;5;241;43m.\u001b[39;49m\u001b[43mappend\u001b[49m\u001b[43m(\u001b[49m\u001b[38;5;124;43m'\u001b[39;49m\u001b[38;5;124;43me\u001b[39;49m\u001b[38;5;124;43m'\u001b[39;49m\u001b[43m,\u001b[49m\u001b[38;5;124;43m'\u001b[39;49m\u001b[38;5;124;43mf\u001b[39;49m\u001b[38;5;124;43m'\u001b[39;49m\u001b[43m)\u001b[49m\n",
      "\u001b[1;31mTypeError\u001b[0m: list.append() takes exactly one argument (2 given)"
     ]
    }
   ],
   "source": [
    "lst0.append('e','f')"
   ]
  },
  {
   "cell_type": "code",
   "execution_count": 142,
   "metadata": {},
   "outputs": [
    {
     "name": "stdout",
     "output_type": "stream",
     "text": [
      "['a', 'b', 'c', 'd', 5]\n"
     ]
    }
   ],
   "source": [
    "lst0=['a', 'b', 'c', 'd']\n",
    "lst0.append(5)\n",
    "print(lst0)"
   ]
  },
  {
   "cell_type": "markdown",
   "metadata": {},
   "source": [
    "#### Common error comes in \"list\":\n",
    "- We canot assign (=) anything to \"Append\", \"Extend\", \"insert\", \"remove\", \"Pop\"\n",
    "- if u still assigned means that variable will be loss and it will be \"none\""
   ]
  },
  {
   "cell_type": "code",
   "execution_count": 143,
   "metadata": {},
   "outputs": [
    {
     "name": "stdout",
     "output_type": "stream",
     "text": [
      "None\n"
     ]
    }
   ],
   "source": [
    "lst0 = lst0.append('f')\n",
    "lst0\n",
    "print(lst0)"
   ]
  },
  {
   "cell_type": "code",
   "execution_count": 144,
   "metadata": {},
   "outputs": [
    {
     "ename": "AttributeError",
     "evalue": "'NoneType' object has no attribute 'append'",
     "output_type": "error",
     "traceback": [
      "\u001b[1;31m---------------------------------------------------------------------------\u001b[0m",
      "\u001b[1;31mAttributeError\u001b[0m                            Traceback (most recent call last)",
      "Cell \u001b[1;32mIn[144], line 1\u001b[0m\n\u001b[1;32m----> 1\u001b[0m \u001b[43mlst0\u001b[49m\u001b[38;5;241;43m.\u001b[39;49m\u001b[43mappend\u001b[49m(\u001b[38;5;241m20\u001b[39m)\n\u001b[0;32m      2\u001b[0m lst0\n",
      "\u001b[1;31mAttributeError\u001b[0m: 'NoneType' object has no attribute 'append'"
     ]
    }
   ],
   "source": [
    "lst0.append(20)\n",
    "lst0"
   ]
  },
  {
   "cell_type": "markdown",
   "metadata": {},
   "source": [
    "#### [B] Extend\n",
    "- Merging two lists is done by using extend"
   ]
  },
  {
   "cell_type": "code",
   "execution_count": 2,
   "metadata": {},
   "outputs": [
    {
     "name": "stdout",
     "output_type": "stream",
     "text": [
      "[1, 2, 3, 4, 5, 6]\n",
      "[4, 5, 6]\n"
     ]
    }
   ],
   "source": [
    "lst1=[1,2,3]\n",
    "lst2=[4,5,6]\n",
    "lst1.extend(lst2)\n",
    "print(lst1)\n",
    "print(lst2)"
   ]
  },
  {
   "cell_type": "code",
   "execution_count": 3,
   "metadata": {},
   "outputs": [
    {
     "data": {
      "text/plain": [
       "[1, 2, 3, 4, 5, 6, [4, 5, 6]]"
      ]
     },
     "execution_count": 3,
     "metadata": {},
     "output_type": "execute_result"
    }
   ],
   "source": [
    "lst1.append(lst2)\n",
    "lst1"
   ]
  },
  {
   "cell_type": "code",
   "execution_count": 4,
   "metadata": {},
   "outputs": [
    {
     "data": {
      "text/plain": [
       "[4, 5, 6]"
      ]
     },
     "execution_count": 4,
     "metadata": {},
     "output_type": "execute_result"
    }
   ],
   "source": [
    "lst1[-1]"
   ]
  },
  {
   "cell_type": "code",
   "execution_count": 5,
   "metadata": {},
   "outputs": [
    {
     "data": {
      "text/plain": [
       "[4, 5, 6]"
      ]
     },
     "execution_count": 5,
     "metadata": {},
     "output_type": "execute_result"
    }
   ],
   "source": [
    "lst2"
   ]
  },
  {
   "cell_type": "markdown",
   "metadata": {},
   "source": [
    "#### Common error comes in \"list\":\n",
    "- We canot assign (=) anything to \"Append\", \"Extend\", \"insert\", \"remove\", \"Pop\"\n",
    "- if u still assigned means that variable will be loss and it will be \"none\""
   ]
  },
  {
   "cell_type": "code",
   "execution_count": 6,
   "metadata": {},
   "outputs": [
    {
     "name": "stdout",
     "output_type": "stream",
     "text": [
      "None\n"
     ]
    }
   ],
   "source": [
    "lst1 = lst1.append('f')\n",
    "lst1\n",
    "print(lst1)"
   ]
  },
  {
   "cell_type": "markdown",
   "metadata": {},
   "source": [
    "#### [C] Insert\n",
    "- Insert an element using an index \"at any place\"\n",
    "    - Ex: lst1.insert(0, -1) \n",
    "        - 0=which place we have to insert (0= Zeroth index)\n",
    "        - -1=which element we have to insert"
   ]
  },
  {
   "cell_type": "code",
   "execution_count": 7,
   "metadata": {},
   "outputs": [
    {
     "ename": "NameError",
     "evalue": "name 'lst' is not defined",
     "output_type": "error",
     "traceback": [
      "\u001b[1;31m---------------------------------------------------------------------------\u001b[0m",
      "\u001b[1;31mNameError\u001b[0m                                 Traceback (most recent call last)",
      "Cell \u001b[1;32mIn[7], line 2\u001b[0m\n\u001b[0;32m      1\u001b[0m lst1\u001b[38;5;241m=\u001b[39m[\u001b[38;5;241m1\u001b[39m,\u001b[38;5;241m2\u001b[39m,\u001b[38;5;241m3\u001b[39m,\u001b[38;5;241m4\u001b[39m,\u001b[38;5;241m5\u001b[39m,\u001b[38;5;241m6\u001b[39m,[\u001b[38;5;241m4\u001b[39m,\u001b[38;5;241m5\u001b[39m,\u001b[38;5;241m6\u001b[39m]]\n\u001b[1;32m----> 2\u001b[0m \u001b[43mlst\u001b[49m\n",
      "\u001b[1;31mNameError\u001b[0m: name 'lst' is not defined"
     ]
    }
   ],
   "source": [
    "lst1=[1,2,3,4,5,6,[4,5,6]]\n",
    "lst"
   ]
  },
  {
   "cell_type": "markdown",
   "metadata": {},
   "source": [
    "##### print:\n",
    "- It is an in-built function\n",
    "- U are free to send any number of arguments inside of it. (Ex:10/20/30 etc.)"
   ]
  },
  {
   "cell_type": "code",
   "execution_count": 8,
   "metadata": {},
   "outputs": [
    {
     "name": "stdout",
     "output_type": "stream",
     "text": [
      "[1, 2, 3, 4, 5, 6, [4, 5, 6]]\n",
      "list value after putting -1 at 0th index: [-1, 1, 2, 3, 4, 5, 6, [4, 5, 6]]\n",
      "list value after putting -1 at 0th index: [-1, 1, 2, 3, 4, 5, 6, [4, 5, 6]]\n"
     ]
    }
   ],
   "source": [
    "# notice how elements shift towards right.\n",
    "\n",
    "print(lst1)\n",
    "lst1.insert(0, -1) \n",
    "# 0=which place we have to insert (0= Zeroth index)\n",
    "# -1=which element we have to insert\n",
    "print(f\"list value after putting -1 at 0th index: {lst1}\") #Format String format\n",
    "#                                   [OR]\n",
    "print(\"list value after putting -1 at 0th index:\",  lst1) #without Format String format\n"
   ]
  },
  {
   "cell_type": "markdown",
   "metadata": {},
   "source": [
    "#### [D] Remove\n",
    "- We have to pass only one \"element\" at a time in (), but not \"indexes\"\n",
    "- If element is present then it will remove (or) else it will through \"error\" message "
   ]
  },
  {
   "cell_type": "code",
   "execution_count": 9,
   "metadata": {},
   "outputs": [
    {
     "data": {
      "text/plain": [
       "[-1, 1, 2, 3, 4, 5, 6, [4, 5, 6]]"
      ]
     },
     "execution_count": 9,
     "metadata": {},
     "output_type": "execute_result"
    }
   ],
   "source": [
    "lst1"
   ]
  },
  {
   "cell_type": "code",
   "execution_count": 10,
   "metadata": {},
   "outputs": [
    {
     "data": {
      "text/plain": [
       "[1, 2, 3, 4, 5, 6, [4, 5, 6]]"
      ]
     },
     "execution_count": 10,
     "metadata": {},
     "output_type": "execute_result"
    }
   ],
   "source": [
    "lst1.remove(-1)\n",
    "lst1"
   ]
  },
  {
   "cell_type": "code",
   "execution_count": 11,
   "metadata": {},
   "outputs": [
    {
     "ename": "ValueError",
     "evalue": "list.remove(x): x not in list",
     "output_type": "error",
     "traceback": [
      "\u001b[1;31m---------------------------------------------------------------------------\u001b[0m",
      "\u001b[1;31mValueError\u001b[0m                                Traceback (most recent call last)",
      "Cell \u001b[1;32mIn[11], line 1\u001b[0m\n\u001b[1;32m----> 1\u001b[0m \u001b[43mlst1\u001b[49m\u001b[38;5;241;43m.\u001b[39;49m\u001b[43mremove\u001b[49m\u001b[43m(\u001b[49m\u001b[38;5;241;43m-\u001b[39;49m\u001b[38;5;241;43m1\u001b[39;49m\u001b[43m)\u001b[49m\n\u001b[0;32m      2\u001b[0m lst1\n",
      "\u001b[1;31mValueError\u001b[0m: list.remove(x): x not in list"
     ]
    }
   ],
   "source": [
    "lst1.remove(-1)\n",
    "lst1"
   ]
  },
  {
   "cell_type": "markdown",
   "metadata": {},
   "source": [
    "- When there are duplicates it removes only one element at a time.\n",
    "- It wont remove all the duplicates at once"
   ]
  },
  {
   "cell_type": "code",
   "execution_count": 12,
   "metadata": {},
   "outputs": [
    {
     "data": {
      "text/plain": [
       "[1]"
      ]
     },
     "execution_count": 12,
     "metadata": {},
     "output_type": "execute_result"
    }
   ],
   "source": [
    "lst3 = [1, 1]\n",
    "lst3.remove(1)\n",
    "lst3"
   ]
  },
  {
   "cell_type": "code",
   "execution_count": 13,
   "metadata": {},
   "outputs": [
    {
     "data": {
      "text/plain": [
       "[1, 3, 5, 'a']"
      ]
     },
     "execution_count": 13,
     "metadata": {},
     "output_type": "execute_result"
    }
   ],
   "source": [
    "lst3=[1, 3, 5, 'a', 'b']\n",
    "lst3.remove('b')\n",
    "lst3"
   ]
  },
  {
   "cell_type": "markdown",
   "metadata": {},
   "source": [
    "- Cannot remove an element which is not present in list"
   ]
  },
  {
   "cell_type": "code",
   "execution_count": 14,
   "metadata": {},
   "outputs": [
    {
     "ename": "ValueError",
     "evalue": "list.remove(x): x not in list",
     "output_type": "error",
     "traceback": [
      "\u001b[1;31m---------------------------------------------------------------------------\u001b[0m",
      "\u001b[1;31mValueError\u001b[0m                                Traceback (most recent call last)",
      "Cell \u001b[1;32mIn[14], line 1\u001b[0m\n\u001b[1;32m----> 1\u001b[0m \u001b[43mlst3\u001b[49m\u001b[38;5;241;43m.\u001b[39;49m\u001b[43mremove\u001b[49m\u001b[43m(\u001b[49m\u001b[38;5;241;43m2\u001b[39;49m\u001b[43m)\u001b[49m\n",
      "\u001b[1;31mValueError\u001b[0m: list.remove(x): x not in list"
     ]
    }
   ],
   "source": [
    "lst3.remove(2)"
   ]
  },
  {
   "cell_type": "markdown",
   "metadata": {},
   "source": [
    "#### [E] Pop\n",
    "- [A] \n",
    "    - By default, Pop removes the \"last element\" from list\n",
    "    - When no value is passed inside (), it removes last index from list.\n",
    "    - Result shows which element was dropped"
   ]
  },
  {
   "cell_type": "code",
   "execution_count": 15,
   "metadata": {},
   "outputs": [
    {
     "data": {
      "text/plain": [
       "[1, 2, 3, 4, 5, 6, [4, 5, 6]]"
      ]
     },
     "execution_count": 15,
     "metadata": {},
     "output_type": "execute_result"
    }
   ],
   "source": [
    "lst1=[1,2,3,4,5,6,[4,5,6]]\n",
    "lst1"
   ]
  },
  {
   "cell_type": "code",
   "execution_count": 16,
   "metadata": {},
   "outputs": [
    {
     "name": "stdout",
     "output_type": "stream",
     "text": [
      "[1, 2, 3, 4, 5, 6, [4, 5, 6]]\n",
      "[4, 5, 6]\n",
      "[1, 2, 3, 4, 5, 6]\n"
     ]
    }
   ],
   "source": [
    "print(lst1)\n",
    "print(lst1.pop())\n",
    "print(lst1)"
   ]
  },
  {
   "cell_type": "markdown",
   "metadata": {},
   "source": [
    "- [B] \n",
    "    - pop uses \"indexes\" iside (). \n",
    "        - Ex: lst1.pop(0)\n",
    "        - lst1\n",
    "\n",
    "    - Cannot pop an \"empty list\""
   ]
  },
  {
   "cell_type": "code",
   "execution_count": 19,
   "metadata": {},
   "outputs": [
    {
     "data": {
      "text/plain": [
       "[3, 4, 6]"
      ]
     },
     "execution_count": 19,
     "metadata": {},
     "output_type": "execute_result"
    }
   ],
   "source": [
    "lst1.pop(0)\n",
    "lst1"
   ]
  },
  {
   "cell_type": "code",
   "execution_count": 20,
   "metadata": {},
   "outputs": [
    {
     "name": "stdout",
     "output_type": "stream",
     "text": [
      "[3, 6]\n"
     ]
    }
   ],
   "source": [
    "lst1.pop(-2)\n",
    "print(lst1)"
   ]
  },
  {
   "cell_type": "markdown",
   "metadata": {},
   "source": [
    "#### [F] Slicing\n",
    "- If i want to access more than 1 element with in a list"
   ]
  },
  {
   "cell_type": "code",
   "execution_count": 63,
   "metadata": {},
   "outputs": [
    {
     "data": {
      "text/plain": [
       "[1, 2]"
      ]
     },
     "execution_count": 63,
     "metadata": {},
     "output_type": "execute_result"
    }
   ],
   "source": [
    "lst1=[1,2,3,4,5]\n",
    "lst1\n",
    "lst1[:2]"
   ]
  },
  {
   "cell_type": "code",
   "execution_count": 64,
   "metadata": {},
   "outputs": [
    {
     "name": "stdout",
     "output_type": "stream",
     "text": [
      "[1, 2, 3, 4, 5, 6]\n",
      "[1, 2]\n"
     ]
    }
   ],
   "source": [
    "lst1 = [1, 2, 3, 4, 5, 6]\n",
    "print(lst1)\n",
    "\n",
    "# fetch first 2 elements\n",
    "print(lst1[:2])"
   ]
  },
  {
   "cell_type": "code",
   "execution_count": 65,
   "metadata": {},
   "outputs": [
    {
     "name": "stdout",
     "output_type": "stream",
     "text": [
      "[1, 2, 3]\n"
     ]
    }
   ],
   "source": [
    "# fetch first 3 elements\n",
    "print(lst1[0:3])"
   ]
  },
  {
   "cell_type": "code",
   "execution_count": 66,
   "metadata": {},
   "outputs": [
    {
     "name": "stdout",
     "output_type": "stream",
     "text": [
      "[2, 3]\n"
     ]
    }
   ],
   "source": [
    "print(lst1[1:3])"
   ]
  },
  {
   "cell_type": "code",
   "execution_count": 67,
   "metadata": {},
   "outputs": [
    {
     "data": {
      "text/plain": [
       "6"
      ]
     },
     "execution_count": 67,
     "metadata": {},
     "output_type": "execute_result"
    }
   ],
   "source": [
    "len(lst1)"
   ]
  },
  {
   "cell_type": "code",
   "execution_count": 68,
   "metadata": {},
   "outputs": [
    {
     "ename": "IndexError",
     "evalue": "list index out of range",
     "output_type": "error",
     "traceback": [
      "\u001b[1;31m---------------------------------------------------------------------------\u001b[0m",
      "\u001b[1;31mIndexError\u001b[0m                                Traceback (most recent call last)",
      "Cell \u001b[1;32mIn[68], line 1\u001b[0m\n\u001b[1;32m----> 1\u001b[0m \u001b[43mlst1\u001b[49m\u001b[43m[\u001b[49m\u001b[38;5;241;43m6\u001b[39;49m\u001b[43m]\u001b[49m\n",
      "\u001b[1;31mIndexError\u001b[0m: list index out of range"
     ]
    }
   ],
   "source": [
    "lst1[6]"
   ]
  },
  {
   "cell_type": "markdown",
   "metadata": {},
   "source": [
    "- If i want to access \"all elements\" with in a list"
   ]
  },
  {
   "cell_type": "code",
   "execution_count": 69,
   "metadata": {},
   "outputs": [
    {
     "data": {
      "text/plain": [
       "[1, 2, 3, 4, 5, 6]"
      ]
     },
     "execution_count": 69,
     "metadata": {},
     "output_type": "execute_result"
    }
   ],
   "source": [
    "lst1[:10]"
   ]
  },
  {
   "cell_type": "code",
   "execution_count": 70,
   "metadata": {},
   "outputs": [
    {
     "name": "stdout",
     "output_type": "stream",
     "text": [
      "[1, 2, 3, 4, 5, 6]\n"
     ]
    }
   ],
   "source": [
    "print(lst1[:10])"
   ]
  },
  {
   "cell_type": "code",
   "execution_count": 71,
   "metadata": {},
   "outputs": [
    {
     "data": {
      "text/plain": [
       "[1, 2, 3, 4, 5, 6]"
      ]
     },
     "execution_count": 71,
     "metadata": {},
     "output_type": "execute_result"
    }
   ],
   "source": [
    "lst1[:100]"
   ]
  },
  {
   "cell_type": "code",
   "execution_count": 72,
   "metadata": {},
   "outputs": [
    {
     "data": {
      "text/plain": [
       "[5, 6]"
      ]
     },
     "execution_count": 72,
     "metadata": {},
     "output_type": "execute_result"
    }
   ],
   "source": [
    "# fetch last 2 elements\n",
    "lst1[-2:]"
   ]
  },
  {
   "cell_type": "code",
   "execution_count": 73,
   "metadata": {},
   "outputs": [
    {
     "data": {
      "text/plain": [
       "[3, 4, 5]"
      ]
     },
     "execution_count": 73,
     "metadata": {},
     "output_type": "execute_result"
    }
   ],
   "source": [
    "lst1[-4:-1]"
   ]
  },
  {
   "cell_type": "code",
   "execution_count": 74,
   "metadata": {},
   "outputs": [
    {
     "data": {
      "text/plain": [
       "[3, 4]"
      ]
     },
     "execution_count": 74,
     "metadata": {},
     "output_type": "execute_result"
    }
   ],
   "source": [
    "lst1[-4:-2]"
   ]
  },
  {
   "cell_type": "markdown",
   "metadata": {},
   "source": [
    "##### [G] Reverse\n",
    "- If u want to \"reverse the order\" then we will use this function (.reverse)"
   ]
  },
  {
   "cell_type": "code",
   "execution_count": 75,
   "metadata": {},
   "outputs": [
    {
     "data": {
      "text/plain": [
       "[6, 5, 4, 3, 2, 1]"
      ]
     },
     "execution_count": 75,
     "metadata": {},
     "output_type": "execute_result"
    }
   ],
   "source": [
    "lst1.reverse()\n",
    "lst1"
   ]
  },
  {
   "cell_type": "markdown",
   "metadata": {},
   "source": [
    "##### [H] Sort\n",
    "- If u want to put values in \"sorted format\" then use this."
   ]
  },
  {
   "cell_type": "code",
   "execution_count": 76,
   "metadata": {},
   "outputs": [
    {
     "data": {
      "text/plain": [
       "[1, 2, 3, 4, 5, 6]"
      ]
     },
     "execution_count": 76,
     "metadata": {},
     "output_type": "execute_result"
    }
   ],
   "source": [
    "sorted(lst1)"
   ]
  },
  {
   "cell_type": "markdown",
   "metadata": {},
   "source": [
    "##### Works only for \"single data type\""
   ]
  },
  {
   "cell_type": "code",
   "execution_count": 77,
   "metadata": {},
   "outputs": [
    {
     "data": {
      "text/plain": [
       "['#', '$', '1', 'a', 'b', 'c', 'd', 'y', 'z']"
      ]
     },
     "execution_count": 77,
     "metadata": {},
     "output_type": "execute_result"
    }
   ],
   "source": [
    "lst0 =['#', '1', 'z', 'a', 'y', '$', 'b', 'c', 'd']\n",
    "sorted(lst0)"
   ]
  },
  {
   "cell_type": "code",
   "execution_count": 78,
   "metadata": {},
   "outputs": [
    {
     "data": {
      "text/plain": [
       "[6, 5, 4, 3, 2, 1, 'a', True, [1, 2, 3]]"
      ]
     },
     "execution_count": 78,
     "metadata": {},
     "output_type": "execute_result"
    }
   ],
   "source": [
    "lst1.append('a')\n",
    "lst1.append(True)\n",
    "lst1.append([1,2,3])\n",
    "lst1"
   ]
  },
  {
   "cell_type": "markdown",
   "metadata": {},
   "source": [
    "##### It wonot works on \"Multiple (or) dis-similar data types\""
   ]
  },
  {
   "cell_type": "code",
   "execution_count": 79,
   "metadata": {},
   "outputs": [
    {
     "ename": "TypeError",
     "evalue": "'<' not supported between instances of 'str' and 'int'",
     "output_type": "error",
     "traceback": [
      "\u001b[1;31m---------------------------------------------------------------------------\u001b[0m",
      "\u001b[1;31mTypeError\u001b[0m                                 Traceback (most recent call last)",
      "Cell \u001b[1;32mIn[79], line 1\u001b[0m\n\u001b[1;32m----> 1\u001b[0m \u001b[38;5;28;43msorted\u001b[39;49m\u001b[43m(\u001b[49m\u001b[43mlst1\u001b[49m\u001b[43m)\u001b[49m\n",
      "\u001b[1;31mTypeError\u001b[0m: '<' not supported between instances of 'str' and 'int'"
     ]
    }
   ],
   "source": [
    "sorted(lst1)"
   ]
  },
  {
   "cell_type": "markdown",
   "metadata": {},
   "source": [
    "#### NOTE:\n",
    "- We cannot assign (=) anything to \"Append\", \"Extend\", \"insert\", \"remove\", \"Pop\"\n",
    "- if u still assigned means that variable will be loss and it will be \"none type\""
   ]
  },
  {
   "cell_type": "markdown",
   "metadata": {},
   "source": [
    "# [2] Tuple()\n",
    "- Tuples are denoted by Curly bracess i,e ()\n",
    "- tp1=[int,float,str,boolean]\n",
    "- Tuples are ordered elements, so they have indexs.\n",
    "    - Ex:     [1, 3.4, “Ram”, True]\n",
    "    - Indexs: [0,  1,    2,      3]\n",
    "    - Indexs: [-4, -3,   -2,    -1]\n",
    "    - i,e Indexs start with '0' [From starting end] & '-1' [From other end]\n",
    "- They are non mutable and we cannot modify (add/remove/delete) values within them\n",
    "\n",
    "### im-mutable:\n",
    "- [A] Append [Addition] ------XXX\n",
    "- [B] Extend -------------------XXX\n",
    "- [C] Insert --------------------XXX\n",
    "- [D] Remove -----------------XXX\n",
    "- [E] pop ----------------------XXX\n",
    "- [F] silcing\n",
    "- [G] reverse-------------------XXX\n",
    "- [H] sort-----------------------XXX"
   ]
  },
  {
   "cell_type": "code",
   "execution_count": 4,
   "metadata": {},
   "outputs": [
    {
     "data": {
      "text/plain": [
       "tuple"
      ]
     },
     "execution_count": 4,
     "metadata": {},
     "output_type": "execute_result"
    }
   ],
   "source": [
    "tp1=(1,2,3,4,5)\n",
    "type(tp1)\n"
   ]
  },
  {
   "cell_type": "markdown",
   "metadata": {},
   "source": [
    "- print = one function\n",
    "- type = one function\n",
    "- tp1 = one variable\n",
    "- U can have any number of functions inside functions also"
   ]
  },
  {
   "cell_type": "code",
   "execution_count": 81,
   "metadata": {},
   "outputs": [
    {
     "name": "stdout",
     "output_type": "stream",
     "text": [
      "<class 'tuple'>\n"
     ]
    }
   ],
   "source": [
    "print(type(tp1))"
   ]
  },
  {
   "cell_type": "markdown",
   "metadata": {},
   "source": [
    "- [F] Slicing\n",
    "    - If i want to access \"more than 1 element\" with in a list\n",
    "        - Ex: tp1=(1,2,3,4,5)\n",
    "        -     tpl\n",
    "        -     tpl[:2]\n",
    "    \n",
    "    - If i want to access \"All elements\" with in a list\n",
    "        - Ex: tp1=(1,2,3,4,5)\n",
    "        -     tpl\n",
    "        -     tpl[:100]"
   ]
  },
  {
   "cell_type": "code",
   "execution_count": 83,
   "metadata": {},
   "outputs": [
    {
     "data": {
      "text/plain": [
       "1"
      ]
     },
     "execution_count": 83,
     "metadata": {},
     "output_type": "execute_result"
    }
   ],
   "source": [
    "tp1[0]"
   ]
  },
  {
   "cell_type": "code",
   "execution_count": 84,
   "metadata": {},
   "outputs": [
    {
     "data": {
      "text/plain": [
       "5"
      ]
     },
     "execution_count": 84,
     "metadata": {},
     "output_type": "execute_result"
    }
   ],
   "source": [
    "tp1[-1]"
   ]
  },
  {
   "cell_type": "markdown",
   "metadata": {},
   "source": [
    "- Common error comes in \"tuple\":\n",
    "    - We canot assign (=) anything to \"Append\", \"Extend\", \"insert\", \"remove\", \"Pop\"\n",
    "    - if u still assigned means that variable will be loss and it will be \"none\"\n",
    "        - Ex: tpl0=['a','b','c','d']\n",
    "        -     tpl0 = tpl0.extend(5)\n",
    "        -     print(tpl0)\n",
    "        -     Ans: None ['tuple' object does not support item assignment]"
   ]
  },
  {
   "cell_type": "code",
   "execution_count": 85,
   "metadata": {},
   "outputs": [
    {
     "ename": "TypeError",
     "evalue": "'tuple' object does not support item assignment",
     "output_type": "error",
     "traceback": [
      "\u001b[1;31m---------------------------------------------------------------------------\u001b[0m",
      "\u001b[1;31mTypeError\u001b[0m                                 Traceback (most recent call last)",
      "Cell \u001b[1;32mIn[85], line 1\u001b[0m\n\u001b[1;32m----> 1\u001b[0m \u001b[43mtp1\u001b[49m\u001b[43m[\u001b[49m\u001b[38;5;241;43m0\u001b[39;49m\u001b[43m]\u001b[49m\u001b[38;5;241m=\u001b[39m\u001b[38;5;241m10\u001b[39m\n\u001b[0;32m      2\u001b[0m tp1[\u001b[38;5;241m0\u001b[39m]\n",
      "\u001b[1;31mTypeError\u001b[0m: 'tuple' object does not support item assignment"
     ]
    }
   ],
   "source": [
    "tp1[0]=10\n",
    "tp1[0]"
   ]
  },
  {
   "cell_type": "markdown",
   "metadata": {},
   "source": [
    "- [G] Reverse\n",
    "    - If u want to reverse the order then we will use this function (.reverse)\n",
    "        - Ex: tpl1.reverse()\n",
    "        -     tpl1\n",
    "\n",
    "- [H] Sort\n",
    "    - If u want to put values in \"sorted format\" then use this.\n",
    "        - [A] Works only for \"single data type\"\n",
    "            - Ex: tpl0 =['#', '1', 'z', 'a', 'y', '$', 'b', 'c', 'd']\n",
    "            - sorted(tpl0)\n",
    "        - [B] - It wonot works on \"Multiple (or) dis-similar data types\"\n",
    "            - Ex: tpl0 =['#', '1', 1, 'a', 'y', True, 'b', 'c', 10.5]\n",
    "            - sorted(tpl0)"
   ]
  },
  {
   "cell_type": "code",
   "execution_count": 9,
   "metadata": {},
   "outputs": [
    {
     "name": "stdout",
     "output_type": "stream",
     "text": [
      "(1, 2, 3, 4, 5)\n"
     ]
    },
    {
     "ename": "AttributeError",
     "evalue": "'tuple' object has no attribute 'reverse'",
     "output_type": "error",
     "traceback": [
      "\u001b[1;31m---------------------------------------------------------------------------\u001b[0m",
      "\u001b[1;31mAttributeError\u001b[0m                            Traceback (most recent call last)",
      "Cell \u001b[1;32mIn[9], line 4\u001b[0m\n\u001b[0;32m      2\u001b[0m tpl1\u001b[38;5;241m=\u001b[39m(\u001b[38;5;241m1\u001b[39m,\u001b[38;5;241m2\u001b[39m,\u001b[38;5;241m3\u001b[39m,\u001b[38;5;241m4\u001b[39m,\u001b[38;5;241m5\u001b[39m)\n\u001b[0;32m      3\u001b[0m \u001b[38;5;28mprint\u001b[39m(tpl1)\n\u001b[1;32m----> 4\u001b[0m \u001b[38;5;28mprint\u001b[39m(\u001b[43mtpl1\u001b[49m\u001b[38;5;241;43m.\u001b[39;49m\u001b[43mreverse\u001b[49m())\n",
      "\u001b[1;31mAttributeError\u001b[0m: 'tuple' object has no attribute 'reverse'"
     ]
    }
   ],
   "source": [
    "# We canot reverse the tuple\n",
    "tpl1=(1,2,3,4,5)\n",
    "print(tpl1)\n",
    "print(tpl1.reverse())\n"
   ]
  },
  {
   "cell_type": "code",
   "execution_count": 10,
   "metadata": {},
   "outputs": [
    {
     "name": "stdout",
     "output_type": "stream",
     "text": [
      "(1, 2, 3, 4, 5)\n"
     ]
    },
    {
     "ename": "AttributeError",
     "evalue": "'tuple' object has no attribute 'sort'",
     "output_type": "error",
     "traceback": [
      "\u001b[1;31m---------------------------------------------------------------------------\u001b[0m",
      "\u001b[1;31mAttributeError\u001b[0m                            Traceback (most recent call last)",
      "Cell \u001b[1;32mIn[10], line 4\u001b[0m\n\u001b[0;32m      2\u001b[0m tpl1\u001b[38;5;241m=\u001b[39m(\u001b[38;5;241m1\u001b[39m,\u001b[38;5;241m2\u001b[39m,\u001b[38;5;241m3\u001b[39m,\u001b[38;5;241m4\u001b[39m,\u001b[38;5;241m5\u001b[39m)\n\u001b[0;32m      3\u001b[0m \u001b[38;5;28mprint\u001b[39m(tpl1)\n\u001b[1;32m----> 4\u001b[0m \u001b[38;5;28mprint\u001b[39m(\u001b[43mtpl1\u001b[49m\u001b[38;5;241;43m.\u001b[39;49m\u001b[43msort\u001b[49m())\n",
      "\u001b[1;31mAttributeError\u001b[0m: 'tuple' object has no attribute 'sort'"
     ]
    }
   ],
   "source": [
    "# We canot sort the tuple\n",
    "tpl1=(1,2,3,4,5)\n",
    "print(tpl1)\n",
    "print(tpl1.sort())"
   ]
  },
  {
   "cell_type": "markdown",
   "metadata": {},
   "source": [
    "## [3] Sets {}\n",
    "- Sets are denoted by \"flower brackets/Curly braces\" i,e {} \n",
    "- Sets=[int] or Sets=[float] or Sets=[str] or Sets=[boolean]\n",
    "- Set by default will take \"unique elements\" (i,e it won't take duplicate values)\n",
    "- Sets are un-ordered elements, so they donot have indexs.\n",
    "    - Ex:     [1, 2, 2, 3, 4, 5]\n",
    "- They are mutable and we cannot modify (add/remove/delete) values within them.\n",
    "\n",
    "### mutable:\n",
    "- [A] Append [Addition]\n",
    "- [B] Extend \n",
    "- [C] Insert \n",
    "- [D] Remove \n",
    "- [E] pop \n",
    "- [F] Slicing------------------XXX\n",
    "- [G] Reverse------------------XXX\n",
    "- [H] Sort---------------------XXX\n"
   ]
  },
  {
   "cell_type": "code",
   "execution_count": 86,
   "metadata": {},
   "outputs": [
    {
     "name": "stdout",
     "output_type": "stream",
     "text": [
      "{1, 2, 3, 4, 5}\n"
     ]
    }
   ],
   "source": [
    "st = {1, 2, 2, 3, 4, 5}\n",
    "print(st)"
   ]
  },
  {
   "cell_type": "markdown",
   "metadata": {},
   "source": [
    "- [F] Slicing\n",
    "    - we cannot do \"slicing\" here"
   ]
  },
  {
   "cell_type": "code",
   "execution_count": 87,
   "metadata": {},
   "outputs": [
    {
     "ename": "TypeError",
     "evalue": "'set' object is not subscriptable",
     "output_type": "error",
     "traceback": [
      "\u001b[1;31m---------------------------------------------------------------------------\u001b[0m",
      "\u001b[1;31mTypeError\u001b[0m                                 Traceback (most recent call last)",
      "Cell \u001b[1;32mIn[87], line 1\u001b[0m\n\u001b[1;32m----> 1\u001b[0m \u001b[43mst\u001b[49m\u001b[43m[\u001b[49m\u001b[38;5;241;43m0\u001b[39;49m\u001b[43m]\u001b[49m\n",
      "\u001b[1;31mTypeError\u001b[0m: 'set' object is not subscriptable"
     ]
    }
   ],
   "source": [
    "st[0]"
   ]
  },
  {
   "cell_type": "markdown",
   "metadata": {},
   "source": [
    "- [Q] If you have a \"list\" which is having \"duplicate values\" and if u want to convert that to \"list of unique values\" then do like below:\n",
    "    - [1] First assign the \"list\"\n",
    "    - [2] Pass \"list\" in to the \"set\"\n",
    "    - [3] then output will be again pass in to the \"list\"\n",
    "    - [4] Later assign to a variable \"lst\""
   ]
  },
  {
   "cell_type": "code",
   "execution_count": 88,
   "metadata": {},
   "outputs": [
    {
     "data": {
      "text/plain": [
       "[1, 2, 3, 4, 5]"
      ]
     },
     "execution_count": 88,
     "metadata": {},
     "output_type": "execute_result"
    }
   ],
   "source": [
    "lst=[1,2,2,3,4,5]\n",
    "lst=list(set(lst))\n",
    "lst"
   ]
  },
  {
   "cell_type": "markdown",
   "metadata": {},
   "source": [
    "### [or] "
   ]
  },
  {
   "cell_type": "markdown",
   "metadata": {},
   "source": [
    "#### \"list comprehension\":\n",
    "- with out using \"set\" function means we will do like below\n",
    "- This process is called \"list comprehension\"  [It is same like for loop]\n",
    "- y is nothing but lst=[1,2,2,3,4,5]\n",
    "- If condition (i,e if y not in x) is \"True\" then it will append (or) it won't append."
   ]
  },
  {
   "cell_type": "code",
   "execution_count": 91,
   "metadata": {},
   "outputs": [
    {
     "data": {
      "text/plain": [
       "[1, 2, 3, 4, 5]"
      ]
     },
     "execution_count": 91,
     "metadata": {},
     "output_type": "execute_result"
    }
   ],
   "source": [
    "x = []                                            # empty list\n",
    "[x.append(y) for y in lst if y not in x]\n",
    "x"
   ]
  },
  {
   "cell_type": "markdown",
   "metadata": {},
   "source": [
    "- sets do not have indexes"
   ]
  },
  {
   "cell_type": "code",
   "execution_count": 92,
   "metadata": {},
   "outputs": [
    {
     "ename": "TypeError",
     "evalue": "'set' object is not subscriptable",
     "output_type": "error",
     "traceback": [
      "\u001b[1;31m---------------------------------------------------------------------------\u001b[0m",
      "\u001b[1;31mTypeError\u001b[0m                                 Traceback (most recent call last)",
      "Cell \u001b[1;32mIn[92], line 1\u001b[0m\n\u001b[1;32m----> 1\u001b[0m \u001b[43mst\u001b[49m\u001b[43m[\u001b[49m\u001b[38;5;241;43m0\u001b[39;49m\u001b[43m]\u001b[49m\n",
      "\u001b[1;31mTypeError\u001b[0m: 'set' object is not subscriptable"
     ]
    }
   ],
   "source": [
    "st[0]"
   ]
  },
  {
   "cell_type": "code",
   "execution_count": 93,
   "metadata": {},
   "outputs": [
    {
     "data": {
      "text/plain": [
       "set"
      ]
     },
     "execution_count": 93,
     "metadata": {},
     "output_type": "execute_result"
    }
   ],
   "source": [
    "type(st)"
   ]
  },
  {
   "cell_type": "markdown",
   "metadata": {},
   "source": [
    "## [4] Dictionary {}\n",
    "- Dictinory are denoted by \"flower brackets/Curly braces\" i,e {} \n",
    "- Like in \"List\" & \"Tuple\" we are accessing through \"indexs\", here We can access by using \"keys\"\n",
    "    - Ex: {\"name\": \"sanjeev\"} = {\"Key\" : \"name\"}\n",
    "    - Ex: mydict[\"name\"] ------- 'variable' followed by the 'key name'     \n",
    "- They are mutable and we cannot modify (add/remove/delete) values within them.\n",
    "\n",
    "### mutable:\n",
    "- [a] keys\n",
    "- [b] values\n",
    "- [c] items\n",
    "\n",
    "    - [A] Append [Addition]\n",
    "    - [B] Extend \n",
    "    - [C] Insert \n",
    "    - [D] Remove \n",
    "    - [E] pop \n",
    "        - pop item\n",
    "        - clear\n",
    "    - [F] Slicing------------------XXX\n",
    "    - [G] Reverse------------------XXX\n",
    "    - [H] Sort"
   ]
  },
  {
   "cell_type": "code",
   "execution_count": 12,
   "metadata": {},
   "outputs": [
    {
     "data": {
      "text/plain": [
       "{'name': 'sanjeev', 'age': '36', 'coo': 'India'}"
      ]
     },
     "execution_count": 12,
     "metadata": {},
     "output_type": "execute_result"
    }
   ],
   "source": [
    "mydict = {\"name\": \"sanjeev\", \"age\":\"36\", \"coo\":\"India\"}\n",
    "mydict"
   ]
  },
  {
   "cell_type": "code",
   "execution_count": 13,
   "metadata": {},
   "outputs": [
    {
     "data": {
      "text/plain": [
       "dict"
      ]
     },
     "execution_count": 13,
     "metadata": {},
     "output_type": "execute_result"
    }
   ],
   "source": [
    "type(mydict)"
   ]
  },
  {
   "cell_type": "code",
   "execution_count": 14,
   "metadata": {},
   "outputs": [
    {
     "data": {
      "text/plain": [
       "'sanjeev'"
      ]
     },
     "execution_count": 14,
     "metadata": {},
     "output_type": "execute_result"
    }
   ],
   "source": [
    "mydict[\"name\"]"
   ]
  },
  {
   "cell_type": "code",
   "execution_count": 15,
   "metadata": {},
   "outputs": [
    {
     "data": {
      "text/plain": [
       "{'name': 'blah', 'age': '36', 'coo': 'India'}"
      ]
     },
     "execution_count": 15,
     "metadata": {},
     "output_type": "execute_result"
    }
   ],
   "source": [
    "mydict[\"name\"]=\"blah\"\n",
    "mydict"
   ]
  },
  {
   "cell_type": "code",
   "execution_count": 16,
   "metadata": {},
   "outputs": [
    {
     "data": {
      "text/plain": [
       "'India'"
      ]
     },
     "execution_count": 16,
     "metadata": {},
     "output_type": "execute_result"
    }
   ],
   "source": [
    "mydict = {\"name\": \"sanjeev\", \"age\":\"36\", \"coo\":\"India\"}\n",
    "mydict[\"coo\"]"
   ]
  },
  {
   "cell_type": "code",
   "execution_count": 17,
   "metadata": {},
   "outputs": [
    {
     "data": {
      "text/plain": [
       "{'name': 'sanjeev', 'age': '36', 'coo': 'India', 'new_key': 'new_value'}"
      ]
     },
     "execution_count": 17,
     "metadata": {},
     "output_type": "execute_result"
    }
   ],
   "source": [
    "# assinging new key\n",
    "mydict[\"new_key\"] = \"new_value\"\n",
    "mydict"
   ]
  },
  {
   "cell_type": "markdown",
   "metadata": {},
   "source": [
    "### Common operations on Dictionary datatype\n",
    "### [A] keys:\n",
    "- Shows list of keys we will use \".keys()\"\n",
    "    - .keys()"
   ]
  },
  {
   "cell_type": "code",
   "execution_count": 18,
   "metadata": {},
   "outputs": [
    {
     "data": {
      "text/plain": [
       "dict_keys(['name', 'age', 'coo', 'new_key'])"
      ]
     },
     "execution_count": 18,
     "metadata": {},
     "output_type": "execute_result"
    }
   ],
   "source": [
    "mydict.keys()"
   ]
  },
  {
   "cell_type": "markdown",
   "metadata": {},
   "source": [
    "### [B] values\n",
    "- To show list of values we will use \".values()\"\n",
    "     - .values()"
   ]
  },
  {
   "cell_type": "code",
   "execution_count": 19,
   "metadata": {},
   "outputs": [
    {
     "data": {
      "text/plain": [
       "dict_values(['sanjeev', '36', 'India', 'new_value'])"
      ]
     },
     "execution_count": 19,
     "metadata": {},
     "output_type": "execute_result"
    }
   ],
   "source": [
    "mydict.values()"
   ]
  },
  {
   "cell_type": "markdown",
   "metadata": {},
   "source": [
    "### [C] items:\n",
    "- To show list of items mappings we will use \".items()\"\n",
    "- It will give out put as list of tuples.\n",
    "    - .items()"
   ]
  },
  {
   "cell_type": "code",
   "execution_count": 102,
   "metadata": {},
   "outputs": [
    {
     "data": {
      "text/plain": [
       "dict_items([('name', 'sanjeev'), ('age', '36'), ('coo', 'India'), ('new_key', 'new_value')])"
      ]
     },
     "execution_count": 102,
     "metadata": {},
     "output_type": "execute_result"
    }
   ],
   "source": [
    "mydict.items()"
   ]
  },
  {
   "cell_type": "markdown",
   "metadata": {},
   "source": [
    "#### [OR]"
   ]
  },
  {
   "cell_type": "code",
   "execution_count": 103,
   "metadata": {},
   "outputs": [
    {
     "name": "stdout",
     "output_type": "stream",
     "text": [
      "('name', 'sanjeev')\n",
      "('age', '36')\n",
      "('coo', 'India')\n",
      "('new_key', 'new_value')\n"
     ]
    }
   ],
   "source": [
    "for i in mydict.items():\n",
    "    print(i)"
   ]
  },
  {
   "cell_type": "markdown",
   "metadata": {},
   "source": [
    "### [E] Pop\n",
    "- For removing one element we will use \"pop\"\n",
    "- We will pass specified \"key\" "
   ]
  },
  {
   "cell_type": "code",
   "execution_count": 104,
   "metadata": {},
   "outputs": [
    {
     "data": {
      "text/plain": [
       "'India'"
      ]
     },
     "execution_count": 104,
     "metadata": {},
     "output_type": "execute_result"
    }
   ],
   "source": [
    "mydict.pop('coo')"
   ]
  },
  {
   "cell_type": "code",
   "execution_count": 105,
   "metadata": {},
   "outputs": [
    {
     "data": {
      "text/plain": [
       "{'name': 'sanjeev', 'age': '36', 'new_key': 'new_value'}"
      ]
     },
     "execution_count": 105,
     "metadata": {},
     "output_type": "execute_result"
    }
   ],
   "source": [
    "mydict"
   ]
  },
  {
   "cell_type": "markdown",
   "metadata": {},
   "source": [
    "### [I] Popitem \n",
    "- It will remove the \"last item\" and its \"Key\""
   ]
  },
  {
   "cell_type": "code",
   "execution_count": 106,
   "metadata": {},
   "outputs": [
    {
     "data": {
      "text/plain": [
       "('new_key', 'new_value')"
      ]
     },
     "execution_count": 106,
     "metadata": {},
     "output_type": "execute_result"
    }
   ],
   "source": [
    "mydict.popitem()"
   ]
  },
  {
   "cell_type": "code",
   "execution_count": 107,
   "metadata": {},
   "outputs": [
    {
     "data": {
      "text/plain": [
       "{'name': 'sanjeev', 'age': '36'}"
      ]
     },
     "execution_count": 107,
     "metadata": {},
     "output_type": "execute_result"
    }
   ],
   "source": [
    "mydict"
   ]
  },
  {
   "cell_type": "markdown",
   "metadata": {},
   "source": [
    "### [J] Clear \n",
    "- If we want remove all \"keys and values\" from dictinory then use 'clear'"
   ]
  },
  {
   "cell_type": "code",
   "execution_count": 41,
   "metadata": {},
   "outputs": [
    {
     "data": {
      "text/plain": [
       "{}"
      ]
     },
     "execution_count": 41,
     "metadata": {},
     "output_type": "execute_result"
    }
   ],
   "source": [
    "mydict.clear()\n",
    "mydict"
   ]
  },
  {
   "cell_type": "markdown",
   "metadata": {},
   "source": [
    "## Data Type conversion (or) Type casting:\n",
    "- Converting one data type to another datatype. \n",
    "- Examples are mentioned below\n",
    "    - int\n",
    "    - str\n",
    "    - float"
   ]
  },
  {
   "cell_type": "markdown",
   "metadata": {},
   "source": [
    "### [A] List conversions [Convert to list]"
   ]
  },
  {
   "cell_type": "code",
   "execution_count": 20,
   "metadata": {},
   "outputs": [
    {
     "name": "stdout",
     "output_type": "stream",
     "text": [
      "[1, 2, 3]\n",
      "[4, 5, 6]\n",
      "['a', 'b']\n"
     ]
    }
   ],
   "source": [
    "# Convert Tuple to List\n",
    "tpl = (1, 2, 3)\n",
    "lst_from_tpl = list(tpl)\n",
    "print(lst_from_tpl)  # Output: [1, 2, 3]\n",
    "\n",
    "# Convert Set to List\n",
    "st = {4, 5, 6}\n",
    "lst_from_set = list(st)\n",
    "print(lst_from_set)  # Output: [4, 5, 6] (order may vary)\n",
    "\n",
    "# Convert Dictionary to List (Keys only)\n",
    "dic = {'a': 10, 'b': 20}\n",
    "lst_from_dict = list(dic)\n",
    "print(lst_from_dict)  # Output: ['a', 'b']"
   ]
  },
  {
   "cell_type": "markdown",
   "metadata": {},
   "source": [
    "### [B] Tuple conversions [Convert to Tuple]"
   ]
  },
  {
   "cell_type": "code",
   "execution_count": 21,
   "metadata": {},
   "outputs": [
    {
     "name": "stdout",
     "output_type": "stream",
     "text": [
      "(7, 8, 9)\n",
      "(10, 11, 12)\n",
      "('x', 'y')\n"
     ]
    }
   ],
   "source": [
    "# Convert List to Tuple\n",
    "lst = [7, 8, 9]\n",
    "tpl_from_lst = tuple(lst)\n",
    "print(tpl_from_lst)  # Output: (7, 8, 9)\n",
    "\n",
    "# Convert Set to Tuple\n",
    "st = {10, 11, 12}\n",
    "tpl_from_set = tuple(st)\n",
    "print(tpl_from_set)  # Output: (10, 11, 12) (order may vary)\n",
    "\n",
    "# Convert Dictionary to Tuple (Keys only)\n",
    "dic = {'x': 100, 'y': 200}\n",
    "tpl_from_dict = tuple(dic)\n",
    "print(tpl_from_dict)  # Output: ('x', 'y')"
   ]
  },
  {
   "cell_type": "markdown",
   "metadata": {},
   "source": [
    "### [C] Set Conversions [Convert to Set]"
   ]
  },
  {
   "cell_type": "code",
   "execution_count": 22,
   "metadata": {},
   "outputs": [
    {
     "name": "stdout",
     "output_type": "stream",
     "text": [
      "{1, 2, 3, 4}\n",
      "{5, 6, 7}\n",
      "{'p', 'q'}\n"
     ]
    }
   ],
   "source": [
    "# Convert List to Set\n",
    "lst = [1, 2, 3, 3, 4]\n",
    "set_from_lst = set(lst)\n",
    "print(set_from_lst)  # Output: {1, 2, 3, 4} (removes duplicates)\n",
    "\n",
    "# Convert Tuple to Set\n",
    "tpl = (5, 6, 7, 7)\n",
    "set_from_tpl = set(tpl)\n",
    "print(set_from_tpl)  # Output: {5, 6, 7}\n",
    "\n",
    "# Convert Dictionary to Set (Keys only)\n",
    "dic = {'p': 300, 'q': 400}\n",
    "set_from_dict = set(dic)\n",
    "print(set_from_dict)  # Output: {'p', 'q'}"
   ]
  },
  {
   "cell_type": "markdown",
   "metadata": {},
   "source": [
    "### [D] Dictionary Conversions [Convert to Dictionary]"
   ]
  },
  {
   "cell_type": "code",
   "execution_count": 23,
   "metadata": {},
   "outputs": [
    {
     "name": "stdout",
     "output_type": "stream",
     "text": [
      "{'a': 1, 'b': 2}\n",
      "{'x': 10, 'y': 20}\n",
      "{'p': 50, 'q': 60}\n"
     ]
    }
   ],
   "source": [
    "# Convert List of Tuples to Dictionary\n",
    "lst_of_tuples = [('a', 1), ('b', 2)]\n",
    "dict_from_lst = dict(lst_of_tuples)\n",
    "print(dict_from_lst)  # Output: {'a': 1, 'b': 2}\n",
    "\n",
    "# Convert Tuple of Tuples to Dictionary\n",
    "tpl_of_tuples = (('x', 10), ('y', 20))\n",
    "dict_from_tpl = dict(tpl_of_tuples)\n",
    "print(dict_from_tpl)  # Output: {'x': 10, 'y': 20}\n",
    "\n",
    "# Convert Set to Dictionary (Invalid directly)\n",
    "# st = {1, 2, 3}\n",
    "# dict_from_set = dict(st)  # ❌ ERROR: Needs key-value pairs\n",
    "\n",
    "# Convert List of Lists to Dictionary\n",
    "lst_of_lists = [['p', 50], ['q', 60]]\n",
    "dict_from_lst = dict(lst_of_lists)\n",
    "print(dict_from_lst)  # Output: {'p': 50, 'q': 60}"
   ]
  },
  {
   "cell_type": "markdown",
   "metadata": {},
   "source": [
    "### Few more Examples:\n",
    "#### [a] Converting \"float\" to \"string\""
   ]
  },
  {
   "cell_type": "code",
   "execution_count": 108,
   "metadata": {},
   "outputs": [
    {
     "name": "stdout",
     "output_type": "stream",
     "text": [
      "10.25\n",
      "10.25\n",
      "<class 'str'>\n"
     ]
    }
   ],
   "source": [
    "z=10.25\n",
    "print(z)\n",
    "z=str(z)\n",
    "print(z)\n",
    "print(type(z))"
   ]
  },
  {
   "cell_type": "code",
   "execution_count": 109,
   "metadata": {},
   "outputs": [
    {
     "data": {
      "text/plain": [
       "'10.375'"
      ]
     },
     "execution_count": 109,
     "metadata": {},
     "output_type": "execute_result"
    }
   ],
   "source": [
    "z = 10.375\n",
    "z = str(z)\n",
    "z"
   ]
  },
  {
   "cell_type": "code",
   "execution_count": 110,
   "metadata": {},
   "outputs": [
    {
     "data": {
      "text/plain": [
       "str"
      ]
     },
     "execution_count": 110,
     "metadata": {},
     "output_type": "execute_result"
    }
   ],
   "source": [
    "type(z)"
   ]
  },
  {
   "cell_type": "markdown",
   "metadata": {},
   "source": [
    "#### [b] Converting \"string\" to \"integer\""
   ]
  },
  {
   "cell_type": "code",
   "execution_count": 111,
   "metadata": {},
   "outputs": [
    {
     "data": {
      "text/plain": [
       "10"
      ]
     },
     "execution_count": 111,
     "metadata": {},
     "output_type": "execute_result"
    }
   ],
   "source": [
    "z='10'\n",
    "z=int('10')\n",
    "z"
   ]
  },
  {
   "cell_type": "code",
   "execution_count": 6,
   "metadata": {},
   "outputs": [
    {
     "data": {
      "text/plain": [
       "int"
      ]
     },
     "execution_count": 6,
     "metadata": {},
     "output_type": "execute_result"
    }
   ],
   "source": [
    "type(z)"
   ]
  },
  {
   "cell_type": "markdown",
   "metadata": {},
   "source": [
    "#### [c] Converting \"float\" to \"integer\"\n",
    "- We canot covert \"float\" in \"string\" format to directly to \"integer\""
   ]
  },
  {
   "cell_type": "code",
   "execution_count": 112,
   "metadata": {},
   "outputs": [
    {
     "ename": "ValueError",
     "evalue": "invalid literal for int() with base 10: '10.5'",
     "output_type": "error",
     "traceback": [
      "\u001b[1;31m---------------------------------------------------------------------------\u001b[0m",
      "\u001b[1;31mValueError\u001b[0m                                Traceback (most recent call last)",
      "Cell \u001b[1;32mIn[112], line 2\u001b[0m\n\u001b[0;32m      1\u001b[0m z\u001b[38;5;241m=\u001b[39m\u001b[38;5;124m'\u001b[39m\u001b[38;5;124m10.5\u001b[39m\u001b[38;5;124m'\u001b[39m\n\u001b[1;32m----> 2\u001b[0m z\u001b[38;5;241m=\u001b[39m\u001b[38;5;28;43mint\u001b[39;49m\u001b[43m(\u001b[49m\u001b[43mz\u001b[49m\u001b[43m)\u001b[49m\n",
      "\u001b[1;31mValueError\u001b[0m: invalid literal for int() with base 10: '10.5'"
     ]
    }
   ],
   "source": [
    "z='10.5'\n",
    "z=int(z)"
   ]
  },
  {
   "cell_type": "markdown",
   "metadata": {},
   "source": [
    "##### In this case what we have to do it means:\n",
    "- First we have to convert it in to \"float\" \n",
    "- after that covert in to \"integer\""
   ]
  },
  {
   "cell_type": "code",
   "execution_count": 113,
   "metadata": {},
   "outputs": [
    {
     "data": {
      "text/plain": [
       "10"
      ]
     },
     "execution_count": 113,
     "metadata": {},
     "output_type": "execute_result"
    }
   ],
   "source": [
    "z='10.5'\n",
    "z=float(z)\n",
    "z\n",
    "z=int(z)\n",
    "z"
   ]
  },
  {
   "cell_type": "code",
   "execution_count": 114,
   "metadata": {},
   "outputs": [
    {
     "data": {
      "text/plain": [
       "int"
      ]
     },
     "execution_count": 114,
     "metadata": {},
     "output_type": "execute_result"
    }
   ],
   "source": [
    "type(z)"
   ]
  },
  {
   "cell_type": "markdown",
   "metadata": {},
   "source": [
    "#### [d] Converting \"integer\" to \"boolean\"\n",
    "- Any variable that doesnot have \"value\" is \"flase\" in python"
   ]
  },
  {
   "cell_type": "code",
   "execution_count": 115,
   "metadata": {},
   "outputs": [
    {
     "data": {
      "text/plain": [
       "False"
      ]
     },
     "execution_count": 115,
     "metadata": {},
     "output_type": "execute_result"
    }
   ],
   "source": [
    "z=0\n",
    "z=bool(z)\n",
    "z"
   ]
  },
  {
   "cell_type": "code",
   "execution_count": 116,
   "metadata": {},
   "outputs": [
    {
     "data": {
      "text/plain": [
       "False"
      ]
     },
     "execution_count": 116,
     "metadata": {},
     "output_type": "execute_result"
    }
   ],
   "source": [
    "z=[]\n",
    "z=bool(z)\n",
    "z"
   ]
  },
  {
   "cell_type": "markdown",
   "metadata": {},
   "source": [
    "#### [e] Converting \"integer\" to \"list\"\n",
    "- U caanot convert \"integer\" to \"list\""
   ]
  },
  {
   "cell_type": "code",
   "execution_count": 117,
   "metadata": {},
   "outputs": [
    {
     "ename": "TypeError",
     "evalue": "'int' object is not iterable",
     "output_type": "error",
     "traceback": [
      "\u001b[1;31m---------------------------------------------------------------------------\u001b[0m",
      "\u001b[1;31mTypeError\u001b[0m                                 Traceback (most recent call last)",
      "Cell \u001b[1;32mIn[117], line 2\u001b[0m\n\u001b[0;32m      1\u001b[0m x\u001b[38;5;241m=\u001b[39m\u001b[38;5;241m5\u001b[39m\n\u001b[1;32m----> 2\u001b[0m \u001b[38;5;28;43mlist\u001b[39;49m\u001b[43m(\u001b[49m\u001b[43mx\u001b[49m\u001b[43m)\u001b[49m\n\u001b[0;32m      3\u001b[0m x\n",
      "\u001b[1;31mTypeError\u001b[0m: 'int' object is not iterable"
     ]
    }
   ],
   "source": [
    "x=5\n",
    "list(x)\n",
    "x"
   ]
  },
  {
   "cell_type": "markdown",
   "metadata": {},
   "source": [
    "#### [f] Converting \"integer\" to \"set\"\n",
    "- U canot convert \"integer\" to \"set\""
   ]
  },
  {
   "cell_type": "code",
   "execution_count": 118,
   "metadata": {},
   "outputs": [
    {
     "ename": "TypeError",
     "evalue": "'int' object is not iterable",
     "output_type": "error",
     "traceback": [
      "\u001b[1;31m---------------------------------------------------------------------------\u001b[0m",
      "\u001b[1;31mTypeError\u001b[0m                                 Traceback (most recent call last)",
      "Cell \u001b[1;32mIn[118], line 2\u001b[0m\n\u001b[0;32m      1\u001b[0m x\u001b[38;5;241m=\u001b[39m\u001b[38;5;241m5\u001b[39m\n\u001b[1;32m----> 2\u001b[0m x\u001b[38;5;241m=\u001b[39m\u001b[38;5;28;43mset\u001b[39;49m\u001b[43m(\u001b[49m\u001b[43mx\u001b[49m\u001b[43m)\u001b[49m\n\u001b[0;32m      3\u001b[0m x\n",
      "\u001b[1;31mTypeError\u001b[0m: 'int' object is not iterable"
     ]
    }
   ],
   "source": [
    "x=5\n",
    "x=set(x)\n",
    "x"
   ]
  }
 ],
 "metadata": {
  "kernelspec": {
   "display_name": "Python 3",
   "language": "python",
   "name": "python3"
  },
  "language_info": {
   "codemirror_mode": {
    "name": "ipython",
    "version": 3
   },
   "file_extension": ".py",
   "mimetype": "text/x-python",
   "name": "python",
   "nbconvert_exporter": "python",
   "pygments_lexer": "ipython3",
   "version": "3.10.5"
  }
 },
 "nbformat": 4,
 "nbformat_minor": 2
}
