{
 "cells": [
  {
   "cell_type": "markdown",
   "metadata": {},
   "source": [
    "# OOPs - Object Oriented Programming\n",
    "- In Python, everything is an \"object\". \n",
    "- It is a programming paradigm that uses \"classes\" and \"objects\" in programming."
   ]
  },
  {
   "cell_type": "markdown",
   "metadata": {},
   "source": [
    "## CLASS\n",
    "- It is a blueprint of an object (or)\n",
    "- you can say its the design of an object\n",
    "\n",
    "### Ex:\n",
    "### [A] Class\n",
    "- Bank Account\n",
    "\n",
    "### [B] Object\n",
    "- my_account\n",
    "\n",
    "### [C] Attributes\n",
    "- Acct No.\n",
    "- Acct Holder Name\n",
    "- Balance\n",
    "- Account Type\n",
    "- IFSC\n",
    "- MObile No\n",
    "\n",
    "### [D] Methods (or) Functions\n",
    "- Deposit()\n",
    "- Withdrawal()\n",
    "- Transfer()\n",
    "\n",
    "## Summary Table\n",
    "- Component-----------------Meaning---------------------------------Example\n",
    "- Class------------------------Blueprint-------------------------------BankAccount\n",
    "- Object--------------------Instance of the class-------------------my_account\n",
    "- Attributes----------------Properties of the object----------------Account Number, Balance, etc.\n",
    "- Methods-------------------Actions the object performs-------------Deposit, Withdrawal, Transfer\n"
   ]
  },
  {
   "cell_type": "markdown",
   "metadata": {},
   "source": [
    "## General Example:\n",
    "### [A] Class → Blueprint [Design of car]\n",
    "- (It defines the structure or template for creating objects, like a car design plan.)\n",
    "\n",
    "### [B] Object → Instance [Actual Car]\n",
    "- (This is the actual car created from the blueprint, a real-world example of the class.)\n",
    "\n",
    "### [C] Attributes → Properties [steering, wheels, and brakes]\n",
    "- (These are the characteristics or features of the object, like steering, wheels, and brakes.)\n",
    "\n",
    "### [D] Methods/Functions → Actions [driving or stopping]\n",
    "- (These are the functions that define the behavior of the object, like driving or stopping.)"
   ]
  },
  {
   "cell_type": "markdown",
   "metadata": {},
   "source": [
    "## [B] OBJECT\n",
    "- Creating object of a class which will allocate memory in the system to load the class members and utilize it\n",
    "#### self --> \n",
    "- It holds the memory reference of the object and is initialized inside the init() method. \n",
    "- Using the self , we can access all variables & methods written inside the class"
   ]
  },
  {
   "cell_type": "markdown",
   "metadata": {},
   "source": [
    "# [or]"
   ]
  },
  {
   "cell_type": "markdown",
   "metadata": {},
   "source": [
    "- If u know about \"dictonary\", then u can easily understnd about \"class\" also\n",
    "- \"Class\" is some thing similar like \"Dictonary\", but not same."
   ]
  },
  {
   "cell_type": "markdown",
   "metadata": {},
   "source": [
    "- Before knowing about \"classes\" initially we want to know about \"dictonary\"\n",
    "- Dictonary looks like"
   ]
  },
  {
   "cell_type": "code",
   "execution_count": 10,
   "metadata": {},
   "outputs": [
    {
     "name": "stdout",
     "output_type": "stream",
     "text": [
      "<class 'dict'>\n"
     ]
    },
    {
     "data": {
      "text/plain": [
       "{'name': 'ccr', 'age': 30}"
      ]
     },
     "execution_count": 10,
     "metadata": {},
     "output_type": "execute_result"
    }
   ],
   "source": [
    "z={}\n",
    "print(type(z))\n",
    "z[\"name\"]='ccr'\n",
    "z['age']=30\n",
    "z"
   ]
  },
  {
   "cell_type": "code",
   "execution_count": 11,
   "metadata": {},
   "outputs": [
    {
     "name": "stdout",
     "output_type": "stream",
     "text": [
      "<class 'dict'>\n"
     ]
    },
    {
     "data": {
      "text/plain": [
       "{'name': 'Stacy', 'Age': 30}"
      ]
     },
     "execution_count": 11,
     "metadata": {},
     "output_type": "execute_result"
    }
   ],
   "source": [
    "z = {}\n",
    "print(type(z))\n",
    "z[\"name\"] = 'Stacy'\n",
    "z[\"Age\"] = 30\n",
    "z"
   ]
  },
  {
   "cell_type": "code",
   "execution_count": 12,
   "metadata": {},
   "outputs": [
    {
     "data": {
      "text/plain": [
       "'Stacy'"
      ]
     },
     "execution_count": 12,
     "metadata": {},
     "output_type": "execute_result"
    }
   ],
   "source": [
    "# Dictonary[key]\n",
    "z['name']"
   ]
  },
  {
   "cell_type": "markdown",
   "metadata": {},
   "source": [
    "#### or"
   ]
  },
  {
   "cell_type": "code",
   "execution_count": 13,
   "metadata": {},
   "outputs": [
    {
     "data": {
      "text/plain": [
       "'Stacy'"
      ]
     },
     "execution_count": 13,
     "metadata": {},
     "output_type": "execute_result"
    }
   ],
   "source": [
    "z[\"name\"]"
   ]
  },
  {
   "cell_type": "code",
   "execution_count": 14,
   "metadata": {},
   "outputs": [],
   "source": [
    "z['Age'] = 40"
   ]
  },
  {
   "cell_type": "code",
   "execution_count": 15,
   "metadata": {},
   "outputs": [
    {
     "data": {
      "text/plain": [
       "{'name': 'Stacy', 'Age': 40}"
      ]
     },
     "execution_count": 15,
     "metadata": {},
     "output_type": "execute_result"
    }
   ],
   "source": [
    "z"
   ]
  },
  {
   "cell_type": "markdown",
   "metadata": {},
   "source": [
    "## Initializing a class\n",
    "- Class is somthing similar like \"disctonary\", but not same.\n",
    "- \"Class\" is followed by its \"Class name\"\n",
    "    - Ex: MyClass.name\n",
    "    - i,e We can simply access the \"variables\" by simply calling \"class name.variable\""
   ]
  },
  {
   "cell_type": "markdown",
   "metadata": {},
   "source": [
    "#### [A] \"class\" without \"self\""
   ]
  },
  {
   "cell_type": "code",
   "execution_count": 16,
   "metadata": {},
   "outputs": [
    {
     "data": {
      "text/plain": [
       "'Blah'"
      ]
     },
     "execution_count": 16,
     "metadata": {},
     "output_type": "execute_result"
    }
   ],
   "source": [
    "class MyClass:\n",
    "    name='Blah'\n",
    "    age='28'\n",
    "    location='Ind'\n",
    "\n",
    "MyClass()\n",
    "MyClass.name"
   ]
  },
  {
   "cell_type": "markdown",
   "metadata": {},
   "source": [
    "### [or]"
   ]
  },
  {
   "cell_type": "code",
   "execution_count": 17,
   "metadata": {},
   "outputs": [
    {
     "data": {
      "text/plain": [
       "'Blah'"
      ]
     },
     "execution_count": 17,
     "metadata": {},
     "output_type": "execute_result"
    }
   ],
   "source": [
    "class MyClass:\n",
    "    name='Blah'\n",
    "    age='28'\n",
    "    location='Ind'\n",
    "\n",
    "myclass = MyClass()\n",
    "myclass.name"
   ]
  },
  {
   "cell_type": "markdown",
   "metadata": {},
   "source": [
    "#### [B] \"class\" with \"self\" or \"capture\"\n",
    "- __init__ means \"initializing\"\n",
    "- If u use \"self\" means we can access \"all the variables\".\n",
    "- 3 arguments/variables = height,age,breed\n",
    "\n",
    "## [1] \"Function/Method\" with in a \"Class\""
   ]
  },
  {
   "cell_type": "markdown",
   "metadata": {},
   "source": [
    "## Dunder Method or Magic Methods:\n",
    "- Dunder methods are methods that allow instances of a class to interact with the built-in functions and operators of the class itself provided by Python Language\n",
    "- In other words, all the operations we do on a Python object is implemented using these dunder methods\n",
    "- The two underscores are there just to prevent name collision with other methods implemented by\n",
    "unsuspecting programmers.\n",
    "\n",
    "- dir(<class instance>) : Prints out list of all dunder methods available\n",
    "\n",
    "Few of the useful dunder methods are described below\n",
    "### [a] __init__\n",
    "- Its a constructor or initializer method provided in a class\n",
    "- Its called every time an object is created from a class\n",
    "- Its purpose it to initialize the object's attributes\n",
    "- Its only used within class\n",
    "### [b] self\n",
    "- Its denotes the current instance of the class.\n",
    "- It holds the memory reference of the object and is initialized inside the __init__() method.\n",
    "- Using the self , we can access variables & methods written inside the class"
   ]
  },
  {
   "cell_type": "code",
   "execution_count": 1,
   "metadata": {},
   "outputs": [
    {
     "name": "stdout",
     "output_type": "stream",
     "text": [
      "First Name: Abhijit\n",
      "Last Name: Paul\n"
     ]
    }
   ],
   "source": [
    "# Will redefine the class\n",
    "class Person:\n",
    "    def __init__(self, first_name, last_name) -> None:\n",
    "        self.first_name = first_name\n",
    "        self.last_name = last_name\n",
    "        \n",
    "p = Person(\"Abhijit\", \"Paul\") # These two arguments will be initialized in `__init__()`\n",
    "print(f\"First Name: {p.first_name}\")\n",
    "print(f\"Last Name: {p.last_name}\")"
   ]
  },
  {
   "cell_type": "code",
   "execution_count": 2,
   "metadata": {},
   "outputs": [
    {
     "ename": "TypeError",
     "evalue": "Dog.__init__() missing 3 required positional arguments: 'height', 'age', and 'breed'",
     "output_type": "error",
     "traceback": [
      "\u001b[1;31m---------------------------------------------------------------------------\u001b[0m",
      "\u001b[1;31mTypeError\u001b[0m                                 Traceback (most recent call last)",
      "Cell \u001b[1;32mIn[2], line 7\u001b[0m\n\u001b[0;32m      4\u001b[0m         \u001b[38;5;28mself\u001b[39m\u001b[38;5;241m.\u001b[39mage\u001b[38;5;241m=\u001b[39mage\n\u001b[0;32m      5\u001b[0m         \u001b[38;5;28mself\u001b[39m\u001b[38;5;241m.\u001b[39mbreed\u001b[38;5;241m=\u001b[39mbreed\n\u001b[1;32m----> 7\u001b[0m german_shepperd \u001b[38;5;241m=\u001b[39m \u001b[43mDog\u001b[49m\u001b[43m(\u001b[49m\u001b[43m)\u001b[49m\n\u001b[0;32m      8\u001b[0m \u001b[38;5;66;03m# If u create an object called \"German Shepperd\", it will through an \"error\" because u didnot pass this argument to this.\u001b[39;00m\n\u001b[0;32m      9\u001b[0m \u001b[38;5;66;03m# german_shepperd is an \"object\"\u001b[39;00m\n",
      "\u001b[1;31mTypeError\u001b[0m: Dog.__init__() missing 3 required positional arguments: 'height', 'age', and 'breed'"
     ]
    }
   ],
   "source": [
    "class Dog:\n",
    "    def __init__(self,height,age,breed):\n",
    "        self.height=height\n",
    "        self.age=age\n",
    "        self.breed=breed\n",
    "\n",
    "german_shepperd = Dog()\n",
    "# If u create an object called \"German Shepperd\", it will through an \"error\" because u didnot pass this argument to this.\n",
    "# german_shepperd is an \"object\""
   ]
  },
  {
   "cell_type": "code",
   "execution_count": 19,
   "metadata": {},
   "outputs": [
    {
     "name": "stdout",
     "output_type": "stream",
     "text": [
      "<__main__.Dog object at 0x00000170CED5DD80>\n"
     ]
    },
    {
     "data": {
      "text/plain": [
       "5"
      ]
     },
     "execution_count": 19,
     "metadata": {},
     "output_type": "execute_result"
    }
   ],
   "source": [
    "class Dog:\n",
    "    def __init__(self,height,age,breed):\n",
    "        self.height=height\n",
    "        self.age=age\n",
    "        self.breed=breed\n",
    "\n",
    "german_shepperd = Dog(1.5, 5, 'German')\n",
    "print(german_shepperd)    # it will show \"memory address\"\n",
    "\n",
    "german_shepperd.age"
   ]
  },
  {
   "cell_type": "code",
   "execution_count": 20,
   "metadata": {},
   "outputs": [
    {
     "data": {
      "text/plain": [
       "1.5"
      ]
     },
     "execution_count": 20,
     "metadata": {},
     "output_type": "execute_result"
    }
   ],
   "source": [
    "german_shepperd.height"
   ]
  },
  {
   "cell_type": "code",
   "execution_count": 21,
   "metadata": {},
   "outputs": [
    {
     "data": {
      "text/plain": [
       "'German'"
      ]
     },
     "execution_count": 21,
     "metadata": {},
     "output_type": "execute_result"
    }
   ],
   "source": [
    "german_shepperd.breed"
   ]
  },
  {
   "cell_type": "markdown",
   "metadata": {},
   "source": [
    "- In \"Functions\" what we saw is whichever the variable that u declared in that function is limited to that particular function.\n",
    "- Similarly in \"Class\", whichever \"function/method\" that u declared in that function is limited to that particular Class.\n",
    "\n",
    "- In class we can have \"multiple Functions/methods\""
   ]
  },
  {
   "cell_type": "code",
   "execution_count": 2,
   "metadata": {},
   "outputs": [],
   "source": [
    "# Class Creation [Blue print]\n",
    "    # Class = Dog\n",
    "    # Function/Method \n",
    "\n",
    "class Dog:\n",
    "    # __init__ = Init method-1 (Constructor)\n",
    "    # Attributes = height, age, breed\n",
    "    # \"self\" is compulsary.\n",
    "    def __init__(self, height, age, breed): \n",
    "        self.height = height\n",
    "        self.age = age\n",
    "        self.breed = breed\n",
    "\n",
    "    # about = method-2\n",
    "    # To know about \"atrributes\" we will use \"about\" method\n",
    "    def about(self):   \n",
    "        print(f\"My breed is {self.breed} and I age about {self.age} and my height is {self.height}\")"
   ]
  },
  {
   "cell_type": "code",
   "execution_count": 3,
   "metadata": {},
   "outputs": [
    {
     "name": "stdout",
     "output_type": "stream",
     "text": [
      "My breed is German and I age about 5 and my height is 1.5\n"
     ]
    }
   ],
   "source": [
    "# Object creation\n",
    "# __init__ method-1 will call\n",
    "german_shepperd = Dog(1.5, 5, 'German')\n",
    "\n",
    "# method-2 will call\n",
    "german_shepperd.about()"
   ]
  },
  {
   "cell_type": "markdown",
   "metadata": {},
   "source": [
    "### __repr__\n",
    "- Computes \"official\" string representation of class"
   ]
  },
  {
   "cell_type": "code",
   "execution_count": 11,
   "metadata": {},
   "outputs": [
    {
     "name": "stdout",
     "output_type": "stream",
     "text": [
      "Print Person instance: This is a Person class without customized representation\n"
     ]
    }
   ],
   "source": [
    "class Person:\n",
    "    def __repr__(self) -> None:\n",
    "        return f\"This is a Person class without customized representation\"\n",
    "p = Person()\n",
    "print(f\"Print Person instance: {p}\")"
   ]
  },
  {
   "cell_type": "markdown",
   "metadata": {},
   "source": [
    "### __str__\n",
    "- When we print an object (class instance), it calls the __str__() function and prints the contents written within"
   ]
  },
  {
   "cell_type": "code",
   "execution_count": 12,
   "metadata": {},
   "outputs": [
    {
     "name": "stdout",
     "output_type": "stream",
     "text": [
      "Print Person instance: This is a Person class without customized representation\n"
     ]
    }
   ],
   "source": [
    "class Person:\n",
    "    def __str__(self) -> None:\n",
    "        return f\"This is a Person class without customized representation\"\n",
    "p = Person()\n",
    "print(f\"Print Person instance: {p}\")"
   ]
  },
  {
   "cell_type": "markdown",
   "metadata": {},
   "source": [
    "### __getattr__\n",
    "- Get value of the attribute defined in a class"
   ]
  },
  {
   "cell_type": "code",
   "execution_count": 13,
   "metadata": {},
   "outputs": [
    {
     "name": "stdout",
     "output_type": "stream",
     "text": [
      "Get Attribute: Abhijit\n"
     ]
    }
   ],
   "source": [
    "class Person:\n",
    "    def __init__(self, first_name, last_name) -> None:\n",
    "        self.first_name = first_name\n",
    "        self.last_name = last_name\n",
    "p = Person(\"Abhijit\", \"Paul\") # These two arguments will be initialized in `__init__()`\n",
    "print(f\"Get Attribute: {p.__getattribute__('first_name')}\")"
   ]
  },
  {
   "cell_type": "markdown",
   "metadata": {},
   "source": [
    "### __setattr__\n",
    "- Set value of the attribute defined in a class"
   ]
  },
  {
   "cell_type": "code",
   "execution_count": 15,
   "metadata": {},
   "outputs": [
    {
     "name": "stdout",
     "output_type": "stream",
     "text": [
      "Get Attribute: Mohan\n"
     ]
    }
   ],
   "source": [
    "class Person:\n",
    "    def __init__(self, first_name, last_name) -> None:\n",
    "        self.first_name = first_name\n",
    "        self.last_name = last_name\n",
    "p = Person(\"Abhijit\", \"Paul\") # These two arguments will be initialized in `__init__()`\n",
    "p.__setattr__('first_name', 'Mohan') # Setting attribute on the runtime using `__setattr__()`\n",
    "print(f\"Get Attribute: {p.__getattribute__('first_name')}\")"
   ]
  },
  {
   "cell_type": "code",
   "execution_count": 6,
   "metadata": {},
   "outputs": [
    {
     "data": {
      "text/plain": [
       "['__class__',\n",
       " '__delattr__',\n",
       " '__dict__',\n",
       " '__dir__',\n",
       " '__doc__',\n",
       " '__eq__',\n",
       " '__format__',\n",
       " '__ge__',\n",
       " '__getattribute__',\n",
       " '__gt__',\n",
       " '__hash__',\n",
       " '__init__',\n",
       " '__init_subclass__',\n",
       " '__le__',\n",
       " '__lt__',\n",
       " '__module__',\n",
       " '__ne__',\n",
       " '__new__',\n",
       " '__reduce__',\n",
       " '__reduce_ex__',\n",
       " '__repr__',\n",
       " '__setattr__',\n",
       " '__sizeof__',\n",
       " '__str__',\n",
       " '__subclasshook__',\n",
       " '__weakref__',\n",
       " 'about',\n",
       " 'age',\n",
       " 'breed',\n",
       " 'height']"
      ]
     },
     "execution_count": 6,
     "metadata": {},
     "output_type": "execute_result"
    }
   ],
   "source": [
    "# Once \"class\" created means \"default methods\" are also created\n",
    "# To known about all methods\n",
    "dir(german_shepperd)"
   ]
  },
  {
   "cell_type": "markdown",
   "metadata": {},
   "source": [
    "#### One more class"
   ]
  },
  {
   "cell_type": "code",
   "execution_count": 24,
   "metadata": {},
   "outputs": [
    {
     "name": "stdout",
     "output_type": "stream",
     "text": [
      "My breed is Street and I age about 1 and my height is 0.5\n"
     ]
    }
   ],
   "source": [
    "street_dg = Dog(.5, 1, 'Street')\n",
    "street_dg.about()"
   ]
  },
  {
   "cell_type": "markdown",
   "metadata": {},
   "source": [
    "#### One more class"
   ]
  },
  {
   "cell_type": "code",
   "execution_count": 25,
   "metadata": {},
   "outputs": [],
   "source": [
    "class Person:\n",
    "    def __init__(self, name, age):\n",
    "        self.name = name\n",
    "        self.age = age\n",
    "\n",
    "p1 = Person('John', 36)"
   ]
  },
  {
   "cell_type": "markdown",
   "metadata": {},
   "source": [
    "#### One more class"
   ]
  },
  {
   "cell_type": "markdown",
   "metadata": {},
   "source": [
    "- Instead of \"self\" we are having \"capture\" also.\n",
    "- Both will works similarly."
   ]
  },
  {
   "cell_type": "code",
   "execution_count": 26,
   "metadata": {},
   "outputs": [],
   "source": [
    "class Person:\n",
    "    def __init__(capture, name, age):\n",
    "        capture.name = name\n",
    "        capture.age = age\n",
    "\n",
    "p1 = Person('John', 36)"
   ]
  },
  {
   "cell_type": "code",
   "execution_count": 27,
   "metadata": {},
   "outputs": [
    {
     "name": "stdout",
     "output_type": "stream",
     "text": [
      "36 John\n"
     ]
    }
   ],
   "source": [
    "print(p1.age, p1.name)"
   ]
  },
  {
   "cell_type": "code",
   "execution_count": 28,
   "metadata": {},
   "outputs": [
    {
     "name": "stdout",
     "output_type": "stream",
     "text": [
      "John 36\n"
     ]
    }
   ],
   "source": [
    "print(p1.name, p1.age)"
   ]
  },
  {
   "cell_type": "code",
   "execution_count": 29,
   "metadata": {},
   "outputs": [
    {
     "name": "stdout",
     "output_type": "stream",
     "text": [
      "John is having age about 36\n"
     ]
    }
   ],
   "source": [
    "print(f\"{p1.name} is having age about {p1.age}\")"
   ]
  },
  {
   "cell_type": "code",
   "execution_count": 30,
   "metadata": {},
   "outputs": [
    {
     "name": "stdout",
     "output_type": "stream",
     "text": [
      "John is having age about 36\n"
     ]
    }
   ],
   "source": [
    "print(\"{0} is having age about {1}\".format(p1.name, p1.age))"
   ]
  },
  {
   "cell_type": "code",
   "execution_count": 31,
   "metadata": {},
   "outputs": [
    {
     "name": "stdout",
     "output_type": "stream",
     "text": [
      "<__main__.Person object at 0x00000170CFDB8B20>\n"
     ]
    }
   ],
   "source": [
    "print(p1)"
   ]
  },
  {
   "cell_type": "code",
   "execution_count": 32,
   "metadata": {},
   "outputs": [
    {
     "data": {
      "text/plain": [
       "('Mary', 25)"
      ]
     },
     "execution_count": 32,
     "metadata": {},
     "output_type": "execute_result"
    }
   ],
   "source": [
    "# We can also go and updates the \"name\".\n",
    "\n",
    "p2 = Person('Mary', 25)\n",
    "p2.name, p2.age"
   ]
  },
  {
   "cell_type": "code",
   "execution_count": 33,
   "metadata": {},
   "outputs": [],
   "source": [
    "p2.age=35"
   ]
  },
  {
   "cell_type": "code",
   "execution_count": 34,
   "metadata": {},
   "outputs": [
    {
     "data": {
      "text/plain": [
       "('Mary', 35)"
      ]
     },
     "execution_count": 34,
     "metadata": {},
     "output_type": "execute_result"
    }
   ],
   "source": [
    "p2.name, p2.age"
   ]
  },
  {
   "cell_type": "markdown",
   "metadata": {},
   "source": [
    "- Similar like \"formating string\" in class also we have \"doc string (__str__)\"\n",
    "- __str__ is an object"
   ]
  },
  {
   "cell_type": "code",
   "execution_count": 35,
   "metadata": {},
   "outputs": [],
   "source": [
    "def fn_name():\n",
    "    \"\"\" this is doc string from fn_name \"\"\"\n",
    "    print(\"Hello world!\")"
   ]
  },
  {
   "cell_type": "code",
   "execution_count": 36,
   "metadata": {},
   "outputs": [
    {
     "data": {
      "text/plain": [
       "' this is doc string from fn_name '"
      ]
     },
     "execution_count": 36,
     "metadata": {},
     "output_type": "execute_result"
    }
   ],
   "source": [
    "fn_name.__doc__"
   ]
  },
  {
   "cell_type": "code",
   "execution_count": 37,
   "metadata": {},
   "outputs": [],
   "source": [
    "# string representation of an object with __str__ function\n",
    "class Person:\n",
    "    def __init__(self, name, age):\n",
    "        self.name = name\n",
    "        self.age = age\n",
    "    def __str__(self):\n",
    "        return f\"Person is {self.name} with age {self.age}\""
   ]
  },
  {
   "cell_type": "code",
   "execution_count": 38,
   "metadata": {},
   "outputs": [],
   "source": [
    "p1 = Person(\"John\", 35)"
   ]
  },
  {
   "cell_type": "code",
   "execution_count": 39,
   "metadata": {},
   "outputs": [
    {
     "name": "stdout",
     "output_type": "stream",
     "text": [
      "Person is John with age 35\n"
     ]
    }
   ],
   "source": [
    "print(p1)"
   ]
  },
  {
   "cell_type": "markdown",
   "metadata": {},
   "source": [
    "## [2] \"Multiple functions/Methods\" with in a \"Class\"\n",
    "- we can have a \"Multiple functions\" within \"class\" that can be called.\n",
    "- This is called a method within an object.\n",
    "- Methods in objects are functions that belong to object."
   ]
  },
  {
   "cell_type": "code",
   "execution_count": 1,
   "metadata": {},
   "outputs": [],
   "source": [
    "class Person:\n",
    "    def __init__(self, name, age):\n",
    "        self.name = name\n",
    "        self.age = age\n",
    "\n",
    "    def myfunc(self):\n",
    "        print(f\"Hello my name is {self.name}\")\n",
    "        print(f\"My age is {self.age}\")"
   ]
  },
  {
   "cell_type": "code",
   "execution_count": 2,
   "metadata": {},
   "outputs": [],
   "source": [
    "p1 = Person(\"John\", 36)"
   ]
  },
  {
   "cell_type": "code",
   "execution_count": 3,
   "metadata": {},
   "outputs": [
    {
     "name": "stdout",
     "output_type": "stream",
     "text": [
      "John 36\n"
     ]
    }
   ],
   "source": [
    "print(p1.name,p1.age)"
   ]
  },
  {
   "cell_type": "code",
   "execution_count": 4,
   "metadata": {},
   "outputs": [
    {
     "data": {
      "text/plain": [
       "36"
      ]
     },
     "execution_count": 4,
     "metadata": {},
     "output_type": "execute_result"
    }
   ],
   "source": [
    "p1.age"
   ]
  },
  {
   "cell_type": "code",
   "execution_count": 5,
   "metadata": {},
   "outputs": [
    {
     "data": {
      "text/plain": [
       "'John'"
      ]
     },
     "execution_count": 5,
     "metadata": {},
     "output_type": "execute_result"
    }
   ],
   "source": [
    "p1.name"
   ]
  },
  {
   "cell_type": "code",
   "execution_count": 44,
   "metadata": {},
   "outputs": [
    {
     "name": "stdout",
     "output_type": "stream",
     "text": [
      "Hello my name is John\n",
      "My age is 36\n"
     ]
    }
   ],
   "source": [
    "p1.myfunc()"
   ]
  },
  {
   "cell_type": "markdown",
   "metadata": {},
   "source": [
    "### If we want to pass \"foreign_variable\" to \"myfunc\" explicitly then do like below\n",
    "- \"foreign variable\" is not part of my \"__init__\", but if want explicitly send that variable to \"myfunc\" means\n",
    "    - foreign_variable --------Normal argument\n",
    "    - foreign_variable='a' ----Key word argument"
   ]
  },
  {
   "cell_type": "code",
   "execution_count": 45,
   "metadata": {},
   "outputs": [
    {
     "name": "stdout",
     "output_type": "stream",
     "text": [
      "Hello my name is John\n",
      "My age is 36\n",
      "foreign value is a\n"
     ]
    }
   ],
   "source": [
    "class Person:\n",
    "    def __init__(self, name, age):\n",
    "        self.name = name\n",
    "        self.age = age\n",
    "\n",
    "    def myfunc(self, foreign_variable='a'):\n",
    "        print(f\"Hello my name is {self.name}\")\n",
    "        print(f\"My age is {self.age}\")\n",
    "        print(f\"foreign value is {foreign_variable}\")\n",
    "        \n",
    "p1 = Person(\"John\", 36)\n",
    "p1.myfunc()"
   ]
  },
  {
   "cell_type": "code",
   "execution_count": 46,
   "metadata": {},
   "outputs": [
    {
     "name": "stdout",
     "output_type": "stream",
     "text": [
      "Hello my name is John\n",
      "My age is 36\n",
      "foreign value is foo\n"
     ]
    }
   ],
   "source": [
    "p1.myfunc('foo')"
   ]
  },
  {
   "cell_type": "code",
   "execution_count": 47,
   "metadata": {},
   "outputs": [
    {
     "name": "stdout",
     "output_type": "stream",
     "text": [
      "Hello my name is John\n",
      "My age is 40\n",
      "foreign value is a\n"
     ]
    }
   ],
   "source": [
    "# to update the object\n",
    "p1.age = 40\n",
    "p1.myfunc()"
   ]
  },
  {
   "cell_type": "code",
   "execution_count": 48,
   "metadata": {},
   "outputs": [],
   "source": [
    "# to delete the object\n",
    "del p1"
   ]
  },
  {
   "cell_type": "code",
   "execution_count": 49,
   "metadata": {},
   "outputs": [
    {
     "ename": "NameError",
     "evalue": "name 'p1' is not defined",
     "output_type": "error",
     "traceback": [
      "\u001b[1;31m---------------------------------------------------------------------------\u001b[0m",
      "\u001b[1;31mNameError\u001b[0m                                 Traceback (most recent call last)",
      "Cell \u001b[1;32mIn[49], line 1\u001b[0m\n\u001b[1;32m----> 1\u001b[0m \u001b[43mp1\u001b[49m\n",
      "\u001b[1;31mNameError\u001b[0m: name 'p1' is not defined"
     ]
    }
   ],
   "source": [
    "p1"
   ]
  },
  {
   "cell_type": "markdown",
   "metadata": {},
   "source": [
    "- In general we wonot use this one\n",
    "- API creation people will use this one\n",
    "- We will create a Class called 'ToDo' which will keep a track of to-do list\n",
    "- We are giving explicitly passing parameter types (owner: str) & return as none (-> None)"
   ]
  },
  {
   "cell_type": "code",
   "execution_count": 4,
   "metadata": {},
   "outputs": [
    {
     "name": "stdout",
     "output_type": "stream",
     "text": [
      "The Todo task of Abhijit:\n",
      "I will wake up at 8am\n",
      "I will attend iNeuron Live Session\n",
      "Task 'I will wake up at 8am' completed\n",
      "The Todo task of Abhijit:\n",
      "I will attend iNeuron Live Session\n"
     ]
    }
   ],
   "source": [
    "class ToDo:\n",
    "    def __init__(self, owner: str) -> None:\n",
    "        self.owner = owner\n",
    "        self.tasks = []\n",
    "    def add_task(self, task: str) -> None:\n",
    "        self.tasks.append(task)\n",
    "    def complete_task(self, task: str) -> None:\n",
    "        if task in self.tasks:\n",
    "            self.tasks.remove(task)\n",
    "            print(f\"Task '{task}' completed\")\n",
    "        else:\n",
    "            print(f\"Task is not found\")\n",
    "    def display_tasks(self) -> None:\n",
    "        print(f\"The Todo task of {self.owner}:\")\n",
    "        for task in self.tasks:\n",
    "            print(task)\n",
    "\n",
    "todo = ToDo(\"Abhijit\")\n",
    "todo.add_task(\"I will wake up at 8am\")\n",
    "todo.add_task(\"I will attend iNeuron Live Session\")\n",
    "todo.display_tasks()\n",
    "todo.complete_task(\"I will wake up at 8am\")\n",
    "todo.display_tasks()"
   ]
  },
  {
   "cell_type": "markdown",
   "metadata": {},
   "source": [
    "# 4-Pillars of Object-Oriented Programming (OOPs)\n",
    "# \"IE AP\"\n",
    "\n",
    "1. Inheritance\n",
    "    - Provides reusability\n",
    "        - Types:\n",
    "            - [i] Single Inheritance\n",
    "            - [ii] Multilevel Inheritance\n",
    "            - [iii] Multiple Inheritance\n",
    "            \n",
    "2. Encapsulation\n",
    "    - Provides security for ur data | \n",
    "    - Binding ur data with methods | \n",
    "    - No exposing data directly by allowing data accessibility by using those methods\n",
    "        - Access Modifiers (or) Format Specifier:\n",
    "            - To implement encapsulation, we have different types of access modifiers.\n",
    "                - [1] Public\n",
    "                - [2] Protected\n",
    "                - [3] Private\n",
    "3. Abstraction\n",
    "    - Hides the backend implementation\n",
    "        - Achieving Abstraction in Python\n",
    "            - [1] Decorators\n",
    "            - [2] Abstract Method & Abstract Classes\n",
    "\n",
    "4. Polymorphism\n",
    "    - Provides many forms\n",
    "        - Types: There are two different ways we can achieve Polymorphism.\n",
    "            - [a] Compile Time Polymorphism (e.g. Method Overloading)\n",
    "            - [b] Run Time Polymorphism (e.g. Method Overriding)"
   ]
  },
  {
   "cell_type": "markdown",
   "metadata": {},
   "source": [
    "# [1] Class Inheritance:\n",
    "- Let us say that u want to \"inherits\" the properties from \"one class\" to \"another class\", we required 2 classes.\n",
    "    1. Base class/Parent class\n",
    "    2. Child class/dependent class/derived class\n",
    "#### [or] \n",
    "- Inheritance is one of the characteristics of \"Object Oriented Programming paradigm\".\n",
    "- It facilitates the passing of attributes and methods of a class (base) to another class (derived)\n",
    "- A child class acquires the properties and can access all the data members and functions defined in the\n",
    "parent class.\n",
    "- Moreover, a child class can also provide its specific implementation to the functions of the parent class.\n",
    "\n",
    "### Usages:\n",
    "- Its primary usage is code reusability because we can inherit all attributes and methods related to a\n",
    "particular functionality which is already written in a class instead of writing the functionality from scratch.\n",
    "\n",
    "### Types:\n",
    "- [i] Single Inheritance\n",
    "- [ii] Multilevel Inheritance\n",
    "- [iii] Multiple Inheritance"
   ]
  },
  {
   "cell_type": "markdown",
   "metadata": {},
   "source": [
    "### [i] Single Inheritance\n",
    "- In Single Inheritance, \"one child class\" inherits from \"one parent class\" \n",
    "- i.e. there will be a \"single parent class\" and a \"single child class\""
   ]
  },
  {
   "cell_type": "code",
   "execution_count": 5,
   "metadata": {},
   "outputs": [
    {
     "name": "stdout",
     "output_type": "stream",
     "text": [
      "Name: Akshay\n",
      "Gender: Male\n"
     ]
    }
   ],
   "source": [
    "# E.g. Single Inheritance\n",
    "class Human:                                        # Base Class\n",
    "    def __init__(self, name) -> None:\n",
    "        self.name = name\n",
    "    def info(self):\n",
    "        print(f\"Name: {self.name}\")\n",
    "\n",
    "class Male(Human):                                  # Derived Class from a Single Base Class\n",
    "    def __init__(self, name, gender) -> None:\n",
    "        super().__init__(name)\n",
    "        self.gender = gender\n",
    "    def info(self):\n",
    "        super().info()                              # Reusing the info() method of base class\n",
    "        print(f\"Gender: {self.gender}\")\n",
    "        \n",
    "male = Male(\"Akshay\", \"Male\")\n",
    "male.info()"
   ]
  },
  {
   "cell_type": "markdown",
   "metadata": {},
   "source": [
    "### [ii] Multilevel Inheritance:\n",
    "- In Multilevel Inheritance, one child class inherits attributes and methods from a parent class and subsequently\n",
    "becomes the parent class of another child class.\n",
    "- Ex: \n",
    "    - GrandFather-----------Parent class\n",
    "    - Father----------------Child class-------later becomes as-------Parent class\n",
    "    - Son-------------------Child class------------------------------Child class"
   ]
  },
  {
   "cell_type": "code",
   "execution_count": 6,
   "metadata": {},
   "outputs": [
    {
     "name": "stdout",
     "output_type": "stream",
     "text": [
      "Srinivas 24 Assam\n"
     ]
    }
   ],
   "source": [
    "class Parent:\n",
    "    def __init__(self,name):\n",
    "        self.name = name\n",
    "    def getName(self):\n",
    "        return self.name\n",
    "    \n",
    "class Child(Parent):\n",
    "    def __init__(self,name,age):\n",
    "        super().__init__(name)\n",
    "        self.age = age\n",
    "    def getAge(self):\n",
    "        return self.age\n",
    "    \n",
    "class Grandchild(Child):\n",
    "    def __init__(self,name,age,location):\n",
    "        super().__init__(name,age)\n",
    "        self.location=location\n",
    "    def getLocation(self):\n",
    "        return self.location\n",
    "\n",
    "gc = Grandchild(\"Srinivas\",24,\"Assam\")\n",
    "print(gc.getName(), gc.getAge(), gc.getLocation())"
   ]
  },
  {
   "cell_type": "markdown",
   "metadata": {},
   "source": [
    "### [iii] Multiple Inheritance:\n",
    "- In Multiple Inheritance, one child class can inherit attributes and methods from multiple parent classes \n",
    "- i.e there will be multiple base class and a single derived class"
   ]
  },
  {
   "cell_type": "code",
   "execution_count": 23,
   "metadata": {},
   "outputs": [
    {
     "name": "stdout",
     "output_type": "stream",
     "text": [
      "Name: TT & Age: 30\n",
      "Company Name: TT & Domain: Trading Platform\n",
      "Salary: 10000\n"
     ]
    }
   ],
   "source": [
    "# E.g. Multiple Inheritance\n",
    "class Person:                                                          # Base Class\n",
    "    def __init__(self, name, age) -> None:\n",
    "        self.name = name\n",
    "        self.age = age\n",
    "    def person_info(self):\n",
    "        print(f\"Name: {self.name} & Age: {self.age}\")\n",
    "\n",
    "class Company:                                                         # Base Class\n",
    "    def __init__(self, name, domain) -> None:\n",
    "        self.name = name\n",
    "        self.domain = domain\n",
    "    def company_info(self):\n",
    "        print(f\"Company Name: {self.name} & Domain: {self.domain}\")\n",
    "\n",
    "class Employee(Person, Company):                                       # Derived Class from a Single Base Class\n",
    "    def __init__(self, name, age, company_name, domain, salary):\n",
    "        Person.__init__(self, name, age)\n",
    "        Company.__init__(self, company_name, domain)\n",
    "        self.salary = salary\n",
    "    def employee_info(self):\n",
    "        super().person_info()\n",
    "        super().company_info()\n",
    "        print(f\"Salary: {self.salary}\")\n",
    "        \n",
    "person1 = Employee(\"Abhijit\", 30, \"TT\", \"Trading Platform\", 10000)\n",
    "person1.employee_info()"
   ]
  },
  {
   "cell_type": "markdown",
   "metadata": {},
   "source": [
    "### MRO (Method Resolution Order):\n",
    "- Its very important to under MRO to grasp \"Multiple Inheritance\" [Ex: Father, Mother ----------son]\n",
    "    - It is the order in which Python looks for a method in a hierarchy of classes.\n",
    "    - It plays vital role in the context of multiple inheritance as a single method may be found in multiple super classes\n",
    "    - Python constructs the order in which it will look for a method in the hierarchy of classes.\n",
    "    - It uses this order, known as MRO, to determine which method it actually calls.\n",
    "    - It is possible to see MRO of a class using mro() method of the class.\n",
    "#### IMP RULE TO REMEMBER: \n",
    "- A Parent/Base/Super Class cannot be accessed before a Child/Derived/Subclass"
   ]
  },
  {
   "cell_type": "code",
   "execution_count": 7,
   "metadata": {},
   "outputs": [
    {
     "name": "stdout",
     "output_type": "stream",
     "text": [
      "A process()\n",
      "[<class '__main__.C'>, <class '__main__.A'>, <class '__main__.B'>, <class 'object'>]\n"
     ]
    }
   ],
   "source": [
    "#CASE1\n",
    "class A:\n",
    "    def process(self):\n",
    "        print('A process()')\n",
    "\n",
    "class B:\n",
    "    pass\n",
    "\n",
    "class C(A, B):\n",
    "    pass\n",
    "\n",
    "obj = C()\n",
    "obj.process()\n",
    "print(C.mro()) # C -> A -> B -> ObjectCLass"
   ]
  },
  {
   "cell_type": "markdown",
   "metadata": {},
   "source": [
    "- From MRO of class C, we get to know that Python looks for a method first in class C. Then it goes to A and then\n",
    "to B.\n",
    "- So, first it goes to super class given first in the list then second super class, from left to right order. Then finally Object class, which is a super class for all classes."
   ]
  },
  {
   "cell_type": "code",
   "execution_count": 8,
   "metadata": {},
   "outputs": [
    {
     "name": "stdout",
     "output_type": "stream",
     "text": [
      "C process()\n",
      "[<class '__main__.D'>, <class '__main__.C'>, <class '__main__.A'>, <class '__main__.B'>, <class 'object'>]\n"
     ]
    }
   ],
   "source": [
    "#CASE2\n",
    "class A:\n",
    "    def process(self):\n",
    "        print('A process()')\n",
    "\n",
    "class B:\n",
    "    def process(self):\n",
    "        print('B process()')\n",
    "\n",
    "class C(A, B):\n",
    "    def process(self):\n",
    "        print('C process()')\n",
    "\n",
    "class D(C,B):\n",
    "    pass\n",
    "\n",
    "obj = D()\n",
    "obj.process()\n",
    "print(D.mro()) # D -> C -> A -> B -> ObjectCLass"
   ]
  },
  {
   "cell_type": "code",
   "execution_count": 9,
   "metadata": {},
   "outputs": [
    {
     "ename": "TypeError",
     "evalue": "Cannot create a consistent method resolution\norder (MRO) for bases A, B",
     "output_type": "error",
     "traceback": [
      "\u001b[1;31m---------------------------------------------------------------------------\u001b[0m",
      "\u001b[1;31mTypeError\u001b[0m                                 Traceback (most recent call last)",
      "Cell \u001b[1;32mIn[9], line 13\u001b[0m\n\u001b[0;32m     10\u001b[0m     \u001b[38;5;28;01mdef\u001b[39;00m \u001b[38;5;21mprocess\u001b[39m(\u001b[38;5;28mself\u001b[39m):\n\u001b[0;32m     11\u001b[0m         \u001b[38;5;28mprint\u001b[39m(\u001b[38;5;124m'\u001b[39m\u001b[38;5;124mB process()\u001b[39m\u001b[38;5;124m'\u001b[39m)\n\u001b[1;32m---> 13\u001b[0m \u001b[38;5;28;01mclass\u001b[39;00m \u001b[38;5;21;01mC\u001b[39;00m(A, B):\n\u001b[0;32m     14\u001b[0m     \u001b[38;5;28;01mpass\u001b[39;00m\n\u001b[0;32m     16\u001b[0m obj \u001b[38;5;241m=\u001b[39m C()\n",
      "\u001b[1;31mTypeError\u001b[0m: Cannot create a consistent method resolution\norder (MRO) for bases A, B"
     ]
    }
   ],
   "source": [
    "# CASE3 \n",
    "# There are cases when Python cannot construct MRO owing to complexity of hierarchy. \n",
    "# In such cases it will throw an error.\n",
    "\n",
    "class A:\n",
    "    def process(self):\n",
    "        print('A process()')\n",
    "\n",
    "class B(A):\n",
    "    def process(self):\n",
    "        print('B process()')\n",
    "\n",
    "class C(A, B):\n",
    "    pass\n",
    "\n",
    "obj = C()\n",
    "obj.process() # C -> A -> B -> objectClass (A cannot be before B --> leading to MRO failure)"
   ]
  },
  {
   "cell_type": "markdown",
   "metadata": {},
   "source": [
    "# [or] "
   ]
  },
  {
   "cell_type": "markdown",
   "metadata": {},
   "source": [
    "##### Parent class = SchoolDetails"
   ]
  },
  {
   "cell_type": "code",
   "execution_count": 10,
   "metadata": {},
   "outputs": [],
   "source": [
    "class SchoolDetails:\n",
    "    def __init__(self, schoolname, yearofadmission):\n",
    "        self.schoolname = schoolname\n",
    "        self.yearofadmission = yearofadmission\n",
    "    def display_school_details(self):\n",
    "        print(f\"The admission year for {self.schoolname} is {self.yearofadmission}\")"
   ]
  },
  {
   "cell_type": "code",
   "execution_count": 11,
   "metadata": {},
   "outputs": [
    {
     "ename": "NameError",
     "evalue": "name 'StudentDetails' is not defined",
     "output_type": "error",
     "traceback": [
      "\u001b[1;31m---------------------------------------------------------------------------\u001b[0m",
      "\u001b[1;31mNameError\u001b[0m                                 Traceback (most recent call last)",
      "Cell \u001b[1;32mIn[11], line 1\u001b[0m\n\u001b[1;32m----> 1\u001b[0m sd1 \u001b[38;5;241m=\u001b[39m \u001b[43mStudentDetails\u001b[49m(\u001b[38;5;124m'\u001b[39m\u001b[38;5;124mPythonClasses\u001b[39m\u001b[38;5;124m'\u001b[39m, \u001b[38;5;124m'\u001b[39m\u001b[38;5;124m2024\u001b[39m\u001b[38;5;124m'\u001b[39m)\n",
      "\u001b[1;31mNameError\u001b[0m: name 'StudentDetails' is not defined"
     ]
    }
   ],
   "source": [
    "sd1 = StudentDetails('PythonClasses', '2024')"
   ]
  },
  {
   "cell_type": "code",
   "execution_count": 12,
   "metadata": {},
   "outputs": [
    {
     "ename": "NameError",
     "evalue": "name 'sd1' is not defined",
     "output_type": "error",
     "traceback": [
      "\u001b[1;31m---------------------------------------------------------------------------\u001b[0m",
      "\u001b[1;31mNameError\u001b[0m                                 Traceback (most recent call last)",
      "Cell \u001b[1;32mIn[12], line 1\u001b[0m\n\u001b[1;32m----> 1\u001b[0m \u001b[43msd1\u001b[49m\u001b[38;5;241m.\u001b[39mdisplay_school_details()\n",
      "\u001b[1;31mNameError\u001b[0m: name 'sd1' is not defined"
     ]
    }
   ],
   "source": [
    "sd1.display_school_details()"
   ]
  },
  {
   "cell_type": "code",
   "execution_count": 53,
   "metadata": {},
   "outputs": [],
   "source": [
    "sd = SchoolDetails('Blah', '2023')"
   ]
  },
  {
   "cell_type": "code",
   "execution_count": 54,
   "metadata": {},
   "outputs": [
    {
     "name": "stdout",
     "output_type": "stream",
     "text": [
      "The admission year for Blah is 2023\n"
     ]
    }
   ],
   "source": [
    "sd.display_school_details()"
   ]
  },
  {
   "cell_type": "markdown",
   "metadata": {},
   "source": [
    "#### [A] Here we are not declaring any arguments in \"child class\". \n",
    "- Means nothing has written in \"child class\"\n",
    "#### Child class = StudentDetails\n",
    "- In the \"child class\" i am going to take every thing that is present in the \"parent class\" \n",
    "    - [Q] How u are going to take it?\n",
    "    - Ans: By simply passing that \"parent object\" to the \"child object\""
   ]
  },
  {
   "cell_type": "code",
   "execution_count": 55,
   "metadata": {},
   "outputs": [],
   "source": [
    "class StudentDetails(SchoolDetails):\n",
    "    pass"
   ]
  },
  {
   "cell_type": "code",
   "execution_count": 56,
   "metadata": {},
   "outputs": [],
   "source": [
    "# Initilizing the \"child class\"\n",
    "sd1 = StudentDetails('PythonClasses', '2024')"
   ]
  },
  {
   "cell_type": "code",
   "execution_count": 57,
   "metadata": {},
   "outputs": [
    {
     "data": {
      "text/plain": [
       "'PythonClasses'"
      ]
     },
     "execution_count": 57,
     "metadata": {},
     "output_type": "execute_result"
    }
   ],
   "source": [
    "sd1.schoolname"
   ]
  },
  {
   "cell_type": "code",
   "execution_count": 58,
   "metadata": {},
   "outputs": [
    {
     "data": {
      "text/plain": [
       "'2024'"
      ]
     },
     "execution_count": 58,
     "metadata": {},
     "output_type": "execute_result"
    }
   ],
   "source": [
    "sd1.yearofadmission"
   ]
  },
  {
   "cell_type": "markdown",
   "metadata": {},
   "source": [
    "## NOTE: \n",
    "- \"child class\" can take everything from \"Parent class\", but\n",
    "- \"parent class\" cann't take anything from \"child class\"\n",
    "- Generally we won't come across this use case."
   ]
  },
  {
   "cell_type": "markdown",
   "metadata": {},
   "source": [
    "#### [B] Here we are declaring some arguments in \"child class\". \n",
    "- Means we are writting some thing in \"child class\""
   ]
  },
  {
   "cell_type": "code",
   "execution_count": 59,
   "metadata": {},
   "outputs": [],
   "source": [
    "# For now lets define a simple \"child class\" which is having couple of more arguments.\n",
    "# \"child class\" with \"__init__\"\n",
    "\n",
    "class StudentDetails(SchoolDetails):\n",
    "    def __init__(self, schoolname, yearofadmission, fname, lname, batch):\n",
    "        super().__init__(schoolname, yearofadmission)\n",
    "        # we can also write above line as below\n",
    "        # SchoolDetails.__init__(self, schoolname, yearofadmission)\n",
    "        self.fname = fname\n",
    "        self.lname = lname\n",
    "        self.batch = batch\n",
    "    def displaystd(self):\n",
    "        print(f\"{self.fname} {self.lname} joined {self.schoolname} in {self.batch}, {self.yearofadmission} \")\n",
    "        print(self.display_school_details())"
   ]
  },
  {
   "cell_type": "markdown",
   "metadata": {},
   "source": [
    "- The problem comes from the fact that class A is a super class for both C and B. If you construct MRO then it\n",
    "should be like this: C -> A -> B -> A\n",
    "### super() function & Multiple Inheritance:"
   ]
  },
  {
   "cell_type": "code",
   "execution_count": 13,
   "metadata": {},
   "outputs": [
    {
     "name": "stdout",
     "output_type": "stream",
     "text": [
      "A\n"
     ]
    }
   ],
   "source": [
    "# Scenario 1\n",
    "class A:\n",
    "    def __init__(self) -> None:\n",
    "        print(\"A\")\n",
    "\n",
    "class B:\n",
    "    def __init__(self) -> None:\n",
    "        print(\"B\")\n",
    "\n",
    "class C(A, B):\n",
    "    def __init__(self) -> None:\n",
    "        super().__init__()\n",
    "\n",
    "obj = C() \n",
    "# Here is MRO came into picture. \n",
    "# super() method calls the __init__() of its first superclass \n",
    "# i.e. A in this case since init() is available else it would then look for init() in B class"
   ]
  },
  {
   "cell_type": "code",
   "execution_count": 14,
   "metadata": {},
   "outputs": [
    {
     "name": "stdout",
     "output_type": "stream",
     "text": [
      "Inside C. Type of self: <class '__main__.C'>\n",
      "Inside A. Type of self: <class '__main__.C'>\n",
      "A\n",
      "Inside B. Type of self: <class '__main__.C'>\n",
      "B\n"
     ]
    }
   ],
   "source": [
    "# Scenario 2: \n",
    "# What if I want to access the __init__() method of both the super class in Multiple Inheritance?\n",
    "\n",
    "class A:\n",
    "    def __init__(self) -> None:\n",
    "        print(f\"Inside A. Type of self: {type(self)}\") # But this will show that the 'self' if of type C\n",
    "        print(\"A\")\n",
    "\n",
    "class B:\n",
    "    def __init__(self) -> None:\n",
    "        print(f\"Inside B. Type of self: {type(self)}\") # But this will show that the 'self' if of type C\n",
    "        print(\"B\")\n",
    "\n",
    "class C(A, B):\n",
    "    def __init__(self) -> None:\n",
    "        print(f\"Inside C. Type of self: {type(self)}\")\n",
    "        A.__init__(self) # In this scenario, we can not use super() anymore.\n",
    "        B.__init__(self) # Here we need to call the constructor of superclass is by Class Name directly\n",
    "\n",
    "obj = C() \n",
    "# Here as well MRO came into picture. super() method calls the __init__() of its first superclass \n",
    "# i.e. A in this case\n",
    "# Above is a limitation of using Multiple Inheritance in Python and we have to be cautious while using it"
   ]
  },
  {
   "cell_type": "markdown",
   "metadata": {},
   "source": [
    "### [or]"
   ]
  },
  {
   "cell_type": "code",
   "execution_count": 60,
   "metadata": {},
   "outputs": [],
   "source": [
    "# child class with init\n",
    "class StudentDetails(SchoolDetails):\n",
    "    def __init__(self, schoolname, yearofadmission, fname, lname, batch):\n",
    "        # super().__init__(schoolname, yearofadmission)\n",
    "        # we can also write above line as below\n",
    "        SchoolDetails.__init__(self, schoolname, yearofadmission)\n",
    "        self.fname = fname\n",
    "        self.lname = lname\n",
    "        self.batch = batch\n",
    "    def displaystd(self):\n",
    "        print(f\"{self.fname} {self.lname} joined {self.schoolname} in {self.batch}, {self.yearofadmission} \")\n",
    "        print(self.display_school_details())"
   ]
  },
  {
   "cell_type": "code",
   "execution_count": 61,
   "metadata": {},
   "outputs": [],
   "source": [
    "# p1 = class\n",
    "# displaystd = function\n",
    "# p1.displaystd() = \"class followed by function\", so no \"error\" will come\n",
    "\n",
    "p1 = StudentDetails(\"MySchool\", \"2024\", \"John\", \"Miller\", \"2\")"
   ]
  },
  {
   "cell_type": "code",
   "execution_count": 62,
   "metadata": {},
   "outputs": [
    {
     "name": "stdout",
     "output_type": "stream",
     "text": [
      "John Miller joined MySchool in 2, 2024 \n",
      "The admission year for MySchool is 2024\n",
      "None\n"
     ]
    }
   ],
   "source": [
    "p1.displaystd()"
   ]
  },
  {
   "cell_type": "code",
   "execution_count": 63,
   "metadata": {},
   "outputs": [
    {
     "name": "stdout",
     "output_type": "stream",
     "text": [
      "John Miller joined MySchool in 2, 2024 \n",
      "The admission year for MySchool is 2024\n",
      "None\n"
     ]
    }
   ],
   "source": [
    "# \"function\" called outside of class means it will through \"error\"\n",
    "\n",
    "p1.displaystd()"
   ]
  },
  {
   "cell_type": "code",
   "execution_count": 64,
   "metadata": {},
   "outputs": [
    {
     "data": {
      "text/plain": [
       "'MySchool'"
      ]
     },
     "execution_count": 64,
     "metadata": {},
     "output_type": "execute_result"
    }
   ],
   "source": [
    "p1.schoolname"
   ]
  },
  {
   "cell_type": "code",
   "execution_count": 65,
   "metadata": {},
   "outputs": [
    {
     "data": {
      "text/plain": [
       "'2024'"
      ]
     },
     "execution_count": 65,
     "metadata": {},
     "output_type": "execute_result"
    }
   ],
   "source": [
    "p1.yearofadmission"
   ]
  },
  {
   "cell_type": "code",
   "execution_count": 66,
   "metadata": {},
   "outputs": [
    {
     "data": {
      "text/plain": [
       "'John'"
      ]
     },
     "execution_count": 66,
     "metadata": {},
     "output_type": "execute_result"
    }
   ],
   "source": [
    "p1.fname"
   ]
  },
  {
   "cell_type": "code",
   "execution_count": 67,
   "metadata": {},
   "outputs": [
    {
     "data": {
      "text/plain": [
       "'Miller'"
      ]
     },
     "execution_count": 67,
     "metadata": {},
     "output_type": "execute_result"
    }
   ],
   "source": [
    "p1.lname"
   ]
  },
  {
   "cell_type": "code",
   "execution_count": 68,
   "metadata": {},
   "outputs": [
    {
     "name": "stdout",
     "output_type": "stream",
     "text": [
      "The admission year for MySchool is 2024\n"
     ]
    }
   ],
   "source": [
    "p1.display_school_details()"
   ]
  },
  {
   "cell_type": "code",
   "execution_count": 69,
   "metadata": {},
   "outputs": [],
   "source": [
    "sd = SchoolDetails('Blah', '2024')"
   ]
  },
  {
   "cell_type": "code",
   "execution_count": 70,
   "metadata": {},
   "outputs": [
    {
     "ename": "AttributeError",
     "evalue": "'SchoolDetails' object has no attribute 'displaystd'",
     "output_type": "error",
     "traceback": [
      "\u001b[1;31m---------------------------------------------------------------------------\u001b[0m",
      "\u001b[1;31mAttributeError\u001b[0m                            Traceback (most recent call last)",
      "Cell \u001b[1;32mIn[70], line 1\u001b[0m\n\u001b[1;32m----> 1\u001b[0m \u001b[43msd\u001b[49m\u001b[38;5;241;43m.\u001b[39;49m\u001b[43mdisplaystd\u001b[49m()\n",
      "\u001b[1;31mAttributeError\u001b[0m: 'SchoolDetails' object has no attribute 'displaystd'"
     ]
    }
   ],
   "source": [
    "sd.displaystd()"
   ]
  },
  {
   "cell_type": "markdown",
   "metadata": {},
   "source": [
    "# [2] Class - Encapsulation:\n",
    "- Whatever the varaiables that u declare in the \"parent class\" will remain intact even if those variables are getting updated in the \"child class\"\n",
    "\n",
    "- It provides security by binding \"data\" with \"methods\" ensuring no data is not exposed directly and allowing data accessibility by using the methods only.\n",
    "- We bind the data with methods.\n",
    "- Its bundling of data along with the methods that operates on that data, into a single unit. e.g. Class,\n",
    "Containers\n",
    "- Its a way to restrict the direct access to both attributes and methods of an object, so that unauthorised\n",
    "users cannot access it.\n",
    "\n",
    "### Access Modifiers (or) Format Specifier:\n",
    "- To implement encapsulation, we have different types of access modifiers.\n",
    "    - [1] Public\n",
    "    - [2] Protected\n",
    "    - [3] Private\n",
    "\n",
    "    - [1] Public: \n",
    "        - Attributes and methods declared as Public are easily accessible from any part of the program \n",
    "        - i.e. inside as well as outside the class. \n",
    "        - All data members and member functions of a class are public by default.\n",
    "    - [2] Protected: \n",
    "        - Attributes and methods declared as Protected are accessible to only subclass or derived class of it. (Denoted by single underscore as prefix )\n",
    "    - [3] Private: \n",
    "        - Attributes and methods declared as Private are only accessible within the class and not outside of it (Denoted by double underscore as prefix )"
   ]
  },
  {
   "cell_type": "code",
   "execution_count": 15,
   "metadata": {},
   "outputs": [
    {
     "name": "stdout",
     "output_type": "stream",
     "text": [
      "Welcome to  Stark Industries\n",
      "Here  Steve  is working on  Mark 4\n",
      "The salary of Steve is 9999999\n"
     ]
    }
   ],
   "source": [
    "# define parent class Company\n",
    "class Company:\n",
    "    # constructor\n",
    "    def __init__(self, name, proj):\n",
    "        self.name = name # name(name of company) is public\n",
    "        self._proj = proj # proj(current project) is protected defined with single underscore\n",
    "    # public function to show the details\n",
    "    def show(self):\n",
    "        print(\"The code of the company\")\n",
    "\n",
    "# define child class Emp\n",
    "class Emp(Company):\n",
    "    # constructor\n",
    "    def __init__(self, eName, sal, cName, proj):\n",
    "        # calling parent class constructor\n",
    "        super().__init__(cName, proj)\n",
    "        self.name = eName # public member variable\n",
    "        self.__sal = sal # private member variable defined with double underscore\n",
    "    # public function to show salary details\n",
    "    def show_sal(self):\n",
    "        print(f\"The salary of {self.name} is {self.__sal}\")\n",
    "\n",
    "# creating instance of Company class\n",
    "c = Company(\"Stark Industries\", \"Mark 4\")\n",
    "# creating instance of Employee class\n",
    "e = Emp(\"Steve\", 9999999, c.name, c._proj)\n",
    "\n",
    "print(\"Welcome to \", c.name)\n",
    "print(\"Here \", e.name,\" is working on \",e._proj)\n",
    "\n",
    "# only the instance itself can change the __sal variable\n",
    "# and to show the value we have created a public function show_sal()\n",
    "e.show_sal()"
   ]
  },
  {
   "cell_type": "markdown",
   "metadata": {},
   "source": [
    "# [or] "
   ]
  },
  {
   "cell_type": "code",
   "execution_count": 71,
   "metadata": {},
   "outputs": [],
   "source": [
    "# parent class/Base class\n",
    "class Base:\n",
    "    def __init__(self):\n",
    "        # variable = val and it having value=2.\n",
    "        self.va1=2"
   ]
  },
  {
   "cell_type": "code",
   "execution_count": 72,
   "metadata": {},
   "outputs": [
    {
     "data": {
      "text/plain": [
       "2"
      ]
     },
     "execution_count": 72,
     "metadata": {},
     "output_type": "execute_result"
    }
   ],
   "source": [
    "obj1=Base()\n",
    "obj1.va1"
   ]
  },
  {
   "cell_type": "code",
   "execution_count": 73,
   "metadata": {},
   "outputs": [],
   "source": [
    "# child class/Dependent class\n",
    "class Derived(Base):\n",
    "    def __init__(self):\n",
    "        Base.__init__(self)\n",
    "        print(f\"Values from inheritance of protected member {self.val}\")\n",
    "\n",
    "        # modify the value of val here. i,e update the value to \"3\"\n",
    "        self.val=3"
   ]
  },
  {
   "cell_type": "code",
   "execution_count": 74,
   "metadata": {},
   "outputs": [
    {
     "ename": "AttributeError",
     "evalue": "'Derived' object has no attribute 'val'",
     "output_type": "error",
     "traceback": [
      "\u001b[1;31m---------------------------------------------------------------------------\u001b[0m",
      "\u001b[1;31mAttributeError\u001b[0m                            Traceback (most recent call last)",
      "Cell \u001b[1;32mIn[74], line 1\u001b[0m\n\u001b[1;32m----> 1\u001b[0m obj2 \u001b[38;5;241m=\u001b[39m \u001b[43mDerived\u001b[49m\u001b[43m(\u001b[49m\u001b[43m)\u001b[49m\n\u001b[0;32m      2\u001b[0m obj2\u001b[38;5;241m.\u001b[39mval\n",
      "Cell \u001b[1;32mIn[73], line 5\u001b[0m, in \u001b[0;36mDerived.__init__\u001b[1;34m(self)\u001b[0m\n\u001b[0;32m      3\u001b[0m \u001b[38;5;28;01mdef\u001b[39;00m \u001b[38;5;21m__init__\u001b[39m(\u001b[38;5;28mself\u001b[39m):\n\u001b[0;32m      4\u001b[0m     Base\u001b[38;5;241m.\u001b[39m\u001b[38;5;21m__init__\u001b[39m(\u001b[38;5;28mself\u001b[39m)\n\u001b[1;32m----> 5\u001b[0m     \u001b[38;5;28mprint\u001b[39m(\u001b[38;5;124mf\u001b[39m\u001b[38;5;124m\"\u001b[39m\u001b[38;5;124mValues from inheritance of protected member \u001b[39m\u001b[38;5;132;01m{\u001b[39;00m\u001b[38;5;28mself\u001b[39m\u001b[38;5;241m.\u001b[39mval\u001b[38;5;132;01m}\u001b[39;00m\u001b[38;5;124m\"\u001b[39m)\n\u001b[0;32m      7\u001b[0m     \u001b[38;5;66;03m# modify the value of val here. i,e update the value to \"3\"\u001b[39;00m\n\u001b[0;32m      8\u001b[0m     \u001b[38;5;28mself\u001b[39m\u001b[38;5;241m.\u001b[39mval\u001b[38;5;241m=\u001b[39m\u001b[38;5;241m3\u001b[39m\n",
      "\u001b[1;31mAttributeError\u001b[0m: 'Derived' object has no attribute 'val'"
     ]
    }
   ],
   "source": [
    "obj2 = Derived()\n",
    "obj2.val"
   ]
  },
  {
   "cell_type": "code",
   "execution_count": 75,
   "metadata": {},
   "outputs": [
    {
     "ename": "NameError",
     "evalue": "name 'obj2' is not defined",
     "output_type": "error",
     "traceback": [
      "\u001b[1;31m---------------------------------------------------------------------------\u001b[0m",
      "\u001b[1;31mNameError\u001b[0m                                 Traceback (most recent call last)",
      "Cell \u001b[1;32mIn[75], line 1\u001b[0m\n\u001b[1;32m----> 1\u001b[0m \u001b[43mobj2\u001b[49m\u001b[38;5;241m.\u001b[39mval\n",
      "\u001b[1;31mNameError\u001b[0m: name 'obj2' is not defined"
     ]
    }
   ],
   "source": [
    "\n",
    "obj2.val"
   ]
  },
  {
   "cell_type": "code",
   "execution_count": 76,
   "metadata": {},
   "outputs": [],
   "source": [
    "obj1.val=3"
   ]
  },
  {
   "cell_type": "code",
   "execution_count": 77,
   "metadata": {},
   "outputs": [
    {
     "ename": "AttributeError",
     "evalue": "'Derived' object has no attribute 'val'",
     "output_type": "error",
     "traceback": [
      "\u001b[1;31m---------------------------------------------------------------------------\u001b[0m",
      "\u001b[1;31mAttributeError\u001b[0m                            Traceback (most recent call last)",
      "Cell \u001b[1;32mIn[77], line 1\u001b[0m\n\u001b[1;32m----> 1\u001b[0m obj2 \u001b[38;5;241m=\u001b[39m \u001b[43mDerived\u001b[49m\u001b[43m(\u001b[49m\u001b[43m)\u001b[49m\n",
      "Cell \u001b[1;32mIn[73], line 5\u001b[0m, in \u001b[0;36mDerived.__init__\u001b[1;34m(self)\u001b[0m\n\u001b[0;32m      3\u001b[0m \u001b[38;5;28;01mdef\u001b[39;00m \u001b[38;5;21m__init__\u001b[39m(\u001b[38;5;28mself\u001b[39m):\n\u001b[0;32m      4\u001b[0m     Base\u001b[38;5;241m.\u001b[39m\u001b[38;5;21m__init__\u001b[39m(\u001b[38;5;28mself\u001b[39m)\n\u001b[1;32m----> 5\u001b[0m     \u001b[38;5;28mprint\u001b[39m(\u001b[38;5;124mf\u001b[39m\u001b[38;5;124m\"\u001b[39m\u001b[38;5;124mValues from inheritance of protected member \u001b[39m\u001b[38;5;132;01m{\u001b[39;00m\u001b[38;5;28mself\u001b[39m\u001b[38;5;241m.\u001b[39mval\u001b[38;5;132;01m}\u001b[39;00m\u001b[38;5;124m\"\u001b[39m)\n\u001b[0;32m      7\u001b[0m     \u001b[38;5;66;03m# modify the value of val here. i,e update the value to \"3\"\u001b[39;00m\n\u001b[0;32m      8\u001b[0m     \u001b[38;5;28mself\u001b[39m\u001b[38;5;241m.\u001b[39mval\u001b[38;5;241m=\u001b[39m\u001b[38;5;241m3\u001b[39m\n",
      "\u001b[1;31mAttributeError\u001b[0m: 'Derived' object has no attribute 'val'"
     ]
    }
   ],
   "source": [
    "obj2 = Derived()"
   ]
  },
  {
   "cell_type": "markdown",
   "metadata": {},
   "source": [
    "# [3] Class Abstraction:\n",
    "- Hidding \"un-necassary information\" is done here\n",
    "- Its a process of handling complexity by hiding unnecessary information from the user.\n",
    "- It enables the user to implement more complex logic on top of the provided abstraction without understanding or even thinking about all the hidden complexities\n",
    "\n",
    "### Achieving Abstraction in Python\n",
    "1. Decorators\n",
    "2. Abstract Method & Abstract Classes\n",
    "\n",
    "- In Python, abstraction can be achieved by using \n",
    "    - [a] \"abstract classes\" and \n",
    "    - [b] \"abstract methods\"\n",
    "\n",
    "- [a] Abstract Class:\n",
    "    - A class containing abstract methods (atleast one abstract method) is called abstract class.\n",
    "\n",
    "- [b] Abstract Method: \n",
    "    - Its a method that is declared but doesn't contain the implementation.\n",
    "    - An abstract method in a base class identifies the functionality that should be implemented by all its subclasses.\n",
    "    - However, since the implementation of an abstract method would differ from one subclass to another, often the method body comprises just a pass statement. \n",
    "    - Every subclass of the base class will override this method with its implementation."
   ]
  },
  {
   "cell_type": "code",
   "execution_count": 36,
   "metadata": {},
   "outputs": [
    {
     "name": "stdout",
     "output_type": "stream",
     "text": [
      "Is `Rectangle` a subclass of `Shape`?: True\n",
      "Area of rectangle: 450\n",
      "Perimeter of rectangle: 90\n"
     ]
    }
   ],
   "source": [
    "# Note:\n",
    "# 1. A class is defined as an Abstract Class by inheriting from `ABC` class\n",
    "# 2. A method is defined as an Abstract Method by preceding its definition with @abstract method (function decorator).\n",
    "\n",
    "from abc import ABC, abstractmethod\n",
    "\n",
    "class Shape(ABC):\n",
    "    def __init__(self, shapeType) -> None:\n",
    "        self.shapeType = shapeType\n",
    "\n",
    "    @abstractmethod\n",
    "    def area(self):\n",
    "        pass\n",
    "    @abstractmethod\n",
    "    def perimeter(self):\n",
    "        pass\n",
    "\n",
    "class Rectangle(Shape):\n",
    "    def __init__(self, length, breadth) -> None:\n",
    "        self.length = length\n",
    "        self.breadth = breadth\n",
    "        super().__init__(\"Rectangle\")\n",
    "    # If the abstract methods are not implement, then while instantiating Rectangle class,error will be thrown\n",
    "    # `Can't instantiate abstract class Rectangle with abstract methods area, perimeter`\n",
    "    def area(self): # Implemented the abstract method from base class\n",
    "        return self.length * self.breadth\n",
    "    def perimeter(self): # Implemented the abstract method from base class\n",
    "        return 2 * (self.length + self.breadth)\n",
    "\n",
    "print(f\"Is `Rectangle` a subclass of `Shape`?: {issubclass(Rectangle, Shape)}\")\n",
    "rectangle = Rectangle(30, 15)\n",
    "print(f\"Area of rectangle: {rectangle.area()}\")\n",
    "print(f\"Perimeter of rectangle: {rectangle.perimeter()}\")"
   ]
  },
  {
   "cell_type": "markdown",
   "metadata": {},
   "source": [
    "# [4] Class - Polymorphism:\n",
    "- In otherwords it is called as \"many forms\"\n",
    "- In Python, polymorphism refers to a function having same name but being used in different ways and different scenarios.\n",
    "\n",
    "### Types:  \n",
    "- There are two different ways we can achieve Polymorphism.\n",
    "    - [a] Compile Time Polymorphism (e.g. Method Overloading)\n",
    "    - [b] Run Time Polymorphism (e.g. Method Overriding)\n",
    "\n",
    "#### [a] Method Overloading\n",
    "- In this, more than one method in same class shares the same method name but different signatures.\n",
    "- Note: \n",
    "    - Python doesn't support method overloading, as the interpreter only detects the last method and ignores the previous ones.\n",
    "- Workaround: \n",
    "    - By Using Multiple Dispatch Decorator (Install pip3 install multipledispatch ) we can implement the feature of Method Overloading"
   ]
  },
  {
   "cell_type": "code",
   "execution_count": 39,
   "metadata": {},
   "outputs": [
    {
     "ename": "ModuleNotFoundError",
     "evalue": "No module named 'multipledispatch'",
     "output_type": "error",
     "traceback": [
      "\u001b[1;31m---------------------------------------------------------------------------\u001b[0m",
      "\u001b[1;31mModuleNotFoundError\u001b[0m                       Traceback (most recent call last)",
      "Cell \u001b[1;32mIn[39], line 1\u001b[0m\n\u001b[1;32m----> 1\u001b[0m \u001b[38;5;28;01mfrom\u001b[39;00m \u001b[38;5;21;01mmultipledispatch\u001b[39;00m \u001b[38;5;28;01mimport\u001b[39;00m dispatch\n\u001b[0;32m      3\u001b[0m \u001b[38;5;129m@dispatch\u001b[39m(\u001b[38;5;28mint\u001b[39m, \u001b[38;5;28mint\u001b[39m)\n\u001b[0;32m      4\u001b[0m \u001b[38;5;28;01mdef\u001b[39;00m \u001b[38;5;21mproduct\u001b[39m(first: \u001b[38;5;28mint\u001b[39m, second: \u001b[38;5;28mint\u001b[39m):\n\u001b[0;32m      5\u001b[0m     \u001b[38;5;28;01mreturn\u001b[39;00m first \u001b[38;5;241m*\u001b[39m second\n",
      "\u001b[1;31mModuleNotFoundError\u001b[0m: No module named 'multipledispatch'"
     ]
    }
   ],
   "source": [
    "from multipledispatch import dispatch\n",
    "\n",
    "@dispatch(int, int)\n",
    "def product(first: int, second: int):\n",
    "    return first * second\n",
    "\n",
    "@dispatch(int, int, int)\n",
    "def product(first: int, second: int, third: int):\n",
    "    return first * second * third\n",
    "\n",
    "@dispatch(float, float, float)\n",
    "def product(first: float, second: float, third: float):\n",
    "    return first * second * third\n",
    "\n",
    "print(product(2,3))\n",
    "print(product(3,4,5))\n",
    "print(product(1.1,2.2, 3.3))"
   ]
  },
  {
   "cell_type": "markdown",
   "metadata": {},
   "source": [
    "### [b] Method Overriding:\n",
    "- Its an OOPs concept and related to Inheritance .\n",
    "- When child class method overrides (inducing its own implementation) its parent class method having same name, parameters and return type, its called Method Overriding"
   ]
  },
  {
   "cell_type": "code",
   "execution_count": 40,
   "metadata": {},
   "outputs": [
    {
     "name": "stdout",
     "output_type": "stream",
     "text": [
      "32\n",
      "16.0\n"
     ]
    }
   ],
   "source": [
    "# Single Inheritance\n",
    "class Rectangle:\n",
    "    def area(self, length, breadth):\n",
    "        return length * breadth\n",
    "    \n",
    "class Triangle(Rectangle):\n",
    "    def area(self, base, height):\n",
    "        return 0.5 * base * height\n",
    "    \n",
    "rec = Rectangle()\n",
    "tri = Triangle()\n",
    "\n",
    "print(rec.area(4, 8))\n",
    "print(tri.area(4, 8))"
   ]
  },
  {
   "cell_type": "code",
   "execution_count": 42,
   "metadata": {},
   "outputs": [],
   "source": [
    "import logging\n",
    "logging.basicConfig(level=logging.INFO, filename='app.log', filemode='a', format='%(asctime)s - %(levelname)s - %(message)s')\n",
    "logging.debug(\"This is a debug message and should not be printed\")\n",
    "logging.info(\"Second Hello World!\")"
   ]
  },
  {
   "cell_type": "markdown",
   "metadata": {},
   "source": [
    "### Operator Overloading:"
   ]
  },
  {
   "cell_type": "code",
   "execution_count": 44,
   "metadata": {},
   "outputs": [
    {
     "name": "stdout",
     "output_type": "stream",
     "text": [
      "Sum of carrots of both object:  13\n",
      "Sum of beans of both object:  11\n"
     ]
    }
   ],
   "source": [
    "class Vegetables:\n",
    "    def __init__(self, carrot: int, beans: int) -> None:\n",
    "        self.carrot = carrot\n",
    "        self.beans = beans\n",
    "    def __add__(self, other): # So here we have implemented the code to overload the `+`operator\n",
    "        carrot = self.carrot + other.carrot\n",
    "        beans = self.beans + other.beans\n",
    "        return Vegetables(carrot, beans)\n",
    "    \n",
    "v1 = Vegetables(4, 8)\n",
    "v2 = Vegetables(9, 3)\n",
    "\n",
    "# without operator (+) overloading, we get error `TypeError: unsupported operand type(s) for +: 'Vegetables' and 'Vegetables'`\n",
    "v3 = v1 + v2\n",
    "print(\"Sum of carrots of both object: \", v3.carrot)\n",
    "print(\"Sum of beans of both object: \",v3.beans)"
   ]
  },
  {
   "cell_type": "markdown",
   "metadata": {},
   "source": [
    "# [or]"
   ]
  },
  {
   "cell_type": "code",
   "execution_count": 78,
   "metadata": {},
   "outputs": [],
   "source": [
    "# let us take 3 classes(School, College, University) which have similar structure.\n",
    "# We are having 3 functions(strength, location, subjects) are aviable in all the above 3 classes.\n",
    "\n",
    "class School():\n",
    "    def strength(self):\n",
    "        print(\"School Strength is 9000\")\n",
    "    def location(self):\n",
    "        print(\"School is located in point A\")\n",
    "    def subjects(self):\n",
    "        print(\"School teaches most subjects\")"
   ]
  },
  {
   "cell_type": "code",
   "execution_count": 79,
   "metadata": {},
   "outputs": [],
   "source": [
    "class College():\n",
    "    def strength(self):\n",
    "        print(\"College Strength is 1000\")\n",
    "    def location(self):\n",
    "        print(\"College is located in point B\")\n",
    "    def subjects(self):\n",
    "        print(\"College has lectures on specialized subjects\")"
   ]
  },
  {
   "cell_type": "code",
   "execution_count": 80,
   "metadata": {},
   "outputs": [],
   "source": [
    "class University():\n",
    "    def strength(self):\n",
    "        print(\"University Strength is 15000\")\n",
    "    def location(self):\n",
    "        print(\"University is located in point C\")\n",
    "    def subjects(self):\n",
    "        print(\"University teaches doctorates and post graduates\")"
   ]
  },
  {
   "cell_type": "code",
   "execution_count": 81,
   "metadata": {},
   "outputs": [],
   "source": [
    "# I am taking 3 objects (obj_sch, obj_col, obj_uni) \n",
    "\n",
    "obj_sch = School()\n",
    "obj_col = College()\n",
    "obj_uni = University()"
   ]
  },
  {
   "cell_type": "code",
   "execution_count": 82,
   "metadata": {},
   "outputs": [
    {
     "name": "stdout",
     "output_type": "stream",
     "text": [
      "School Strength is 9000\n",
      "School is located in point A\n",
      "School teaches most subjects\n",
      "College Strength is 1000\n",
      "College is located in point B\n",
      "College has lectures on specialized subjects\n",
      "University Strength is 15000\n",
      "University is located in point C\n",
      "University teaches doctorates and post graduates\n"
     ]
    }
   ],
   "source": [
    "# Above 3 objects are kept in one \"tuple\"/\"list\"\n",
    "# Here i uses \"tuple\"\n",
    "\n",
    "for object in (obj_sch, obj_col, obj_uni):\n",
    "    object.strength()\n",
    "    object.location()\n",
    "    object.subjects()"
   ]
  },
  {
   "cell_type": "markdown",
   "metadata": {},
   "source": [
    "## Global Variable Vs Local Variable: \n",
    "- Comparison Basis|Global Variable|Local Variable \n",
    "    - Definition: \n",
    "        - Global variables are declared outside the functions\n",
    "        - Local variables are declared within the functions \n",
    "    - Lifetime: \n",
    "        - Global variables are created as execution of the program begins and are lost when the program is ended\n",
    "        - Local variables are created when the function starts its execution and are lost when the function ends \n",
    "    - Data Sharing:\n",
    "        - Global Variables Offers Data Sharing\n",
    "        - Local Variables doesn't offers Data Sharing Scope\n",
    "    - Accessible:\n",
    "        - Accessible throughout the code\n",
    "        - Accessible inside the function\n",
    "    - Storage:\n",
    "        - Global variables are kept in a fixed location selected by the compiler\n",
    "        - Local variables are kept on the stack \n",
    "    - Parameter Passing\n",
    "        - For global variables, parameter passing is not necessary\n",
    "        - For local variables, parameter passing is necessary \n",
    "    - Changes in a variable value\n",
    "        - Changes in a global variable is reflected throughout the code\n",
    "        - Changes in a local variable doesn't affect other functions of the program\n",
    "\n",
    "#### NOTE:\n",
    "- In Python programming, both local and global variables are crucial when writing programs. \n",
    "However, many global variables could take up a lot of memory. It gets harder to spot an undesireable change in global variables.\n",
    "- As a result, it is wise to avoid declaring pointless global variables and using local variables for passing and manipulating data. \n",
    "- It is generally good practice to make use of local variables in Python."
   ]
  },
  {
   "cell_type": "code",
   "execution_count": 46,
   "metadata": {},
   "outputs": [
    {
     "name": "stdout",
     "output_type": "stream",
     "text": [
      "Local Variable value inside the function is 10\n",
      "Variable value outside the function is 20\n",
      "Global Variable value inside the function is 15\n",
      "Global Variable value outside the function is 15\n"
     ]
    }
   ],
   "source": [
    "# Local Variable\n",
    "a = 20\n",
    "def func1():\n",
    "    a = 10 # This variable `a` is local variable and is scope inside the function only\n",
    "    print(f\"Local Variable value inside the function is {a}\")\n",
    "\n",
    "func1()\n",
    "print(f\"Variable value outside the function is {a}\")\n",
    "\n",
    "# Explanation of Global Variable\n",
    "b = 10 # Global variable\n",
    "def func2():\n",
    "    global b # Accessing global variable inside the function using `global` keyword\n",
    "    b += 5\n",
    "    print(f\"Global Variable value inside the function is {b}\")\n",
    "\n",
    "func2()\n",
    "print(f\"Global Variable value outside the function is {b}\")"
   ]
  },
  {
   "cell_type": "markdown",
   "metadata": {},
   "source": [
    "## [Q] Where we are using this \"classes\"?\n",
    "- Ans: It is not required u to use this classes, but it will makes ur life easy if u used to it.\n",
    "    - In Data science we can use this classes.\n",
    "    - In general we will do \"pre-Processing\" step for any data which in \".csv format\", but if u have a task that u want to apply this \"pre-processing\" step to any number of \"csv files\" means how can we do means \n",
    "    1. by writing \"multiple functions\" and by calling them \n",
    "    2. by using \"classes\""
   ]
  },
  {
   "cell_type": "markdown",
   "metadata": {},
   "source": [
    "### [1]  One way of doing M/L algorithms \"without using classes\":"
   ]
  },
  {
   "cell_type": "code",
   "execution_count": 83,
   "metadata": {},
   "outputs": [
    {
     "name": "stdout",
     "output_type": "stream",
     "text": [
      "Requirement already satisfied: pandas in c:\\users\\hp\\appdata\\local\\programs\\python\\python310\\lib\\site-packages (2.2.2)\n",
      "Requirement already satisfied: pytz>=2020.1 in c:\\users\\hp\\appdata\\local\\programs\\python\\python310\\lib\\site-packages (from pandas) (2024.1)\n",
      "Requirement already satisfied: numpy>=1.22.4 in c:\\users\\hp\\appdata\\local\\programs\\python\\python310\\lib\\site-packages (from pandas) (1.26.4)\n",
      "Requirement already satisfied: python-dateutil>=2.8.2 in c:\\users\\hp\\appdata\\roaming\\python\\python310\\site-packages (from pandas) (2.9.0.post0)\n",
      "Requirement already satisfied: tzdata>=2022.7 in c:\\users\\hp\\appdata\\local\\programs\\python\\python310\\lib\\site-packages (from pandas) (2024.1)\n",
      "Requirement already satisfied: six>=1.5 in c:\\users\\hp\\appdata\\roaming\\python\\python310\\site-packages (from python-dateutil>=2.8.2->pandas) (1.16.0)\n"
     ]
    },
    {
     "name": "stderr",
     "output_type": "stream",
     "text": [
      "WARNING: You are using pip version 22.0.4; however, version 24.3.1 is available.\n",
      "You should consider upgrading via the 'C:\\Users\\HP\\AppData\\Local\\Programs\\Python\\Python310\\python.exe -m pip install --upgrade pip' command.\n"
     ]
    }
   ],
   "source": [
    "! pip install pandas"
   ]
  },
  {
   "cell_type": "code",
   "execution_count": 84,
   "metadata": {},
   "outputs": [],
   "source": [
    "import pandas as pd\n",
    "\n",
    "df = pd.read_csv('D:\\\\[Z] Python [Sanjeev]\\\\Python Practice\\\\Data\\\\employee_data.csv') "
   ]
  },
  {
   "cell_type": "code",
   "execution_count": 85,
   "metadata": {},
   "outputs": [
    {
     "data": {
      "text/html": [
       "<div>\n",
       "<style scoped>\n",
       "    .dataframe tbody tr th:only-of-type {\n",
       "        vertical-align: middle;\n",
       "    }\n",
       "\n",
       "    .dataframe tbody tr th {\n",
       "        vertical-align: top;\n",
       "    }\n",
       "\n",
       "    .dataframe thead th {\n",
       "        text-align: right;\n",
       "    }\n",
       "</style>\n",
       "<table border=\"1\" class=\"dataframe\">\n",
       "  <thead>\n",
       "    <tr style=\"text-align: right;\">\n",
       "      <th></th>\n",
       "      <th>avg_monthly_hrs</th>\n",
       "      <th>department</th>\n",
       "      <th>filed_complaint</th>\n",
       "      <th>last_evaluation</th>\n",
       "      <th>n_projects</th>\n",
       "      <th>recently_promoted</th>\n",
       "      <th>salary</th>\n",
       "      <th>satisfaction</th>\n",
       "      <th>status</th>\n",
       "      <th>tenure</th>\n",
       "      <th>employee_id</th>\n",
       "    </tr>\n",
       "  </thead>\n",
       "  <tbody>\n",
       "    <tr>\n",
       "      <th>0</th>\n",
       "      <td>246.0</td>\n",
       "      <td>NaN</td>\n",
       "      <td>NaN</td>\n",
       "      <td>0.866838</td>\n",
       "      <td>6</td>\n",
       "      <td>NaN</td>\n",
       "      <td>medium</td>\n",
       "      <td>0.134415</td>\n",
       "      <td>Left</td>\n",
       "      <td>4.0</td>\n",
       "      <td>124467</td>\n",
       "    </tr>\n",
       "    <tr>\n",
       "      <th>1</th>\n",
       "      <td>134.0</td>\n",
       "      <td>NaN</td>\n",
       "      <td>NaN</td>\n",
       "      <td>0.555718</td>\n",
       "      <td>2</td>\n",
       "      <td>NaN</td>\n",
       "      <td>low</td>\n",
       "      <td>0.511041</td>\n",
       "      <td>Left</td>\n",
       "      <td>3.0</td>\n",
       "      <td>112210</td>\n",
       "    </tr>\n",
       "    <tr>\n",
       "      <th>2</th>\n",
       "      <td>156.0</td>\n",
       "      <td>D00-SS</td>\n",
       "      <td>1.0</td>\n",
       "      <td>0.474082</td>\n",
       "      <td>2</td>\n",
       "      <td>NaN</td>\n",
       "      <td>medium</td>\n",
       "      <td>0.405101</td>\n",
       "      <td>Left</td>\n",
       "      <td>3.0</td>\n",
       "      <td>126150</td>\n",
       "    </tr>\n",
       "    <tr>\n",
       "      <th>3</th>\n",
       "      <td>256.0</td>\n",
       "      <td>D00-SP</td>\n",
       "      <td>NaN</td>\n",
       "      <td>0.961360</td>\n",
       "      <td>6</td>\n",
       "      <td>NaN</td>\n",
       "      <td>low</td>\n",
       "      <td>0.152974</td>\n",
       "      <td>Left</td>\n",
       "      <td>4.0</td>\n",
       "      <td>125346</td>\n",
       "    </tr>\n",
       "    <tr>\n",
       "      <th>4</th>\n",
       "      <td>146.0</td>\n",
       "      <td>D00-SS</td>\n",
       "      <td>NaN</td>\n",
       "      <td>0.507349</td>\n",
       "      <td>2</td>\n",
       "      <td>NaN</td>\n",
       "      <td>medium</td>\n",
       "      <td>0.434845</td>\n",
       "      <td>Left</td>\n",
       "      <td>3.0</td>\n",
       "      <td>113707</td>\n",
       "    </tr>\n",
       "  </tbody>\n",
       "</table>\n",
       "</div>"
      ],
      "text/plain": [
       "   avg_monthly_hrs department  filed_complaint  last_evaluation  n_projects  \\\n",
       "0            246.0        NaN              NaN         0.866838           6   \n",
       "1            134.0        NaN              NaN         0.555718           2   \n",
       "2            156.0     D00-SS              1.0         0.474082           2   \n",
       "3            256.0     D00-SP              NaN         0.961360           6   \n",
       "4            146.0     D00-SS              NaN         0.507349           2   \n",
       "\n",
       "   recently_promoted  salary  satisfaction status  tenure  employee_id  \n",
       "0                NaN  medium      0.134415   Left     4.0       124467  \n",
       "1                NaN     low      0.511041   Left     3.0       112210  \n",
       "2                NaN  medium      0.405101   Left     3.0       126150  \n",
       "3                NaN     low      0.152974   Left     4.0       125346  \n",
       "4                NaN  medium      0.434845   Left     3.0       113707  "
      ]
     },
     "execution_count": 85,
     "metadata": {},
     "output_type": "execute_result"
    }
   ],
   "source": [
    "df.head()"
   ]
  },
  {
   "cell_type": "code",
   "execution_count": 86,
   "metadata": {},
   "outputs": [
    {
     "data": {
      "text/html": [
       "<div>\n",
       "<style scoped>\n",
       "    .dataframe tbody tr th:only-of-type {\n",
       "        vertical-align: middle;\n",
       "    }\n",
       "\n",
       "    .dataframe tbody tr th {\n",
       "        vertical-align: top;\n",
       "    }\n",
       "\n",
       "    .dataframe thead th {\n",
       "        text-align: right;\n",
       "    }\n",
       "</style>\n",
       "<table border=\"1\" class=\"dataframe\">\n",
       "  <thead>\n",
       "    <tr style=\"text-align: right;\">\n",
       "      <th></th>\n",
       "      <th>avg_monthly_hrs</th>\n",
       "      <th>department</th>\n",
       "      <th>filed_complaint</th>\n",
       "      <th>last_evaluation</th>\n",
       "      <th>n_projects</th>\n",
       "      <th>recently_promoted</th>\n",
       "      <th>salary</th>\n",
       "      <th>satisfaction</th>\n",
       "      <th>status</th>\n",
       "      <th>tenure</th>\n",
       "      <th>employee_id</th>\n",
       "    </tr>\n",
       "  </thead>\n",
       "  <tbody>\n",
       "    <tr>\n",
       "      <th>14145</th>\n",
       "      <td>245.0</td>\n",
       "      <td>D00-SS</td>\n",
       "      <td>NaN</td>\n",
       "      <td>0.850785</td>\n",
       "      <td>6</td>\n",
       "      <td>NaN</td>\n",
       "      <td>medium</td>\n",
       "      <td>0.225084</td>\n",
       "      <td>Employed</td>\n",
       "      <td>5.0</td>\n",
       "      <td>101809</td>\n",
       "    </tr>\n",
       "    <tr>\n",
       "      <th>14146</th>\n",
       "      <td>192.0</td>\n",
       "      <td>D00-SS</td>\n",
       "      <td>NaN</td>\n",
       "      <td>0.951901</td>\n",
       "      <td>3</td>\n",
       "      <td>NaN</td>\n",
       "      <td>medium</td>\n",
       "      <td>0.539834</td>\n",
       "      <td>Employed</td>\n",
       "      <td>3.0</td>\n",
       "      <td>116153</td>\n",
       "    </tr>\n",
       "    <tr>\n",
       "      <th>14147</th>\n",
       "      <td>175.0</td>\n",
       "      <td>D00-MN</td>\n",
       "      <td>NaN</td>\n",
       "      <td>0.854538</td>\n",
       "      <td>4</td>\n",
       "      <td>NaN</td>\n",
       "      <td>medium</td>\n",
       "      <td>0.934465</td>\n",
       "      <td>Employed</td>\n",
       "      <td>3.0</td>\n",
       "      <td>119780</td>\n",
       "    </tr>\n",
       "    <tr>\n",
       "      <th>14148</th>\n",
       "      <td>268.0</td>\n",
       "      <td>D00-MT</td>\n",
       "      <td>NaN</td>\n",
       "      <td>0.900887</td>\n",
       "      <td>5</td>\n",
       "      <td>NaN</td>\n",
       "      <td>medium</td>\n",
       "      <td>0.906613</td>\n",
       "      <td>Left</td>\n",
       "      <td>5.0</td>\n",
       "      <td>115325</td>\n",
       "    </tr>\n",
       "    <tr>\n",
       "      <th>14149</th>\n",
       "      <td>268.0</td>\n",
       "      <td>D00-IT</td>\n",
       "      <td>1.0</td>\n",
       "      <td>0.897098</td>\n",
       "      <td>2</td>\n",
       "      <td>NaN</td>\n",
       "      <td>low</td>\n",
       "      <td>0.459371</td>\n",
       "      <td>Employed</td>\n",
       "      <td>4.0</td>\n",
       "      <td>112312</td>\n",
       "    </tr>\n",
       "  </tbody>\n",
       "</table>\n",
       "</div>"
      ],
      "text/plain": [
       "       avg_monthly_hrs department  filed_complaint  last_evaluation  \\\n",
       "14145            245.0     D00-SS              NaN         0.850785   \n",
       "14146            192.0     D00-SS              NaN         0.951901   \n",
       "14147            175.0     D00-MN              NaN         0.854538   \n",
       "14148            268.0     D00-MT              NaN         0.900887   \n",
       "14149            268.0     D00-IT              1.0         0.897098   \n",
       "\n",
       "       n_projects  recently_promoted  salary  satisfaction    status  tenure  \\\n",
       "14145           6                NaN  medium      0.225084  Employed     5.0   \n",
       "14146           3                NaN  medium      0.539834  Employed     3.0   \n",
       "14147           4                NaN  medium      0.934465  Employed     3.0   \n",
       "14148           5                NaN  medium      0.906613      Left     5.0   \n",
       "14149           2                NaN     low      0.459371  Employed     4.0   \n",
       "\n",
       "       employee_id  \n",
       "14145       101809  \n",
       "14146       116153  \n",
       "14147       119780  \n",
       "14148       115325  \n",
       "14149       112312  "
      ]
     },
     "execution_count": 86,
     "metadata": {},
     "output_type": "execute_result"
    }
   ],
   "source": [
    "df.tail()"
   ]
  },
  {
   "cell_type": "code",
   "execution_count": 87,
   "metadata": {},
   "outputs": [
    {
     "data": {
      "text/html": [
       "<div>\n",
       "<style scoped>\n",
       "    .dataframe tbody tr th:only-of-type {\n",
       "        vertical-align: middle;\n",
       "    }\n",
       "\n",
       "    .dataframe tbody tr th {\n",
       "        vertical-align: top;\n",
       "    }\n",
       "\n",
       "    .dataframe thead th {\n",
       "        text-align: right;\n",
       "    }\n",
       "</style>\n",
       "<table border=\"1\" class=\"dataframe\">\n",
       "  <thead>\n",
       "    <tr style=\"text-align: right;\">\n",
       "      <th></th>\n",
       "      <th>avg_monthly_hrs</th>\n",
       "      <th>filed_complaint</th>\n",
       "      <th>last_evaluation</th>\n",
       "      <th>n_projects</th>\n",
       "      <th>recently_promoted</th>\n",
       "      <th>satisfaction</th>\n",
       "      <th>tenure</th>\n",
       "      <th>employee_id</th>\n",
       "    </tr>\n",
       "  </thead>\n",
       "  <tbody>\n",
       "    <tr>\n",
       "      <th>count</th>\n",
       "      <td>14150.000000</td>\n",
       "      <td>2046.0</td>\n",
       "      <td>12663.000000</td>\n",
       "      <td>14150.000000</td>\n",
       "      <td>297.0</td>\n",
       "      <td>14000.000000</td>\n",
       "      <td>14000.000000</td>\n",
       "      <td>14150.000000</td>\n",
       "    </tr>\n",
       "    <tr>\n",
       "      <th>mean</th>\n",
       "      <td>199.994346</td>\n",
       "      <td>1.0</td>\n",
       "      <td>0.718399</td>\n",
       "      <td>3.778304</td>\n",
       "      <td>1.0</td>\n",
       "      <td>0.621212</td>\n",
       "      <td>3.499357</td>\n",
       "      <td>112080.750247</td>\n",
       "    </tr>\n",
       "    <tr>\n",
       "      <th>std</th>\n",
       "      <td>50.833697</td>\n",
       "      <td>0.0</td>\n",
       "      <td>0.173108</td>\n",
       "      <td>1.250162</td>\n",
       "      <td>0.0</td>\n",
       "      <td>0.250482</td>\n",
       "      <td>1.462584</td>\n",
       "      <td>8748.202856</td>\n",
       "    </tr>\n",
       "    <tr>\n",
       "      <th>min</th>\n",
       "      <td>49.000000</td>\n",
       "      <td>1.0</td>\n",
       "      <td>0.316175</td>\n",
       "      <td>1.000000</td>\n",
       "      <td>1.0</td>\n",
       "      <td>0.040058</td>\n",
       "      <td>2.000000</td>\n",
       "      <td>0.000000</td>\n",
       "    </tr>\n",
       "    <tr>\n",
       "      <th>25%</th>\n",
       "      <td>155.000000</td>\n",
       "      <td>1.0</td>\n",
       "      <td>0.563711</td>\n",
       "      <td>3.000000</td>\n",
       "      <td>1.0</td>\n",
       "      <td>0.450356</td>\n",
       "      <td>3.000000</td>\n",
       "      <td>105772.500000</td>\n",
       "    </tr>\n",
       "    <tr>\n",
       "      <th>50%</th>\n",
       "      <td>199.000000</td>\n",
       "      <td>1.0</td>\n",
       "      <td>0.724731</td>\n",
       "      <td>4.000000</td>\n",
       "      <td>1.0</td>\n",
       "      <td>0.652394</td>\n",
       "      <td>3.000000</td>\n",
       "      <td>111291.500000</td>\n",
       "    </tr>\n",
       "    <tr>\n",
       "      <th>75%</th>\n",
       "      <td>245.000000</td>\n",
       "      <td>1.0</td>\n",
       "      <td>0.871409</td>\n",
       "      <td>5.000000</td>\n",
       "      <td>1.0</td>\n",
       "      <td>0.824925</td>\n",
       "      <td>4.000000</td>\n",
       "      <td>116650.750000</td>\n",
       "    </tr>\n",
       "    <tr>\n",
       "      <th>max</th>\n",
       "      <td>310.000000</td>\n",
       "      <td>1.0</td>\n",
       "      <td>1.000000</td>\n",
       "      <td>7.000000</td>\n",
       "      <td>1.0</td>\n",
       "      <td>1.000000</td>\n",
       "      <td>10.000000</td>\n",
       "      <td>148988.000000</td>\n",
       "    </tr>\n",
       "  </tbody>\n",
       "</table>\n",
       "</div>"
      ],
      "text/plain": [
       "       avg_monthly_hrs  filed_complaint  last_evaluation    n_projects  \\\n",
       "count     14150.000000           2046.0     12663.000000  14150.000000   \n",
       "mean        199.994346              1.0         0.718399      3.778304   \n",
       "std          50.833697              0.0         0.173108      1.250162   \n",
       "min          49.000000              1.0         0.316175      1.000000   \n",
       "25%         155.000000              1.0         0.563711      3.000000   \n",
       "50%         199.000000              1.0         0.724731      4.000000   \n",
       "75%         245.000000              1.0         0.871409      5.000000   \n",
       "max         310.000000              1.0         1.000000      7.000000   \n",
       "\n",
       "       recently_promoted  satisfaction        tenure    employee_id  \n",
       "count              297.0  14000.000000  14000.000000   14150.000000  \n",
       "mean                 1.0      0.621212      3.499357  112080.750247  \n",
       "std                  0.0      0.250482      1.462584    8748.202856  \n",
       "min                  1.0      0.040058      2.000000       0.000000  \n",
       "25%                  1.0      0.450356      3.000000  105772.500000  \n",
       "50%                  1.0      0.652394      3.000000  111291.500000  \n",
       "75%                  1.0      0.824925      4.000000  116650.750000  \n",
       "max                  1.0      1.000000     10.000000  148988.000000  "
      ]
     },
     "execution_count": 87,
     "metadata": {},
     "output_type": "execute_result"
    }
   ],
   "source": [
    "df.describe()"
   ]
  },
  {
   "cell_type": "markdown",
   "metadata": {},
   "source": [
    "### [or] \n",
    "### [2] Another way \"using classes\":"
   ]
  },
  {
   "cell_type": "code",
   "execution_count": 89,
   "metadata": {},
   "outputs": [],
   "source": [
    "# Class = Preprocess\n",
    "\n",
    "import pandas as pd\n",
    "class Preprocess:                                              \n",
    "    def __str__(self):                         # Writing a function for understanding purpose, but not compulsary\n",
    "        return \"this is preprocessing step\"\n",
    "\n",
    "    def __init__(self, path):                  # Writing a function to get path of the file\n",
    "        self.path = path\n",
    "\n",
    "    def read_from_path(self):                  # Writing a function for reading\n",
    "        self.data = pd.read_csv(self.path)\n",
    "        \n",
    "    def display_df(self):                      # Writing a function for displaying\n",
    "        print(self.data.head())\n",
    "        print(self.data.tail())\n",
    "        print(self.data.describe())"
   ]
  },
  {
   "cell_type": "code",
   "execution_count": 90,
   "metadata": {},
   "outputs": [],
   "source": [
    "data_cls = Preprocess('D:\\\\[Z] Python [Sanjeev]\\\\Python Practice\\\\Data\\\\employee_data.csv')"
   ]
  },
  {
   "cell_type": "code",
   "execution_count": 91,
   "metadata": {},
   "outputs": [
    {
     "name": "stdout",
     "output_type": "stream",
     "text": [
      "this is preprocessing step\n"
     ]
    }
   ],
   "source": [
    "print(data_cls)"
   ]
  },
  {
   "cell_type": "code",
   "execution_count": 92,
   "metadata": {},
   "outputs": [],
   "source": [
    "data_cls.read_from_path()"
   ]
  },
  {
   "cell_type": "code",
   "execution_count": 93,
   "metadata": {},
   "outputs": [
    {
     "name": "stdout",
     "output_type": "stream",
     "text": [
      "   avg_monthly_hrs department  filed_complaint  last_evaluation  n_projects  \\\n",
      "0            246.0        NaN              NaN         0.866838           6   \n",
      "1            134.0        NaN              NaN         0.555718           2   \n",
      "2            156.0     D00-SS              1.0         0.474082           2   \n",
      "3            256.0     D00-SP              NaN         0.961360           6   \n",
      "4            146.0     D00-SS              NaN         0.507349           2   \n",
      "\n",
      "   recently_promoted  salary  satisfaction status  tenure  employee_id  \n",
      "0                NaN  medium      0.134415   Left     4.0       124467  \n",
      "1                NaN     low      0.511041   Left     3.0       112210  \n",
      "2                NaN  medium      0.405101   Left     3.0       126150  \n",
      "3                NaN     low      0.152974   Left     4.0       125346  \n",
      "4                NaN  medium      0.434845   Left     3.0       113707  \n",
      "       avg_monthly_hrs department  filed_complaint  last_evaluation  \\\n",
      "14145            245.0     D00-SS              NaN         0.850785   \n",
      "14146            192.0     D00-SS              NaN         0.951901   \n",
      "14147            175.0     D00-MN              NaN         0.854538   \n",
      "14148            268.0     D00-MT              NaN         0.900887   \n",
      "14149            268.0     D00-IT              1.0         0.897098   \n",
      "\n",
      "       n_projects  recently_promoted  salary  satisfaction    status  tenure  \\\n",
      "14145           6                NaN  medium      0.225084  Employed     5.0   \n",
      "14146           3                NaN  medium      0.539834  Employed     3.0   \n",
      "14147           4                NaN  medium      0.934465  Employed     3.0   \n",
      "14148           5                NaN  medium      0.906613      Left     5.0   \n",
      "14149           2                NaN     low      0.459371  Employed     4.0   \n",
      "\n",
      "       employee_id  \n",
      "14145       101809  \n",
      "14146       116153  \n",
      "14147       119780  \n",
      "14148       115325  \n",
      "14149       112312  \n",
      "       avg_monthly_hrs  filed_complaint  last_evaluation    n_projects  \\\n",
      "count     14150.000000           2046.0     12663.000000  14150.000000   \n",
      "mean        199.994346              1.0         0.718399      3.778304   \n",
      "std          50.833697              0.0         0.173108      1.250162   \n",
      "min          49.000000              1.0         0.316175      1.000000   \n",
      "25%         155.000000              1.0         0.563711      3.000000   \n",
      "50%         199.000000              1.0         0.724731      4.000000   \n",
      "75%         245.000000              1.0         0.871409      5.000000   \n",
      "max         310.000000              1.0         1.000000      7.000000   \n",
      "\n",
      "       recently_promoted  satisfaction        tenure    employee_id  \n",
      "count              297.0  14000.000000  14000.000000   14150.000000  \n",
      "mean                 1.0      0.621212      3.499357  112080.750247  \n",
      "std                  0.0      0.250482      1.462584    8748.202856  \n",
      "min                  1.0      0.040058      2.000000       0.000000  \n",
      "25%                  1.0      0.450356      3.000000  105772.500000  \n",
      "50%                  1.0      0.652394      3.000000  111291.500000  \n",
      "75%                  1.0      0.824925      4.000000  116650.750000  \n",
      "max                  1.0      1.000000     10.000000  148988.000000  \n"
     ]
    }
   ],
   "source": [
    "data_cls.display_df()"
   ]
  },
  {
   "cell_type": "markdown",
   "metadata": {},
   "source": [
    "#### Here we are calling one by one function manually like \n",
    "- 1. read_from_path \n",
    "- 2. display_df_ \n",
    "- 3. prepocessing \n",
    "#### If we want to call all functions automatically in a sequence wise by calling only one function then use \"__call__\" command"
   ]
  },
  {
   "cell_type": "code",
   "execution_count": 94,
   "metadata": {},
   "outputs": [],
   "source": [
    "class Preprocess:\n",
    "    def __init__(self, path):\n",
    "        self.path = path\n",
    "\n",
    "    def read_from_path(self):\n",
    "        self.data = pd.read_csv(self.path)\n",
    "        \n",
    "    def display_df(self):\n",
    "        print(self.data.head())\n",
    "        print(self.data.tail())\n",
    "        print(self.data.describe())\n",
    "        \n",
    "    def __call__(self):           # This is the command used for calling all functions in a sequence manner as required\n",
    "        self.read_from_path()     # First function called\n",
    "        self.display_df()         # Second function called"
   ]
  },
  {
   "cell_type": "code",
   "execution_count": 95,
   "metadata": {},
   "outputs": [],
   "source": [
    "data_cls2 = Preprocess('D:\\\\[Z] Python [Sanjeev]\\\\Python Practice\\\\Data\\\\employee_data.csv')"
   ]
  },
  {
   "cell_type": "code",
   "execution_count": 96,
   "metadata": {},
   "outputs": [
    {
     "name": "stdout",
     "output_type": "stream",
     "text": [
      "<__main__.Preprocess object at 0x00000170CFD89B70>\n"
     ]
    }
   ],
   "source": [
    "print(data_cls2)"
   ]
  },
  {
   "cell_type": "code",
   "execution_count": 97,
   "metadata": {},
   "outputs": [
    {
     "name": "stdout",
     "output_type": "stream",
     "text": [
      "   avg_monthly_hrs department  filed_complaint  last_evaluation  n_projects  \\\n",
      "0            246.0        NaN              NaN         0.866838           6   \n",
      "1            134.0        NaN              NaN         0.555718           2   \n",
      "2            156.0     D00-SS              1.0         0.474082           2   \n",
      "3            256.0     D00-SP              NaN         0.961360           6   \n",
      "4            146.0     D00-SS              NaN         0.507349           2   \n",
      "\n",
      "   recently_promoted  salary  satisfaction status  tenure  employee_id  \n",
      "0                NaN  medium      0.134415   Left     4.0       124467  \n",
      "1                NaN     low      0.511041   Left     3.0       112210  \n",
      "2                NaN  medium      0.405101   Left     3.0       126150  \n",
      "3                NaN     low      0.152974   Left     4.0       125346  \n",
      "4                NaN  medium      0.434845   Left     3.0       113707  \n",
      "       avg_monthly_hrs department  filed_complaint  last_evaluation  \\\n",
      "14145            245.0     D00-SS              NaN         0.850785   \n",
      "14146            192.0     D00-SS              NaN         0.951901   \n",
      "14147            175.0     D00-MN              NaN         0.854538   \n",
      "14148            268.0     D00-MT              NaN         0.900887   \n",
      "14149            268.0     D00-IT              1.0         0.897098   \n",
      "\n",
      "       n_projects  recently_promoted  salary  satisfaction    status  tenure  \\\n",
      "14145           6                NaN  medium      0.225084  Employed     5.0   \n",
      "14146           3                NaN  medium      0.539834  Employed     3.0   \n",
      "14147           4                NaN  medium      0.934465  Employed     3.0   \n",
      "14148           5                NaN  medium      0.906613      Left     5.0   \n",
      "14149           2                NaN     low      0.459371  Employed     4.0   \n",
      "\n",
      "       employee_id  \n",
      "14145       101809  \n",
      "14146       116153  \n",
      "14147       119780  \n",
      "14148       115325  \n",
      "14149       112312  \n",
      "       avg_monthly_hrs  filed_complaint  last_evaluation    n_projects  \\\n",
      "count     14150.000000           2046.0     12663.000000  14150.000000   \n",
      "mean        199.994346              1.0         0.718399      3.778304   \n",
      "std          50.833697              0.0         0.173108      1.250162   \n",
      "min          49.000000              1.0         0.316175      1.000000   \n",
      "25%         155.000000              1.0         0.563711      3.000000   \n",
      "50%         199.000000              1.0         0.724731      4.000000   \n",
      "75%         245.000000              1.0         0.871409      5.000000   \n",
      "max         310.000000              1.0         1.000000      7.000000   \n",
      "\n",
      "       recently_promoted  satisfaction        tenure    employee_id  \n",
      "count              297.0  14000.000000  14000.000000   14150.000000  \n",
      "mean                 1.0      0.621212      3.499357  112080.750247  \n",
      "std                  0.0      0.250482      1.462584    8748.202856  \n",
      "min                  1.0      0.040058      2.000000       0.000000  \n",
      "25%                  1.0      0.450356      3.000000  105772.500000  \n",
      "50%                  1.0      0.652394      3.000000  111291.500000  \n",
      "75%                  1.0      0.824925      4.000000  116650.750000  \n",
      "max                  1.0      1.000000     10.000000  148988.000000  \n"
     ]
    }
   ],
   "source": [
    "data_cls2()"
   ]
  },
  {
   "cell_type": "markdown",
   "metadata": {},
   "source": [
    "# Decorators:\n",
    "- Decorators are functions (or classes) that provide enhanced functionality to the original function (or class) without the programmer having to modify their structure.\n",
    "- These are of 3 types:\n",
    "    1. Function level decorator\n",
    "    2. Class level decorator\n",
    "        - [a] Instance Method\n",
    "        - [b] Class Method\n",
    "        - [c] Static Method\n",
    "    3. Property level decorator (Setter | Getter | Deleter)\n",
    "        - [1] getter \n",
    "        - [2] setter \n",
    "        - [3] deleter"
   ]
  },
  {
   "cell_type": "markdown",
   "metadata": {},
   "source": [
    "# 1. Function level decorator"
   ]
  },
  {
   "cell_type": "code",
   "execution_count": 16,
   "metadata": {},
   "outputs": [
    {
     "name": "stdout",
     "output_type": "stream",
     "text": [
      "Before execution\n",
      "Inside the function\n",
      "After execution\n"
     ]
    },
    {
     "data": {
      "text/plain": [
       "'Computed value: 50'"
      ]
     },
     "execution_count": 16,
     "metadata": {},
     "output_type": "execute_result"
    }
   ],
   "source": [
    "# Sequence of execution\n",
    "def hello_decorator(func): #3 func = sum_two_numbers\n",
    "    def inner(a,b): #6\n",
    "        print(\"Before execution\") #7\n",
    "        value = func(a,b) #8 Here sum_two_number function will be called and gets 50 back from the func execution and stored in `value` variable\n",
    "        print(\"After execution\") #12\n",
    "        return f\"Computed value: {value}\" #13 End of execution\n",
    "    return inner #4 It returns the inner() function definition which accepts two arguments\n",
    "\n",
    "@hello_decorator #2 Decorator function is called\n",
    "def sum_two_number(a, b): #9 gets called after step 8\n",
    "    print(\"Inside the function\") #10\n",
    "    return a+b #11 : 10+40 = 50 is returned\n",
    "sum_two_number(10,40) #1 #5 It invokes inner() function and passes two parameters 10,20 i.e. Assume sum_two_number(10,40) = inner(10, 40)"
   ]
  },
  {
   "cell_type": "code",
   "execution_count": 2,
   "metadata": {},
   "outputs": [
    {
     "data": {
      "text/plain": [
       "'Name: Abhijit | Percentage scored: 25.0 % | Grade: D'"
      ]
     },
     "execution_count": 2,
     "metadata": {},
     "output_type": "execute_result"
    }
   ],
   "source": [
    "def grade_decorator(func):\n",
    "    def wrapper(score, total):\n",
    "        percent = func(score, total)\n",
    "        grades = {\n",
    "        5: 'A+',\n",
    "        4: 'A',\n",
    "        3: 'B',\n",
    "        2: 'C',\n",
    "        1: 'D'}\n",
    "        return percent, grades[percent // 20]\n",
    "    return wrapper\n",
    "\n",
    "class Student:\n",
    "    def __init__(self, name, score, total):\n",
    "        self.name = name\n",
    "        self.__score = score\n",
    "        self.total = total\n",
    "\n",
    "    @staticmethod\n",
    "    @grade_decorator\n",
    "    def get_percent(score, total):\n",
    "        return score/total * 100\n",
    "    \n",
    "    def get_record(self):\n",
    "        percent, grade = Student.get_percent(self.__score, self.total)\n",
    "        return f\"Name: {self.name} | Percentage scored: {percent} % | Grade: {grade}\"\n",
    "\n",
    "    def __str__(self):\n",
    "        return f\"Name: {self.name} | Score: {self.__score} | Total: {self.total}\"\n",
    "stu = Student(\"Abhijit\", 25, 100)\n",
    "stu.get_record()"
   ]
  },
  {
   "cell_type": "code",
   "execution_count": 4,
   "metadata": {},
   "outputs": [
    {
     "name": "stdout",
     "output_type": "stream",
     "text": [
      "1234\n",
      "get_admin_password\n"
     ]
    }
   ],
   "source": [
    "import functools\n",
    "def make_secure(func):\n",
    "    @functools.wraps(func)\n",
    "    def secure_function():\n",
    "        if user[\"access_level\"] == \"admin\":\n",
    "            return func()\n",
    "        else:\n",
    "            return f\"No admin permission for {user['username']}\"\n",
    "    return secure_function\n",
    "\n",
    "@make_secure\n",
    "def get_admin_password():\n",
    "    return \"1234\"\n",
    "\n",
    "# user = {\"username\": \"jose\", \"access_level\": \"guest\"}\n",
    "user = {\"username\": \"jose\", \"access_level\": \"admin\"}\n",
    "\n",
    "print(get_admin_password())\n",
    "print(get_admin_password.__name__) # It prints `secure_function` as function name, without `functool.wraps()` becase decorator overrides the caller function name"
   ]
  },
  {
   "cell_type": "code",
   "execution_count": 5,
   "metadata": {},
   "outputs": [
    {
     "name": "stdout",
     "output_type": "stream",
     "text": [
      "1234\n",
      "super secret password\n"
     ]
    }
   ],
   "source": [
    "# Decorators with parameters\n",
    "import functools\n",
    "\n",
    "def make_secure(func):\n",
    "    @functools.wraps(func)\n",
    "    def secure_function(*args, **kwargs):\n",
    "        if user[\"access_level\"] == \"admin\":\n",
    "            return func(*args, **kwargs)\n",
    "        else:\n",
    "            return f\"No admin permission for {user['username']}\"\n",
    "    return secure_function\n",
    "\n",
    "@make_secure\n",
    "def get_password(panel):\n",
    "    if panel == \"admin\":\n",
    "        return \"1234\"\n",
    "    else:\n",
    "        return \"super secret password\"\n",
    "    \n",
    "# user = {\"username\": \"jose\", \"access_level\": \"guest\"}\n",
    "user = {\"username\": \"jose\", \"access_level\": \"admin\"}\n",
    "\n",
    "print(get_password(\"admin\"))\n",
    "print(get_password(\"billing\"))"
   ]
  },
  {
   "cell_type": "code",
   "execution_count": 6,
   "metadata": {},
   "outputs": [
    {
     "name": "stdout",
     "output_type": "stream",
     "text": [
      "No admin permission for jose\n",
      "No user permission for jose\n",
      "1234\n",
      "super secret password\n"
     ]
    }
   ],
   "source": [
    "# Decorators with parameters\n",
    "import functools\n",
    "\n",
    "def make_secure(access_level): # this is a factory method which helps in creating the decorator\n",
    "    def decorator(func): # this is the decorator function\n",
    "        @functools.wraps(func)\n",
    "        def secure_function(*args, **kwargs):\n",
    "            if user[\"access_level\"] >= 1: # guest = 0, user = 1, admin = 2\n",
    "                return func(*args, **kwargs)\n",
    "            else:\n",
    "                return f\"No {access_level} permission for {user['username']}\"\n",
    "        return secure_function\n",
    "    return decorator\n",
    "\n",
    "@make_secure(\"admin\")\n",
    "def get_admin_password():\n",
    "    return \"1234\"\n",
    "\n",
    "@make_secure(\"user\")\n",
    "def get_dashboard_password():\n",
    "    return \"super secret password\"\n",
    "user = {\"username\": \"jose\", \"access_level\": 0}\n",
    "\n",
    "print(get_admin_password())\n",
    "print(get_dashboard_password())\n",
    "\n",
    "user = {\"username\": \"jose\", \"access_level\": 2}\n",
    "\n",
    "print(get_admin_password())\n",
    "print(get_dashboard_password())"
   ]
  },
  {
   "cell_type": "markdown",
   "metadata": {},
   "source": [
    "# 2. Class level decorator:\n",
    "- [a] Instance Method\n",
    "- [b] Class Method\n",
    "- [c] Static Method\n",
    "\n",
    "### [a] Instance Method:\n",
    "- It is the method that takes the first parameter, self , which points to an instance of the class when the\n",
    "method is called.\n",
    "- Through the \"self\" parameter, instance methods can freely access attributes and other methods on the\n",
    "same object.\n",
    "- Not only can they modify object state, instance methods can also access the class itself through the\n",
    "self.class attribute. This means instance methods can also modify class state.\n",
    "\n",
    "### [b] Class Method:\n",
    "- A class method is decorated with @classmethod decorator.\n",
    "- Instead of accepting a self parameter, class methods take a cls parameter that points to the class—and\n",
    "not the object instance—when the method is called.\n",
    "- Because the class method only has access to this cls argument, it can’t modify object instance state.\n",
    "However, class methods can still modify class state that applies across all instances of the class.\n",
    "\n",
    "### [c] Static Method:\n",
    "- A static method is decorated with @staticmethod decorator.\n",
    "- This type of method takes neither a self nor a cls parameter (but of course it’s free to accept an\n",
    "arbitrary number of other parameters).\n",
    "- Therefore a static method can neither modify object state nor class state.\n",
    "- Static methods are restricted in what data they can access - and they’re primarily a way to namespace your\n",
    "methods."
   ]
  },
  {
   "cell_type": "code",
   "execution_count": 17,
   "metadata": {},
   "outputs": [
    {
     "name": "stdout",
     "output_type": "stream",
     "text": [
      "('instance method called', <__main__.MyClass object at 0x000001E4FFF67460>)\n",
      "('class method called', <class '__main__.MyClass'>)\n",
      "static method called\n"
     ]
    }
   ],
   "source": [
    "class MyClass:\n",
    "    data = 10 # class variable\n",
    "    def method(self):\n",
    "# Instance methods can also access the class itself through the self.__class__.data.\n",
    "        return 'instance method called', self\n",
    "    \n",
    "    @classmethod\n",
    "    def classmethod(cls):\n",
    "        return 'class method called', cls\n",
    "    \n",
    "    @staticmethod\n",
    "    def staticmethod():\n",
    "        return 'static method called'\n",
    "obj = MyClass()\n",
    "\n",
    "# This confirms that the instance method has access to the object instance (printed as <MyClass instance>) via the self argument.\n",
    "print(obj.method())\n",
    "# When the method is called, Python replaces the self argument with the instance object, obj.\n",
    "# We could ignore the syntactic sugar of the dot-call syntax (obj.method()) and pass the instance object manually to get the same result\n",
    "# print(MyClass.method(obj))\n",
    "# Calling classmethod() showed us it doesn’t have access to the <MyClass instance> object, but only to the <class MyClass> object, representing the class itself.\n",
    "print(obj.classmethod())\n",
    "# Behind the scenes Python simply enforces the access restrictions by not passing in the self` or the `cls` argument when a static method gets called using the dot syntax.\n",
    "# This confirms that static methods can neither access the object instance state nor the class state. They work like regular functions but belong to the class’s (and every instance’s) namespace.\n",
    "print(obj.staticmethod())"
   ]
  },
  {
   "cell_type": "markdown",
   "metadata": {},
   "source": [
    "- We can call the classmethod & staticmethod methods on the class itself - without creating an object\n",
    "instance beforehand"
   ]
  },
  {
   "cell_type": "code",
   "execution_count": 8,
   "metadata": {},
   "outputs": [
    {
     "name": "stdout",
     "output_type": "stream",
     "text": [
      "('class method called', <class '__main__.MyClass'>)\n",
      "static method called\n"
     ]
    }
   ],
   "source": [
    "print(MyClass.classmethod())\n",
    "print(MyClass.staticmethod())"
   ]
  },
  {
   "cell_type": "code",
   "execution_count": 10,
   "metadata": {},
   "outputs": [
    {
     "name": "stdout",
     "output_type": "stream",
     "text": [
      "<Book Harry Potter, Hardcover, weighing 1600g>\n",
      "<Book Python 101, Paperback, weighing 700g>\n"
     ]
    }
   ],
   "source": [
    "# Class Methods are mostly used as Factory Methods\n",
    "class Book:\n",
    "    TYPES = (\"Hardcover\", \"Paperback\") # Class variable which shows that book can be of only two types\n",
    "    def __init__(self, name: str, book_type: str, weight: int):\n",
    "        self.name = name\n",
    "        self.book_type = book_type\n",
    "        self.weight = weight\n",
    "\n",
    "    def __repr__(self) -> str:\n",
    "        return f\"<Book {self.name}, {self.book_type}, weighing {self.weight}g>\"\n",
    "\n",
    "    @classmethod\n",
    "    def hardcover(cls, name: str, page_weight: int) -> \"Book\":\n",
    "        return cls(name, cls.TYPES[0], page_weight+100)\n",
    "\n",
    "    @classmethod\n",
    "    def paperback(cls, name: str, page_weight: int) -> \"Book\":\n",
    "        return cls(name, cls.TYPES[1], page_weight)\n",
    "\n",
    "book1 = Book.hardcover(\"Harry Potter\", 1500)\n",
    "book2 = Book.paperback(\"Python 101\", 700)\n",
    "print(book1)\n",
    "print(book2)"
   ]
  },
  {
   "cell_type": "markdown",
   "metadata": {},
   "source": [
    "# 3. Property Level decorator \n",
    "- These are 3 types:\n",
    "    - [1] getter \n",
    "    - [2] setter \n",
    "    - [3] deleter\n",
    "\n",
    "- The property decorator is very useful when defining methods for data validation, like when deciding if a value to be assigned is valid and won’t lead to issues later in the code.\n",
    "    - getter and setter methods are used to access and modify (respectively) a private instance.\n",
    "    - deleter method lets you delete a protected or private attribute using the del function."
   ]
  },
  {
   "cell_type": "code",
   "execution_count": 11,
   "metadata": {},
   "outputs": [
    {
     "name": "stdout",
     "output_type": "stream",
     "text": [
      "Getting name\n",
      "The name is: Adam\n",
      "Setting name to John\n",
      "Deleting name\n"
     ]
    }
   ],
   "source": [
    "class Person:\n",
    "    def __init__(self, name):\n",
    "        self.__name = name\n",
    "\n",
    "    @property\n",
    "    def name(self):\n",
    "        print('Getting name')\n",
    "        return self.__name\n",
    "    \n",
    "    @name.setter\n",
    "    def name(self, value):\n",
    "        print('Setting name to ' + value)\n",
    "        self.__name = value\n",
    "        \n",
    "    @name.deleter\n",
    "    def name(self):\n",
    "        print('Deleting name')\n",
    "        del self.__name\n",
    "\n",
    "# Now, whenever we use p.name, it internally calls the appropriate getter, setter, and deleter as shown by the printed output present inside the method.\n",
    "p = Person('Adam')\n",
    "print('The name is:', p.name)\n",
    "p.name = 'John'\n",
    "del p.name"
   ]
  },
  {
   "cell_type": "markdown",
   "metadata": {},
   "source": [
    "# Constructors (__init__) & Destructors (__del__):\n",
    "- A Constructor is called when an class instance is created\n",
    "- A Destructor is called when an object is deleted or destroyed\n",
    "    - The __del__ method is called for any object when the reference count for that object becomes zero.\n",
    "    - The reference count for that object becomes zero when the application ends, or we delete all references\n",
    "    manually using the del keyword.\n",
    "    - The destructor will not invoke when we delete object reference. It will only invoke when all references to\n",
    "    the objects get deleted."
   ]
  },
  {
   "cell_type": "code",
   "execution_count": 12,
   "metadata": {},
   "outputs": [
    {
     "name": "stdout",
     "output_type": "stream",
     "text": [
      "Inside Constructor\n",
      "Object initialized\n"
     ]
    }
   ],
   "source": [
    "class Employee:\n",
    "    # constructor\n",
    "    def __init__(self, name):\n",
    "        print('Inside Constructor')\n",
    "        self.name = name\n",
    "        print('Object initialized')\n",
    "\n",
    "    def show(self):\n",
    "        print('Hello, my name is', self.name)\n",
    "\n",
    "    # destructor\n",
    "    def __del__(self):\n",
    "        print('Inside destructor')\n",
    "        print('Object destroyed')\n",
    "\n",
    "# create object\n",
    "s1 = Employee('Emma')"
   ]
  },
  {
   "cell_type": "code",
   "execution_count": 13,
   "metadata": {},
   "outputs": [
    {
     "name": "stdout",
     "output_type": "stream",
     "text": [
      "Hello, my name is Emma\n"
     ]
    }
   ],
   "source": [
    "s1.show()"
   ]
  },
  {
   "cell_type": "code",
   "execution_count": 14,
   "metadata": {},
   "outputs": [
    {
     "name": "stdout",
     "output_type": "stream",
     "text": [
      "Inside destructor\n",
      "Object destroyed\n"
     ]
    }
   ],
   "source": [
    "# delete object\n",
    "del s1"
   ]
  },
  {
   "cell_type": "code",
   "execution_count": 15,
   "metadata": {},
   "outputs": [
    {
     "data": {
      "text/plain": [
       "typing.Optional[typing.List[int]]"
      ]
     },
     "execution_count": 15,
     "metadata": {},
     "output_type": "execute_result"
    }
   ],
   "source": [
    "from typing import List, Optional\n",
    "Optional[List[int]]"
   ]
  },
  {
   "cell_type": "markdown",
   "metadata": {},
   "source": [
    "# Duck Typing\n",
    "- Duck Typing is a way of programming in which an object passed into a function or method supports all method signatures and attributes expected of that object at run time.\n",
    "- The object's type itself is not important. Rather, the object should support all methods/attributes called on\n",
    "it."
   ]
  },
  {
   "cell_type": "code",
   "execution_count": 18,
   "metadata": {},
   "outputs": [
    {
     "name": "stdout",
     "output_type": "stream",
     "text": [
      "quack quack\n",
      "woof woof\n"
     ]
    }
   ],
   "source": [
    "class Duck:\n",
    "    def sound(self):\n",
    "        print(\"quack quack\")\n",
    "\n",
    "class Dog:\n",
    "    def sound(self):\n",
    "        print(\"woof woof\")\n",
    "\n",
    "class Cat:\n",
    "    def __init__(self):\n",
    "        self.sound = \"meow meow\"\n",
    "\n",
    "def all_sounds(obj):\n",
    "    if hasattr(obj, 'sound') and callable(obj.sound):obj.sound()\n",
    "du = Duck()\n",
    "do = Dog()\n",
    "ca = Cat()\n",
    "for obj in [du, do, ca]:\n",
    "    all_sounds(obj)"
   ]
  },
  {
   "cell_type": "markdown",
   "metadata": {},
   "source": [
    "# Multi-Threading:\n",
    "## Process in Python:\n",
    "- In computing, a process is an instance of a computer program that is being executed. Any process has 3 basic\n",
    "components:\n",
    "    - An executable program.\n",
    "    - The associated data needed by the program (variables, workspace, buffers, etc.)\n",
    "    - The execution context of the program (State of the process)\n",
    "\n",
    "## Thread:\n",
    "- Entity within a process that can be scheduled for execution\n",
    "- Smallest unit of execution\n",
    "- Multiple threads can exist within one process where:\n",
    "    - Each thread contains its own register set and local variables (stored in the stack).\n",
    "    - All threads of a process share global variables (stored in heap) and the program code.\n",
    "- A thread is simply a subset of a process\n",
    "- A thread contains all the information in a \"Thread Control Block (TCB)\"\n",
    "\n",
    "## Thread Control Block (TCB):\n",
    "- Thread Identifier: \n",
    "    - Unique id (TID) is assigned to every new thread\n",
    "- Stack pointer: \n",
    "    - Points to the thread’s stack in the process. The stack contains the local variables under the\n",
    "thread’s scope.\n",
    "- Program counter: \n",
    "    - a register that stores the address of the instruction currently being executed by a thread.\n",
    "- Thread state: \n",
    "    - can be running, ready, waiting, starting, or done.\n",
    "- Thread’s register set: \n",
    "    - registers assigned to thread for computations.\n",
    "- Parent process Pointer : \n",
    "    - A pointer to the Process control block (PCB) of the process that the thread lives on.\n",
    "\n",
    "## Process Control Block (PCB):\n",
    "- Process Identifier (PID)\n",
    "- Process State (waiting, running, exiting, etc)\n",
    "- Process counter (gives the address of process in memory)\n",
    "- Process Registers\n",
    "- Memory Limits\n",
    "- List of open files\n",
    "\n",
    "# Multithreading in Python:\n",
    "- Defined as the ability of a processor to execute multiple threads concurrently.\n",
    "- In a simple, single-core CPU, it is achieved using frequent switching between threads. This is termed\n",
    "context switching.\n",
    "- In context switching, the state of a thread is saved and the state of another thread is loaded whenever any\n",
    "interrupt (due to I/O or manually set) takes place.\n",
    "- Context switching takes place so frequently that all the threads appear to be running parallelly (this is\n",
    "termed multitasking).\n"
   ]
  },
  {
   "cell_type": "code",
   "execution_count": 19,
   "metadata": {},
   "outputs": [],
   "source": [
    "import threading\n",
    "import os\n",
    "\n",
    "def task1():\n",
    "    print(\"Task 1 assigned to thread: {}\".format(threading.current_thread().name))\n",
    "    print(\"ID of process running task 1: {}\".format(os.getpid()))\n",
    "\n",
    "def task2():\n",
    "    print(\"Task 2 assigned to thread: {}\".format(threading.current_thread().name))\n",
    "    print(\"ID of process running task 2: {}\".format(os.getpid()))"
   ]
  },
  {
   "cell_type": "code",
   "execution_count": 18,
   "metadata": {},
   "outputs": [
    {
     "ename": "NameError",
     "evalue": "name 'os' is not defined",
     "output_type": "error",
     "traceback": [
      "\u001b[1;31m---------------------------------------------------------------------------\u001b[0m",
      "\u001b[1;31mNameError\u001b[0m                                 Traceback (most recent call last)",
      "Cell \u001b[1;32mIn[18], line 2\u001b[0m\n\u001b[0;32m      1\u001b[0m \u001b[38;5;66;03m# print ID of current process\u001b[39;00m\n\u001b[1;32m----> 2\u001b[0m \u001b[38;5;28mprint\u001b[39m(\u001b[38;5;124m\"\u001b[39m\u001b[38;5;124mID of process running main program: \u001b[39m\u001b[38;5;132;01m{}\u001b[39;00m\u001b[38;5;124m\"\u001b[39m\u001b[38;5;241m.\u001b[39mformat(\u001b[43mos\u001b[49m\u001b[38;5;241m.\u001b[39mgetpid()))\n\u001b[0;32m      4\u001b[0m \u001b[38;5;66;03m# print name of main thread\u001b[39;00m\n\u001b[0;32m      5\u001b[0m \u001b[38;5;28mprint\u001b[39m(\u001b[38;5;124m\"\u001b[39m\u001b[38;5;124mMain thread name: \u001b[39m\u001b[38;5;132;01m{}\u001b[39;00m\u001b[38;5;124m\"\u001b[39m\u001b[38;5;241m.\u001b[39mformat(threading\u001b[38;5;241m.\u001b[39mcurrent_thread()\u001b[38;5;241m.\u001b[39mname))\n",
      "\u001b[1;31mNameError\u001b[0m: name 'os' is not defined"
     ]
    }
   ],
   "source": [
    "# print ID of current process\n",
    "print(\"ID of process running main program: {}\".format(os.getpid()))\n",
    "\n",
    "# print name of main thread\n",
    "print(\"Main thread name: {}\".format(threading.current_thread().name))\n",
    "\n",
    "# creating threads\n",
    "t1 = threading.Thread(target=task1, name='t1')\n",
    "t2 = threading.Thread(target=task2, name='t2')\n",
    "\n",
    "# starting threads\n",
    "t1.start()\n",
    "t2.start()\n",
    "\n",
    "# wait until all threads finish\n",
    "t1.join()\n",
    "t2.join()"
   ]
  }
 ],
 "metadata": {
  "kernelspec": {
   "display_name": "Python 3",
   "language": "python",
   "name": "python3"
  },
  "language_info": {
   "codemirror_mode": {
    "name": "ipython",
    "version": 3
   },
   "file_extension": ".py",
   "mimetype": "text/x-python",
   "name": "python",
   "nbconvert_exporter": "python",
   "pygments_lexer": "ipython3",
   "version": "3.10.5"
  }
 },
 "nbformat": 4,
 "nbformat_minor": 2
}
