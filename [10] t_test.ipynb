{
 "cells": [
  {
   "cell_type": "markdown",
   "metadata": {},
   "source": [
    "- credits\n",
    "\n",
    "https://www.geo.fu-berlin.de/en/v/soga-r/Basics-of-statistics/Hypothesis-Tests/Inferential-Methods-in-Regression-and-Correlation/Inferences-About-the-Slope/index.html#:~:text=The%20regression%20t%2Dtest%20is,(linear)%20predictor%20of%20y.\n",
    "\n",
    "https://en.wikipedia.org/wiki/Student%27s_t-test"
   ]
  },
  {
   "cell_type": "markdown",
   "metadata": {},
   "source": [
    "###### code for this is available at below link\n",
    "https://github.com/sanjeev-kallepalli/training/blob/main/t_test.ipynb"
   ]
  },
  {
   "cell_type": "markdown",
   "metadata": {},
   "source": [
    "# *t*-test"
   ]
  },
  {
   "cell_type": "markdown",
   "metadata": {},
   "source": [
    "<p><i>t</i>-statistic is an inferential statistic to compare the means of two groups and how are they related.<br>This can also be applied when a group is to be tested with single value or two groups to be compared with each other.</p>"
   ]
  },
  {
   "cell_type": "markdown",
   "metadata": {},
   "source": [
    "In the case of regression t-test, it is useful to determine if slope is significant. In other words, if the independent variable *x* is useful for predicting the dependent variable *y*"
   ]
  },
  {
   "cell_type": "markdown",
   "metadata": {},
   "source": [
    "$$\n",
    "  t = \\frac{\\bar{X}-\\mu}{\\frac{\\hat\\sigma}{\\sqrt{n}}}\n",
    "$$"
   ]
  },
  {
   "cell_type": "markdown",
   "metadata": {},
   "source": [
    "$\\bar{X}\\space is\\space sample\\space mean \\space of \\space size \\space n \\newline \\mu \\space is \\space population \\space mean \\newline \\hat\\sigma \\space is \\space standard \\space deviation \\space of \\space population$"
   ]
  },
  {
   "cell_type": "code",
   "execution_count": 1,
   "metadata": {},
   "outputs": [],
   "source": [
    "import pandas as pd"
   ]
  },
  {
   "cell_type": "code",
   "execution_count": 2,
   "metadata": {},
   "outputs": [],
   "source": [
    "df = pd.read_csv(\"https://userpage.fu-berlin.de/soga/data/raw-data/students.csv\")"
   ]
  },
  {
   "cell_type": "code",
   "execution_count": 3,
   "metadata": {},
   "outputs": [
    {
     "data": {
      "text/html": [
       "<div>\n",
       "<style scoped>\n",
       "    .dataframe tbody tr th:only-of-type {\n",
       "        vertical-align: middle;\n",
       "    }\n",
       "\n",
       "    .dataframe tbody tr th {\n",
       "        vertical-align: top;\n",
       "    }\n",
       "\n",
       "    .dataframe thead th {\n",
       "        text-align: right;\n",
       "    }\n",
       "</style>\n",
       "<table border=\"1\" class=\"dataframe\">\n",
       "  <thead>\n",
       "    <tr style=\"text-align: right;\">\n",
       "      <th></th>\n",
       "      <th>stud.id</th>\n",
       "      <th>name</th>\n",
       "      <th>gender</th>\n",
       "      <th>age</th>\n",
       "      <th>height</th>\n",
       "      <th>weight</th>\n",
       "      <th>religion</th>\n",
       "      <th>nc.score</th>\n",
       "      <th>semester</th>\n",
       "      <th>major</th>\n",
       "      <th>minor</th>\n",
       "      <th>score1</th>\n",
       "      <th>score2</th>\n",
       "      <th>online.tutorial</th>\n",
       "      <th>graduated</th>\n",
       "      <th>salary</th>\n",
       "    </tr>\n",
       "  </thead>\n",
       "  <tbody>\n",
       "    <tr>\n",
       "      <th>1</th>\n",
       "      <td>833917</td>\n",
       "      <td>Gonzales, Christina</td>\n",
       "      <td>Female</td>\n",
       "      <td>19</td>\n",
       "      <td>160</td>\n",
       "      <td>64.8</td>\n",
       "      <td>Muslim</td>\n",
       "      <td>1.91</td>\n",
       "      <td>1st</td>\n",
       "      <td>Political Science</td>\n",
       "      <td>Social Sciences</td>\n",
       "      <td>NaN</td>\n",
       "      <td>NaN</td>\n",
       "      <td>0</td>\n",
       "      <td>0</td>\n",
       "      <td>NaN</td>\n",
       "    </tr>\n",
       "    <tr>\n",
       "      <th>2</th>\n",
       "      <td>898539</td>\n",
       "      <td>Lozano, T'Hani</td>\n",
       "      <td>Female</td>\n",
       "      <td>19</td>\n",
       "      <td>172</td>\n",
       "      <td>73.0</td>\n",
       "      <td>Other</td>\n",
       "      <td>1.56</td>\n",
       "      <td>2nd</td>\n",
       "      <td>Social Sciences</td>\n",
       "      <td>Mathematics and Statistics</td>\n",
       "      <td>NaN</td>\n",
       "      <td>NaN</td>\n",
       "      <td>0</td>\n",
       "      <td>0</td>\n",
       "      <td>NaN</td>\n",
       "    </tr>\n",
       "    <tr>\n",
       "      <th>3</th>\n",
       "      <td>379678</td>\n",
       "      <td>Williams, Hanh</td>\n",
       "      <td>Female</td>\n",
       "      <td>22</td>\n",
       "      <td>168</td>\n",
       "      <td>70.6</td>\n",
       "      <td>Protestant</td>\n",
       "      <td>1.24</td>\n",
       "      <td>3rd</td>\n",
       "      <td>Social Sciences</td>\n",
       "      <td>Mathematics and Statistics</td>\n",
       "      <td>45.0</td>\n",
       "      <td>46.0</td>\n",
       "      <td>0</td>\n",
       "      <td>0</td>\n",
       "      <td>NaN</td>\n",
       "    </tr>\n",
       "    <tr>\n",
       "      <th>4</th>\n",
       "      <td>807564</td>\n",
       "      <td>Nem, Denzel</td>\n",
       "      <td>Male</td>\n",
       "      <td>19</td>\n",
       "      <td>183</td>\n",
       "      <td>79.7</td>\n",
       "      <td>Other</td>\n",
       "      <td>1.37</td>\n",
       "      <td>2nd</td>\n",
       "      <td>Environmental Sciences</td>\n",
       "      <td>Mathematics and Statistics</td>\n",
       "      <td>NaN</td>\n",
       "      <td>NaN</td>\n",
       "      <td>0</td>\n",
       "      <td>0</td>\n",
       "      <td>NaN</td>\n",
       "    </tr>\n",
       "    <tr>\n",
       "      <th>5</th>\n",
       "      <td>383291</td>\n",
       "      <td>Powell, Heather</td>\n",
       "      <td>Female</td>\n",
       "      <td>21</td>\n",
       "      <td>175</td>\n",
       "      <td>71.4</td>\n",
       "      <td>Catholic</td>\n",
       "      <td>1.46</td>\n",
       "      <td>1st</td>\n",
       "      <td>Environmental Sciences</td>\n",
       "      <td>Mathematics and Statistics</td>\n",
       "      <td>NaN</td>\n",
       "      <td>NaN</td>\n",
       "      <td>0</td>\n",
       "      <td>0</td>\n",
       "      <td>NaN</td>\n",
       "    </tr>\n",
       "  </tbody>\n",
       "</table>\n",
       "</div>"
      ],
      "text/plain": [
       "   stud.id                 name  gender  age  height  weight    religion  \\\n",
       "1   833917  Gonzales, Christina  Female   19     160    64.8      Muslim   \n",
       "2   898539       Lozano, T'Hani  Female   19     172    73.0       Other   \n",
       "3   379678       Williams, Hanh  Female   22     168    70.6  Protestant   \n",
       "4   807564          Nem, Denzel    Male   19     183    79.7       Other   \n",
       "5   383291      Powell, Heather  Female   21     175    71.4    Catholic   \n",
       "\n",
       "   nc.score semester                   major                       minor  \\\n",
       "1      1.91      1st       Political Science             Social Sciences   \n",
       "2      1.56      2nd         Social Sciences  Mathematics and Statistics   \n",
       "3      1.24      3rd         Social Sciences  Mathematics and Statistics   \n",
       "4      1.37      2nd  Environmental Sciences  Mathematics and Statistics   \n",
       "5      1.46      1st  Environmental Sciences  Mathematics and Statistics   \n",
       "\n",
       "   score1  score2  online.tutorial  graduated  salary  \n",
       "1     NaN     NaN                0          0     NaN  \n",
       "2     NaN     NaN                0          0     NaN  \n",
       "3    45.0    46.0                0          0     NaN  \n",
       "4     NaN     NaN                0          0     NaN  \n",
       "5     NaN     NaN                0          0     NaN  "
      ]
     },
     "execution_count": 3,
     "metadata": {},
     "output_type": "execute_result"
    }
   ],
   "source": [
    "df.head()"
   ]
  },
  {
   "cell_type": "code",
   "execution_count": 4,
   "metadata": {},
   "outputs": [
    {
     "data": {
      "text/plain": [
       "(8239, 16)"
      ]
     },
     "execution_count": 4,
     "metadata": {},
     "output_type": "execute_result"
    }
   ],
   "source": [
    "df.shape"
   ]
  },
  {
   "cell_type": "code",
   "execution_count": 5,
   "metadata": {},
   "outputs": [],
   "source": [
    "# Now i am not looking all variables\n",
    "# I am concentarting only on \"Height\" & Weight\" variables only\n",
    "# i subsetted 2 columns(height & weight) by using double square brackets [[]]"
   ]
  },
  {
   "cell_type": "code",
   "execution_count": 6,
   "metadata": {},
   "outputs": [],
   "source": [
    "data = df[['height', 'weight']]"
   ]
  },
  {
   "cell_type": "code",
   "execution_count": 7,
   "metadata": {},
   "outputs": [
    {
     "data": {
      "text/html": [
       "<div>\n",
       "<style scoped>\n",
       "    .dataframe tbody tr th:only-of-type {\n",
       "        vertical-align: middle;\n",
       "    }\n",
       "\n",
       "    .dataframe tbody tr th {\n",
       "        vertical-align: top;\n",
       "    }\n",
       "\n",
       "    .dataframe thead th {\n",
       "        text-align: right;\n",
       "    }\n",
       "</style>\n",
       "<table border=\"1\" class=\"dataframe\">\n",
       "  <thead>\n",
       "    <tr style=\"text-align: right;\">\n",
       "      <th></th>\n",
       "      <th>height</th>\n",
       "      <th>weight</th>\n",
       "    </tr>\n",
       "  </thead>\n",
       "  <tbody>\n",
       "    <tr>\n",
       "      <th>1</th>\n",
       "      <td>160</td>\n",
       "      <td>64.8</td>\n",
       "    </tr>\n",
       "    <tr>\n",
       "      <th>2</th>\n",
       "      <td>172</td>\n",
       "      <td>73.0</td>\n",
       "    </tr>\n",
       "    <tr>\n",
       "      <th>3</th>\n",
       "      <td>168</td>\n",
       "      <td>70.6</td>\n",
       "    </tr>\n",
       "    <tr>\n",
       "      <th>4</th>\n",
       "      <td>183</td>\n",
       "      <td>79.7</td>\n",
       "    </tr>\n",
       "    <tr>\n",
       "      <th>5</th>\n",
       "      <td>175</td>\n",
       "      <td>71.4</td>\n",
       "    </tr>\n",
       "  </tbody>\n",
       "</table>\n",
       "</div>"
      ],
      "text/plain": [
       "   height  weight\n",
       "1     160    64.8\n",
       "2     172    73.0\n",
       "3     168    70.6\n",
       "4     183    79.7\n",
       "5     175    71.4"
      ]
     },
     "execution_count": 7,
     "metadata": {},
     "output_type": "execute_result"
    }
   ],
   "source": [
    "data.head()"
   ]
  },
  {
   "cell_type": "code",
   "execution_count": 8,
   "metadata": {},
   "outputs": [
    {
     "data": {
      "text/plain": [
       "(8239, 2)"
      ]
     },
     "execution_count": 8,
     "metadata": {},
     "output_type": "execute_result"
    }
   ],
   "source": [
    "data.shape"
   ]
  },
  {
   "cell_type": "code",
   "execution_count": 9,
   "metadata": {},
   "outputs": [],
   "source": [
    "# by using height, can we predict weight?"
   ]
  },
  {
   "cell_type": "code",
   "execution_count": 10,
   "metadata": {},
   "outputs": [],
   "source": [
    "n=21 # taken 21 samples from the entire data\n",
    "data_sample = data.sample(n=21, random_state=200)"
   ]
  },
  {
   "cell_type": "code",
   "execution_count": 11,
   "metadata": {},
   "outputs": [
    {
     "data": {
      "text/html": [
       "<div>\n",
       "<style scoped>\n",
       "    .dataframe tbody tr th:only-of-type {\n",
       "        vertical-align: middle;\n",
       "    }\n",
       "\n",
       "    .dataframe tbody tr th {\n",
       "        vertical-align: top;\n",
       "    }\n",
       "\n",
       "    .dataframe thead th {\n",
       "        text-align: right;\n",
       "    }\n",
       "</style>\n",
       "<table border=\"1\" class=\"dataframe\">\n",
       "  <thead>\n",
       "    <tr style=\"text-align: right;\">\n",
       "      <th></th>\n",
       "      <th>height</th>\n",
       "      <th>weight</th>\n",
       "    </tr>\n",
       "  </thead>\n",
       "  <tbody>\n",
       "    <tr>\n",
       "      <th>3942</th>\n",
       "      <td>158</td>\n",
       "      <td>60.4</td>\n",
       "    </tr>\n",
       "    <tr>\n",
       "      <th>4564</th>\n",
       "      <td>173</td>\n",
       "      <td>74.2</td>\n",
       "    </tr>\n",
       "    <tr>\n",
       "      <th>2285</th>\n",
       "      <td>188</td>\n",
       "      <td>86.6</td>\n",
       "    </tr>\n",
       "    <tr>\n",
       "      <th>431</th>\n",
       "      <td>188</td>\n",
       "      <td>88.2</td>\n",
       "    </tr>\n",
       "    <tr>\n",
       "      <th>4894</th>\n",
       "      <td>172</td>\n",
       "      <td>74.2</td>\n",
       "    </tr>\n",
       "  </tbody>\n",
       "</table>\n",
       "</div>"
      ],
      "text/plain": [
       "      height  weight\n",
       "3942     158    60.4\n",
       "4564     173    74.2\n",
       "2285     188    86.6\n",
       "431      188    88.2\n",
       "4894     172    74.2"
      ]
     },
     "execution_count": 11,
     "metadata": {},
     "output_type": "execute_result"
    }
   ],
   "source": [
    "data_sample.head()"
   ]
  },
  {
   "cell_type": "code",
   "execution_count": 12,
   "metadata": {},
   "outputs": [
    {
     "data": {
      "text/plain": [
       "(21, 2)"
      ]
     },
     "execution_count": 12,
     "metadata": {},
     "output_type": "execute_result"
    }
   ],
   "source": [
    "data_sample.shape"
   ]
  },
  {
   "cell_type": "code",
   "execution_count": 13,
   "metadata": {},
   "outputs": [
    {
     "data": {
      "text/plain": [
       "<matplotlib.collections.PathCollection at 0x28e020004c0>"
      ]
     },
     "execution_count": 13,
     "metadata": {},
     "output_type": "execute_result"
    },
    {
     "data": {
      "image/png": "[encoded data removed]",
      "text/plain": [
       "<Figure size 640x480 with 1 Axes>"
      ]
     },
     "metadata": {},
     "output_type": "display_data"
    }
   ],
   "source": [
    "# Now started plotting the graph\n",
    "# Height is on X-axis & Weight is on Y-axis\n",
    "\n",
    "import matplotlib.pyplot as plt\n",
    "plt.scatter(data_sample['height'], data_sample['weight'])"
   ]
  },
  {
   "cell_type": "markdown",
   "metadata": {},
   "source": [
    "## Hypothesis testing"
   ]
  },
  {
   "cell_type": "markdown",
   "metadata": {},
   "source": [
    "1. State the null hypothesis H0 and alternative hypothesis HA.\n",
    "2. Decide on the significance level, α.\n",
    "3. Compute the value of the test statistic.\n",
    "4. Determine the p-value.\n",
    "5. If p≤α, reject H0; otherwise, do not reject H0.\n",
    "6. Interpret the result of the hypothesis test."
   ]
  },
  {
   "cell_type": "markdown",
   "metadata": {},
   "source": [
    "<p>In this case the hypothesis statements are as below<br>\n",
    "null hypothesis:<br>\n",
    "H0 = \"There is no relation between height and weight, slope is zero.\"<br>\n",
    "    This also means that height attribute cannot be used for predicting weight.<br>\n",
    "alternate hypothesis<br>\n",
    "H1 = \"The height attribute is significant enough to have an effect in predicting weight, slope is non-zero\"<br>\n",
    "    This also means that height is having some relation with weight and can be useful in predicting it.</p>\n"
   ]
  },
  {
   "cell_type": "code",
   "execution_count": 14,
   "metadata": {},
   "outputs": [],
   "source": [
    "import numpy as np\n",
    "from scipy import stats"
   ]
  },
  {
   "cell_type": "code",
   "execution_count": 15,
   "metadata": {},
   "outputs": [],
   "source": [
    "# We have to calculate slope (beta) here\n",
    "# For caluclating slope we are using \"Co-varience\""
   ]
  },
  {
   "cell_type": "code",
   "execution_count": 16,
   "metadata": {},
   "outputs": [
    {
     "data": {
      "text/html": [
       "<div>\n",
       "<style scoped>\n",
       "    .dataframe tbody tr th:only-of-type {\n",
       "        vertical-align: middle;\n",
       "    }\n",
       "\n",
       "    .dataframe tbody tr th {\n",
       "        vertical-align: top;\n",
       "    }\n",
       "\n",
       "    .dataframe thead th {\n",
       "        text-align: right;\n",
       "    }\n",
       "</style>\n",
       "<table border=\"1\" class=\"dataframe\">\n",
       "  <thead>\n",
       "    <tr style=\"text-align: right;\">\n",
       "      <th></th>\n",
       "      <th>height</th>\n",
       "      <th>weight</th>\n",
       "    </tr>\n",
       "  </thead>\n",
       "  <tbody>\n",
       "    <tr>\n",
       "      <th>height</th>\n",
       "      <td>141.790476</td>\n",
       "      <td>114.571429</td>\n",
       "    </tr>\n",
       "    <tr>\n",
       "      <th>weight</th>\n",
       "      <td>114.571429</td>\n",
       "      <td>98.622286</td>\n",
       "    </tr>\n",
       "  </tbody>\n",
       "</table>\n",
       "</div>"
      ],
      "text/plain": [
       "            height      weight\n",
       "height  141.790476  114.571429\n",
       "weight  114.571429   98.622286"
      ]
     },
     "execution_count": 16,
     "metadata": {},
     "output_type": "execute_result"
    }
   ],
   "source": [
    "data_sample.cov()"
   ]
  },
  {
   "cell_type": "code",
   "execution_count": 24,
   "metadata": {},
   "outputs": [
    {
     "data": {
      "text/plain": [
       "0.8080333154218162"
      ]
     },
     "execution_count": 24,
     "metadata": {},
     "output_type": "execute_result"
    }
   ],
   "source": [
    "# slope = Beta(m)\n",
    "weight_mean = np.mean(data_sample[\"weight\"])\n",
    "height_mean = np.mean(data_sample[\"height\"])\n",
    "\n",
    "# Beta(m) = Covariance of height and weight/varience of my heigth sample\n",
    "# slope = m = Beta = lm_beta \n",
    "\n",
    "lm_beta = np.cov(data_sample.height, data_sample.weight)[0, 1] / (np.std(data_sample.height, ddof = 1)**2)\n",
    "lm_beta \n",
    "\n",
    "# No need to remeber these formulas\n",
    "# we can calculate with simple library when we are working on real problems"
   ]
  },
  {
   "cell_type": "code",
   "execution_count": 22,
   "metadata": {},
   "outputs": [
    {
     "ename": "AttributeError",
     "evalue": "module 'numpy' has no attribute 'con'",
     "output_type": "error",
     "traceback": [
      "\u001b[1;31m---------------------------------------------------------------------------\u001b[0m",
      "\u001b[1;31mAttributeError\u001b[0m                            Traceback (most recent call last)",
      "Cell \u001b[1;32mIn[22], line 1\u001b[0m\n\u001b[1;32m----> 1\u001b[0m \u001b[43mnp\u001b[49m\u001b[38;5;241;43m.\u001b[39;49m\u001b[43mcon\u001b[49m(data_sample\u001b[38;5;241m.\u001b[39mheight, data_sample\u001b[38;5;241m.\u001b[39mweight)[\u001b[38;5;241m0\u001b[39m,\u001b[38;5;241m1\u001b[39m]\n",
      "File \u001b[1;32mc:\\Users\\HP\\AppData\\Local\\Programs\\Python\\Python310\\lib\\site-packages\\numpy\\__init__.py:347\u001b[0m, in \u001b[0;36m__getattr__\u001b[1;34m(attr)\u001b[0m\n\u001b[0;32m    344\u001b[0m     \u001b[38;5;124m\"\u001b[39m\u001b[38;5;124mRemoved in NumPy 1.25.0\u001b[39m\u001b[38;5;124m\"\u001b[39m\n\u001b[0;32m    345\u001b[0m     \u001b[38;5;28;01mraise\u001b[39;00m \u001b[38;5;167;01mRuntimeError\u001b[39;00m(\u001b[38;5;124m\"\u001b[39m\u001b[38;5;124mTester was removed in NumPy 1.25.\u001b[39m\u001b[38;5;124m\"\u001b[39m)\n\u001b[1;32m--> 347\u001b[0m \u001b[38;5;28;01mraise\u001b[39;00m \u001b[38;5;167;01mAttributeError\u001b[39;00m(\u001b[38;5;124m\"\u001b[39m\u001b[38;5;124mmodule \u001b[39m\u001b[38;5;132;01m{!r}\u001b[39;00m\u001b[38;5;124m has no attribute \u001b[39m\u001b[38;5;124m\"\u001b[39m\n\u001b[0;32m    348\u001b[0m                      \u001b[38;5;124m\"\u001b[39m\u001b[38;5;132;01m{!r}\u001b[39;00m\u001b[38;5;124m\"\u001b[39m\u001b[38;5;241m.\u001b[39mformat(\u001b[38;5;18m__name__\u001b[39m, attr))\n",
      "\u001b[1;31mAttributeError\u001b[0m: module 'numpy' has no attribute 'con'"
     ]
    }
   ],
   "source": [
    "np.con(data_sample.height, data_sample.weight)[0,1]"
   ]
  },
  {
   "cell_type": "code",
   "execution_count": 25,
   "metadata": {},
   "outputs": [
    {
     "data": {
      "text/plain": [
       "-65.264938205266"
      ]
     },
     "execution_count": 25,
     "metadata": {},
     "output_type": "execute_result"
    }
   ],
   "source": [
    "# As of now we known \"y,m\" values. So we have to calculate \"c\"\n",
    "# y=weight_mean\n",
    "# m=lm_beta\n",
    "# y=mx+c\n",
    "\n",
    "# C=y-mx\n",
    "lm_alpha = weight_mean - lm_beta * height_mean\n",
    "lm_alpha"
   ]
  },
  {
   "cell_type": "code",
   "execution_count": 26,
   "metadata": {},
   "outputs": [
    {
     "data": {
      "text/plain": [
       "3942    128.477297\n",
       "4564    140.597797\n",
       "2285    152.718297\n",
       "431     152.718297\n",
       "4894    139.789764\n",
       "5023    148.678130\n",
       "6443    128.477297\n",
       "4042    133.325497\n",
       "5405    152.718297\n",
       "6475    152.718297\n",
       "197     139.789764\n",
       "7107    126.861231\n",
       "1644    129.285330\n",
       "4326    130.093364\n",
       "2955    141.405830\n",
       "6912    127.669264\n",
       "7596    130.093364\n",
       "5392    147.870097\n",
       "1296    130.093364\n",
       "5987    140.597797\n",
       "3971    146.254030\n",
       "Name: height, dtype: float64"
      ]
     },
     "execution_count": 26,
     "metadata": {},
     "output_type": "execute_result"
    }
   ],
   "source": [
    "# linear model would be \n",
    "# mx+c\n",
    "lm_beta * data_sample['height']+lm_beta"
   ]
  },
  {
   "cell_type": "code",
   "execution_count": 29,
   "metadata": {},
   "outputs": [
    {
     "data": {
      "text/plain": [
       "3942    60.4\n",
       "4564    74.2\n",
       "2285    86.6\n",
       "431     88.2\n",
       "4894    74.2\n",
       "5023    83.8\n",
       "6443    61.4\n",
       "4042    64.2\n",
       "5405    85.2\n",
       "6475    86.6\n",
       "197     69.4\n",
       "7107    66.7\n",
       "1644    65.4\n",
       "4326    65.6\n",
       "2955    75.0\n",
       "6912    62.5\n",
       "7596    59.1\n",
       "5392    85.3\n",
       "1296    64.8\n",
       "5987    75.0\n",
       "3971    79.1\n",
       "Name: weight, dtype: float64"
      ]
     },
     "execution_count": 29,
     "metadata": {},
     "output_type": "execute_result"
    }
   ],
   "source": [
    "data_sample['weight']"
   ]
  },
  {
   "cell_type": "code",
   "execution_count": 28,
   "metadata": {},
   "outputs": [
    {
     "name": "stdout",
     "output_type": "stream",
     "text": [
      "3942    62.404326\n",
      "4564    74.524825\n",
      "2285    86.645325\n",
      "431     86.645325\n",
      "4894    73.716792\n",
      "5023    82.605159\n",
      "6443    62.404326\n",
      "4042    67.252526\n",
      "5405    86.645325\n",
      "6475    86.645325\n",
      "197     73.716792\n",
      "7107    60.788259\n",
      "1644    63.212359\n",
      "4326    64.020392\n",
      "2955    75.332859\n",
      "6912    61.596292\n",
      "7596    64.020392\n",
      "5392    81.797125\n",
      "1296    64.020392\n",
      "5987    74.524825\n",
      "3971    80.181059\n",
      "Name: height, dtype: float64\n"
     ]
    },
    {
     "data": {
      "text/plain": [
       "120.89508866200948"
      ]
     },
     "execution_count": 28,
     "metadata": {},
     "output_type": "execute_result"
    }
   ],
   "source": [
    "# now go and calculate my \"y_hat\"\n",
    "\n",
    "y_hat = lm_alpha + data_sample[\"height\"] * lm_beta \n",
    "print(y_hat)\n",
    "SSE = np.sum((data_sample[\"weight\"] - y_hat) ** 2)\n",
    "\n",
    "SSE"
   ]
  },
  {
   "cell_type": "code",
   "execution_count": 33,
   "metadata": {},
   "outputs": [
    {
     "data": {
      "text/plain": [
       "2.5224788211724705"
      ]
     },
     "execution_count": 33,
     "metadata": {},
     "output_type": "execute_result"
    }
   ],
   "source": [
    "# we have to calculate the error\n",
    "# we use sqrt of SSE\n",
    "\n",
    "se = np.sqrt(SSE / (n - 2))\n",
    "se"
   ]
  },
  {
   "cell_type": "code",
   "execution_count": 34,
   "metadata": {},
   "outputs": [
    {
     "data": {
      "text/plain": [
       "17.058477500461063"
      ]
     },
     "execution_count": 34,
     "metadata": {},
     "output_type": "execute_result"
    }
   ],
   "source": [
    "# now calculate \"t_value\"\n",
    "t_value = lm_beta / (se / np.sqrt(np.sum((data_sample[\"height\"] - height_mean)**2)))\n",
    "t_value # this is t statistic value"
   ]
  },
  {
   "cell_type": "code",
   "execution_count": 37,
   "metadata": {},
   "outputs": [],
   "source": [
    "# dof=degree of freedom\n",
    "# n=no. of samples(21)\n",
    "#n-2= 21-2= 19\n",
    "dof = n-2"
   ]
  },
  {
   "cell_type": "code",
   "execution_count": 38,
   "metadata": {},
   "outputs": [
    {
     "data": {
      "text/plain": [
       "5.617848964432106e-13"
      ]
     },
     "execution_count": 38,
     "metadata": {},
     "output_type": "execute_result"
    }
   ],
   "source": [
    "# once i have 't-value' then i have to calculate 'p-value'\n",
    "# we use \"stats.t.cdf\" library\n",
    "p_value_lower = stats.t.cdf(-np.abs(t_value), dof)\n",
    "p_value_upper = 1 - stats.t.cdf(t_value, dof)\n",
    "p_value = p_value_lower + p_value_upper\n",
    "p_value"
   ]
  },
  {
   "cell_type": "markdown",
   "metadata": {},
   "source": [
    "*p* = 5.61784 X $10^{-13}$"
   ]
  },
  {
   "cell_type": "markdown",
   "metadata": {},
   "source": [
    "- as the value of p is less than 0.05, there is statistical evidence that the height and weight are related and height can be used as an attribute to predict weight.\n",
    "- in other words we can say that the means of weight and height are within 95% confidence interval."
   ]
  },
  {
   "cell_type": "markdown",
   "metadata": {},
   "source": []
  }
 ],
 "metadata": {
  "kernelspec": {
   "display_name": "Python 3",
   "language": "python",
   "name": "python3"
  },
  "language_info": {
   "codemirror_mode": {
    "name": "ipython",
    "version": 3
   },
   "file_extension": ".py",
   "mimetype": "text/x-python",
   "name": "python",
   "nbconvert_exporter": "python",
   "pygments_lexer": "ipython3",
   "version": "3.10.5"
  }
 },
 "nbformat": 4,
 "nbformat_minor": 2
}
