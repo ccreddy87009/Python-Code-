{
 "cells": [
  {
   "cell_type": "markdown",
   "metadata": {},
   "source": [
    "## [B] User Defined Functions\n",
    "### Syntax: \n",
    "##### [a] def fn_name(): \n",
    "- It is \"body of function\"\n",
    "- def: defenation\n",
    "- \"def\" followed by \"function name()\"\n",
    "##### [b] print():\n",
    "- In that \"body of function\" u can use any set of comments like \"print\"\n",
    "##### [c] return: \n",
    "- If u want some thing from the function u should always use the \"return\" statement\n",
    "- You may or may not have \"return\" statement\n",
    "\n",
    "## Types of functions:\n",
    "- [1] Function with \"no argument\"\n",
    "- [2] Function created with \n",
    "    - \"1 postional argument\"\n",
    "    - \"2 postional arguments\""
   ]
  },
  {
   "cell_type": "markdown",
   "metadata": {},
   "source": [
    "## [1] Function with \"no argument\":"
   ]
  },
  {
   "cell_type": "code",
   "execution_count": 1,
   "metadata": {},
   "outputs": [
    {
     "name": "stdout",
     "output_type": "stream",
     "text": [
      "Hello, this is my first function\n"
     ]
    }
   ],
   "source": [
    "def introduction():\n",
    "    print(\"Hello, this is my first function\")\n",
    "introduction()"
   ]
  },
  {
   "cell_type": "code",
   "execution_count": 18,
   "metadata": {},
   "outputs": [],
   "source": [
    "# It won't execute because \"we have create a function\" but \"we didnot call the function\"\n",
    "def fn_name():                     \n",
    "    print(\"hello\")   "
   ]
  },
  {
   "cell_type": "code",
   "execution_count": 19,
   "metadata": {},
   "outputs": [
    {
     "name": "stdout",
     "output_type": "stream",
     "text": [
      "hello\n"
     ]
    }
   ],
   "source": [
    "# Function reated \"without argument\"\n",
    "def fn_name():                     # body of function\n",
    "    print(\"hello\")                 \n",
    "    return                         # return statement [Optional]\n",
    "fn_name()                          # Function calling"
   ]
  },
  {
   "cell_type": "markdown",
   "metadata": {},
   "source": [
    "## [2] Function created with \n",
    "### [A] \"1 postional argument\""
   ]
  },
  {
   "cell_type": "code",
   "execution_count": 20,
   "metadata": {},
   "outputs": [
    {
     "ename": "TypeError",
     "evalue": "fn_name_new() missing 1 required positional argument: 'name'",
     "output_type": "error",
     "traceback": [
      "\u001b[1;31m---------------------------------------------------------------------------\u001b[0m",
      "\u001b[1;31mTypeError\u001b[0m                                 Traceback (most recent call last)",
      "Cell \u001b[1;32mIn[20], line 3\u001b[0m\n\u001b[0;32m      1\u001b[0m \u001b[38;5;28;01mdef\u001b[39;00m \u001b[38;5;21mfn_name_new\u001b[39m(name):\n\u001b[0;32m      2\u001b[0m     \u001b[38;5;28mprint\u001b[39m(\u001b[38;5;124mf\u001b[39m\u001b[38;5;124m\"\u001b[39m\u001b[38;5;124mHello \u001b[39m\u001b[38;5;132;01m{\u001b[39;00mname\u001b[38;5;132;01m}\u001b[39;00m\u001b[38;5;124m\"\u001b[39m)\n\u001b[1;32m----> 3\u001b[0m \u001b[43mfn_name_new\u001b[49m\u001b[43m(\u001b[49m\u001b[43m)\u001b[49m                  \u001b[38;5;66;03m# but here we are not providing any \"postional argument\" in 'function calling' so it will through \"error\"\u001b[39;00m\n",
      "\u001b[1;31mTypeError\u001b[0m: fn_name_new() missing 1 required positional argument: 'name'"
     ]
    }
   ],
   "source": [
    "def fn_name_new(name):\n",
    "    print(f\"Hello {name}\")\n",
    "fn_name_new()                  # but here we are not providing any \"postional argument\" in 'function calling' so it will through \"error\""
   ]
  },
  {
   "cell_type": "code",
   "execution_count": 21,
   "metadata": {},
   "outputs": [
    {
     "name": "stdout",
     "output_type": "stream",
     "text": [
      "Hello Sanjeev\n"
     ]
    }
   ],
   "source": [
    "# \"Body of the function\" with \"1 positional argument\"\n",
    "# \"Function calling\" with \"1 positional argument\"\n",
    "# So no \"error\" will occured\n",
    "\n",
    "def fn_name_new(name):\n",
    "    print(f\"Hello {name}\")\n",
    "fn_name_new('Sanjeev')"
   ]
  },
  {
   "cell_type": "code",
   "execution_count": 22,
   "metadata": {},
   "outputs": [
    {
     "ename": "NameError",
     "evalue": "name 'name' is not defined",
     "output_type": "error",
     "traceback": [
      "\u001b[1;31m---------------------------------------------------------------------------\u001b[0m",
      "\u001b[1;31mNameError\u001b[0m                                 Traceback (most recent call last)",
      "Cell \u001b[1;32mIn[22], line 3\u001b[0m\n\u001b[0;32m      1\u001b[0m \u001b[38;5;66;03m# The scope of the \"argument/variable\" is only within the function.\u001b[39;00m\n\u001b[0;32m      2\u001b[0m \u001b[38;5;66;03m# i cannot access the varibale outside the function\u001b[39;00m\n\u001b[1;32m----> 3\u001b[0m \u001b[43mname\u001b[49m\n",
      "\u001b[1;31mNameError\u001b[0m: name 'name' is not defined"
     ]
    }
   ],
   "source": [
    "# The scope of the \"argument/variable\" is only within the function.\n",
    "# i cannot access the varibale outside the function\n",
    "name"
   ]
  },
  {
   "cell_type": "markdown",
   "metadata": {},
   "source": [
    "#### If u want to declare the \"variable\" outside the function, u have to declare it \"globally\".\n",
    "- [Q] How can we declare it?\n",
    "    - Ans: There are 2 ways available\n",
    "        - [1] U can declare the variable \"globally\"\n",
    "        - [2] To \"return\" from the function"
   ]
  },
  {
   "cell_type": "markdown",
   "metadata": {},
   "source": [
    "##### [1] U can declare the variable \"globally\""
   ]
  },
  {
   "cell_type": "code",
   "execution_count": 29,
   "metadata": {},
   "outputs": [
    {
     "name": "stdout",
     "output_type": "stream",
     "text": [
      "Hello Chandra\n"
     ]
    },
    {
     "data": {
      "text/plain": [
       "'Chandra'"
      ]
     },
     "execution_count": 29,
     "metadata": {},
     "output_type": "execute_result"
    }
   ],
   "source": [
    "nm = 'Chandra'\n",
    "fn_name_new(nm)"
   ]
  },
  {
   "cell_type": "markdown",
   "metadata": {},
   "source": [
    "##### [2] To \"return\" from the function"
   ]
  },
  {
   "cell_type": "code",
   "execution_count": 4,
   "metadata": {},
   "outputs": [
    {
     "name": "stdout",
     "output_type": "stream",
     "text": [
      "Hello chandra\n"
     ]
    },
    {
     "data": {
      "text/plain": [
       "'chandra'"
      ]
     },
     "execution_count": 4,
     "metadata": {},
     "output_type": "execute_result"
    }
   ],
   "source": [
    "nm='chandra'\n",
    "def fn_name_new(name):\n",
    "    print(f\"Hello {name}\")\n",
    "    return name\n",
    "fn_name_new(nm)"
   ]
  },
  {
   "cell_type": "markdown",
   "metadata": {},
   "source": [
    "# [or]"
   ]
  },
  {
   "cell_type": "code",
   "execution_count": 5,
   "metadata": {},
   "outputs": [
    {
     "name": "stdout",
     "output_type": "stream",
     "text": [
      "Hello chandra\n"
     ]
    },
    {
     "data": {
      "text/plain": [
       "'chandra'"
      ]
     },
     "execution_count": 5,
     "metadata": {},
     "output_type": "execute_result"
    }
   ],
   "source": [
    "nm='chandra'\n",
    "def fn_name_new(name):\n",
    "    print(f\"Hello {name}\")\n",
    "    return name\n",
    "called_name=fn_name_new(nm)\n",
    "called_name"
   ]
  },
  {
   "cell_type": "code",
   "execution_count": 28,
   "metadata": {},
   "outputs": [
    {
     "name": "stdout",
     "output_type": "stream",
     "text": [
      "Hello chandra\n"
     ]
    },
    {
     "data": {
      "text/plain": [
       "'chandra'"
      ]
     },
     "execution_count": 28,
     "metadata": {},
     "output_type": "execute_result"
    }
   ],
   "source": [
    "nm2 = fn_name_new(nm)\n",
    "nm2"
   ]
  },
  {
   "cell_type": "markdown",
   "metadata": {},
   "source": [
    "## [2] Function created with \n",
    "### [B] \"2 postional arguments\""
   ]
  },
  {
   "cell_type": "code",
   "execution_count": null,
   "metadata": {},
   "outputs": [],
   "source": [
    "def function1(firstname, lastname):\n",
    "    print(f\"First Name: {firstname}\")\n",
    "    print(f\"Last Name: {lastname}\")\n",
    "    # function1(\"Abhijit\") # TypeError: function1() missing 1 required positional argument:'lastname'\n",
    "\n",
    "function1(\"Abhijit\", \"Paul\")"
   ]
  },
  {
   "cell_type": "markdown",
   "metadata": {},
   "source": [
    "# [or] "
   ]
  },
  {
   "cell_type": "code",
   "execution_count": 7,
   "metadata": {},
   "outputs": [
    {
     "name": "stdout",
     "output_type": "stream",
     "text": [
      "First Name: Abhijit\n",
      "Last Name: Paul\n"
     ]
    },
    {
     "data": {
      "text/plain": [
       "('Abhijit', 'Paul')"
      ]
     },
     "execution_count": 7,
     "metadata": {},
     "output_type": "execute_result"
    }
   ],
   "source": [
    "def function1(firstname, lastname):\n",
    "    print(f\"First Name: {firstname}\")\n",
    "    print(f\"Last Name: {lastname}\")\n",
    "    # function1(\"Abhijit\") # TypeError: function1() missing 1 required positional argument:'lastname'\n",
    "    return firstname, lastname\n",
    "function1(\"Abhijit\", \"Paul\")"
   ]
  },
  {
   "cell_type": "markdown",
   "metadata": {},
   "source": [
    "### Without calling the function u didnot know what is the \"error\" inside a function.\n",
    "- Here intentionally i made a mistake that 'i am trying to add inter to string'\n",
    "- but it wonot display the error because we had not called the function"
   ]
  },
  {
   "cell_type": "code",
   "execution_count": 34,
   "metadata": {},
   "outputs": [],
   "source": [
    "def error_fn():\n",
    "    a = 1 + 'a'\n",
    "    return a                             # Defining function"
   ]
  },
  {
   "cell_type": "markdown",
   "metadata": {},
   "source": [
    "- Once called the function, u may able to see the 'error' inside the function."
   ]
  },
  {
   "cell_type": "code",
   "execution_count": 36,
   "metadata": {},
   "outputs": [
    {
     "ename": "TypeError",
     "evalue": "unsupported operand type(s) for +: 'int' and 'str'",
     "output_type": "error",
     "traceback": [
      "\u001b[1;31m---------------------------------------------------------------------------\u001b[0m",
      "\u001b[1;31mTypeError\u001b[0m                                 Traceback (most recent call last)",
      "Cell \u001b[1;32mIn[36], line 1\u001b[0m\n\u001b[1;32m----> 1\u001b[0m \u001b[43merror_fn\u001b[49m\u001b[43m(\u001b[49m\u001b[43m)\u001b[49m                              \u001b[38;5;66;03m# Calling function\u001b[39;00m\n",
      "Cell \u001b[1;32mIn[34], line 6\u001b[0m, in \u001b[0;36merror_fn\u001b[1;34m()\u001b[0m\n\u001b[0;32m      5\u001b[0m \u001b[38;5;28;01mdef\u001b[39;00m \u001b[38;5;21merror_fn\u001b[39m():\n\u001b[1;32m----> 6\u001b[0m     a \u001b[38;5;241m=\u001b[39m \u001b[38;5;241;43m1\u001b[39;49m\u001b[43m \u001b[49m\u001b[38;5;241;43m+\u001b[39;49m\u001b[43m \u001b[49m\u001b[38;5;124;43m'\u001b[39;49m\u001b[38;5;124;43ma\u001b[39;49m\u001b[38;5;124;43m'\u001b[39;49m\n\u001b[0;32m      7\u001b[0m     \u001b[38;5;28;01mreturn\u001b[39;00m a\n",
      "\u001b[1;31mTypeError\u001b[0m: unsupported operand type(s) for +: 'int' and 'str'"
     ]
    }
   ],
   "source": [
    "error_fn()                              # Calling function"
   ]
  },
  {
   "cell_type": "markdown",
   "metadata": {},
   "source": [
    "# Arguments:\n",
    "\n",
    "### [A] Fixed length Arguments\n",
    "- [1] Positional Arguments\n",
    "- [2] Key word Arguments / Default arguments\n",
    "\n",
    "### [B] Variable length arguments [Not fixed Arguments]\n",
    "- [3] Wildcard [*args]\n",
    "- [4] Wildcard [**Kwargs]"
   ]
  },
  {
   "cell_type": "markdown",
   "metadata": {},
   "source": [
    "## [1] Positional arguments:-\n",
    "- \"Positional arguments\" are the ones which the function takes as input.\n",
    "- \"Order of positional arguments\" is same as the \"input\".\n",
    "- Here \"Positional arguments\" = \"x, y, z\"\n",
    "- There are so many ways to use it.\n",
    "##### [A] General way:"
   ]
  },
  {
   "cell_type": "code",
   "execution_count": 130,
   "metadata": {},
   "outputs": [
    {
     "data": {
      "text/plain": [
       "6"
      ]
     },
     "execution_count": 130,
     "metadata": {},
     "output_type": "execute_result"
    }
   ],
   "source": [
    "def add_three_nums(x, y, z):\n",
    "    return x+y+z\n",
    "\n",
    "add_three_nums(1,2,3)"
   ]
  },
  {
   "cell_type": "markdown",
   "metadata": {},
   "source": [
    "### or\n",
    "#### [B] By using \"sum\" function:"
   ]
  },
  {
   "cell_type": "code",
   "execution_count": 48,
   "metadata": {},
   "outputs": [
    {
     "data": {
      "text/plain": [
       "3"
      ]
     },
     "execution_count": 48,
     "metadata": {},
     "output_type": "execute_result"
    }
   ],
   "source": [
    "def add_three_nums(x, y, z):\n",
    "    return sum([x, y, z])\n",
    "\n",
    "add_three_nums(1,1,1)"
   ]
  },
  {
   "cell_type": "markdown",
   "metadata": {},
   "source": [
    "### or\n",
    "#### [C] By declaring a variable (total):"
   ]
  },
  {
   "cell_type": "code",
   "execution_count": 47,
   "metadata": {},
   "outputs": [
    {
     "data": {
      "text/plain": [
       "3"
      ]
     },
     "execution_count": 47,
     "metadata": {},
     "output_type": "execute_result"
    }
   ],
   "source": [
    "def add_three_nums(x, y, z):\n",
    "    total = x+y+z\n",
    "    return total\n",
    "\n",
    "add_three_nums(1,1,1)"
   ]
  },
  {
   "cell_type": "markdown",
   "metadata": {},
   "source": [
    "- When u have \"multiple return statements\" then first return statement only will be executed and rest of the return statements are not executed.\n",
    "- That means the balance return part of the code will not executed."
   ]
  },
  {
   "cell_type": "code",
   "execution_count": 49,
   "metadata": {},
   "outputs": [],
   "source": [
    "def add_three_nums(x, y, z):\n",
    "    return sum ([x, y, z])\n",
    "    total = x+y+z\n",
    "    return total"
   ]
  },
  {
   "cell_type": "markdown",
   "metadata": {},
   "source": [
    "#### It is always better not to use \"print\" inside a function.\n",
    "- Intial phase of python learning time it is ok, but try to avoid to use 'print' inside of 'function'.\n",
    "- But it is good to have those \"prints\" which are meaning full for our understnding."
   ]
  },
  {
   "cell_type": "code",
   "execution_count": 54,
   "metadata": {},
   "outputs": [
    {
     "name": "stdout",
     "output_type": "stream",
     "text": [
      "Values of variable\n",
      " x:2 y:2 z:2 \n"
     ]
    },
    {
     "data": {
      "text/plain": [
       "6"
      ]
     },
     "execution_count": 54,
     "metadata": {},
     "output_type": "execute_result"
    }
   ],
   "source": [
    "def add_three_nums(x, y, z):\n",
    "    \"\"\" Takes 3 int/float values and returns their sum \"\"\"\n",
    "    print(f\"Values of variable\\n x:{x} y:{y} z:{z} \")\n",
    "    total = x+y+z\n",
    "    return total\n",
    "\n",
    "add_three_nums(2,2,2)"
   ]
  },
  {
   "cell_type": "code",
   "execution_count": 55,
   "metadata": {},
   "outputs": [
    {
     "data": {
      "text/plain": [
       "' Takes 3 int/float values and returns their sum '"
      ]
     },
     "execution_count": 55,
     "metadata": {},
     "output_type": "execute_result"
    }
   ],
   "source": [
    "add_three_nums.__doc__"
   ]
  },
  {
   "cell_type": "code",
   "execution_count": 56,
   "metadata": {},
   "outputs": [
    {
     "name": "stdout",
     "output_type": "stream",
     "text": [
      "Values of variable\n",
      " x:1 y:5 z:10 \n"
     ]
    },
    {
     "data": {
      "text/plain": [
       "16"
      ]
     },
     "execution_count": 56,
     "metadata": {},
     "output_type": "execute_result"
    }
   ],
   "source": [
    "add_three_nums(1, 5, 10)"
   ]
  },
  {
   "cell_type": "markdown",
   "metadata": {},
   "source": [
    "- I shuffled the above arguments then what happened means\n",
    "- Make sure that the \"order\" is important\n",
    "- Order for 'variables' is important here\n",
    "- If u change the order of variables means it will through \"error\"\n",
    "    - Ex: (x+y)^z ----In this case order is very important"
   ]
  },
  {
   "cell_type": "code",
   "execution_count": 59,
   "metadata": {},
   "outputs": [
    {
     "name": "stdout",
     "output_type": "stream",
     "text": [
      "Values of variable\n",
      " x:10 y:5 z:1 \n"
     ]
    },
    {
     "data": {
      "text/plain": [
       "16"
      ]
     },
     "execution_count": 59,
     "metadata": {},
     "output_type": "execute_result"
    }
   ],
   "source": [
    "add_three_nums(10, 5, 1)"
   ]
  },
  {
   "cell_type": "markdown",
   "metadata": {},
   "source": [
    "- I donot want to maintain the \"order\", but i want to assign it to proper values means\n",
    "- \"Variables\" can give in \"Jumbled manner\" also"
   ]
  },
  {
   "cell_type": "code",
   "execution_count": 62,
   "metadata": {},
   "outputs": [
    {
     "name": "stdout",
     "output_type": "stream",
     "text": [
      "Values of variable\n",
      " x:1 y:5 z:10 \n"
     ]
    },
    {
     "data": {
      "text/plain": [
       "16"
      ]
     },
     "execution_count": 62,
     "metadata": {},
     "output_type": "execute_result"
    }
   ],
   "source": [
    "add_three_nums(z=10, y=5, x=1)"
   ]
  },
  {
   "cell_type": "markdown",
   "metadata": {},
   "source": [
    "### Types of \"Errors\" occured here is:\n",
    "- TypeError: add_three_nums() got an unexpected keyword argument 'c'\n",
    "- TypeError: unsupported operand type(s) for +: 'int' and 'str'\n",
    "- TypeError: add_three_nums() missing 1 required positional argument: 'z'\n",
    "- TypeError: add_three_nums() takes 3 positional arguments but 4 were given"
   ]
  },
  {
   "cell_type": "code",
   "execution_count": 63,
   "metadata": {},
   "outputs": [
    {
     "ename": "TypeError",
     "evalue": "add_three_nums() got an unexpected keyword argument 'c'",
     "output_type": "error",
     "traceback": [
      "\u001b[1;31m---------------------------------------------------------------------------\u001b[0m",
      "\u001b[1;31mTypeError\u001b[0m                                 Traceback (most recent call last)",
      "Cell \u001b[1;32mIn[63], line 1\u001b[0m\n\u001b[1;32m----> 1\u001b[0m \u001b[43madd_three_nums\u001b[49m\u001b[43m(\u001b[49m\u001b[43mc\u001b[49m\u001b[38;5;241;43m=\u001b[39;49m\u001b[38;5;241;43m10\u001b[39;49m\u001b[43m,\u001b[49m\u001b[43m \u001b[49m\u001b[43mb\u001b[49m\u001b[38;5;241;43m=\u001b[39;49m\u001b[38;5;241;43m5\u001b[39;49m\u001b[43m,\u001b[49m\u001b[43m \u001b[49m\u001b[43ma\u001b[49m\u001b[38;5;241;43m=\u001b[39;49m\u001b[38;5;241;43m1\u001b[39;49m\u001b[43m)\u001b[49m\n",
      "\u001b[1;31mTypeError\u001b[0m: add_three_nums() got an unexpected keyword argument 'c'"
     ]
    }
   ],
   "source": [
    "add_three_nums(c=10, b=5, a=1)"
   ]
  },
  {
   "cell_type": "code",
   "execution_count": 64,
   "metadata": {},
   "outputs": [
    {
     "name": "stdout",
     "output_type": "stream",
     "text": [
      "Values of variable\n",
      " x:1 y:5 z:10 \n"
     ]
    },
    {
     "ename": "TypeError",
     "evalue": "unsupported operand type(s) for +: 'int' and 'str'",
     "output_type": "error",
     "traceback": [
      "\u001b[1;31m---------------------------------------------------------------------------\u001b[0m",
      "\u001b[1;31mTypeError\u001b[0m                                 Traceback (most recent call last)",
      "Cell \u001b[1;32mIn[64], line 2\u001b[0m\n\u001b[0;32m      1\u001b[0m \u001b[38;5;66;03m# Adding \"int\" + \"str\" is not possible. It will through \"error\"\u001b[39;00m\n\u001b[1;32m----> 2\u001b[0m \u001b[43madd_three_nums\u001b[49m\u001b[43m(\u001b[49m\u001b[38;5;241;43m1\u001b[39;49m\u001b[43m,\u001b[49m\u001b[43m \u001b[49m\u001b[38;5;241;43m5\u001b[39;49m\u001b[43m,\u001b[49m\u001b[43m \u001b[49m\u001b[38;5;124;43m'\u001b[39;49m\u001b[38;5;124;43m10\u001b[39;49m\u001b[38;5;124;43m'\u001b[39;49m\u001b[43m)\u001b[49m\n",
      "Cell \u001b[1;32mIn[54], line 4\u001b[0m, in \u001b[0;36madd_three_nums\u001b[1;34m(x, y, z)\u001b[0m\n\u001b[0;32m      2\u001b[0m \u001b[38;5;250m\u001b[39m\u001b[38;5;124;03m\"\"\" Takes 3 int/float values and returns their sum \"\"\"\u001b[39;00m\n\u001b[0;32m      3\u001b[0m \u001b[38;5;28mprint\u001b[39m(\u001b[38;5;124mf\u001b[39m\u001b[38;5;124m\"\u001b[39m\u001b[38;5;124mValues of variable\u001b[39m\u001b[38;5;130;01m\\n\u001b[39;00m\u001b[38;5;124m x:\u001b[39m\u001b[38;5;132;01m{\u001b[39;00mx\u001b[38;5;132;01m}\u001b[39;00m\u001b[38;5;124m y:\u001b[39m\u001b[38;5;132;01m{\u001b[39;00my\u001b[38;5;132;01m}\u001b[39;00m\u001b[38;5;124m z:\u001b[39m\u001b[38;5;132;01m{\u001b[39;00mz\u001b[38;5;132;01m}\u001b[39;00m\u001b[38;5;124m \u001b[39m\u001b[38;5;124m\"\u001b[39m)\n\u001b[1;32m----> 4\u001b[0m total \u001b[38;5;241m=\u001b[39m \u001b[43mx\u001b[49m\u001b[38;5;241;43m+\u001b[39;49m\u001b[43my\u001b[49m\u001b[38;5;241;43m+\u001b[39;49m\u001b[43mz\u001b[49m\n\u001b[0;32m      5\u001b[0m \u001b[38;5;28;01mreturn\u001b[39;00m total\n",
      "\u001b[1;31mTypeError\u001b[0m: unsupported operand type(s) for +: 'int' and 'str'"
     ]
    }
   ],
   "source": [
    "# Adding \"int\" + \"str\" is not possible. It will through \"error\"\n",
    "add_three_nums(1, 5, '10')"
   ]
  },
  {
   "cell_type": "code",
   "execution_count": 65,
   "metadata": {},
   "outputs": [
    {
     "ename": "TypeError",
     "evalue": "add_three_nums() missing 1 required positional argument: 'z'",
     "output_type": "error",
     "traceback": [
      "\u001b[1;31m---------------------------------------------------------------------------\u001b[0m",
      "\u001b[1;31mTypeError\u001b[0m                                 Traceback (most recent call last)",
      "Cell \u001b[1;32mIn[65], line 2\u001b[0m\n\u001b[0;32m      1\u001b[0m \u001b[38;5;66;03m# For less number of positional arguments also throughs \"error\"\u001b[39;00m\n\u001b[1;32m----> 2\u001b[0m \u001b[43madd_three_nums\u001b[49m\u001b[43m(\u001b[49m\u001b[38;5;241;43m1\u001b[39;49m\u001b[43m,\u001b[49m\u001b[43m \u001b[49m\u001b[38;5;241;43m5\u001b[39;49m\u001b[43m)\u001b[49m\n",
      "\u001b[1;31mTypeError\u001b[0m: add_three_nums() missing 1 required positional argument: 'z'"
     ]
    }
   ],
   "source": [
    "# For less number of positional arguments also throughs \"error\"\n",
    "add_three_nums(1, 5)"
   ]
  },
  {
   "cell_type": "code",
   "execution_count": 66,
   "metadata": {},
   "outputs": [
    {
     "ename": "TypeError",
     "evalue": "add_three_nums() takes 3 positional arguments but 4 were given",
     "output_type": "error",
     "traceback": [
      "\u001b[1;31m---------------------------------------------------------------------------\u001b[0m",
      "\u001b[1;31mTypeError\u001b[0m                                 Traceback (most recent call last)",
      "Cell \u001b[1;32mIn[66], line 3\u001b[0m\n\u001b[0;32m      1\u001b[0m \u001b[38;5;66;03m# More number of positional arguments also throughs \"error\"\u001b[39;00m\n\u001b[0;32m      2\u001b[0m \u001b[38;5;66;03m# Function is expecting \"3 positional variables\" but we passed \"4 positional variables\"\u001b[39;00m\n\u001b[1;32m----> 3\u001b[0m \u001b[43madd_three_nums\u001b[49m\u001b[43m(\u001b[49m\u001b[38;5;241;43m1\u001b[39;49m\u001b[43m,\u001b[49m\u001b[43m \u001b[49m\u001b[38;5;241;43m5\u001b[39;49m\u001b[43m,\u001b[49m\u001b[43m \u001b[49m\u001b[38;5;241;43m10\u001b[39;49m\u001b[43m,\u001b[49m\u001b[43m \u001b[49m\u001b[38;5;241;43m5\u001b[39;49m\u001b[43m)\u001b[49m\n",
      "\u001b[1;31mTypeError\u001b[0m: add_three_nums() takes 3 positional arguments but 4 were given"
     ]
    }
   ],
   "source": [
    "# More number of positional arguments also throughs \"error\"\n",
    "# Function is expecting \"3 positional variables\" but we passed \"4 positional variables\"\n",
    "add_three_nums(1, 5, 10, 5)"
   ]
  },
  {
   "cell_type": "markdown",
   "metadata": {},
   "source": [
    "## [2] keyword arguments:-\n",
    "- Keyword argument is of any value i,e \n",
    "    - z=0 or \n",
    "    - z=none or \n",
    "    - z=-5 or \n",
    "    - z=[] or \n",
    "    - z={} or \n",
    "    - z=any data type\n",
    "- Untill if i wonot get any value from the user, i am going to have a default value as '0' as mentioned above.\n",
    "\n",
    "- [Q] How u declare a default value means?\n",
    "- Ans: By taking z=0 \n",
    "\n",
    "- \"Positional arguments\" always comes first than \"keyword arguments\" like below.\n",
    "    - Ex: (x,y, z=0)\n",
    "- We cannot use \"keyword arguments\" followed by \"positional arguments\" while defining function.\n",
    "    - Ex: (x=0, y, z)"
   ]
  },
  {
   "cell_type": "code",
   "execution_count": 68,
   "metadata": {},
   "outputs": [
    {
     "name": "stdout",
     "output_type": "stream",
     "text": [
      "x:5 y:10 z:0\n"
     ]
    },
    {
     "data": {
      "text/plain": [
       "15"
      ]
     },
     "execution_count": 68,
     "metadata": {},
     "output_type": "execute_result"
    }
   ],
   "source": [
    "def add_three_nums_kw(x, y, z=0):\n",
    "    # return x+y+z\n",
    "    # return sum([x, y ,z])\n",
    "    print(f\"x:{x} y:{y} z:{z}\")\n",
    "    total = x+y+z\n",
    "    return total\n",
    "\n",
    "add_three_nums_kw(5, 10)"
   ]
  },
  {
   "cell_type": "markdown",
   "metadata": {},
   "source": [
    "#### Now instead of z=0, i am putting z=-5"
   ]
  },
  {
   "cell_type": "code",
   "execution_count": 69,
   "metadata": {},
   "outputs": [
    {
     "name": "stdout",
     "output_type": "stream",
     "text": [
      "x:5 y:10 z:-5\n"
     ]
    },
    {
     "data": {
      "text/plain": [
       "10"
      ]
     },
     "execution_count": 69,
     "metadata": {},
     "output_type": "execute_result"
    }
   ],
   "source": [
    "def add_three_nums_kw(x, y, z=-5):\n",
    "    # return x+y+z\n",
    "    # return sum([x, y ,z])\n",
    "    print(f\"x:{x} y:{y} z:{z}\")\n",
    "    total = x+y+z\n",
    "    return total\n",
    "\n",
    "add_three_nums_kw(5, 10)"
   ]
  },
  {
   "cell_type": "markdown",
   "metadata": {},
   "source": [
    "#### Now instead of z=-5, i am putting z=9"
   ]
  },
  {
   "cell_type": "code",
   "execution_count": 72,
   "metadata": {},
   "outputs": [
    {
     "name": "stdout",
     "output_type": "stream",
     "text": [
      "x:5 y:10 z:9\n"
     ]
    },
    {
     "data": {
      "text/plain": [
       "24"
      ]
     },
     "execution_count": 72,
     "metadata": {},
     "output_type": "execute_result"
    }
   ],
   "source": [
    "def add_three_nums_kw(x, y, z=-5):\n",
    "    # return x+y+z\n",
    "    # return sum([x, y ,z])\n",
    "    print(f\"x:{x} y:{y} z:{z}\")\n",
    "    total = x+y+z\n",
    "    return total\n",
    "\n",
    "add_three_nums_kw(5, 10, 9)"
   ]
  },
  {
   "cell_type": "markdown",
   "metadata": {},
   "source": [
    "#### [or]"
   ]
  },
  {
   "cell_type": "code",
   "execution_count": 73,
   "metadata": {},
   "outputs": [
    {
     "name": "stdout",
     "output_type": "stream",
     "text": [
      "x:10 y:5 z:9\n"
     ]
    },
    {
     "data": {
      "text/plain": [
       "24"
      ]
     },
     "execution_count": 73,
     "metadata": {},
     "output_type": "execute_result"
    }
   ],
   "source": [
    "add_three_nums_kw(10, 5, z=9)"
   ]
  },
  {
   "cell_type": "code",
   "execution_count": 74,
   "metadata": {},
   "outputs": [
    {
     "ename": "TypeError",
     "evalue": "add_three_nums_kw() missing 1 required positional argument: 'y'",
     "output_type": "error",
     "traceback": [
      "\u001b[1;31m---------------------------------------------------------------------------\u001b[0m",
      "\u001b[1;31mTypeError\u001b[0m                                 Traceback (most recent call last)",
      "Cell \u001b[1;32mIn[74], line 1\u001b[0m\n\u001b[1;32m----> 1\u001b[0m \u001b[43madd_three_nums_kw\u001b[49m\u001b[43m(\u001b[49m\u001b[38;5;241;43m5\u001b[39;49m\u001b[43m)\u001b[49m\n",
      "\u001b[1;31mTypeError\u001b[0m: add_three_nums_kw() missing 1 required positional argument: 'y'"
     ]
    }
   ],
   "source": [
    "add_three_nums_kw(5)"
   ]
  },
  {
   "cell_type": "code",
   "execution_count": 75,
   "metadata": {},
   "outputs": [
    {
     "name": "stdout",
     "output_type": "stream",
     "text": [
      "blah\n",
      "foo\n",
      "bar\n"
     ]
    },
    {
     "ename": "TypeError",
     "evalue": "add_three_nums_kw() missing 1 required positional argument: 'y'",
     "output_type": "error",
     "traceback": [
      "\u001b[1;31m---------------------------------------------------------------------------\u001b[0m",
      "\u001b[1;31mTypeError\u001b[0m                                 Traceback (most recent call last)",
      "Cell \u001b[1;32mIn[75], line 4\u001b[0m\n\u001b[0;32m      2\u001b[0m \u001b[38;5;28mprint\u001b[39m(\u001b[38;5;124m\"\u001b[39m\u001b[38;5;124mfoo\u001b[39m\u001b[38;5;124m\"\u001b[39m)\n\u001b[0;32m      3\u001b[0m \u001b[38;5;28mprint\u001b[39m(\u001b[38;5;124m\"\u001b[39m\u001b[38;5;124mbar\u001b[39m\u001b[38;5;124m\"\u001b[39m)\n\u001b[1;32m----> 4\u001b[0m \u001b[43madd_three_nums_kw\u001b[49m\u001b[43m(\u001b[49m\u001b[38;5;241;43m5\u001b[39;49m\u001b[43m)\u001b[49m\n",
      "\u001b[1;31mTypeError\u001b[0m: add_three_nums_kw() missing 1 required positional argument: 'y'"
     ]
    }
   ],
   "source": [
    "print(\"blah\")\n",
    "print(\"foo\")\n",
    "print(\"bar\")\n",
    "add_three_nums_kw(5)"
   ]
  },
  {
   "cell_type": "markdown",
   "metadata": {},
   "source": [
    "- If i want to see all are as \"keyword arguments\" then give x=0,y=0,z=0\n",
    "- \"Keyword arguments\" is of any value i,e \n",
    "    - z=0 or \n",
    "    - z=none or \n",
    "    - z=-5 or \n",
    "    - z=[] or \n",
    "    - z={} or \n",
    "    - z=any data type\n",
    "- NOTE:\n",
    "    - We are giving always x=0,y=0,z=0 because if u add anything to '0' then the value wonot change."
   ]
  },
  {
   "cell_type": "code",
   "execution_count": 78,
   "metadata": {},
   "outputs": [
    {
     "name": "stdout",
     "output_type": "stream",
     "text": [
      "x:0 y:0 z:0\n"
     ]
    },
    {
     "data": {
      "text/plain": [
       "0"
      ]
     },
     "execution_count": 78,
     "metadata": {},
     "output_type": "execute_result"
    }
   ],
   "source": [
    "def add_three_nums_kw_all(x=0, y=0, z=0):\n",
    "    # return x+y+z\n",
    "    # return sum([x, y ,z])\n",
    "    print(f\"x:{x} y:{y} z:{z}\")\n",
    "    total = x+y+z\n",
    "    return total\n",
    "\n",
    "add_three_nums_kw_all()"
   ]
  },
  {
   "cell_type": "markdown",
   "metadata": {},
   "source": [
    "#### Now instead of y=0, i am putting y=5"
   ]
  },
  {
   "cell_type": "code",
   "execution_count": 70,
   "metadata": {},
   "outputs": [
    {
     "name": "stdout",
     "output_type": "stream",
     "text": [
      "x:0 y:5 z:0\n"
     ]
    },
    {
     "data": {
      "text/plain": [
       "5"
      ]
     },
     "execution_count": 70,
     "metadata": {},
     "output_type": "execute_result"
    }
   ],
   "source": [
    "add_three_nums_kw_all(y=5)"
   ]
  },
  {
   "cell_type": "markdown",
   "metadata": {},
   "source": [
    "#### Now instead of z=0, i am putting z=6"
   ]
  },
  {
   "cell_type": "code",
   "execution_count": 81,
   "metadata": {},
   "outputs": [
    {
     "name": "stdout",
     "output_type": "stream",
     "text": [
      "x:0 y:0 z:6\n"
     ]
    },
    {
     "data": {
      "text/plain": [
       "6"
      ]
     },
     "execution_count": 81,
     "metadata": {},
     "output_type": "execute_result"
    }
   ],
   "source": [
    "add_three_nums_kw_all(z=6)"
   ]
  },
  {
   "cell_type": "markdown",
   "metadata": {},
   "source": [
    "#### If i give only one argument then it will default it as \"x=5\" only."
   ]
  },
  {
   "cell_type": "code",
   "execution_count": 83,
   "metadata": {},
   "outputs": [
    {
     "name": "stdout",
     "output_type": "stream",
     "text": [
      "x:5 y:0 z:0\n"
     ]
    },
    {
     "data": {
      "text/plain": [
       "5"
      ]
     },
     "execution_count": 83,
     "metadata": {},
     "output_type": "execute_result"
    }
   ],
   "source": [
    "add_three_nums_kw_all(5)"
   ]
  },
  {
   "cell_type": "code",
   "execution_count": 84,
   "metadata": {},
   "outputs": [
    {
     "name": "stdout",
     "output_type": "stream",
     "text": [
      "x:10 y:-10 z:5\n"
     ]
    },
    {
     "data": {
      "text/plain": [
       "5"
      ]
     },
     "execution_count": 84,
     "metadata": {},
     "output_type": "execute_result"
    }
   ],
   "source": [
    "add_three_nums_kw_all(z=5, x = 10, y=-10)"
   ]
  },
  {
   "cell_type": "code",
   "execution_count": 85,
   "metadata": {},
   "outputs": [],
   "source": [
    "add_three_nums_kw_all.__doc__"
   ]
  },
  {
   "cell_type": "code",
   "execution_count": 86,
   "metadata": {},
   "outputs": [
    {
     "ename": "NameError",
     "evalue": "name 'x' is not defined",
     "output_type": "error",
     "traceback": [
      "\u001b[1;31m---------------------------------------------------------------------------\u001b[0m",
      "\u001b[1;31mNameError\u001b[0m                                 Traceback (most recent call last)",
      "Cell \u001b[1;32mIn[86], line 3\u001b[0m\n\u001b[0;32m      1\u001b[0m \u001b[38;5;66;03m# The variables which are declared within the functions are accessed only within functions.\u001b[39;00m\n\u001b[1;32m----> 3\u001b[0m \u001b[38;5;28mprint\u001b[39m(\u001b[43mx\u001b[49m)\n",
      "\u001b[1;31mNameError\u001b[0m: name 'x' is not defined"
     ]
    }
   ],
   "source": [
    "# The variables which are declared within the functions are accessed only within functions.\n",
    "\n",
    "print(x)"
   ]
  },
  {
   "cell_type": "markdown",
   "metadata": {},
   "source": [
    "### global variable:\n",
    "- This \"global variable\" is declared \"outside the function\"\n",
    "- This \"global variable\" can be used by entire 'python file' whereever we required.\n",
    "- we will define it as \"glbl_var=0\"\n",
    "\n",
    "    - Ex: \n",
    "        - glbl_var=0\n",
    "\n",
    "        - def function1():\n",
    "            - global glbl_var\n",
    "            - glbl_var=5       -----------I am assigning it as \"5\"\n",
    "        \n",
    "        - def function2():\n",
    "            - global glbl_var  ------------\"5\" will be applicable for this function also\n",
    "        \n",
    "        - function1()\n",
    "        - function2()\n",
    "        - function1()\n",
    "\n",
    "    - Ans: \n",
    "        - function1 = 0\n",
    "        - function2 = 5\n",
    "        - function1 = 5"
   ]
  },
  {
   "cell_type": "code",
   "execution_count": 90,
   "metadata": {},
   "outputs": [
    {
     "name": "stdout",
     "output_type": "stream",
     "text": [
      "Hello World!\n"
     ]
    }
   ],
   "source": [
    "# Simple function which prints \"Hello World!\"\"\n",
    "# There is no \"return block\" in this function for now.\n",
    "\n",
    "def fun():\n",
    "    print(\"Hello World!\")\n",
    "\n",
    "fun()"
   ]
  },
  {
   "cell_type": "code",
   "execution_count": 91,
   "metadata": {},
   "outputs": [
    {
     "name": "stdout",
     "output_type": "stream",
     "text": [
      "Hello World!\n",
      "None\n"
     ]
    }
   ],
   "source": [
    "# By default it return a None value.\n",
    "\n",
    "a = fun()\n",
    "print(a)"
   ]
  },
  {
   "cell_type": "markdown",
   "metadata": {},
   "source": [
    "#### Inside a \"User defined function\" I am using \"Built in function\"\n",
    "- get_abs = User defined function\n",
    "- abs()   = Built in function\n",
    "- write a function which returns absolute value of an integer"
   ]
  },
  {
   "cell_type": "code",
   "execution_count": 3,
   "metadata": {},
   "outputs": [
    {
     "data": {
      "text/plain": [
       "5"
      ]
     },
     "execution_count": 3,
     "metadata": {},
     "output_type": "execute_result"
    }
   ],
   "source": [
    "def get_abs(x):\n",
    "    return abs(x)\n",
    "\n",
    "z = -5\n",
    "get_abs(z)"
   ]
  },
  {
   "cell_type": "code",
   "execution_count": 4,
   "metadata": {},
   "outputs": [
    {
     "name": "stdout",
     "output_type": "stream",
     "text": [
      "Absolute value for z is 5\n"
     ]
    }
   ],
   "source": [
    "abs_z = get_abs(z)\n",
    "print(f\"Absolute value for z is {abs_z}\")"
   ]
  },
  {
   "cell_type": "code",
   "execution_count": 5,
   "metadata": {},
   "outputs": [
    {
     "data": {
      "text/plain": [
       "10"
      ]
     },
     "execution_count": 5,
     "metadata": {},
     "output_type": "execute_result"
    }
   ],
   "source": [
    "get_abs(-10)"
   ]
  },
  {
   "cell_type": "markdown",
   "metadata": {},
   "source": [
    "## Un pack error:- [It occures while \"function calling\" time]\n",
    "- The unpack error will comes generally when the number of variable counts are not matching on both \"left hand side\" and \"right hand side\" while \"calling the function\"\n",
    "    - 2 variables count on left side = 2 variables count on right side then it is ok   \n",
    "        - Ex: x,y = get_abs(-10,20)\n",
    "    - 2 variables count on left side = 1 variable count on right side then it is not ok   \n",
    "        - Ex: x,y = get_abs(-10)"
   ]
  },
  {
   "cell_type": "code",
   "execution_count": 6,
   "metadata": {},
   "outputs": [
    {
     "data": {
      "text/plain": [
       "10"
      ]
     },
     "execution_count": 6,
     "metadata": {},
     "output_type": "execute_result"
    }
   ],
   "source": [
    "get_abs(-10)"
   ]
  },
  {
   "cell_type": "code",
   "execution_count": 7,
   "metadata": {},
   "outputs": [
    {
     "ename": "TypeError",
     "evalue": "cannot unpack non-iterable int object",
     "output_type": "error",
     "traceback": [
      "\u001b[1;31m---------------------------------------------------------------------------\u001b[0m",
      "\u001b[1;31mTypeError\u001b[0m                                 Traceback (most recent call last)",
      "Cell \u001b[1;32mIn[7], line 2\u001b[0m\n\u001b[0;32m      1\u001b[0m \u001b[38;5;66;03m# notice the error here.\u001b[39;00m\n\u001b[1;32m----> 2\u001b[0m x, y \u001b[38;5;241m=\u001b[39m get_abs(\u001b[38;5;241m-\u001b[39m\u001b[38;5;241m10\u001b[39m)\n",
      "\u001b[1;31mTypeError\u001b[0m: cannot unpack non-iterable int object"
     ]
    }
   ],
   "source": [
    "# notice the error here.\n",
    "x, y = get_abs(-10)"
   ]
  },
  {
   "cell_type": "code",
   "execution_count": 8,
   "metadata": {},
   "outputs": [
    {
     "ename": "TypeError",
     "evalue": "abs() takes exactly one argument (2 given)",
     "output_type": "error",
     "traceback": [
      "\u001b[1;31m---------------------------------------------------------------------------\u001b[0m",
      "\u001b[1;31mTypeError\u001b[0m                                 Traceback (most recent call last)",
      "Cell \u001b[1;32mIn[8], line 4\u001b[0m\n\u001b[0;32m      1\u001b[0m \u001b[38;5;28;01mdef\u001b[39;00m \u001b[38;5;21mget_abs_vls\u001b[39m(x, y):\n\u001b[0;32m      2\u001b[0m     \u001b[38;5;28;01mreturn\u001b[39;00m \u001b[38;5;28mabs\u001b[39m(x,y)\n\u001b[1;32m----> 4\u001b[0m \u001b[43mget_abs_vls\u001b[49m\u001b[43m(\u001b[49m\u001b[38;5;241;43m-\u001b[39;49m\u001b[38;5;241;43m10\u001b[39;49m\u001b[43m,\u001b[49m\u001b[43m \u001b[49m\u001b[38;5;241;43m-\u001b[39;49m\u001b[38;5;241;43m9\u001b[39;49m\u001b[43m)\u001b[49m\n",
      "Cell \u001b[1;32mIn[8], line 2\u001b[0m, in \u001b[0;36mget_abs_vls\u001b[1;34m(x, y)\u001b[0m\n\u001b[0;32m      1\u001b[0m \u001b[38;5;28;01mdef\u001b[39;00m \u001b[38;5;21mget_abs_vls\u001b[39m(x, y):\n\u001b[1;32m----> 2\u001b[0m     \u001b[38;5;28;01mreturn\u001b[39;00m \u001b[38;5;28;43mabs\u001b[39;49m\u001b[43m(\u001b[49m\u001b[43mx\u001b[49m\u001b[43m,\u001b[49m\u001b[43my\u001b[49m\u001b[43m)\u001b[49m\n",
      "\u001b[1;31mTypeError\u001b[0m: abs() takes exactly one argument (2 given)"
     ]
    }
   ],
   "source": [
    "def get_abs_vls(x, y):\n",
    "    return abs(x,y)\n",
    "\n",
    "get_abs_vls(-10, -9)"
   ]
  },
  {
   "cell_type": "markdown",
   "metadata": {},
   "source": [
    "- [Q] How to eliminate this \"error\" means?\n",
    "- Ans: Just by giving 2 variables on both the sides."
   ]
  },
  {
   "cell_type": "code",
   "execution_count": 9,
   "metadata": {},
   "outputs": [
    {
     "data": {
      "text/plain": [
       "(10, 9)"
      ]
     },
     "execution_count": 9,
     "metadata": {},
     "output_type": "execute_result"
    }
   ],
   "source": [
    "def get_abs_vls(x, y):\n",
    "    return abs(x), abs(y)\n",
    "\n",
    "get_abs_vls(-10, -9)"
   ]
  },
  {
   "cell_type": "code",
   "execution_count": 102,
   "metadata": {},
   "outputs": [
    {
     "name": "stdout",
     "output_type": "stream",
     "text": [
      "Absolute value for x is 10\n",
      "Absolute value for y is 9\n"
     ]
    }
   ],
   "source": [
    "# as the function return two values, \n",
    "# here we take two variables and catch the returns for further processing.\n",
    "# in this case we are only using them for printing.\n",
    "\n",
    "x, y = get_abs_vls(-10, -9)\n",
    "print(f\"Absolute value for x is {x}\")\n",
    "print(f\"Absolute value for y is {y}\")"
   ]
  },
  {
   "cell_type": "markdown",
   "metadata": {},
   "source": [
    "- On the \"left side\" u are having 1 variable (x) and the right side u are having 2 variables (-10,-9) then what happened means \n",
    "    - 'x' will be converted to \"tuple\""
   ]
  },
  {
   "cell_type": "code",
   "execution_count": 103,
   "metadata": {},
   "outputs": [],
   "source": [
    "x = get_abs_vls(-10, -9)"
   ]
  },
  {
   "cell_type": "code",
   "execution_count": 104,
   "metadata": {},
   "outputs": [
    {
     "data": {
      "text/plain": [
       "(10, 9)"
      ]
     },
     "execution_count": 104,
     "metadata": {},
     "output_type": "execute_result"
    }
   ],
   "source": [
    "x"
   ]
  },
  {
   "cell_type": "code",
   "execution_count": 106,
   "metadata": {},
   "outputs": [
    {
     "ename": "ValueError",
     "evalue": "not enough values to unpack (expected 3, got 2)",
     "output_type": "error",
     "traceback": [
      "\u001b[1;31m---------------------------------------------------------------------------\u001b[0m",
      "\u001b[1;31mValueError\u001b[0m                                Traceback (most recent call last)",
      "Cell \u001b[1;32mIn[106], line 2\u001b[0m\n\u001b[0;32m      1\u001b[0m \u001b[38;5;66;03m# notice the error here where two values are being tried to assign to 3 variables.\u001b[39;00m\n\u001b[1;32m----> 2\u001b[0m x, y, z \u001b[38;5;241m=\u001b[39m get_abs_vls(\u001b[38;5;241m-\u001b[39m\u001b[38;5;241m10\u001b[39m, \u001b[38;5;241m-\u001b[39m\u001b[38;5;241m9\u001b[39m)\n",
      "\u001b[1;31mValueError\u001b[0m: not enough values to unpack (expected 3, got 2)"
     ]
    }
   ],
   "source": [
    "# notice the error here where two values are being tried to assign to 3 variables.\n",
    "x, y, z = get_abs_vls(-10, -9)"
   ]
  },
  {
   "cell_type": "markdown",
   "metadata": {},
   "source": [
    "### Function with arguments/parameters/placeholders"
   ]
  },
  {
   "cell_type": "markdown",
   "metadata": {},
   "source": [
    "## [2] Function created with \n",
    "### [A] \"1 postional argument\""
   ]
  },
  {
   "cell_type": "code",
   "execution_count": 2,
   "metadata": {},
   "outputs": [
    {
     "name": "stdout",
     "output_type": "stream",
     "text": [
      "my name is Chandu\n"
     ]
    }
   ],
   "source": [
    "def greet(name):\n",
    "    print(f\"my name is {name}\")\n",
    "\n",
    "greet('Chandu')"
   ]
  },
  {
   "cell_type": "code",
   "execution_count": 108,
   "metadata": {},
   "outputs": [
    {
     "name": "stdout",
     "output_type": "stream",
     "text": [
      "Hello Saara!\n"
     ]
    }
   ],
   "source": [
    "def greet(name):\n",
    "    print(f\"Hello {name}!\")\n",
    "\n",
    "greet(\"Saara\")"
   ]
  },
  {
   "cell_type": "markdown",
   "metadata": {},
   "source": [
    "## [2] Function created with \n",
    "### [B] \"2 postional arguments\""
   ]
  },
  {
   "cell_type": "code",
   "execution_count": 109,
   "metadata": {},
   "outputs": [
    {
     "name": "stdout",
     "output_type": "stream",
     "text": [
      "hello ccr! welcome to python\n"
     ]
    }
   ],
   "source": [
    "def greet_with_company(name,company='python'):\n",
    "    print(f\"hello {name}! welcome to {company}\")\n",
    "\n",
    "greet_with_company('ccr')"
   ]
  },
  {
   "cell_type": "code",
   "execution_count": 3,
   "metadata": {},
   "outputs": [
    {
     "name": "stdout",
     "output_type": "stream",
     "text": [
      "Hello John! Welcome to JoyRiders.\n",
      "Hello John! Welcome to Python.\n"
     ]
    }
   ],
   "source": [
    "# function with default arguments (key word argument)\n",
    "def greet_with_company(name, company='Python'):\n",
    "    print(f\"Hello {name}! Welcome to {company}.\")\n",
    "\n",
    "greet_with_company('John', 'JoyRiders')\n",
    "greet_with_company('John')"
   ]
  },
  {
   "cell_type": "code",
   "execution_count": 111,
   "metadata": {},
   "outputs": [
    {
     "ename": "TypeError",
     "evalue": "greet_with_company() missing 1 required positional argument: 'name'",
     "output_type": "error",
     "traceback": [
      "\u001b[1;31m---------------------------------------------------------------------------\u001b[0m",
      "\u001b[1;31mTypeError\u001b[0m                                 Traceback (most recent call last)",
      "Cell \u001b[1;32mIn[111], line 2\u001b[0m\n\u001b[0;32m      1\u001b[0m \u001b[38;5;66;03m# notice the error here when arguments(mandatory placeholders) are not passed.\u001b[39;00m\n\u001b[1;32m----> 2\u001b[0m \u001b[43mgreet_with_company\u001b[49m\u001b[43m(\u001b[49m\u001b[43m)\u001b[49m\n",
      "\u001b[1;31mTypeError\u001b[0m: greet_with_company() missing 1 required positional argument: 'name'"
     ]
    }
   ],
   "source": [
    "# notice the error here when arguments(mandatory placeholders) are not passed.\n",
    "greet_with_company()"
   ]
  },
  {
   "cell_type": "markdown",
   "metadata": {},
   "source": [
    "- So far we have not returned anything from function.\n",
    "- let us know about functions which returns some values.\n",
    "- also get familiarize with some common errors"
   ]
  },
  {
   "cell_type": "code",
   "execution_count": 112,
   "metadata": {},
   "outputs": [
    {
     "name": "stdout",
     "output_type": "stream",
     "text": [
      "6.0\n"
     ]
    }
   ],
   "source": [
    "def get_area(l,b):\n",
    "    l=float(l)\n",
    "    b=float(b)\n",
    "    return(l*b)\n",
    "w=get_area(2,3)\n",
    "print(w)"
   ]
  },
  {
   "cell_type": "code",
   "execution_count": 113,
   "metadata": {},
   "outputs": [],
   "source": [
    "# write a function to find area of rectangle with given sides\n",
    "def get_area(lnth, brth):\n",
    "    lnth = float(lnth)\n",
    "    brth = float(brth)\n",
    "    return lnth*brth\n"
   ]
  },
  {
   "cell_type": "code",
   "execution_count": 114,
   "metadata": {},
   "outputs": [
    {
     "name": "stdout",
     "output_type": "stream",
     "text": [
      "Area of rectangle is 82.68\n"
     ]
    }
   ],
   "source": [
    "area = get_area(10.40, 7.95)\n",
    "print(f\"Area of rectangle is {area}\")"
   ]
  },
  {
   "cell_type": "code",
   "execution_count": 115,
   "metadata": {},
   "outputs": [
    {
     "name": "stdout",
     "output_type": "stream",
     "text": [
      "Total area of the plot is 103.48\n"
     ]
    }
   ],
   "source": [
    "blt_area = get_area(10.40, 7.95)\n",
    "lawn_area = get_area(10.40, 2)\n",
    "print(f\"Total area of the plot is {blt_area+lawn_area}\")"
   ]
  },
  {
   "cell_type": "markdown",
   "metadata": {},
   "source": [
    "- note above, we return some value from function.\n",
    "- whever the function is called we assign the return value to a variable and use."
   ]
  },
  {
   "cell_type": "markdown",
   "metadata": {},
   "source": [
    "# [B] Variable length Arguments:\n",
    "- [3] Wildcard [*args]\n",
    "- [4] Wildcard [**Kwargs]\n",
    "\n",
    "# [3] Wildcard [*args]\n",
    "- Just given a case where we have a requirement that we can send \"any number of inputs\" to the \"function\", we have some thing called \"Wild cards\"\n",
    "- Generally we cannot use this wildcard [*args] in machine leaning\n",
    "- About \"*args\" called it as  \"wildcard\"\n",
    "- It is an \"Itarator\", means it can be a list/tuple/any thing \n",
    "- only * is mandatory. We have to give compulsary in function name, but not compulsary in below of the code\n",
    "    - When u define a function u would say that we are expecting random number of \"arguments\"\n",
    "    - If are trying to generate some thing more \"dynamic\" probabully we will use this."
   ]
  },
  {
   "cell_type": "code",
   "execution_count": 113,
   "metadata": {},
   "outputs": [
    {
     "name": "stdout",
     "output_type": "stream",
     "text": [
      "1\n",
      "1 2\n"
     ]
    },
    {
     "data": {
      "text/plain": [
       "3"
      ]
     },
     "execution_count": 113,
     "metadata": {},
     "output_type": "execute_result"
    }
   ],
   "source": [
    "def sum_all(*args):\n",
    "    print(*args)\n",
    "    return sum([*args])\n",
    "\n",
    "sum_all(1)      # I am sending 1 Argument\n",
    "\n",
    "sum_all(1,2)    # I am sending 2 Arguments"
   ]
  },
  {
   "cell_type": "code",
   "execution_count": 116,
   "metadata": {},
   "outputs": [
    {
     "name": "stdout",
     "output_type": "stream",
     "text": [
      "1|2|4|5|6|0|"
     ]
    },
    {
     "data": {
      "text/plain": [
       "18"
      ]
     },
     "execution_count": 116,
     "metadata": {},
     "output_type": "execute_result"
    }
   ],
   "source": [
    "# If u are using \"for loop\" and if u r using \"*args\" in defining the function in \"input\", \n",
    "# then no need to use \"Astric (*)\" symbol inside the function. \n",
    "# Just giving \"*args\" is sufficient in \"input\"\n",
    "\n",
    "def sum_all(*args):\n",
    "    for arg in args:\n",
    "        print(arg, end='|')\n",
    "    return sum([*args])\n",
    "\n",
    "sum_all(1,2,4,5,6,0)"
   ]
  },
  {
   "cell_type": "markdown",
   "metadata": {},
   "source": [
    "### [or]"
   ]
  },
  {
   "cell_type": "code",
   "execution_count": 11,
   "metadata": {},
   "outputs": [
    {
     "name": "stdout",
     "output_type": "stream",
     "text": [
      "The sum of the args is (1, 2, 4, 5, 6, 0)\n"
     ]
    },
    {
     "data": {
      "text/plain": [
       "18"
      ]
     },
     "execution_count": 11,
     "metadata": {},
     "output_type": "execute_result"
    }
   ],
   "source": [
    "def sum_all(*args):\n",
    "    for arg in args:\n",
    "        print(f\"The sum of the args is {args}\")\n",
    "        break\n",
    "    return sum([*args])\n",
    "\n",
    "sum_all(1,2,4,5,6,0)"
   ]
  },
  {
   "cell_type": "code",
   "execution_count": 117,
   "metadata": {},
   "outputs": [
    {
     "name": "stdout",
     "output_type": "stream",
     "text": [
      "1|2|4|5|6|0|"
     ]
    }
   ],
   "source": [
    "def print_all_args(*args):\n",
    "    for arg in args:\n",
    "        print(arg, end='|')\n",
    "\n",
    "print_all_args(1,2,4,5,6,0)"
   ]
  },
  {
   "cell_type": "markdown",
   "metadata": {},
   "source": [
    "### [or]"
   ]
  },
  {
   "cell_type": "markdown",
   "metadata": {},
   "source": [
    "- Instead for \"args\" we can name it as \"arguments\" /\"Chandu\" etc.\n",
    "- It will do the same job.\n",
    "- Only * is compulsary"
   ]
  },
  {
   "cell_type": "code",
   "execution_count": 122,
   "metadata": {},
   "outputs": [
    {
     "name": "stdout",
     "output_type": "stream",
     "text": [
      "1|2|3|4|5|6|"
     ]
    }
   ],
   "source": [
    "def print_all_args_n(*arguments):\n",
    "    for arg in arguments:\n",
    "        print(arg, end='|')\n",
    "        \n",
    "print_all_args_n(1, 2, 3, 4, 5, 6)"
   ]
  },
  {
   "cell_type": "markdown",
   "metadata": {},
   "source": [
    "#### Genaral working of \"Dictonary\"\n",
    "- Here \"each item\" is a \"Tuple\""
   ]
  },
  {
   "cell_type": "code",
   "execution_count": 128,
   "metadata": {},
   "outputs": [
    {
     "name": "stdout",
     "output_type": "stream",
     "text": [
      "dict_items([('a', 1), ('b', 2)])\n"
     ]
    }
   ],
   "source": [
    "obj={'a':1,'b':2}\n",
    "print(obj.items())"
   ]
  },
  {
   "cell_type": "markdown",
   "metadata": {},
   "source": [
    "- These \"Keyword Arguments\" are also internally behaves similar like \"Dictonary\""
   ]
  },
  {
   "cell_type": "code",
   "execution_count": 129,
   "metadata": {},
   "outputs": [
    {
     "name": "stdout",
     "output_type": "stream",
     "text": [
      "a = 1\n",
      "b = 2\n"
     ]
    }
   ],
   "source": [
    "for key, value in obj.items():\n",
    "    print(f\"{key} = {value}\")"
   ]
  },
  {
   "cell_type": "markdown",
   "metadata": {},
   "source": [
    "# [4] Wildcard [**kwargs]\n",
    "- Here we are using \"**\" (2 astrics)\n",
    "- \"kwargs\" is only \"variable\". It could be any name.\n",
    "- I would say i am expecting that the user would send me \"all the key words inform of a=1, b=2 etc.\n",
    "- In below \"for-loop\" instead of using \"object\" we will use \"kwargs\"\n",
    "- These \"Keyword Arguments\" are also internally behaves similar like \"Dictonary\" [Key - Value]"
   ]
  },
  {
   "cell_type": "code",
   "execution_count": 119,
   "metadata": {},
   "outputs": [
    {
     "name": "stdout",
     "output_type": "stream",
     "text": [
      "name = sanjeev\n",
      "age = 36\n",
      "coo = India\n"
     ]
    }
   ],
   "source": [
    "def get_kwarg_details(**kwargs):\n",
    "    for key, values in kwargs.items():\n",
    "        print(f\"{key} = {values}\")\n",
    "\n",
    "get_kwarg_details(name='sanjeev', age=36, coo='India')"
   ]
  },
  {
   "cell_type": "markdown",
   "metadata": {},
   "source": [
    "### [or]"
   ]
  },
  {
   "cell_type": "code",
   "execution_count": 18,
   "metadata": {},
   "outputs": [
    {
     "name": "stdout",
     "output_type": "stream",
     "text": [
      "name = sanjeev\n"
     ]
    },
    {
     "data": {
      "text/plain": [
       "{'name': 'sanjeev', 'age': 36, 'coo': 'India'}"
      ]
     },
     "execution_count": 18,
     "metadata": {},
     "output_type": "execute_result"
    }
   ],
   "source": [
    "def get_kwarg_details(**kwargs):\n",
    "    for key, values in kwargs.items():\n",
    "        print(f\"{key} = {values}\")\n",
    "        return(kwargs)\n",
    "\n",
    "get_kwarg_details(name='sanjeev', age=36, coo='India')"
   ]
  },
  {
   "cell_type": "markdown",
   "metadata": {},
   "source": [
    "#### \"Error\" occured here is"
   ]
  },
  {
   "cell_type": "code",
   "execution_count": 120,
   "metadata": {},
   "outputs": [
    {
     "name": "stdout",
     "output_type": "stream",
     "text": [
      "name = foo\n",
      "name2 = bar\n"
     ]
    },
    {
     "ename": "KeyError",
     "evalue": "'nm'",
     "output_type": "error",
     "traceback": [
      "\u001b[1;31m---------------------------------------------------------------------------\u001b[0m",
      "\u001b[1;31mKeyError\u001b[0m                                  Traceback (most recent call last)",
      "Cell \u001b[1;32mIn[120], line 6\u001b[0m\n\u001b[0;32m      3\u001b[0m         \u001b[38;5;28mprint\u001b[39m(\u001b[38;5;124mf\u001b[39m\u001b[38;5;124m\"\u001b[39m\u001b[38;5;132;01m{\u001b[39;00mkey\u001b[38;5;132;01m}\u001b[39;00m\u001b[38;5;124m = \u001b[39m\u001b[38;5;132;01m{\u001b[39;00mvalues\u001b[38;5;132;01m}\u001b[39;00m\u001b[38;5;124m\"\u001b[39m)\n\u001b[0;32m      4\u001b[0m     \u001b[38;5;28mprint\u001b[39m(kwargs[\u001b[38;5;124m'\u001b[39m\u001b[38;5;124mnm\u001b[39m\u001b[38;5;124m'\u001b[39m])\n\u001b[1;32m----> 6\u001b[0m \u001b[43mget_kwarg_details2\u001b[49m\u001b[43m(\u001b[49m\u001b[43mname\u001b[49m\u001b[38;5;241;43m=\u001b[39;49m\u001b[38;5;124;43m'\u001b[39;49m\u001b[38;5;124;43mfoo\u001b[39;49m\u001b[38;5;124;43m'\u001b[39;49m\u001b[43m,\u001b[49m\u001b[43m \u001b[49m\u001b[43mname2\u001b[49m\u001b[38;5;241;43m=\u001b[39;49m\u001b[38;5;124;43m'\u001b[39;49m\u001b[38;5;124;43mbar\u001b[39;49m\u001b[38;5;124;43m'\u001b[39;49m\u001b[43m)\u001b[49m\n",
      "Cell \u001b[1;32mIn[120], line 4\u001b[0m, in \u001b[0;36mget_kwarg_details2\u001b[1;34m(**kwargs)\u001b[0m\n\u001b[0;32m      2\u001b[0m \u001b[38;5;28;01mfor\u001b[39;00m key, values \u001b[38;5;129;01min\u001b[39;00m kwargs\u001b[38;5;241m.\u001b[39mitems():\n\u001b[0;32m      3\u001b[0m     \u001b[38;5;28mprint\u001b[39m(\u001b[38;5;124mf\u001b[39m\u001b[38;5;124m\"\u001b[39m\u001b[38;5;132;01m{\u001b[39;00mkey\u001b[38;5;132;01m}\u001b[39;00m\u001b[38;5;124m = \u001b[39m\u001b[38;5;132;01m{\u001b[39;00mvalues\u001b[38;5;132;01m}\u001b[39;00m\u001b[38;5;124m\"\u001b[39m)\n\u001b[1;32m----> 4\u001b[0m \u001b[38;5;28mprint\u001b[39m(\u001b[43mkwargs\u001b[49m\u001b[43m[\u001b[49m\u001b[38;5;124;43m'\u001b[39;49m\u001b[38;5;124;43mnm\u001b[39;49m\u001b[38;5;124;43m'\u001b[39;49m\u001b[43m]\u001b[49m)\n",
      "\u001b[1;31mKeyError\u001b[0m: 'nm'"
     ]
    }
   ],
   "source": [
    "def get_kwarg_details2(**kwargs):\n",
    "    for key, values in kwargs.items():\n",
    "        print(f\"{key} = {values}\")\n",
    "    print(kwargs['nm'])\n",
    "\n",
    "get_kwarg_details2(name='foo', name2='bar')"
   ]
  },
  {
   "cell_type": "markdown",
   "metadata": {},
   "source": [
    "#### So to avoid above error here we have to give \"key - nm\" in starting itself"
   ]
  },
  {
   "cell_type": "code",
   "execution_count": 20,
   "metadata": {},
   "outputs": [
    {
     "name": "stdout",
     "output_type": "stream",
     "text": [
      "name = foo\n",
      "name2 = bar\n",
      "\n"
     ]
    }
   ],
   "source": [
    "def get_kwarg_details2(nm='', **kwargs):\n",
    "    for key, values in kwargs.items():\n",
    "        print(f\"{key} = {values}\")\n",
    "    print(nm)\n",
    "\n",
    "get_kwarg_details2(name='foo', name2='bar')"
   ]
  },
  {
   "cell_type": "code",
   "execution_count": 122,
   "metadata": {},
   "outputs": [
    {
     "name": "stdout",
     "output_type": "stream",
     "text": [
      "name = sanjeev\n",
      "age = 36\n",
      "coo = India\n"
     ]
    }
   ],
   "source": [
    "get_kwarg_details(name='sanjeev', age=36, coo='India')"
   ]
  },
  {
   "cell_type": "code",
   "execution_count": 123,
   "metadata": {},
   "outputs": [
    {
     "name": "stdout",
     "output_type": "stream",
     "text": [
      "name = sanjeev\n",
      "age = 36\n"
     ]
    }
   ],
   "source": [
    "get_kwarg_details(name='sanjeev', age=36)"
   ]
  },
  {
   "cell_type": "markdown",
   "metadata": {},
   "source": [
    "#### We can mix both \"arguments\" and \"Kwargs\" also."
   ]
  },
  {
   "cell_type": "code",
   "execution_count": 127,
   "metadata": {},
   "outputs": [
    {
     "name": "stdout",
     "output_type": "stream",
     "text": [
      "the mandatory value is 1\n",
      " the optional values are name = sanjeev\n",
      " the optional values are age = 36\n",
      " the optional values are coo = India\n"
     ]
    }
   ],
   "source": [
    "def myfun(arg1, **kwargs):\n",
    "    print(f\"the mandatory value is {arg1}\")\n",
    "    for key, values in kwargs.items():\n",
    "        print(f\" the optional values are {key} = {values}\")\n",
    "\n",
    "myfun(1, name='sanjeev', age=36, coo='India')"
   ]
  },
  {
   "cell_type": "code",
   "execution_count": 125,
   "metadata": {},
   "outputs": [
    {
     "name": "stdout",
     "output_type": "stream",
     "text": [
      "the mandatory value is 1\n"
     ]
    }
   ],
   "source": [
    "myfun(1)"
   ]
  },
  {
   "cell_type": "code",
   "execution_count": 126,
   "metadata": {},
   "outputs": [
    {
     "ename": "TypeError",
     "evalue": "myfun() missing 1 required positional argument: 'arg1'",
     "output_type": "error",
     "traceback": [
      "\u001b[1;31m---------------------------------------------------------------------------\u001b[0m",
      "\u001b[1;31mTypeError\u001b[0m                                 Traceback (most recent call last)",
      "Cell \u001b[1;32mIn[126], line 1\u001b[0m\n\u001b[1;32m----> 1\u001b[0m \u001b[43mmyfun\u001b[49m\u001b[43m(\u001b[49m\u001b[43mname\u001b[49m\u001b[38;5;241;43m=\u001b[39;49m\u001b[38;5;124;43m'\u001b[39;49m\u001b[38;5;124;43msanjeev\u001b[39;49m\u001b[38;5;124;43m'\u001b[39;49m\u001b[43m,\u001b[49m\u001b[43m \u001b[49m\u001b[43mage\u001b[49m\u001b[38;5;241;43m=\u001b[39;49m\u001b[38;5;241;43m36\u001b[39;49m\u001b[43m,\u001b[49m\u001b[43m \u001b[49m\u001b[43mcoo\u001b[49m\u001b[38;5;241;43m=\u001b[39;49m\u001b[38;5;124;43m'\u001b[39;49m\u001b[38;5;124;43mIndia\u001b[39;49m\u001b[38;5;124;43m'\u001b[39;49m\u001b[43m)\u001b[49m\n",
      "\u001b[1;31mTypeError\u001b[0m: myfun() missing 1 required positional argument: 'arg1'"
     ]
    }
   ],
   "source": [
    "myfun(name='sanjeev', age=36, coo='India')"
   ]
  },
  {
   "cell_type": "markdown",
   "metadata": {},
   "source": [
    "# Recursion Function:\n",
    "### Function inside a function\n",
    "- A function that calls \"itself\" is said to be recursive, and the technique of employing a recursive function is called \"recursion\".\n",
    "- When we call a function in Python, the interpreter creates a new local namespace so that variables defined\n",
    "within that function don’t collide with identical variable defined elsewhere.\n",
    "- The same holds true if multiple instances of the same function are running concurrently.\n",
    "\n",
    "### Note:\n",
    "- __In general we are not using this \"Recursion Function\", because of \"memory problem\" (Looping problem).__\n",
    "- __Looping problem: It will rotate continuosly in the loop__\n",
    "- __If we cannot handle it properly means, then ur system will hang, program wonot executed.__"
   ]
  },
  {
   "cell_type": "code",
   "execution_count": 5,
   "metadata": {},
   "outputs": [],
   "source": [
    "def function():\n",
    "    x = 10\n",
    "function()"
   ]
  },
  {
   "cell_type": "markdown",
   "metadata": {},
   "source": [
    "- When function() executes the first time, Python creates a namespace and assigns x the value 10 in that\n",
    "namespace. Then function() calls itself recursively.\n",
    "- The second time function() runs, the interpreter creates a second namespace and assigns 10 to x there as well.\n",
    "- These two instances of the name x are distinct from each another and can coexist without clashing because\n",
    "they are in separate namespaces."
   ]
  },
  {
   "cell_type": "markdown",
   "metadata": {},
   "source": [
    "- But the main problem with recursion is that we need to set some condition for the recursion to get over or stop,\n",
    "- else it will throw `RecursionError: maximum recursion depth exceeded`\n",
    "- Here on calling function(), it keep calling itself until the threshold limit of recursion is hit function()"
   ]
  },
  {
   "cell_type": "code",
   "execution_count": 9,
   "metadata": {},
   "outputs": [
    {
     "name": "stdout",
     "output_type": "stream",
     "text": [
      "5\n",
      "4\n",
      "3\n",
      "2\n",
      "1\n",
      "0\n"
     ]
    }
   ],
   "source": [
    "# Decreasing Counter\n",
    "def countdown(n):\n",
    "    print(n)\n",
    "    if n == 0:\n",
    "        return\n",
    "    else:\n",
    "        countdown(n-1)\n",
    "countdown(5)"
   ]
  },
  {
   "cell_type": "code",
   "execution_count": 10,
   "metadata": {},
   "outputs": [
    {
     "name": "stdout",
     "output_type": "stream",
     "text": [
      "24\n"
     ]
    }
   ],
   "source": [
    "# Factorial using recursion\n",
    "def factorial(n: int):\n",
    "    if n < 2:\n",
    "        return 1\n",
    "    else:\n",
    "        return n * factorial(n-1)\n",
    "print(factorial(4))"
   ]
  },
  {
   "cell_type": "code",
   "execution_count": 14,
   "metadata": {},
   "outputs": [
    {
     "name": "stdout",
     "output_type": "stream",
     "text": [
      "33\n"
     ]
    }
   ],
   "source": [
    "# Sum of Fibonacci series for a given 'n' position\n",
    "# 0, 1, 1, 2, 3, 5, 8, 13, 21, 34, ...\n",
    "def fibonacci(n: int):\n",
    "    if n <= 1:\n",
    "        return n\n",
    "    return fibonacci(n-1) + fibonacci(n-2) + 1\n",
    "print(fibonacci(7))"
   ]
  },
  {
   "cell_type": "markdown",
   "metadata": {},
   "source": [
    "## To control the \"looping problem\" in Recursion function, we use below ones\n",
    "### [i] Get Recursion Limit\n",
    "### [ii] Set Recursion Limit"
   ]
  },
  {
   "cell_type": "code",
   "execution_count": 15,
   "metadata": {},
   "outputs": [
    {
     "name": "stdout",
     "output_type": "stream",
     "text": [
      "3000\n"
     ]
    }
   ],
   "source": [
    "from sys import getrecursionlimit\n",
    "print(getrecursionlimit())"
   ]
  },
  {
   "cell_type": "code",
   "execution_count": 16,
   "metadata": {},
   "outputs": [
    {
     "name": "stdout",
     "output_type": "stream",
     "text": [
      "2000\n"
     ]
    }
   ],
   "source": [
    "from sys import setrecursionlimit\n",
    "setrecursionlimit(2000)\n",
    "print(getrecursionlimit())"
   ]
  },
  {
   "cell_type": "markdown",
   "metadata": {},
   "source": [
    "# In-built Functions:\n",
    "\n",
    "# Functional Programming [or] \n",
    "# Procedure Oriented Programming [POP]:\n",
    "- Functional programming is a programming paradigm in which we try to bind everything in pure\n",
    "mathematical functions style.\n",
    "- It is a declarative type of programming style.\n",
    "- Its main focus is on “what to solve” in contrast to an imperative style where the main focus is “how to\n",
    "solve“.\n",
    "- It uses expressions instead of statements. An expression is evaluated to produce a value whereas a\n",
    "statement is executed to assign variables.\n",
    "\n",
    "### To support functional programming, it’s useful if a function in a given programming language has two abilities:\n",
    "- To take another function as an argument\n",
    "- To return another function to its caller\n",
    "\n",
    "### Different types of special functions\n",
    "- [i] lambda\n",
    "- [ii] map\n",
    "- [iii] filter\n",
    "- [iV] reduce\n",
    "- [V] sorted\n",
    "- [Vi] Iterator\n",
    "- [Vii] Generator"
   ]
  },
  {
   "cell_type": "markdown",
   "metadata": {},
   "source": [
    "### [i] Lambda Function:\n",
    "- __It is a small anonymous function which can take any number of arguments, but can only have one expression.__ \n",
    "    - __e.g.__\n",
    "        - __lambda argument(s) : expression__\n",
    "- Regular function can have more than one expressions whereas Lambda function can have only one.\n",
    "- Regular function has a function name, whereas Lambda function doesnt.\n",
    "- Lambda function can be useful when we need to create a function which has only one expression irrespective of number of arguments and has no requirement of repeatability"
   ]
  },
  {
   "cell_type": "code",
   "execution_count": 17,
   "metadata": {},
   "outputs": [
    {
     "name": "stdout",
     "output_type": "stream",
     "text": [
      "even\n",
      "odd\n"
     ]
    }
   ],
   "source": [
    "# lambda function with one argument\n",
    "even_or_odd = lambda x: 'even' if x%2==0 else 'odd'\n",
    "print(even_or_odd(4))\n",
    "print(even_or_odd(11))"
   ]
  },
  {
   "cell_type": "code",
   "execution_count": 18,
   "metadata": {},
   "outputs": [
    {
     "name": "stdout",
     "output_type": "stream",
     "text": [
      "9\n"
     ]
    }
   ],
   "source": [
    "# lambda function with two argument\n",
    "max_num = lambda x,y: x if x>y else y\n",
    "print(max_num(4,9))"
   ]
  },
  {
   "cell_type": "markdown",
   "metadata": {},
   "source": [
    "### [ii] map()\n",
    "- Two arguments: map(function, parameter)\n",
    "- It is a built-in function that allows us to process and transform all the items in an iterable without using an\n",
    "explicit for loop.\n",
    "- This technique is known as mapping.\n",
    "- It is useful when we need to apply a transformation function to each item in an iterable and transform them\n",
    "into a new iterable."
   ]
  },
  {
   "cell_type": "code",
   "execution_count": 21,
   "metadata": {},
   "outputs": [
    {
     "name": "stdout",
     "output_type": "stream",
     "text": [
      "[4, 16, 36, 64]\n"
     ]
    }
   ],
   "source": [
    "def square(num):\n",
    "    return num ** 2\n",
    "numbers = [2,4,6,8]\n",
    "print(list(map(square, numbers)))"
   ]
  },
  {
   "cell_type": "code",
   "execution_count": 22,
   "metadata": {},
   "outputs": [
    {
     "name": "stdout",
     "output_type": "stream",
     "text": [
      "[8, 4, 2]\n"
     ]
    }
   ],
   "source": [
    "# Using lambda with map\n",
    "l1 = [1,2,3]\n",
    "l2 = [9,6,5]\n",
    "print(list(map(lambda x,y: x-y, l2, l1)))"
   ]
  },
  {
   "cell_type": "markdown",
   "metadata": {},
   "source": [
    "### [iii] filter():\n",
    "- Its a built in function that yields the items of the input iterable for which function returns True.\n",
    "- It means that filter() will check the truth value of each item in iterable and filter out all of the items that are falsy\n",
    "- Two arguments: filter(function, iterable)"
   ]
  },
  {
   "cell_type": "code",
   "execution_count": 24,
   "metadata": {},
   "outputs": [
    {
     "name": "stdout",
     "output_type": "stream",
     "text": [
      "[49, 36, 81]\n",
      "[7.0, 6.0, 9.0]\n"
     ]
    }
   ],
   "source": [
    "# Suppose we need to filter out (-ve) value from the list of mixed values before getting the squared root of them\n",
    "import math\n",
    "data = [49, 36, -9, 81]\n",
    "# Here we are filtering out the (-ve) or unwanted values first\n",
    "print(list(filter(lambda x: x>0, data)))\n",
    "# As a next step we can now calculate the squared root using map()\n",
    "print(list(map(math.sqrt, filter(lambda x: x>0, data))))"
   ]
  },
  {
   "cell_type": "code",
   "execution_count": 25,
   "metadata": {},
   "outputs": [
    {
     "name": "stdout",
     "output_type": "stream",
     "text": [
      "[2, 4, 6, 8]\n",
      "[0, 2, 4, 6, 8, 10, 12, 14, 16, 18]\n"
     ]
    }
   ],
   "source": [
    "numbers = [1,2,3,4,5,6,7,8]\n",
    "def even(a):\n",
    "    return a%2==0\n",
    "result = filter(even, numbers)\n",
    "print(list(result))\n",
    "\n",
    "#alternative way\n",
    "result = filter(lambda a: a%2==0, range(20))\n",
    "print(list(result))"
   ]
  },
  {
   "cell_type": "markdown",
   "metadata": {},
   "source": [
    "### [iV] reduce():\n",
    "- It performs functional computation by taking a function and an iterable \n",
    "    - (e.g., list, tuple, dictionary, etc.) as arguments\n",
    "- It doesn't return multiple values or any iterator, it just returns a single value as output which is the result of the whole iterable getting reduced to only a single integer or string or boolean."
   ]
  },
  {
   "cell_type": "code",
   "execution_count": 26,
   "metadata": {},
   "outputs": [
    {
     "name": "stdout",
     "output_type": "stream",
     "text": [
      "The sum of the list elements is : 17\n",
      "The maximum element of the list is : 6\n"
     ]
    }
   ],
   "source": [
    "# importing functools for reduce()\n",
    "import functools\n",
    "# initializing list\n",
    "l = [1, 3, 5, 6, 2]\n",
    "# using reduce to compute sum of list\n",
    "print(\"The sum of the list elements is : \", end=\"\")\n",
    "print(functools.reduce(lambda a, b: a+b, l))\n",
    "# using reduce to compute maximum element from list\n",
    "print(\"The maximum element of the list is : \", end=\"\")\n",
    "print(functools.reduce(lambda a, b: a if a > b else b, l))"
   ]
  },
  {
   "cell_type": "markdown",
   "metadata": {},
   "source": [
    "### [V] sorted():\n",
    "- It returns a sorted list of the specified iterable object (e.g list, tuple)"
   ]
  },
  {
   "cell_type": "code",
   "execution_count": 29,
   "metadata": {},
   "outputs": [
    {
     "name": "stdout",
     "output_type": "stream",
     "text": [
      "{'name': 'Laptop', 'price': 40000, 'location': 'Ahmedabad'}\n",
      "{'name': 'Printer', 'price': 20000, 'location': 'Mumbai'}\n",
      "{'name': 'Phone', 'price': 10000, 'location': 'Pune'}\n",
      "{'name': 'Headphone', 'price': 5000, 'location': 'Gujrat'}\n"
     ]
    }
   ],
   "source": [
    "# Here you have a list of dictionaries,\n",
    "# and you need to sort in reverse order the list on the basis of 'price' in the dictionar\n",
    "products = [{'name': 'Phone', 'price': 10000, 'location': 'Pune'},\n",
    "{'name': 'Printer', 'price': 20000, 'location': 'Mumbai'},\n",
    "{'name': 'Laptop', 'price': 40000, 'location': 'Ahmedabad'},\n",
    "{'name': 'Headphone', 'price': 5000, 'location': 'Gujrat'}]\n",
    "\n",
    "for item in (sorted(products, key = lambda x: x['price'], reverse=True)):\n",
    "    print(item)"
   ]
  },
  {
   "cell_type": "markdown",
   "metadata": {},
   "source": [
    "### [Vi] iter(): --> Iterators\n",
    "- This method returns an iterator for the given argument which is a iterable \n",
    "- One argument: iter(iterable)"
   ]
  },
  {
   "cell_type": "code",
   "execution_count": 1,
   "metadata": {},
   "outputs": [
    {
     "name": "stdout",
     "output_type": "stream",
     "text": [
      "1\n",
      "2\n",
      "3\n",
      "4\n",
      "5\n",
      "6\n",
      "7\n",
      "8\n"
     ]
    }
   ],
   "source": [
    "numbers = [1,2,3,4,5,6,7,8]\n",
    "iteration = iter(numbers)\n",
    "# Practical use case of iter()\n",
    "for _ in range(100):\n",
    "    try:\n",
    "        print(next(iteration)) # using next() would give first available value in iterator object queue. Once the value is read, its delete from the queue.\n",
    "    except StopIteration: # Once all the values are read from iterator queue, accessing next() would throw 'StopIteration' exception\n",
    "        break"
   ]
  },
  {
   "cell_type": "markdown",
   "metadata": {},
   "source": [
    "### [Vii] Generator:\n",
    "- Instead of \"return\" we are using \"yield\" for __memory efficient use.__\n",
    "- Its an elegant and simple way to create custom iterators in Python\n",
    "- A generator is a function that returns an iterator that produces a sequence of values when iterated over.\n",
    "- It is useful when we want to produce a large sequence of values, but we don't want to store all of them in\n",
    "memory at once. (Memory Efficient approach)\n",
    "- Its defined as a normal function with def , but instead of return statement it has yield\n",
    "- Yeild:\n",
    "    - The yield keyword is used to produce a value from the generator and pause the generator function's\n",
    "execution until the next value is requested."
   ]
  },
  {
   "cell_type": "code",
   "execution_count": 33,
   "metadata": {},
   "outputs": [
    {
     "name": "stdout",
     "output_type": "stream",
     "text": [
      "2\n",
      "4\n"
     ]
    },
    {
     "ename": "StopIteration",
     "evalue": "",
     "output_type": "error",
     "traceback": [
      "\u001b[1;31m---------------------------------------------------------------------------\u001b[0m",
      "\u001b[1;31mStopIteration\u001b[0m                             Traceback (most recent call last)",
      "Cell \u001b[1;32mIn[33], line 10\u001b[0m\n\u001b[0;32m      8\u001b[0m \u001b[38;5;28mprint\u001b[39m(\u001b[38;5;28mnext\u001b[39m(result)) \u001b[38;5;66;03m# --> max=2 -> yields n=2 --> prints 2 and n=2+2\u001b[39;00m\n\u001b[0;32m      9\u001b[0m \u001b[38;5;28mprint\u001b[39m(\u001b[38;5;28mnext\u001b[39m(result)) \u001b[38;5;66;03m# --> max=2 -> yields n=4 --> prints 4 and n=4+2\u001b[39;00m\n\u001b[1;32m---> 10\u001b[0m \u001b[38;5;28mprint\u001b[39m(\u001b[38;5;28;43mnext\u001b[39;49m\u001b[43m(\u001b[49m\u001b[43mresult\u001b[49m\u001b[43m)\u001b[49m) \u001b[38;5;66;03m# --> max=2 -> yields n=6 --> n <= max condition becomes False since n = 6 and max = 4, so StopIteration exception is raised\u001b[39;00m\n",
      "\u001b[1;31mStopIteration\u001b[0m: "
     ]
    }
   ],
   "source": [
    "#Generating data stream upto maximum value without storing in memory and use as much as required\n",
    "def even_generator(max=2):\n",
    "    n = 2\n",
    "    while n <= max:\n",
    "        yield n\n",
    "        n += 2\n",
    "result = even_generator(4)\n",
    "print(next(result)) # --> max=2 -> yields n=2 --> prints 2 and n=2+2\n",
    "print(next(result)) # --> max=2 -> yields n=4 --> prints 4 and n=4+2\n",
    "print(next(result)) # --> max=2 -> yields n=6 --> n <= max condition becomes False since n = 6 and max = 4, so StopIteration exception is raised"
   ]
  },
  {
   "cell_type": "code",
   "execution_count": 35,
   "metadata": {},
   "outputs": [
    {
     "name": "stdout",
     "output_type": "stream",
     "text": [
      "0\n",
      "1\n",
      "1\n",
      "2\n",
      "3\n"
     ]
    }
   ],
   "source": [
    "# Generating Fibonacci series with `generators`\n",
    "def generate_fibonacci():\n",
    "    n1 = 0\n",
    "    n2 = 1\n",
    "    while True:\n",
    "        yield n1\n",
    "        n1 , n2 = n2, n1 + n2\n",
    "seq = generate_fibonacci()\n",
    "print(next(seq))\n",
    "print(next(seq))\n",
    "print(next(seq))\n",
    "print(next(seq))\n",
    "print(next(seq))"
   ]
  },
  {
   "cell_type": "markdown",
   "metadata": {},
   "source": [
    "# Exception handling [or] Types of Errors are 2 types:\n",
    "### [A] Buit-in Exception Handling\n",
    "### [B] User-defined Exception Handling"
   ]
  },
  {
   "cell_type": "markdown",
   "metadata": {},
   "source": [
    "# [A] Built in Exception Handling:\n",
    "- Some of the most common types of exceptions are:\n",
    "### [1] ZeroDivisionError : \n",
    "- Raised when the second argument of a division or modulo operation is zero.\n",
    "### [2] TypeError : \n",
    "- Raised when an operation or function is applied to an object of inappropriate type.\n",
    "### [3] ValueError : \n",
    "- Raised when a built-in operation or function receives an argument that has the right type but\n",
    "an inappropriate value.\n",
    "### [4] IndexError : \n",
    "- Raised when a sequence subscript is out of range.\n",
    "### [5] KeyError : \n",
    "- Raised when a dictionary key is not found.\n",
    "### [6] FileNotFoundError : \n",
    "- Raised when a file or directory is requested but doesn’t exist.\n",
    "### [7] IOError : \n",
    "- Raised when an I/O operation (such as a print statement, the built-in open() function or a method of a file object) fails for an I/O-related reason.\n",
    "### [8] ImportError : \n",
    "- Raised when an import statement fails to find the module definition or when a from ... import fails to find a name that is to be imported.\n",
    "### [9] MemoryError : \n",
    "- Raised when an operation runs out of memory.\n",
    "### [10] OverflowError : \n",
    "- Raised when the result of an arithmetic operation is too large to be expressed by the\n",
    "normal number format.\n",
    "### [11] AttributeError : \n",
    "- Raised when an attribute reference or assignment fails.\n",
    "### [12] SyntaxError : \n",
    "- Raised when the parser encounters a syntax error.\n",
    "### [13] IndentationError :\n",
    "- Raised when there is incorrect indentation.\n",
    "### [14] NameError : \n",
    "- Raised when a local or global name is not found."
   ]
  },
  {
   "cell_type": "markdown",
   "metadata": {},
   "source": [
    "### Role of Try and Except:\n",
    "### [A] try block: \n",
    "- The code within the try block contains the statements that may potentially raise an exception.\n",
    "- It allows you to specify the section of code that you want to monitor for exceptions.\n",
    "### [B] except block: \n",
    "- If an exception occurs within the try block, the corresponding except block(s) are\n",
    "executed. \n",
    "- The except block allows you to define the actions or code that should be executed when a specific exception is raised. \n",
    "- You can have multiple except blocks to handle different types of exceptions.\n",
    "- The else block allows you run code without errors.\n",
    "- The finally block executes code regardless of the try-and-except blocks.\n",
    "- Use the raise keyword to throw (or raise) an exception."
   ]
  },
  {
   "cell_type": "code",
   "execution_count": 37,
   "metadata": {},
   "outputs": [
    {
     "name": "stdout",
     "output_type": "stream",
     "text": [
      "Some issue with x\n",
      "Good morning today is 17th June\n",
      "No issues\n"
     ]
    }
   ],
   "source": [
    "# try raise an exception bec x is not defined\n",
    "try:\n",
    "    print(x)\n",
    "except:\n",
    "    print(\"Some issue with x\")\n",
    "\n",
    "\"\"\"You can use the \"else\" keyword to specify a block\n",
    "of code that will be performed if no errors are raised:\"\"\"\n",
    "try:\n",
    "    print(\"Good morning today is 17th June\")\n",
    "except:\n",
    "    print(\"Some issue\")\n",
    "else:\n",
    "    print(\"No issues\")"
   ]
  },
  {
   "cell_type": "code",
   "execution_count": 38,
   "metadata": {},
   "outputs": [
    {
     "name": "stdout",
     "output_type": "stream",
     "text": [
      "2\n",
      "The 'try except' executed\n"
     ]
    }
   ],
   "source": [
    "\"\"\"If the \"finally\" block is supplied,\n",
    "it will be executed whether or not the try block raises an error.\"\"\"\n",
    "try:\n",
    "    x = 2\n",
    "    print(x)\n",
    "except:\n",
    "    print(\"There is no X\")\n",
    "finally:\n",
    "    print(\"The 'try except' executed\")"
   ]
  },
  {
   "cell_type": "code",
   "execution_count": 39,
   "metadata": {},
   "outputs": [
    {
     "ename": "Exception",
     "evalue": "There is a problem: X is below zero",
     "output_type": "error",
     "traceback": [
      "\u001b[1;31m---------------------------------------------------------------------------\u001b[0m",
      "\u001b[1;31mException\u001b[0m                                 Traceback (most recent call last)",
      "Cell \u001b[1;32mIn[39], line 4\u001b[0m\n\u001b[0;32m      2\u001b[0m x \u001b[38;5;241m=\u001b[39m \u001b[38;5;241m2\u001b[39m\n\u001b[0;32m      3\u001b[0m \u001b[38;5;28;01mif\u001b[39;00m x \u001b[38;5;241m<\u001b[39m \u001b[38;5;241m10\u001b[39m:\n\u001b[1;32m----> 4\u001b[0m     \u001b[38;5;28;01mraise\u001b[39;00m \u001b[38;5;167;01mException\u001b[39;00m(\u001b[38;5;124m\"\u001b[39m\u001b[38;5;124mThere is a problem: X is below zero\u001b[39m\u001b[38;5;124m\"\u001b[39m)\n",
      "\u001b[1;31mException\u001b[0m: There is a problem: X is below zero"
     ]
    }
   ],
   "source": [
    "# Use the \"raise\" keyword to throw an exception.\n",
    "x = 2\n",
    "if x < 10:\n",
    "    raise Exception(\"There is a problem: X is below zero\")"
   ]
  },
  {
   "cell_type": "markdown",
   "metadata": {},
   "source": [
    "### [1] ZeroDivisionError : "
   ]
  },
  {
   "cell_type": "code",
   "execution_count": 41,
   "metadata": {},
   "outputs": [
    {
     "name": "stdout",
     "output_type": "stream",
     "text": [
      "Result: 0.0009000900090009\n"
     ]
    }
   ],
   "source": [
    "n = int(input(\"Please enter the numerator: \"))\n",
    "d = int(input(\"Please enter the denominator: \"))\n",
    "result = n / d\n",
    "print(\"Result:\", result)"
   ]
  },
  {
   "cell_type": "code",
   "execution_count": 43,
   "metadata": {},
   "outputs": [
    {
     "name": "stdout",
     "output_type": "stream",
     "text": [
      "Result: 0.00135000135000135\n"
     ]
    }
   ],
   "source": [
    "try:\n",
    "    n = int(input(\"Please enter the numerator: \"))\n",
    "    d = int(input(\"Please enter the denominator: \"))\n",
    "    result = n / d\n",
    "print(\"Result:\", result)\n",
    "except ZeroDivisionError:\n",
    "    print(\"There is an Error: Division by zero is not allowed.\")"
   ]
  },
  {
   "cell_type": "markdown",
   "metadata": {},
   "source": [
    "### [2] TypeError : "
   ]
  },
  {
   "cell_type": "code",
   "execution_count": 44,
   "metadata": {},
   "outputs": [
    {
     "name": "stdout",
     "output_type": "stream",
     "text": [
      "Error: TypeError occurred.\n"
     ]
    }
   ],
   "source": [
    "try:\n",
    "    x = \"10\" # Assigning a string value to the variable x\n",
    "    y = 2\n",
    "    z = x + y # Attempt addition between a string and an integer\n",
    "    print(\"Result:\", z)\n",
    "except TypeError:\n",
    "    print(\"Error: TypeError occurred.\")"
   ]
  },
  {
   "cell_type": "markdown",
   "metadata": {},
   "source": [
    "### [3] ValueError : "
   ]
  },
  {
   "cell_type": "code",
   "execution_count": 45,
   "metadata": {},
   "outputs": [
    {
     "name": "stdout",
     "output_type": "stream",
     "text": [
      "Result: 9.999000099990002e-05\n"
     ]
    }
   ],
   "source": [
    "\"\"\"Raised when a built-in operation or function receives an\n",
    "argument that has the right type but an inappropriate value.\"\"\"\n",
    "n = int(input(\"Please enter the numerator: \"))\n",
    "d = int(input(\"Please enter the denominator: \"))\n",
    "result = n / d\n",
    "print(\"Result:\", result)"
   ]
  },
  {
   "cell_type": "code",
   "execution_count": 47,
   "metadata": {},
   "outputs": [
    {
     "name": "stdout",
     "output_type": "stream",
     "text": [
      "Result: 1849039.5789473683\n"
     ]
    }
   ],
   "source": [
    "try:\n",
    "    n = int(input(\"Please enter the numerator: \"))\n",
    "    d = int(input(\"Please enter the denominator: \"))\n",
    "    result = n / d\n",
    "    print(\"Result:\", result)\n",
    "except ValueError:\n",
    "    print(\"Please enter valid integers for the numerator and denominator.\")"
   ]
  },
  {
   "cell_type": "code",
   "execution_count": 48,
   "metadata": {},
   "outputs": [
    {
     "name": "stdout",
     "output_type": "stream",
     "text": [
      "Result: 9.47633262260128\n"
     ]
    }
   ],
   "source": [
    "try:\n",
    "    n = int(input(\"Please enter the numerator: \"))\n",
    "    d = int(input(\"Please enter the denominator: \"))\n",
    "    result = n / d\n",
    "    print(\"Result:\", result)\n",
    "except ValueError:\n",
    "    print(\"Please enter valid integers for the numerator and denominator.\")\n",
    "except ZeroDivisionError:\n",
    "    print(\"Division by zero is not allowed.\")"
   ]
  },
  {
   "cell_type": "markdown",
   "metadata": {},
   "source": [
    "### [4] IndexError : "
   ]
  },
  {
   "cell_type": "code",
   "execution_count": 49,
   "metadata": {},
   "outputs": [
    {
     "name": "stdout",
     "output_type": "stream",
     "text": [
      "IndexError error occurred.\n"
     ]
    }
   ],
   "source": [
    "try:\n",
    "    list1 = [1, 2, 3]\n",
    "    print(list1[3]) # Trying to reach an index that is out of range\n",
    "except IndexError:\n",
    "    print(\"IndexError error occurred.\")"
   ]
  },
  {
   "cell_type": "markdown",
   "metadata": {},
   "source": [
    "### [5] KeyError : "
   ]
  },
  {
   "cell_type": "code",
   "execution_count": 50,
   "metadata": {},
   "outputs": [
    {
     "name": "stdout",
     "output_type": "stream",
     "text": [
      "KeyError error occurred.\n"
     ]
    }
   ],
   "source": [
    "try:\n",
    "    my_dictionary = {\"name\": \"John\", \"age\": 30}\n",
    "    print(my_dictionary[\"city\"]) # Accessing a KEY which does not exist\n",
    "except KeyError:\n",
    "    print(\"KeyError error occurred.\")"
   ]
  },
  {
   "cell_type": "markdown",
   "metadata": {},
   "source": [
    "### [6] FileNotFoundError : "
   ]
  },
  {
   "cell_type": "code",
   "execution_count": 52,
   "metadata": {},
   "outputs": [
    {
     "name": "stdout",
     "output_type": "stream",
     "text": [
      "File 'my_file.txt' not found.\n"
     ]
    }
   ],
   "source": [
    "try:\n",
    "    file_location = \"my_file.txt\"\n",
    "    with open(file_location, \"r\") as file:\n",
    "        contents = file.read()\n",
    "except FileNotFoundError:\n",
    "    print(f\"File '{file_location}' not found.\")"
   ]
  },
  {
   "cell_type": "markdown",
   "metadata": {},
   "source": [
    "### [7] IOError : "
   ]
  },
  {
   "cell_type": "code",
   "execution_count": 53,
   "metadata": {},
   "outputs": [
    {
     "name": "stdout",
     "output_type": "stream",
     "text": [
      "Unable to write to file 'file123.txt'.\n"
     ]
    }
   ],
   "source": [
    "try:\n",
    "    file_location = \"file123.txt\"\n",
    "    with open(file_location, \"r\") as file:\n",
    "        file.write(\"This is my file\")\n",
    "except IOError:\n",
    "    print(f\"Unable to write to file '{file_location}'.\")"
   ]
  },
  {
   "cell_type": "markdown",
   "metadata": {},
   "source": [
    "### [8] ImportError : "
   ]
  },
  {
   "cell_type": "code",
   "execution_count": 54,
   "metadata": {},
   "outputs": [
    {
     "name": "stdout",
     "output_type": "stream",
     "text": [
      "Unsuccessful to import module 'library1234'.\n"
     ]
    }
   ],
   "source": [
    "try:\n",
    "    import library1234\n",
    "except ImportError:\n",
    "    print(\"Unsuccessful to import module 'library1234'.\")"
   ]
  },
  {
   "cell_type": "markdown",
   "metadata": {},
   "source": [
    "### [9] MemoryError : "
   ]
  },
  {
   "cell_type": "code",
   "execution_count": 55,
   "metadata": {},
   "outputs": [
    {
     "name": "stdout",
     "output_type": "stream",
     "text": [
      "Insufficient memory for the list.\n"
     ]
    }
   ],
   "source": [
    "# Creating a large list that consumes a significant amount of memory\n",
    "try:\n",
    "    large_list = [1] * (10 ** 12)\n",
    "    \"\"\"The phrase [1] * (10 ** 12) generates a list by repeatedly repeating the element [1].\"\"\"\n",
    "except MemoryError:\n",
    "    print(\"Insufficient memory for the list.\")"
   ]
  },
  {
   "cell_type": "markdown",
   "metadata": {},
   "source": [
    "### [10] OverflowError : "
   ]
  },
  {
   "cell_type": "code",
   "execution_count": 56,
   "metadata": {},
   "outputs": [
    {
     "name": "stdout",
     "output_type": "stream",
     "text": [
      "7888609052210118054117285652827862296732064351090230047702789306640625000000000000000000000000000000000000000000000000000000000000000000000000000000000000000000000000000000000000000000000000000000000000000000000000000000000000000000000000000000000000000000000000000000000000000000000000000000000000000000000000000000000000000000000000000000000000000000000000000000000000\n"
     ]
    }
   ],
   "source": [
    "\"\"\"Raised when the result of an arithmetic operation is too large to be expressed by the normal number format.\"\"\"\n",
    "try:\n",
    "    result = 5000 ** 100 # Attempting to calculate an extremely large number\n",
    "except OverflowError:\n",
    "    print(\"Error: Calculation resulted in an overflow.\")\n",
    "except ValueError:\n",
    "    print(\"Exceeds the limit (4300) for integer string conversion; \")\n",
    "else:\n",
    "    print(result)"
   ]
  },
  {
   "cell_type": "markdown",
   "metadata": {},
   "source": [
    "### [11] AttributeError : "
   ]
  },
  {
   "cell_type": "code",
   "execution_count": 57,
   "metadata": {},
   "outputs": [
    {
     "name": "stdout",
     "output_type": "stream",
     "text": [
      "'age' object has no attribute.\n"
     ]
    }
   ],
   "source": [
    "try:\n",
    "    age = 20\n",
    "# Using append method\n",
    "    age.append(12)\n",
    "except AttributeError:\n",
    "    print(\"'age' object has no attribute.\")\n",
    "else:\n",
    "    print(result)"
   ]
  },
  {
   "cell_type": "markdown",
   "metadata": {},
   "source": [
    "### [12] SyntaxError : "
   ]
  },
  {
   "cell_type": "code",
   "execution_count": 58,
   "metadata": {},
   "outputs": [
    {
     "ename": "SyntaxError",
     "evalue": "'(' was never closed (3830459839.py, line 2)",
     "output_type": "error",
     "traceback": [
      "\u001b[1;36m  Cell \u001b[1;32mIn[58], line 2\u001b[1;36m\u001b[0m\n\u001b[1;33m    print(\"John age is:\"\u001b[0m\n\u001b[1;37m         ^\u001b[0m\n\u001b[1;31mSyntaxError\u001b[0m\u001b[1;31m:\u001b[0m '(' was never closed\n"
     ]
    }
   ],
   "source": [
    "try:\n",
    "    print(\"John age is:\"\n",
    "    age = 20\n",
    "except SyntaxError:\n",
    "    print(\"Error: Invalid syntax.\")"
   ]
  },
  {
   "cell_type": "markdown",
   "metadata": {},
   "source": [
    "### [13] IndentationError :"
   ]
  },
  {
   "cell_type": "code",
   "execution_count": 60,
   "metadata": {},
   "outputs": [
    {
     "ename": "IndentationError",
     "evalue": "unexpected indent (2182966273.py, line 3)",
     "output_type": "error",
     "traceback": [
      "\u001b[1;36m  Cell \u001b[1;32mIn[60], line 3\u001b[1;36m\u001b[0m\n\u001b[1;33m    age = 50\u001b[0m\n\u001b[1;37m    ^\u001b[0m\n\u001b[1;31mIndentationError\u001b[0m\u001b[1;31m:\u001b[0m unexpected indent\n"
     ]
    }
   ],
   "source": [
    "try:\n",
    "    name = \"John\"\n",
    "        age = 50\n",
    "except IndentationError:\n",
    "    print(\"There is an IndentationError\")"
   ]
  },
  {
   "cell_type": "markdown",
   "metadata": {},
   "source": [
    "### [14] NameError : "
   ]
  },
  {
   "cell_type": "code",
   "execution_count": 61,
   "metadata": {},
   "outputs": [
    {
     "name": "stdout",
     "output_type": "stream",
     "text": [
      "NameError is there\n"
     ]
    }
   ],
   "source": [
    "try:\n",
    "    side = \"4\"\n",
    "    print(area) # Attempting to access an undefined variable\n",
    "except NameError:\n",
    "    print(\"NameError is there\")"
   ]
  },
  {
   "cell_type": "markdown",
   "metadata": {},
   "source": [
    "# [B] User-defined Exceptions Handling:\n",
    "- We have to write code + Handling the 'errors' also\n",
    "- By deriving a new class from the default Exception class in Python, we can define our own exception types."
   ]
  },
  {
   "cell_type": "code",
   "execution_count": 62,
   "metadata": {},
   "outputs": [
    {
     "ename": "IndentationError",
     "evalue": "expected an indented block after class definition on line 1 (3017736511.py, line 2)",
     "output_type": "error",
     "traceback": [
      "\u001b[1;36m  Cell \u001b[1;32mIn[62], line 2\u001b[1;36m\u001b[0m\n\u001b[1;33m    pass\u001b[0m\n\u001b[1;37m    ^\u001b[0m\n\u001b[1;31mIndentationError\u001b[0m\u001b[1;31m:\u001b[0m expected an indented block after class definition on line 1\n"
     ]
    }
   ],
   "source": [
    "class MyCustomError(Exception):\n",
    "pass"
   ]
  },
  {
   "cell_type": "markdown",
   "metadata": {},
   "source": [
    "- In the above code, MyCustomError is derived from the built-in Exception class. You can use this in your\n",
    "code by using the raise statement."
   ]
  },
  {
   "cell_type": "code",
   "execution_count": 63,
   "metadata": {},
   "outputs": [
    {
     "ename": "NameError",
     "evalue": "name 'MyCustomError' is not defined",
     "output_type": "error",
     "traceback": [
      "\u001b[1;31m---------------------------------------------------------------------------\u001b[0m",
      "\u001b[1;31mNameError\u001b[0m                                 Traceback (most recent call last)",
      "Cell \u001b[1;32mIn[63], line 1\u001b[0m\n\u001b[1;32m----> 1\u001b[0m \u001b[38;5;28;01mraise\u001b[39;00m \u001b[43mMyCustomError\u001b[49m(\u001b[38;5;124m\"\u001b[39m\u001b[38;5;124mThis is a custom error\u001b[39m\u001b[38;5;124m\"\u001b[39m)\n",
      "\u001b[1;31mNameError\u001b[0m: name 'MyCustomError' is not defined"
     ]
    }
   ],
   "source": [
    "raise MyCustomError(\"This is a custom error\")"
   ]
  },
  {
   "cell_type": "markdown",
   "metadata": {},
   "source": [
    "### Custom Exception"
   ]
  },
  {
   "cell_type": "code",
   "execution_count": 64,
   "metadata": {},
   "outputs": [],
   "source": [
    "# define user-defined exceptions\n",
    "class WrongAge(Exception):\n",
    "    \"Raised when the input value is less than 100\"\n",
    "    pass"
   ]
  },
  {
   "cell_type": "code",
   "execution_count": 65,
   "metadata": {},
   "outputs": [
    {
     "name": "stdout",
     "output_type": "stream",
     "text": [
      "Invalid Age: You are not allowed to work\n"
     ]
    }
   ],
   "source": [
    "# you need to guess this number\n",
    "n = 18\n",
    "try:\n",
    "    input_num = 16\n",
    "    if input_num < n:\n",
    "        raise WrongAge # calling your custom exception\n",
    "    else:\n",
    "        print(\"You can work\")\n",
    "except WrongAge:\n",
    "    print(\"Invalid Age: You are not allowed to work\")"
   ]
  },
  {
   "cell_type": "markdown",
   "metadata": {},
   "source": [
    "# logger [or] log file [Error shown command]\n",
    "- Logging is a technique for monitoring events that take place when some software is in use.\n",
    "- For the creation, operation, and debugging of software, logging is crucial.\n",
    "- There are very little odds that you would find the source of the issue if your programme fails and you don't\n",
    "have any logging records.\n",
    "- Additionally, it will take a lot of time to identify the cause.\n",
    "\n",
    "- Other than \"print\" we are having \"logger\" \n",
    "- It wont allow Kammas. \n",
    "- It will take only \"one String\"\n",
    "- It is a type of \"error showing command\"\n",
    "- It will generate a file with \".log\" \n",
    "    - Ex: Exp.log\n",
    "- This \"log file\" will tell at \n",
    "    - what time the error was captutred, \n",
    "    - from which file the error was captured, \n",
    "    - What was the function it was captured, \n",
    "    - what is the line number it is coming from.\n",
    "\n",
    "- Log levels:\n",
    "    - 5 types\n",
    "        - 1. info\n",
    "        - 2. Debug\n",
    "        - 3. Warning\n",
    "        - 4. Error\n",
    "        - 5. Critical"
   ]
  },
  {
   "cell_type": "code",
   "execution_count": 66,
   "metadata": {},
   "outputs": [
    {
     "name": "stderr",
     "output_type": "stream",
     "text": [
      "DEBUG:root:This is a debug message\n",
      "INFO:root:This is an info message\n",
      "WARNING:root:This is a warning message\n",
      "ERROR:root:This is an error message\n",
      "CRITICAL:root:This is a critical message\n"
     ]
    }
   ],
   "source": [
    "#first import the logging library\n",
    "import logging\n",
    "\n",
    "\"\"\" In the code above, we first import the logging module, then we call the basicConfig method to configure the logging.\n",
    "We set the level to DEBUG, which means that all logs of level DEBUG and above will be tracked.\"\"\"\n",
    "\n",
    "logging.basicConfig(level=logging.DEBUG)\n",
    "# Logging Level: severity of the event being logged\n",
    "# Least severe to most severe DEBUG > INFO > WARNING > ERROR > CRITICAL\n",
    "\n",
    "logging.debug('This is a debug message')\n",
    "logging.info('This is an info message')\n",
    "logging.warning('This is a warning message')\n",
    "logging.error('This is an error message')\n",
    "logging.critical('This is a critical message')"
   ]
  },
  {
   "cell_type": "markdown",
   "metadata": {},
   "source": [
    "- Some programmers utilise the idea of \"Printing\" the statements to check whether they were correctly performed or if an error had occurred.\n",
    "- However, printing is not a smart move. For basic scripts, it might be the answer to your problems, however the printing solution will fall short for complex programmes.\n",
    "- A built-in Python package called logging enables publishing status messages to files or other output\n",
    "streams. The file may provide details about which portion of the code is run and any issues that have come\n",
    "up.\n",
    "\n",
    "- Here are the different log levels in increasing order of severity:\n",
    "    - [a] DEBUG: \n",
    "        - Detailed information, typically of interest only when diagnosing problems.\n",
    "    - [b] INFO: \n",
    "        - Confirmation that things are working as expected.\n",
    "    - [c] WARNING: \n",
    "        - An indication that something unexpected happened, or may happen in the future (e.g. ‘disk space low’).\n",
    "        - The software is still working as expected.\n",
    "    - [d] ERROR: \n",
    "        - More serious problem that prevented the software from performing a function.\n",
    "    - [e] CRITICAL ERRORS: \n",
    "        - A very serious error, indicating that the program itself may be unable to continue running."
   ]
  },
  {
   "cell_type": "markdown",
   "metadata": {},
   "source": [
    "## [a] DEBUG:"
   ]
  },
  {
   "cell_type": "code",
   "execution_count": 68,
   "metadata": {},
   "outputs": [
    {
     "name": "stderr",
     "output_type": "stream",
     "text": [
      "DEBUG:root:Variables are 1 and 2\n"
     ]
    },
    {
     "data": {
      "text/plain": [
       "3"
      ]
     },
     "execution_count": 68,
     "metadata": {},
     "output_type": "execute_result"
    }
   ],
   "source": [
    "import logging\n",
    "logging.basicConfig(level=logging.DEBUG)\n",
    "def add(x, y):\n",
    "    logging.debug('Variables are %s and %s', x, y)\n",
    "    return x + y\n",
    "add(1, 2)"
   ]
  },
  {
   "cell_type": "markdown",
   "metadata": {},
   "source": [
    "## [b] INFO"
   ]
  },
  {
   "cell_type": "code",
   "execution_count": 69,
   "metadata": {},
   "outputs": [
    {
     "name": "stderr",
     "output_type": "stream",
     "text": [
      "INFO:root:User Admin User logged in\n"
     ]
    }
   ],
   "source": [
    "import logging\n",
    "logging.basicConfig(level=logging.INFO)\n",
    "def login(user):\n",
    "    logging.info('User %s logged in', user)\n",
    "login('Admin User')"
   ]
  },
  {
   "cell_type": "markdown",
   "metadata": {},
   "source": [
    "## [c] WARNING:"
   ]
  },
  {
   "cell_type": "code",
   "execution_count": 70,
   "metadata": {},
   "outputs": [
    {
     "name": "stderr",
     "output_type": "stream",
     "text": [
      "WARNING:root:Sorry you have Low balance: 10000\n"
     ]
    }
   ],
   "source": [
    "import logging\n",
    "logging.basicConfig(level=logging.WARNING)\n",
    "def MyBalance(amount):\n",
    "    if amount < 40000:\n",
    "        logging.warning('Sorry you have Low balance: %s', amount)\n",
    "MyBalance(10000)"
   ]
  },
  {
   "cell_type": "markdown",
   "metadata": {},
   "source": [
    "## [d] ERROR:"
   ]
  },
  {
   "cell_type": "code",
   "execution_count": 71,
   "metadata": {},
   "outputs": [
    {
     "name": "stderr",
     "output_type": "stream",
     "text": [
      "ERROR:root:You are trying to divide by zero, which is not allowed\n"
     ]
    }
   ],
   "source": [
    "import logging\n",
    "logging.basicConfig(level=logging.ERROR)\n",
    "def LetUsDivide(n, d):\n",
    "    try:\n",
    "        result = n / d\n",
    "    except ZeroDivisionError:\n",
    "        logging.error('You are trying to divide by zero, which is not allowed')\n",
    "    else:\n",
    "        return result\n",
    "LetUsDivide(4, 0)"
   ]
  },
  {
   "cell_type": "markdown",
   "metadata": {},
   "source": [
    "## [e] CRITICAL ERRORS:"
   ]
  },
  {
   "cell_type": "code",
   "execution_count": 72,
   "metadata": {},
   "outputs": [
    {
     "name": "stderr",
     "output_type": "stream",
     "text": [
      "CRITICAL:root:System failure: You need to handle the issue now\n"
     ]
    }
   ],
   "source": [
    "import logging\n",
    "logging.basicConfig(level=logging.CRITICAL)\n",
    "def LetUsCheckSystem(sys):\n",
    "    if sys != 'OK':\n",
    "        logging.critical('System failure: %s', sys)\n",
    "LetUsCheckSystem('You need to handle the issue now')"
   ]
  },
  {
   "cell_type": "markdown",
   "metadata": {},
   "source": [
    "# Save to a file | Working with Files"
   ]
  },
  {
   "cell_type": "code",
   "execution_count": 74,
   "metadata": {},
   "outputs": [
    {
     "ename": "PermissionError",
     "evalue": "[WinError 5] Access is denied: 'C:\\\\Users\\\\Dell'",
     "output_type": "error",
     "traceback": [
      "\u001b[1;31m---------------------------------------------------------------------------\u001b[0m",
      "\u001b[1;31mPermissionError\u001b[0m                           Traceback (most recent call last)",
      "Cell \u001b[1;32mIn[74], line 7\u001b[0m\n\u001b[0;32m      5\u001b[0m full_path \u001b[38;5;241m=\u001b[39m os\u001b[38;5;241m.\u001b[39mpath\u001b[38;5;241m.\u001b[39mjoin(dir_path, log_file)\n\u001b[0;32m      6\u001b[0m \u001b[38;5;66;03m# Check if the directory exists and create it if necessary\u001b[39;00m\n\u001b[1;32m----> 7\u001b[0m \u001b[43mos\u001b[49m\u001b[38;5;241;43m.\u001b[39;49m\u001b[43mmakedirs\u001b[49m\u001b[43m(\u001b[49m\u001b[43mdir_path\u001b[49m\u001b[43m,\u001b[49m\u001b[43m \u001b[49m\u001b[43mexist_ok\u001b[49m\u001b[38;5;241;43m=\u001b[39;49m\u001b[38;5;28;43;01mTrue\u001b[39;49;00m\u001b[43m)\u001b[49m\n\u001b[0;32m      8\u001b[0m \u001b[38;5;66;03m# Try writing a test message to the file\u001b[39;00m\n\u001b[0;32m      9\u001b[0m \u001b[38;5;28;01mwith\u001b[39;00m \u001b[38;5;28mopen\u001b[39m(full_path, \u001b[38;5;124m'\u001b[39m\u001b[38;5;124mw\u001b[39m\u001b[38;5;124m'\u001b[39m) \u001b[38;5;28;01mas\u001b[39;00m f:\n",
      "File \u001b[1;32mc:\\Users\\HP\\AppData\\Local\\Programs\\Python\\Python310\\lib\\os.py:215\u001b[0m, in \u001b[0;36mmakedirs\u001b[1;34m(name, mode, exist_ok)\u001b[0m\n\u001b[0;32m    213\u001b[0m \u001b[38;5;28;01mif\u001b[39;00m head \u001b[38;5;129;01mand\u001b[39;00m tail \u001b[38;5;129;01mand\u001b[39;00m \u001b[38;5;129;01mnot\u001b[39;00m path\u001b[38;5;241m.\u001b[39mexists(head):\n\u001b[0;32m    214\u001b[0m     \u001b[38;5;28;01mtry\u001b[39;00m:\n\u001b[1;32m--> 215\u001b[0m         \u001b[43mmakedirs\u001b[49m\u001b[43m(\u001b[49m\u001b[43mhead\u001b[49m\u001b[43m,\u001b[49m\u001b[43m \u001b[49m\u001b[43mexist_ok\u001b[49m\u001b[38;5;241;43m=\u001b[39;49m\u001b[43mexist_ok\u001b[49m\u001b[43m)\u001b[49m\n\u001b[0;32m    216\u001b[0m     \u001b[38;5;28;01mexcept\u001b[39;00m \u001b[38;5;167;01mFileExistsError\u001b[39;00m:\n\u001b[0;32m    217\u001b[0m         \u001b[38;5;66;03m# Defeats race condition when another thread created the path\u001b[39;00m\n\u001b[0;32m    218\u001b[0m         \u001b[38;5;28;01mpass\u001b[39;00m\n",
      "File \u001b[1;32mc:\\Users\\HP\\AppData\\Local\\Programs\\Python\\Python310\\lib\\os.py:215\u001b[0m, in \u001b[0;36mmakedirs\u001b[1;34m(name, mode, exist_ok)\u001b[0m\n\u001b[0;32m    213\u001b[0m \u001b[38;5;28;01mif\u001b[39;00m head \u001b[38;5;129;01mand\u001b[39;00m tail \u001b[38;5;129;01mand\u001b[39;00m \u001b[38;5;129;01mnot\u001b[39;00m path\u001b[38;5;241m.\u001b[39mexists(head):\n\u001b[0;32m    214\u001b[0m     \u001b[38;5;28;01mtry\u001b[39;00m:\n\u001b[1;32m--> 215\u001b[0m         \u001b[43mmakedirs\u001b[49m\u001b[43m(\u001b[49m\u001b[43mhead\u001b[49m\u001b[43m,\u001b[49m\u001b[43m \u001b[49m\u001b[43mexist_ok\u001b[49m\u001b[38;5;241;43m=\u001b[39;49m\u001b[43mexist_ok\u001b[49m\u001b[43m)\u001b[49m\n\u001b[0;32m    216\u001b[0m     \u001b[38;5;28;01mexcept\u001b[39;00m \u001b[38;5;167;01mFileExistsError\u001b[39;00m:\n\u001b[0;32m    217\u001b[0m         \u001b[38;5;66;03m# Defeats race condition when another thread created the path\u001b[39;00m\n\u001b[0;32m    218\u001b[0m         \u001b[38;5;28;01mpass\u001b[39;00m\n",
      "    \u001b[1;31m[... skipping similar frames: makedirs at line 215 (3 times)]\u001b[0m\n",
      "File \u001b[1;32mc:\\Users\\HP\\AppData\\Local\\Programs\\Python\\Python310\\lib\\os.py:215\u001b[0m, in \u001b[0;36mmakedirs\u001b[1;34m(name, mode, exist_ok)\u001b[0m\n\u001b[0;32m    213\u001b[0m \u001b[38;5;28;01mif\u001b[39;00m head \u001b[38;5;129;01mand\u001b[39;00m tail \u001b[38;5;129;01mand\u001b[39;00m \u001b[38;5;129;01mnot\u001b[39;00m path\u001b[38;5;241m.\u001b[39mexists(head):\n\u001b[0;32m    214\u001b[0m     \u001b[38;5;28;01mtry\u001b[39;00m:\n\u001b[1;32m--> 215\u001b[0m         \u001b[43mmakedirs\u001b[49m\u001b[43m(\u001b[49m\u001b[43mhead\u001b[49m\u001b[43m,\u001b[49m\u001b[43m \u001b[49m\u001b[43mexist_ok\u001b[49m\u001b[38;5;241;43m=\u001b[39;49m\u001b[43mexist_ok\u001b[49m\u001b[43m)\u001b[49m\n\u001b[0;32m    216\u001b[0m     \u001b[38;5;28;01mexcept\u001b[39;00m \u001b[38;5;167;01mFileExistsError\u001b[39;00m:\n\u001b[0;32m    217\u001b[0m         \u001b[38;5;66;03m# Defeats race condition when another thread created the path\u001b[39;00m\n\u001b[0;32m    218\u001b[0m         \u001b[38;5;28;01mpass\u001b[39;00m\n",
      "File \u001b[1;32mc:\\Users\\HP\\AppData\\Local\\Programs\\Python\\Python310\\lib\\os.py:225\u001b[0m, in \u001b[0;36mmakedirs\u001b[1;34m(name, mode, exist_ok)\u001b[0m\n\u001b[0;32m    223\u001b[0m         \u001b[38;5;28;01mreturn\u001b[39;00m\n\u001b[0;32m    224\u001b[0m \u001b[38;5;28;01mtry\u001b[39;00m:\n\u001b[1;32m--> 225\u001b[0m     \u001b[43mmkdir\u001b[49m\u001b[43m(\u001b[49m\u001b[43mname\u001b[49m\u001b[43m,\u001b[49m\u001b[43m \u001b[49m\u001b[43mmode\u001b[49m\u001b[43m)\u001b[49m\n\u001b[0;32m    226\u001b[0m \u001b[38;5;28;01mexcept\u001b[39;00m \u001b[38;5;167;01mOSError\u001b[39;00m:\n\u001b[0;32m    227\u001b[0m     \u001b[38;5;66;03m# Cannot rely on checking for EEXIST, since the operating system\u001b[39;00m\n\u001b[0;32m    228\u001b[0m     \u001b[38;5;66;03m# could give priority to other errors like EACCES or EROFS\u001b[39;00m\n\u001b[0;32m    229\u001b[0m     \u001b[38;5;28;01mif\u001b[39;00m \u001b[38;5;129;01mnot\u001b[39;00m exist_ok \u001b[38;5;129;01mor\u001b[39;00m \u001b[38;5;129;01mnot\u001b[39;00m path\u001b[38;5;241m.\u001b[39misdir(name):\n",
      "\u001b[1;31mPermissionError\u001b[0m: [WinError 5] Access is denied: 'C:\\\\Users\\\\Dell'"
     ]
    }
   ],
   "source": [
    "import os\n",
    "# Specify the directory and file\n",
    "dir_path = r'C:\\Users\\Dell\\Desktop\\June\\Latest\\iNeuron\\Sessions\\17_18June2023'\n",
    "log_file = 'system.txt'\n",
    "full_path = os.path.join(dir_path, log_file)\n",
    "# Check if the directory exists and create it if necessary\n",
    "os.makedirs(dir_path, exist_ok=True)\n",
    "# Try writing a test message to the file\n",
    "with open(full_path, 'w') as f:\n",
    "    f.write('This is a test message')"
   ]
  },
  {
   "cell_type": "code",
   "execution_count": 75,
   "metadata": {},
   "outputs": [
    {
     "name": "stdout",
     "output_type": "stream",
     "text": [
      "d:\\[Z] Python [Sanjeev]\\Python Practice\n"
     ]
    }
   ],
   "source": [
    "import os\n",
    "print(os.getcwd())"
   ]
  },
  {
   "cell_type": "code",
   "execution_count": 78,
   "metadata": {},
   "outputs": [
    {
     "name": "stderr",
     "output_type": "stream",
     "text": [
      "CRITICAL:root:System failure: You need to handle the issue now\n"
     ]
    }
   ],
   "source": [
    "import os\n",
    "from os.path import dirname, join\n",
    "import logging\n",
    "# Specify the directory and file\n",
    "dir_path = \"/Users/abhijitpaul/Documents/Personal/Learning/iNeuron/Classes\"\n",
    "log_file = 'system.txt'\n",
    "full_path = join(dir_path, log_file)\n",
    "# Check if the directory exists and create it if necessary\n",
    "os.makedirs(dir_path, exist_ok=True)\n",
    "# Set up logging\n",
    "# Get a logger instance (this will fetch the root logger)\n",
    "logger = logging.getLogger()\n",
    "# Set the level of the logger to CRITICAL\n",
    "# This means it will handle events of level CRITICAL and above\n",
    "logger.setLevel(logging.CRITICAL)\n",
    "# Create a FileHandler instance to write logs to a file\n",
    "handler = logging.FileHandler(full_path)\n",
    "# Set the format of the logs using a Formatter\n",
    "# This format includes the log timestamp, log level and log message\n",
    "handler.setFormatter(logging.Formatter('%(asctime)s:%(levelname)s:%(message)s'))\n",
    "# Add the handler to the logger\n",
    "# This connects the logger to the handler so that logs get written to the file\n",
    "logger.addHandler(handler)\n",
    "def LetUsCheckSystem(sys):\n",
    "    if sys != 'OK':\n",
    "        logging.critical('System failure: %s', sys)\n",
    "LetUsCheckSystem('You need to handle the issue now')\n",
    "handler.close()"
   ]
  },
  {
   "cell_type": "code",
   "execution_count": null,
   "metadata": {},
   "outputs": [
    {
     "name": "stdout",
     "output_type": "stream",
     "text": [
      "> \u001b[1;32mc:\\users\\hp\\appdata\\local\\temp\\ipykernel_13220\\836841985.py\u001b[0m(4)\u001b[0;36maddition\u001b[1;34m()\u001b[0m\n",
      "\n",
      "(5, 7)\n",
      "23334\n",
      "132\n",
      "132\n",
      "11111\n",
      "11111\n",
      "11111\n",
      "11111\n",
      "11111\n",
      "11111\n",
      "11111\n",
      "11111\n",
      "11111\n",
      "11111\n",
      "11111\n",
      "11111\n",
      "11111\n",
      "11111\n",
      "11111\n",
      "534\n",
      "4e+234\n"
     ]
    }
   ],
   "source": [
    "import pdb\n",
    "def addition(a, b):\n",
    "    pdb.set_trace() # Set a breakpoint here\n",
    "    result = a + b\n",
    "    return result\n",
    "print(addition(5, 7))"
   ]
  },
  {
   "cell_type": "code",
   "execution_count": null,
   "metadata": {},
   "outputs": [],
   "source": []
  }
 ],
 "metadata": {
  "kernelspec": {
   "display_name": "Python 3",
   "language": "python",
   "name": "python3"
  },
  "language_info": {
   "codemirror_mode": {
    "name": "ipython",
    "version": 3
   },
   "file_extension": ".py",
   "mimetype": "text/x-python",
   "name": "python",
   "nbconvert_exporter": "python",
   "pygments_lexer": "ipython3",
   "version": "3.10.5"
  }
 },
 "nbformat": 4,
 "nbformat_minor": 2
}
