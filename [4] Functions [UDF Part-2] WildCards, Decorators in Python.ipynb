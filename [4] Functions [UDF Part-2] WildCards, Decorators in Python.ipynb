{
 "cells": [
  {
   "cell_type": "markdown",
   "metadata": {},
   "source": [
    "#### OS: \n",
    "- If u want to go through all the files that are present in your directory u can use \"OS module\" and walk through the \"current directory\"."
   ]
  },
  {
   "cell_type": "code",
   "execution_count": 2,
   "metadata": {},
   "outputs": [
    {
     "name": "stdout",
     "output_type": "stream",
     "text": [
      "Number of CPUs in the system: 8\n"
     ]
    }
   ],
   "source": [
    "import os\n",
    " \n",
    "cpuCount = os.cpu_count()\n",
    "print(\"Number of CPUs in the system:\", cpuCount)"
   ]
  },
  {
   "cell_type": "code",
   "execution_count": 3,
   "metadata": {},
   "outputs": [
    {
     "data": {
      "text/plain": [
       "'d:\\\\[Z] Python [Sanjeev]\\\\Python Practice'"
      ]
     },
     "execution_count": 3,
     "metadata": {},
     "output_type": "execute_result"
    }
   ],
   "source": [
    "os.getcwd()"
   ]
  },
  {
   "cell_type": "code",
   "execution_count": 4,
   "metadata": {},
   "outputs": [
    {
     "name": "stdout",
     "output_type": "stream",
     "text": [
      ".\\Data\\Preprocessing\n",
      ".\\Data\\dept_data.csv\n",
      ".\\Data\\employee_data.csv\n",
      ".\\Data\\employee_data2.csv\n",
      ".\\Data\\employee_details.csv\n",
      ".\\Data\\ibm_hr.csv\n",
      ".\\Data\\Life_Expectancy_Data.csv\n",
      ".\\Data\\Salary_Data.csv\n",
      ".\\Data\n",
      ".\\Confusion Matrix.xlsx\n",
      ".\\Data Structures & DataType Conversion.docx\n",
      ".\\employee_data2\n",
      ".\\Github link [Sanjeev].docx\n",
      ".\\loops.ipynb\n",
      ".\\test.py\n",
      ".\\Weather Test Data.csv\n",
      ".\\Weather Training Data.csv\n",
      ".\\ZoomInstallerFull.exe\n",
      ".\\[10] Visualizations.ipynb\n",
      ".\\[11] hypothesis.html\n",
      ".\\[11] hypothesis.ipynb\n",
      ".\\[11] Statistics.pptx\n",
      ".\\[12] gitignore.txt\n",
      ".\\[12] Linear Regression.pptx\n",
      ".\\[12] linreg.ipynb\n",
      ".\\[12] t_test.ipynb\n",
      ".\\[13] Multiple Linear Regression.pptx\n",
      ".\\[13] regression.ipynb\n",
      ".\\[14] Bias_Variance.pptx\n",
      ".\\[15] Logistic Regression.pptx\n",
      ".\\[15] log_regression.ipynb\n",
      ".\\[1] Data_structures, Data type Conversion.ipynb\n",
      ".\\[1] Data_structures, Data type Conversion.pdf\n",
      ".\\[2] Control_structures.ipynb\n",
      ".\\[2] Control_structures.pdf\n",
      ".\\[3] In-built_functions & Error handling.ipynb\n",
      ".\\[4] User_defined_functions_Part-1, Arguments.ipynb\n",
      ".\\[5] User_defined_functions_Part-2 [WildCards, Decorators in Python].ipynb\n",
      ".\\[6] Udf_tutorial.ipynb\n",
      ".\\[7] Class inheritance, encapsulation and polymorphism.ipynb\n",
      ".\\[8] Pandas [Data Frame].ipynb\n",
      ".\\[9] Preprocessing.ipynb\n"
     ]
    }
   ],
   "source": [
    "# Driver function \n",
    "import os \n",
    "for root, dirs, files in os.walk(\".\", topdown=False):\n",
    "   for name in dirs:\n",
    "      print(os.path.join(root, name))\n",
    "      for name in files:\n",
    "         print(os.path.join(root, name))\n",
    "   # for name in files:\n",
    "   #    print(os.path.join(root, name))\n",
    "   # for name in dirs:\n",
    "   #    print(os.path.join(root, name))\n",
    "   #    for name in files:\n",
    "   #      print(os.path.join(root, name))"
   ]
  },
  {
   "cell_type": "markdown",
   "metadata": {},
   "source": [
    "# Some more about \"Functions\"\n",
    "## [1] We are passing \"argument\" to the \"function\"\n",
    "- function = to_lower\n",
    "- Argument = text\n",
    "\n",
    "### [a] .lower\n",
    "- Changing to \"lower case\""
   ]
  },
  {
   "cell_type": "code",
   "execution_count": 5,
   "metadata": {},
   "outputs": [
    {
     "data": {
      "text/plain": [
       "'abcdef'"
      ]
     },
     "execution_count": 5,
     "metadata": {},
     "output_type": "execute_result"
    }
   ],
   "source": [
    "def to_lower(text):\n",
    "    print(\"this is lower function\")\n",
    "    return text.lower()\n",
    "\n",
    "\"ABCDEF\".lower()"
   ]
  },
  {
   "cell_type": "code",
   "execution_count": 6,
   "metadata": {},
   "outputs": [
    {
     "name": "stdout",
     "output_type": "stream",
     "text": [
      "this is lower function\n"
     ]
    },
    {
     "data": {
      "text/plain": [
       "'sanjeev'"
      ]
     },
     "execution_count": 6,
     "metadata": {},
     "output_type": "execute_result"
    }
   ],
   "source": [
    "to_lower(\"SANJEEV\")"
   ]
  },
  {
   "cell_type": "markdown",
   "metadata": {},
   "source": [
    "### [b] .upper\n",
    "- Changing to \"upper case\""
   ]
  },
  {
   "cell_type": "code",
   "execution_count": 1,
   "metadata": {},
   "outputs": [
    {
     "data": {
      "text/plain": [
       "'ABC'"
      ]
     },
     "execution_count": 1,
     "metadata": {},
     "output_type": "execute_result"
    }
   ],
   "source": [
    "def to_upper(text):\n",
    "    return text.upper()\n",
    "\n",
    "to_upper(\"abc\")"
   ]
  },
  {
   "cell_type": "markdown",
   "metadata": {},
   "source": [
    "### [c] wrapper:\n",
    "- __This is a \"wrapper function\" which takes a \"function and an argument\" which has to be sent to the function as argument__\n",
    "- From below what we understood that\n",
    "    - 1 argument = func \n",
    "    - 2 argument = text \n",
    "    - \"2 argument (text)\" is the argument which we are sending this \"func\""
   ]
  },
  {
   "cell_type": "code",
   "execution_count": 9,
   "metadata": {},
   "outputs": [],
   "source": [
    "def wrapper(func, text):\n",
    "    \"\"\" this is a wrapper function which takes a function and an argument which has to be sent to the function as argument \"\"\"\n",
    "    wrap = func(text)\n",
    "    print(wrap)"
   ]
  },
  {
   "cell_type": "code",
   "execution_count": 10,
   "metadata": {},
   "outputs": [
    {
     "data": {
      "text/plain": [
       "' this is a wrapper function which takes a function and an argument which has to be sent to the function as argument '"
      ]
     },
     "execution_count": 10,
     "metadata": {},
     "output_type": "execute_result"
    }
   ],
   "source": [
    "# doc string\n",
    "\n",
    "wrapper.__doc__"
   ]
  },
  {
   "cell_type": "code",
   "execution_count": 11,
   "metadata": {},
   "outputs": [
    {
     "name": "stdout",
     "output_type": "stream",
     "text": [
      "this is lower function\n"
     ]
    },
    {
     "data": {
      "text/plain": [
       "'this is junk text'"
      ]
     },
     "execution_count": 11,
     "metadata": {},
     "output_type": "execute_result"
    }
   ],
   "source": [
    "# With out \"wrapper function\"\n",
    "\n",
    "to_lower(\"tHis is junk TEXT\")"
   ]
  },
  {
   "cell_type": "code",
   "execution_count": 12,
   "metadata": {},
   "outputs": [
    {
     "name": "stdout",
     "output_type": "stream",
     "text": [
      "this is lower function\n",
      "this is junk text\n"
     ]
    }
   ],
   "source": [
    "# With \"wrapper function\"\n",
    "\n",
    "wrapper(to_lower, \"tHis is junk TEXT\")"
   ]
  },
  {
   "cell_type": "code",
   "execution_count": 13,
   "metadata": {},
   "outputs": [
    {
     "name": "stdout",
     "output_type": "stream",
     "text": [
      "THIS IS MORE JUNK TEXT\n"
     ]
    }
   ],
   "source": [
    "# With \"wrapper function\"\n",
    "\n",
    "wrapper(to_upper, \"tHis is MORE junk TEXT\")"
   ]
  },
  {
   "cell_type": "markdown",
   "metadata": {},
   "source": [
    "## [2] \"Function\" inside a \"Main function\"\n",
    "- Just like how u cannot access the variable outside the function, \n",
    "- in similar way u cannot access this \"inside function\" outside of the \"main function\""
   ]
  },
  {
   "cell_type": "code",
   "execution_count": 17,
   "metadata": {},
   "outputs": [
    {
     "ename": "NameError",
     "evalue": "name 'fn_name' is not defined",
     "output_type": "error",
     "traceback": [
      "\u001b[1;31m---------------------------------------------------------------------------\u001b[0m",
      "\u001b[1;31mNameError\u001b[0m                                 Traceback (most recent call last)",
      "Cell \u001b[1;32mIn[17], line 4\u001b[0m\n\u001b[0;32m      1\u001b[0m \u001b[38;5;28;01mdef\u001b[39;00m \u001b[38;5;21mouter\u001b[39m(x):\n\u001b[0;32m      2\u001b[0m     \u001b[38;5;28;01mreturn\u001b[39;00m fn_name\n\u001b[1;32m----> 4\u001b[0m \u001b[43mouter\u001b[49m\u001b[43m(\u001b[49m\u001b[38;5;241;43m5\u001b[39;49m\u001b[43m)\u001b[49m\n",
      "Cell \u001b[1;32mIn[17], line 2\u001b[0m, in \u001b[0;36mouter\u001b[1;34m(x)\u001b[0m\n\u001b[0;32m      1\u001b[0m \u001b[38;5;28;01mdef\u001b[39;00m \u001b[38;5;21mouter\u001b[39m(x):\n\u001b[1;32m----> 2\u001b[0m     \u001b[38;5;28;01mreturn\u001b[39;00m \u001b[43mfn_name\u001b[49m\n",
      "\u001b[1;31mNameError\u001b[0m: name 'fn_name' is not defined"
     ]
    }
   ],
   "source": [
    "def outer(x):\n",
    "    return fn_name\n",
    "\n",
    "outer(5)"
   ]
  },
  {
   "cell_type": "code",
   "execution_count": 18,
   "metadata": {},
   "outputs": [],
   "source": [
    "# Outer function    =  outer\n",
    "# Inner function    =  fn_name\n",
    "\n",
    "def outer(x):\n",
    "    def fn_name(y):\n",
    "        return x+y\n",
    "    return fn_name"
   ]
  },
  {
   "cell_type": "code",
   "execution_count": 19,
   "metadata": {},
   "outputs": [
    {
     "ename": "NameError",
     "evalue": "name 'inner' is not defined",
     "output_type": "error",
     "traceback": [
      "\u001b[1;31m---------------------------------------------------------------------------\u001b[0m",
      "\u001b[1;31mNameError\u001b[0m                                 Traceback (most recent call last)",
      "Cell \u001b[1;32mIn[19], line 9\u001b[0m\n\u001b[0;32m      6\u001b[0m         \u001b[38;5;28;01mreturn\u001b[39;00m x \u001b[38;5;241m+\u001b[39m y\n\u001b[0;32m      7\u001b[0m     \u001b[38;5;28;01mreturn\u001b[39;00m inner\n\u001b[1;32m----> 9\u001b[0m \u001b[43minner\u001b[49m(\u001b[38;5;241m5\u001b[39m)\n",
      "\u001b[1;31mNameError\u001b[0m: name 'inner' is not defined"
     ]
    }
   ],
   "source": [
    "# If u call \"inner function\" first means it will through \"error\"\n",
    "# First \"outer functions\" has to call and second \"inner function\" has to call \n",
    "\n",
    "def outer(x):\n",
    "    def inner(y):\n",
    "        return x + y\n",
    "    return inner\n",
    "\n",
    "inner(5)"
   ]
  },
  {
   "cell_type": "code",
   "execution_count": 21,
   "metadata": {},
   "outputs": [],
   "source": [
    "# Calling \"outer function\" first\n",
    "\n",
    "outer(10)\n",
    "add_ten = outer(10)          # 10 = x variable"
   ]
  },
  {
   "cell_type": "code",
   "execution_count": 23,
   "metadata": {},
   "outputs": [
    {
     "name": "stdout",
     "output_type": "stream",
     "text": [
      "<function outer.<locals>.inner at 0x000001F83A108430>\n"
     ]
    }
   ],
   "source": [
    "# 0x000002705F3AA290> = Memory Address\n",
    "\n",
    "print(add_ten)"
   ]
  },
  {
   "cell_type": "code",
   "execution_count": 24,
   "metadata": {},
   "outputs": [
    {
     "name": "stdout",
     "output_type": "stream",
     "text": [
      "16\n"
     ]
    }
   ],
   "source": [
    "# Now what i will do, to add '10' i am going to pass a new variable called '6' (y)   \n",
    "result = add_ten(6)\n",
    "print(result)"
   ]
  },
  {
   "cell_type": "code",
   "execution_count": 25,
   "metadata": {},
   "outputs": [
    {
     "data": {
      "text/plain": [
       "13"
      ]
     },
     "execution_count": 25,
     "metadata": {},
     "output_type": "execute_result"
    }
   ],
   "source": [
    "def add(x, y):\n",
    "    return x + y\n",
    "\n",
    "add(5, 8)"
   ]
  },
  {
   "cell_type": "code",
   "execution_count": 26,
   "metadata": {},
   "outputs": [
    {
     "data": {
      "text/plain": [
       "13"
      ]
     },
     "execution_count": 26,
     "metadata": {},
     "output_type": "execute_result"
    }
   ],
   "source": [
    "# By using \"Wrapper\"\n",
    "def calculate(func, x, y):\n",
    "    return func(x, y)\n",
    "\n",
    "calculate(add, 5, 8)"
   ]
  },
  {
   "cell_type": "markdown",
   "metadata": {},
   "source": [
    "#### So far we undestand that, \n",
    "- [1] We have a capability of passing \"function as an argument\"\n",
    "- [2] Writing \"one more function\" within a function \n",
    "- [3] We can call the \"outer function\" and then call the \"inner function\" and make use of both the functions"
   ]
  },
  {
   "cell_type": "markdown",
   "metadata": {},
   "source": [
    "# Decorators"
   ]
  },
  {
   "cell_type": "markdown",
   "metadata": {},
   "source": [
    "#### Different topic:\n",
    "- To calculate the \"time\" taken for executing \"each function\" we will use the codes like\n",
    "    - [A] Starting time i have to write code as----- \"start_time=time.now()\" & \n",
    "    - [B] Ending time i have to write code as ------\"print(time.now()-start_time)\" "
   ]
  },
  {
   "cell_type": "code",
   "execution_count": 27,
   "metadata": {},
   "outputs": [
    {
     "ename": "NameError",
     "evalue": "name 'time' is not defined",
     "output_type": "error",
     "traceback": [
      "\u001b[1;31m---------------------------------------------------------------------------\u001b[0m",
      "\u001b[1;31mNameError\u001b[0m                                 Traceback (most recent call last)",
      "Cell \u001b[1;32mIn[27], line 8\u001b[0m\n\u001b[0;32m      5\u001b[0m         \u001b[38;5;28mprint\u001b[39m(\u001b[38;5;124mf\u001b[39m\u001b[38;5;124m\"\u001b[39m\u001b[38;5;124m the optional values are \u001b[39m\u001b[38;5;132;01m{\u001b[39;00mkey\u001b[38;5;132;01m}\u001b[39;00m\u001b[38;5;124m = \u001b[39m\u001b[38;5;132;01m{\u001b[39;00mvalues\u001b[38;5;132;01m}\u001b[39;00m\u001b[38;5;124m\"\u001b[39m)\n\u001b[0;32m      6\u001b[0m     \u001b[38;5;28mprint\u001b[39m(time\u001b[38;5;241m.\u001b[39mnow()\u001b[38;5;241m-\u001b[39mstart_time)\n\u001b[1;32m----> 8\u001b[0m \u001b[43mmyfun\u001b[49m\u001b[43m(\u001b[49m\u001b[38;5;241;43m1\u001b[39;49m\u001b[43m,\u001b[49m\u001b[43m \u001b[49m\u001b[43mname\u001b[49m\u001b[38;5;241;43m=\u001b[39;49m\u001b[38;5;124;43m'\u001b[39;49m\u001b[38;5;124;43msanjeev\u001b[39;49m\u001b[38;5;124;43m'\u001b[39;49m\u001b[43m,\u001b[49m\u001b[43m \u001b[49m\u001b[43mage\u001b[49m\u001b[38;5;241;43m=\u001b[39;49m\u001b[38;5;241;43m36\u001b[39;49m\u001b[43m,\u001b[49m\u001b[43m \u001b[49m\u001b[43mcoo\u001b[49m\u001b[38;5;241;43m=\u001b[39;49m\u001b[38;5;124;43m'\u001b[39;49m\u001b[38;5;124;43mIndia\u001b[39;49m\u001b[38;5;124;43m'\u001b[39;49m\u001b[43m)\u001b[49m\n",
      "Cell \u001b[1;32mIn[27], line 2\u001b[0m, in \u001b[0;36mmyfun\u001b[1;34m(arg1, **kwargs)\u001b[0m\n\u001b[0;32m      1\u001b[0m \u001b[38;5;28;01mdef\u001b[39;00m \u001b[38;5;21mmyfun\u001b[39m(arg1, \u001b[38;5;241m*\u001b[39m\u001b[38;5;241m*\u001b[39mkwargs):\n\u001b[1;32m----> 2\u001b[0m     start_time\u001b[38;5;241m=\u001b[39m\u001b[43mtime\u001b[49m\u001b[38;5;241m.\u001b[39mnow()\n\u001b[0;32m      3\u001b[0m     \u001b[38;5;28mprint\u001b[39m(\u001b[38;5;124mf\u001b[39m\u001b[38;5;124m\"\u001b[39m\u001b[38;5;124mthe mandatory value is \u001b[39m\u001b[38;5;132;01m{\u001b[39;00marg1\u001b[38;5;132;01m}\u001b[39;00m\u001b[38;5;124m\"\u001b[39m)\n\u001b[0;32m      4\u001b[0m     \u001b[38;5;28;01mfor\u001b[39;00m key, values \u001b[38;5;129;01min\u001b[39;00m kwargs\u001b[38;5;241m.\u001b[39mitems():\n",
      "\u001b[1;31mNameError\u001b[0m: name 'time' is not defined"
     ]
    }
   ],
   "source": [
    "def myfun(arg1, **kwargs):\n",
    "    start_time=time.now()\n",
    "    print(f\"the mandatory value is {arg1}\")\n",
    "    for key, values in kwargs.items():\n",
    "        print(f\" the optional values are {key} = {values}\")\n",
    "    print(time.now()-start_time)\n",
    "\n",
    "myfun(1, name='sanjeev', age=36, coo='India')"
   ]
  },
  {
   "cell_type": "markdown",
   "metadata": {},
   "source": [
    "- Imagine that if u have 100's of functions, it is very difficult to write above \"2 lines of code\". So we have to go in a easy way.\n",
    "- i,e If u want to make it \"dynamic\" for all the functions then we are having \"Decorators\".\n",
    "- Decorators are used to understand that \"how much time it will take to  execute a function\", so that i can improve my applications through put.\n",
    "### [or]\n",
    "- everytime we have to write above 2 lines of code for every function\n",
    "- It is time taking process\n",
    "- so to avoid that we will use \"Decorator\"\n",
    "- If we want to achieve the same functionality in all the functions irrespective of what type of function it may be. \n",
    "- In that places we will use \"Decorator\""
   ]
  },
  {
   "cell_type": "code",
   "execution_count": 28,
   "metadata": {},
   "outputs": [],
   "source": [
    "# Outer function = make_pretty\n",
    "# Inner function = inner\n",
    "\n",
    "def make_pretty(func):\n",
    "    def inner():\n",
    "        print(\"decorated\")\n",
    "        func()\n",
    "    return inner"
   ]
  },
  {
   "cell_type": "code",
   "execution_count": 38,
   "metadata": {},
   "outputs": [
    {
     "name": "stdout",
     "output_type": "stream",
     "text": [
      "oridinary\n"
     ]
    }
   ],
   "source": [
    "# Writing an \"ordinary function\"\n",
    "\n",
    "def ordinary():\n",
    "    print(\"oridinary\")\n",
    "\n",
    "ordinary()"
   ]
  },
  {
   "cell_type": "markdown",
   "metadata": {},
   "source": [
    "## We can make use of \"decorator\" like below\n",
    "- We have to write \"\"@make_pretty\" on top of the \"function\"\n",
    "\n",
    "- write \"@make_pretty\" on the top of the \"ordinary function\"\n",
    "- Now whenever this \"ordinary function\" is called it will not directly called \"ordinary function\". First it will call \"@make_pretty\"\n",
    "- In \"make_pretty\" it will pass \"ordinary function variable\" and execute rest of same like process."
   ]
  },
  {
   "cell_type": "code",
   "execution_count": 29,
   "metadata": {},
   "outputs": [
    {
     "name": "stdout",
     "output_type": "stream",
     "text": [
      "decorated\n",
      "oridinary\n"
     ]
    }
   ],
   "source": [
    "@make_pretty\n",
    "def ordinary():\n",
    "    print(\"oridinary\")\n",
    "\n",
    "ordinary()"
   ]
  },
  {
   "cell_type": "markdown",
   "metadata": {},
   "source": [
    "## [or]"
   ]
  },
  {
   "cell_type": "code",
   "execution_count": 30,
   "metadata": {},
   "outputs": [
    {
     "name": "stdout",
     "output_type": "stream",
     "text": [
      "decorated\n",
      "decorated\n",
      "oridinary\n"
     ]
    }
   ],
   "source": [
    "fn = make_pretty(ordinary)\n",
    "fn()"
   ]
  },
  {
   "cell_type": "markdown",
   "metadata": {},
   "source": [
    "## Modules & Packages:"
   ]
  },
  {
   "cell_type": "markdown",
   "metadata": {},
   "source": [
    "## [i] Module:\n",
    "- It is something just simple a \"python file\"\n",
    "- Ex: \"test.py\" file is my module. [It is a separate .py file saved along with my current running .py file]\n",
    "- In \"test.py\" i am having \"2 functions\"\n",
    "- I can import this \"2 functions\" directly for my usage.\n",
    "\n",
    "    - [Q] How can we import this 2 functions?\n",
    "    - Ans: go to my current running .py file and write a code like\n",
    "        - \"import test\"\n",
    "            - test.function1()\n",
    "            - Ans: 5\n",
    "##### Ex: \n",
    "- 'Time' is one module, \n",
    "    - import time\n",
    "- 'math' is one module in python\n",
    "    - import math\n",
    "    \n",
    "##### Note:\n",
    "- Module is having only \"python.py\" file"
   ]
  },
  {
   "cell_type": "markdown",
   "metadata": {},
   "source": [
    "## [ii] Package:\n",
    "- It is nothing but where u have a \"sub-note books\"\n",
    "##### EX: If u r importing any package means, it will have below files also.\n",
    "#### [a] \"main.py\" file\n",
    "- It will contains \"1 main.py\" file which is sitting in the \"main directory\" i,e TRAINING2  \n",
    "- It imports couple of \"modules\" that are part of my \"package\"(mypkg.py).\n",
    "#### [b] \"mypkg.py\" folder\n",
    "- Inside \"main.py\" file we will have a \"mypkg.py\" folder\n",
    "- Inside u will have a \"operations.py\" file\n",
    "- Inside u will have a \"__init__.py\" file\n",
    "    #### [c] \"operations.py\" file\n",
    "    - Inside i am having \"function\"\n",
    "        - i,e \"function\" (add_name)\n",
    "\n",
    "#### NOTE: \n",
    "- For this \"import module to work\" we need \"__init__.py\" file.\n",
    "\n",
    "#### Note: \n",
    "- Package is having \"__init__\" file followed by different \"python.py\" files\n",
    "- Module is having only \"python.py\" file"
   ]
  },
  {
   "cell_type": "code",
   "execution_count": 35,
   "metadata": {},
   "outputs": [
    {
     "ename": "ImportError",
     "evalue": "cannot import name 'function1' from 'test' (c:\\Users\\HP\\AppData\\Local\\Programs\\Python\\Python310\\lib\\test\\__init__.py)",
     "output_type": "error",
     "traceback": [
      "\u001b[1;31m---------------------------------------------------------------------------\u001b[0m",
      "\u001b[1;31mImportError\u001b[0m                               Traceback (most recent call last)",
      "Cell \u001b[1;32mIn[35], line 5\u001b[0m\n\u001b[0;32m      2\u001b[0m \u001b[38;5;28;01mimport\u001b[39;00m \u001b[38;5;21;01mtest\u001b[39;00m\n\u001b[0;32m      4\u001b[0m \u001b[38;5;66;03m# Import \"function-1\" from \"test.py\" file\u001b[39;00m\n\u001b[1;32m----> 5\u001b[0m \u001b[38;5;28;01mfrom\u001b[39;00m \u001b[38;5;21;01mtest\u001b[39;00m \u001b[38;5;28;01mimport\u001b[39;00m function1\n\u001b[0;32m      7\u001b[0m \u001b[38;5;66;03m# Import \"function-1\" from \"test.py\" file\u001b[39;00m\n\u001b[0;32m      8\u001b[0m test\u001b[38;5;241m.\u001b[39mfunction1()\n",
      "\u001b[1;31mImportError\u001b[0m: cannot import name 'function1' from 'test' (c:\\Users\\HP\\AppData\\Local\\Programs\\Python\\Python310\\lib\\test\\__init__.py)"
     ]
    }
   ],
   "source": [
    "# Imported \"text.py\" file here\n",
    "import test\n",
    "\n",
    "# Import \"function-1\" from \"test.py\" file\n",
    "from test import function1\n",
    "\n",
    "# Import \"function-1\" from \"test.py\" file\n",
    "test.function1()"
   ]
  },
  {
   "cell_type": "code",
   "execution_count": 112,
   "metadata": {},
   "outputs": [],
   "source": [
    "# Do not overwrite functions which are imported from other modules.\n",
    "# Means in \"test.py\" file we imported function name \"function1()\" and \n",
    "# we should not give the same name \"function1()\" while creating the new function in that same code. \n",
    "# This is just to explain that the new function replaces the imported function.\n",
    "# This is the bad way of writing a code.\n",
    "\n",
    "def function1():\n",
    "    return"
   ]
  },
  {
   "cell_type": "code",
   "execution_count": 113,
   "metadata": {},
   "outputs": [],
   "source": [
    "function1()"
   ]
  },
  {
   "cell_type": "markdown",
   "metadata": {},
   "source": [
    "##### Let us use \"decorators\" to calculate time a function takes to operate"
   ]
  },
  {
   "cell_type": "markdown",
   "metadata": {},
   "source": [
    "##### These are default \"modules\" present in python while downloaded in to my pc."
   ]
  },
  {
   "cell_type": "code",
   "execution_count": 38,
   "metadata": {},
   "outputs": [],
   "source": [
    "import time\n",
    "import math"
   ]
  },
  {
   "cell_type": "code",
   "execution_count": 39,
   "metadata": {},
   "outputs": [],
   "source": [
    "def calculate_time(func):                                                       # here we are giving \"func\" as an argument\n",
    "    def core_time_calculator(*args, **kwargs):                                  # \"Inner function\" is created inside of \"Outer function\"\n",
    "        start_time = time.time()\n",
    "        end_time = time.time()\n",
    "        func(*args, **kwargs)                                                   # Calling the main function in sub-function\n",
    "        print(f\"Time taken to execute is :{end_time-start_time} seconds\")\n",
    "    return core_time_calculator"
   ]
  },
  {
   "cell_type": "code",
   "execution_count": 40,
   "metadata": {},
   "outputs": [],
   "source": [
    "# Another general functions we are ctreating here\n",
    "\n",
    "def factorial(num):\n",
    "    time.sleep(2)                   # It will wait for 2 seconds to display the \"o/p\"\n",
    "    print(math.factorial(num))"
   ]
  },
  {
   "cell_type": "code",
   "execution_count": 43,
   "metadata": {},
   "outputs": [
    {
     "data": {
      "text/plain": [
       "3628800"
      ]
     },
     "execution_count": 43,
     "metadata": {},
     "output_type": "execute_result"
    }
   ],
   "source": [
    "math.factorial(10)"
   ]
  },
  {
   "cell_type": "code",
   "execution_count": 44,
   "metadata": {},
   "outputs": [
    {
     "name": "stdout",
     "output_type": "stream",
     "text": [
      "120\n"
     ]
    }
   ],
   "source": [
    "factorial(5)"
   ]
  },
  {
   "cell_type": "code",
   "execution_count": 45,
   "metadata": {},
   "outputs": [],
   "source": [
    "# We can make use of \"decorator\" like below\n",
    "# write \"@calculate_time\" on the top of the function\n",
    "\n",
    "@calculate_time\n",
    "def factorial(num):\n",
    "    time.sleep(2)\n",
    "    print(math.factorial(num))"
   ]
  },
  {
   "cell_type": "code",
   "execution_count": 46,
   "metadata": {},
   "outputs": [
    {
     "name": "stdout",
     "output_type": "stream",
     "text": [
      "3628800\n",
      "Time taken to execute is :0.0 seconds\n"
     ]
    }
   ],
   "source": [
    "factorial(10)"
   ]
  },
  {
   "cell_type": "code",
   "execution_count": 47,
   "metadata": {},
   "outputs": [
    {
     "name": "stdout",
     "output_type": "stream",
     "text": [
      "Time taken to execute is :0.0 seconds\n"
     ]
    }
   ],
   "source": [
    "@calculate_time\n",
    "def add_three_nums_kw_all(x=0, y=0, z=0):\n",
    "    return x+y+z\n",
    "\n",
    "add_three_nums_kw_all(5, 3, 8)"
   ]
  }
 ],
 "metadata": {
  "kernelspec": {
   "display_name": "Python 3",
   "language": "python",
   "name": "python3"
  },
  "language_info": {
   "codemirror_mode": {
    "name": "ipython",
    "version": 3
   },
   "file_extension": ".py",
   "mimetype": "text/x-python",
   "name": "python",
   "nbconvert_exporter": "python",
   "pygments_lexer": "ipython3",
   "version": "3.10.5"
  }
 },
 "nbformat": 4,
 "nbformat_minor": 2
}
